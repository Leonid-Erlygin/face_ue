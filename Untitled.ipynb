{
 "cells": [
  {
   "cell_type": "code",
   "execution_count": 1,
   "id": "informal-photographer",
   "metadata": {},
   "outputs": [],
   "source": [
    "%load_ext autoreload\n",
    "%autoreload 2\n",
    "\n",
    "from utils.dataset import Dataset\n",
    "from utils.dataset_lfw import Dataset as LFW_Dataset\n",
    "from utils.imageprocessing import preprocess\n",
    "import model as mlib\n",
    "from tqdm import tqdm\n",
    "import torch\n",
    "import numpy as np"
   ]
  },
  {
   "cell_type": "code",
   "execution_count": 2,
   "id": "pressed-pilot",
   "metadata": {},
   "outputs": [],
   "source": [
    "batches = 100"
   ]
  },
  {
   "cell_type": "code",
   "execution_count": 3,
   "id": "significant-ribbon",
   "metadata": {},
   "outputs": [],
   "source": [
    "trainset = Dataset(\"/gpfs/gpfs0/r.karimov/casia/list_casia_mtcnncaffe_aligned_nooverlap.txt\")"
   ]
  },
  {
   "cell_type": "code",
   "execution_count": 4,
   "id": "packed-stranger",
   "metadata": {},
   "outputs": [],
   "source": [
    "batch_format = {\n",
    "         \"size\": 128,\n",
    "         \"num_classes\": 64,\n",
    "}\n",
    "proc_func = lambda images: preprocess(images, [112, 96], True)\n",
    "trainset.start_batch_queue(batch_format, proc_func=proc_func)"
   ]
  },
  {
   "cell_type": "code",
   "execution_count": 5,
   "id": "conceptual-degree",
   "metadata": {},
   "outputs": [],
   "source": [
    "model_dict = torch.load(\"pfe/sota.pth.tar\")"
   ]
  },
  {
   "cell_type": "code",
   "execution_count": 6,
   "id": "boring-seattle",
   "metadata": {},
   "outputs": [],
   "source": [
    "model = dict()\n",
    "model[\"backbone\"] = mlib.SphereNet20()\n",
    "model[\"backbone\"].load_state_dict(model_dict[\"backbone\"])\n",
    "model[\"uncertain\"] = mlib.UncertaintyHead(512)\n",
    "model[\"uncertain\"].load_state_dict(model_dict[\"uncertain\"])\n",
    "model[\"criterion\"] = mlib.MLSLoss(mean=False)"
   ]
  },
  {
   "cell_type": "code",
   "execution_count": 7,
   "id": "iraqi-tobago",
   "metadata": {},
   "outputs": [],
   "source": [
    "model[\"backbone\"] = model[\"backbone\"].cuda()\n",
    "model[\"uncertain\"] = model[\"uncertain\"].cuda()"
   ]
  },
  {
   "cell_type": "code",
   "execution_count": 9,
   "id": "together-swiss",
   "metadata": {},
   "outputs": [],
   "source": [
    "paths = LFW_Dataset(\"/trinity/home/r.karimov/Probabilistic-Face-Embeddings/data/lfw_mtcnncaffe_aligned/\")['abspath'] "
   ]
  },
  {
   "cell_type": "code",
   "execution_count": 10,
   "id": "tropical-spectrum",
   "metadata": {},
   "outputs": [],
   "source": [
    "paths = paths[:100]"
   ]
  },
  {
   "cell_type": "code",
   "execution_count": 12,
   "id": "competitive-reality",
   "metadata": {},
   "outputs": [],
   "source": [
    "images = preprocess(paths, [112, 96],  False)\n",
    "images = torch.from_numpy(images).to(dtype=torch.float32)    \n",
    "images = images.permute(0, 3, 1, 2)"
   ]
  },
  {
   "cell_type": "code",
   "execution_count": 13,
   "id": "appropriate-color",
   "metadata": {},
   "outputs": [],
   "source": [
    "device = torch.device(\"cuda\")"
   ]
  },
  {
   "cell_type": "code",
   "execution_count": 14,
   "id": "aboriginal-extreme",
   "metadata": {},
   "outputs": [],
   "source": [
    "mus = []\n",
    "sigs = []\n",
    "cur = 0\n",
    "batch_size = 256\n",
    "while True:\n",
    "    if cur >= images.shape[0]:\n",
    "        break\n",
    "    images_ = images[cur: cur + batch_size].to(device)\n",
    "    cur += batch_size\n",
    "    mu, sigma_sq = model[\"backbone\"](images_)\n",
    "    log_sig_sq = model[\"uncertain\"](sigma_sq)\n",
    "    mu = mu.detach().cpu()\n",
    "    sigma_sq = log_sig_sq.detach().cpu()\n",
    "    mus.append(mu)\n",
    "    sigs.append(sigma_sq)"
   ]
  },
  {
   "cell_type": "code",
   "execution_count": null,
   "id": "vulnerable-objective",
   "metadata": {},
   "outputs": [],
   "source": []
  }
 ],
 "metadata": {
  "kernelspec": {
   "display_name": "Python 3",
   "language": "python",
   "name": "python3"
  },
  "language_info": {
   "codemirror_mode": {
    "name": "ipython",
    "version": 3
   },
   "file_extension": ".py",
   "mimetype": "text/x-python",
   "name": "python",
   "nbconvert_exporter": "python",
   "pygments_lexer": "ipython3",
   "version": "3.8.8"
  }
 },
 "nbformat": 4,
 "nbformat_minor": 5
}
