{
 "cells": [
  {
   "cell_type": "code",
   "execution_count": 1,
   "metadata": {},
   "outputs": [],
   "source": [
    "import os\n",
    "import sys\n",
    "import inspect\n",
    "import torch\n",
    "import torchvision\n",
    "import random\n",
    "import cv2\n",
    "import numpy as np\n",
    "from torch.utils.data import Dataset, DataLoader\n",
    "\n",
    "from tqdm import tqdm\n",
    "import matplotlib.pyplot as plt\n",
    "\n",
    "current_dir = os.path.dirname(os.path.abspath(inspect.getfile(inspect.currentframe())))\n",
    "parent_dir = os.path.dirname(current_dir)\n",
    "sys.path.insert(0, parent_dir)\n",
    "\n",
    "import face_lib.models as mlib\n",
    "import face_lib.datasets as dlib\n",
    "import face_lib.utils as utils\n",
    "\n",
    "# from config import training_args"
   ]
  },
  {
   "cell_type": "code",
   "execution_count": 2,
   "metadata": {},
   "outputs": [],
   "source": [
    "device = torch.device(\"cuda:0\")"
   ]
  },
  {
   "cell_type": "code",
   "execution_count": 3,
   "metadata": {},
   "outputs": [],
   "source": [
    "# checkpoint_path = \"/gpfs/gpfs0/r.karimov/models/pfe/first_ms1m_pfe/sota.pt\"\n",
    "checkpoint_path = \"/trinity/home/r.kail/Faces/face-evaluation/exman/runs/000067-2021-06-07-12-20-37/checkpoints/sota.pth\"\n",
    "casia_dir = \"/gpfs/gpfs0/r.karimov/casia\"\n",
    "cats_dir = \"/gpfs/gpfs0/r.karimov/cats\""
   ]
  },
  {
   "cell_type": "code",
   "execution_count": 4,
   "metadata": {},
   "outputs": [],
   "source": [
    "class Args:\n",
    "    def __init__(self):\n",
    "        self.train_file = os.path.join(casia_dir, \"ldmarks.txt\")\n",
    "        self.casia_dir = os.path.join(casia_dir, \"data_\")\n",
    "        self.cats_dir = os.path.join(cats_dir)\n",
    "        self.try_times = 5\n",
    "        self.is_debug = False\n",
    "        self.in_size = (112, 112)\n",
    "        self.num_face_pb = 4\n",
    "        self.in_feats = 512\n",
    "\n",
    "\n",
    "args = Args()"
   ]
  },
  {
   "cell_type": "code",
   "execution_count": 5,
   "metadata": {},
   "outputs": [],
   "source": [
    "checkpoint = torch.load(checkpoint_path, map_location=device)"
   ]
  },
  {
   "cell_type": "code",
   "execution_count": 6,
   "metadata": {},
   "outputs": [],
   "source": [
    "model = {\n",
    "    \"backbone\": mlib.iresnet50(),\n",
    "    \"head\": mlib.PFEHeadAdjustable(25088, args.in_feats),\n",
    "}\n",
    "model[\"backbone\"].load_state_dict(checkpoint[\"backbone\"])\n",
    "model[\"head\"].load_state_dict(checkpoint[\"head\"])\n",
    "\n",
    "model[\"backbone\"] = model[\"backbone\"].eval().to(device)\n",
    "model[\"head\"] = model[\"head\"].eval().to(device)"
   ]
  },
  {
   "cell_type": "code",
   "execution_count": 7,
   "metadata": {},
   "outputs": [],
   "source": [
    "cats_set = dlib.CatsDataset(args)\n",
    "face_set = dlib.CASIAWebFace(args)"
   ]
  },
  {
   "cell_type": "code",
   "execution_count": 8,
   "metadata": {},
   "outputs": [
    {
     "name": "stdout",
     "output_type": "stream",
     "text": [
      "Cats :  139958\n",
      "Faces :  490871\n"
     ]
    }
   ],
   "source": [
    "print(\"Cats : \", len(cats_set))\n",
    "print(\"Faces : \", len(face_set))"
   ]
  },
  {
   "cell_type": "code",
   "execution_count": 9,
   "metadata": {},
   "outputs": [],
   "source": [
    "slice_size = 10000\n",
    "assert slice_size < min(len(cats_set), len(face_set))\n",
    "\n",
    "cats_subset = torch.utils.data.Subset(cats_set, range(slice_size))\n",
    "face_subset = torch.utils.data.Subset(face_set, range(slice_size))"
   ]
  },
  {
   "cell_type": "code",
   "execution_count": 10,
   "metadata": {},
   "outputs": [],
   "source": [
    "def calculate_uncertainty(log_sig_sq):\n",
    "    sq_sigmas = torch.exp(log_sig_sq)\n",
    "    #     uncertainty = 1 / (1 / sq_sigmas).sum(axis=1)\n",
    "    uncertainty = sq_sigmas.mean(axis=1)\n",
    "    return uncertainty\n",
    "\n",
    "\n",
    "@torch.no_grad()\n",
    "def calculate_dataset_uncertainties(model, dataset, device=torch.device(\"cpu\")):\n",
    "    loader = DataLoader(dataset, batch_size=64, shuffle=False)\n",
    "\n",
    "    uncertainties = []\n",
    "\n",
    "    for batch, _ in tqdm(loader):\n",
    "        batch = torch.tensor(batch, dtype=torch.float).to(device)\n",
    "\n",
    "        feature, sig_feat = model[\"backbone\"](batch)\n",
    "        log_sig_sq = model[\"head\"](sig_feat)\n",
    "\n",
    "        uncertainty = calculate_uncertainty(log_sig_sq)\n",
    "        uncertainties.append(uncertainty.cpu())\n",
    "\n",
    "    return torch.cat(uncertainties, dim=0)"
   ]
  },
  {
   "cell_type": "code",
   "execution_count": 11,
   "metadata": {},
   "outputs": [
    {
     "name": "stderr",
     "output_type": "stream",
     "text": [
      "  0%|          | 0/157 [00:00<?, ?it/s]<ipython-input-10-be18dbc57f8c>:14: UserWarning: To copy construct from a tensor, it is recommended to use sourceTensor.clone().detach() or sourceTensor.clone().detach().requires_grad_(True), rather than torch.tensor(sourceTensor).\n",
      "  batch = torch.tensor(batch, dtype=torch.float).to(device)\n",
      "100%|██████████| 157/157 [03:00<00:00,  1.15s/it]\n"
     ]
    }
   ],
   "source": [
    "cats_uncertainties = calculate_dataset_uncertainties(model, cats_subset, device=device)"
   ]
  },
  {
   "cell_type": "code",
   "execution_count": 12,
   "metadata": {},
   "outputs": [
    {
     "name": "stderr",
     "output_type": "stream",
     "text": [
      "  0%|          | 0/157 [00:00<?, ?it/s]<ipython-input-10-be18dbc57f8c>:14: UserWarning: To copy construct from a tensor, it is recommended to use sourceTensor.clone().detach() or sourceTensor.clone().detach().requires_grad_(True), rather than torch.tensor(sourceTensor).\n",
      "  batch = torch.tensor(batch, dtype=torch.float).to(device)\n",
      "100%|██████████| 157/157 [00:16<00:00,  9.34it/s]\n"
     ]
    }
   ],
   "source": [
    "face_uncertainties = calculate_dataset_uncertainties(model, face_subset, device=device)"
   ]
  },
  {
   "cell_type": "code",
   "execution_count": 13,
   "metadata": {},
   "outputs": [],
   "source": [
    "cats_scores = np.array(cats_uncertainties)\n",
    "face_scores = np.array(face_uncertainties)\n",
    "\n",
    "cats_targets = np.ones_like(cats_scores)\n",
    "face_targets = np.zeros_like(face_scores)\n",
    "\n",
    "scores = np.concatenate(\n",
    "    (\n",
    "        cats_scores,\n",
    "        face_scores,\n",
    "    ),\n",
    "    axis=0,\n",
    ")\n",
    "targets = np.concatenate(\n",
    "    (\n",
    "        cats_targets,\n",
    "        face_targets,\n",
    "    ),\n",
    "    axis=0,\n",
    ")"
   ]
  },
  {
   "cell_type": "code",
   "execution_count": 14,
   "metadata": {},
   "outputs": [],
   "source": [
    "from sklearn.metrics import roc_curve, auc"
   ]
  },
  {
   "cell_type": "code",
   "execution_count": 15,
   "metadata": {},
   "outputs": [],
   "source": [
    "fpr, tpr, thresholds = roc_curve(targets, scores)\n",
    "roc_auc = auc(fpr, tpr)"
   ]
  },
  {
   "cell_type": "code",
   "execution_count": null,
   "metadata": {},
   "outputs": [],
   "source": []
  },
  {
   "cell_type": "code",
   "execution_count": 20,
   "metadata": {},
   "outputs": [
    {
     "name": "stdout",
     "output_type": "stream",
     "text": [
      "ROC_AUC :  0.86344117\n"
     ]
    },
    {
     "data": {
      "image/png": "[encoded data removed]",
      "text/plain": [
       "<Figure size 576x576 with 1 Axes>"
      ]
     },
     "metadata": {
      "needs_background": "light"
     },
     "output_type": "display_data"
    }
   ],
   "source": [
    "print(\"ROC_AUC : \", roc_auc)\n",
    "\n",
    "fig, ax = plt.subplots(figsize=(8, 8))\n",
    "\n",
    "ax.plot(fpr, tpr)\n",
    "ax.plot((0, 1), (0, 1), c=\"grey\", linestyle=\"dashed\")\n",
    "ax.set_xlabel(\"False Positive Rate\")\n",
    "ax.set_ylabel(\"True Positive Rate\")\n",
    "ax.set_title(\"ROC_AUC : \" + str(roc_auc))\n",
    "ax.set_aspect(\"equal\")\n",
    "\n",
    "plt.savefig(\"ROC_AUC\", dpi=200)"
   ]
  },
  {
   "cell_type": "code",
   "execution_count": null,
   "metadata": {},
   "outputs": [],
   "source": []
  }
 ],
 "metadata": {
  "kernelspec": {
   "display_name": "Python 3",
   "language": "python",
   "name": "python3"
  },
  "language_info": {
   "codemirror_mode": {
    "name": "ipython",
    "version": 3
   },
   "file_extension": ".py",
   "mimetype": "text/x-python",
   "name": "python",
   "nbconvert_exporter": "python",
   "pygments_lexer": "ipython3",
   "version": "3.8.5"
  }
 },
 "nbformat": 4,
 "nbformat_minor": 4
}
