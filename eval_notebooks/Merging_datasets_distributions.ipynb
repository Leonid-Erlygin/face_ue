{
 "cells": [
  {
   "cell_type": "code",
   "execution_count": 2,
   "id": "ee050fa1-f434-4b03-ae34-21e75a946687",
   "metadata": {},
   "outputs": [],
   "source": [
    "import numpy as np\n",
    "import matplotlib.pyplot as plt"
   ]
  },
  {
   "cell_type": "code",
   "execution_count": 29,
   "id": "f2aab34f-c58f-4d96-855e-e11edd8c8620",
   "metadata": {},
   "outputs": [],
   "source": [
    "# save_path = \"/beegfs/home/r.kail/faces/figures/22_dataset_distribution/merged/different_datasets.pdf\"\n",
    "# datasaets_paths = {\n",
    "#     \"IJBC\": \"/beegfs/home/r.kail/faces/figures/22_dataset_distribution/IJBC/sigm_64/uncertainties.npy\",\n",
    "#     \"LFW\": \"/beegfs/home/r.kail/faces/figures/22_dataset_distribution/LFW/sigm_64/uncertainties.npy\",\n",
    "#     \"MS1MV2\": \"/beegfs/home/r.kail/faces/figures/22_dataset_distribution/MS1MV2/sigm_64/uncertainties.npy\",\n",
    "# }\n",
    "\n",
    "save_path = (\n",
    "    \"/beegfs/home/r.kail/faces/figures/22_dataset_distribution/merged/blurred.pdf\"\n",
    ")\n",
    "datasets_paths = {\n",
    "    f\"kernel_size={idx}\": f\"/beegfs/home/r.kail/faces/figures/22_dataset_distribution/blurred_IJBC/sigm_32/{idx}/uncertainties.npy\"\n",
    "    for idx in (1, 2, 3, 4, 5)\n",
    "}"
   ]
  },
  {
   "cell_type": "code",
   "execution_count": 30,
   "id": "83555550-ecf4-41f0-adb5-851e75c1360d",
   "metadata": {},
   "outputs": [],
   "source": [
    "datasets_uncertainties = {name: np.load(path) for name, path in datasets_paths.items()}"
   ]
  },
  {
   "cell_type": "code",
   "execution_count": 37,
   "id": "4810fb51-55d4-4dd5-a999-b22665327190",
   "metadata": {},
   "outputs": [],
   "source": [
    "def plot_distributions(\n",
    "    datasets_uncertainties,\n",
    "    save_fig_path,\n",
    "    n_bins=50,\n",
    "    fig_name=\"\",\n",
    "    xlabel_name=\"\",\n",
    "    ylabel_name=\"\",\n",
    "):\n",
    "    fig, ax = plt.subplots(figsize=(10, 10))\n",
    "    colors = [\"b\", \"g\", \"y\", \"r\"]\n",
    "\n",
    "    for (name, values), color in zip(datasets_uncertainties.items(), colors):\n",
    "        ax.hist(values, bins=n_bins, density=True, color=color, alpha=0.3, label=name)\n",
    "\n",
    "    ax.set_title(fig_name)\n",
    "    ax.set_xlabel(xlabel_name)\n",
    "    ax.set_ylabel(ylabel_name)\n",
    "    ax.legend()\n",
    "\n",
    "    if save_fig_path:\n",
    "        fig.savefig(save_fig_path, dpi=400)"
   ]
  },
  {
   "cell_type": "code",
   "execution_count": 38,
   "id": "7b0fe404-6903-4a4f-82ae-b62881f7fac7",
   "metadata": {},
   "outputs": [
    {
     "data": {
      "image/png": "[encoded data removed]",
      "text/plain": [
       "<Figure size 720x720 with 1 Axes>"
      ]
     },
     "metadata": {
      "needs_background": "light"
     },
     "output_type": "display_data"
    }
   ],
   "source": [
    "plot_distributions(\n",
    "    datasets_uncertainties=datasets_uncertainties,\n",
    "    save_fig_path=save_path,\n",
    "    n_bins=50,\n",
    "    fig_name=\"Datasets' uncertainty distributions\",\n",
    "    xlabel_name=\"Uncertainty\",\n",
    "    ylabel_name=\"Probability density\",\n",
    ")"
   ]
  },
  {
   "cell_type": "code",
   "execution_count": null,
   "id": "7a5fb046-a52b-48b4-90a0-59ec34fb1985",
   "metadata": {},
   "outputs": [],
   "source": [
    "def get_loaded_uncertainties(paths):\n",
    "    return [np.load(p) for p in paths]\n",
    "\n",
    "\n",
    "def get_means_and_stds(uncertainties):\n",
    "    means = np.array([u.mean() for u in uncertainties])\n",
    "    stds = np.array([u.std() for u in uncertainties])\n",
    "    return means, stds\n",
    "\n",
    "\n",
    "def get_median_quantiles(uncertainties, lower_quantile=0.25, upper_quantile=0.75):\n",
    "    lower = np.array([np.quantile(u, q=lower_quantile) for u in uncertainties])\n",
    "    median = np.array([np.quantile(u, q=0.5) for u in uncertainties])\n",
    "    upper = np.array([np.quantile(u, q=upper_quantile) for u in uncertainties])\n",
    "    return np.array(lower), np.array(median), np.array(upper)\n",
    "\n",
    "\n",
    "def get_median_quantiles_2(\n",
    "    uncertainties,\n",
    "    lower_quantile=0.17,\n",
    "    upper_quantile=0.83,\n",
    "    super_lower_quantile=0.025,\n",
    "    super_upper_quantile=0.975,\n",
    "):\n",
    "    median = np.array([np.quantile(u, q=0.5) for u in uncertainties])\n",
    "    lower = np.array([np.quantile(u, q=lower_quantile) for u in uncertainties])\n",
    "    upper = np.array([np.quantile(u, q=upper_quantile) for u in uncertainties])\n",
    "    super_lower = np.array(\n",
    "        [np.quantile(u, q=super_lower_quantile) for u in uncertainties]\n",
    "    )\n",
    "    super_upper = np.array(\n",
    "        [np.quantile(u, q=super_upper_quantile) for u in uncertainties]\n",
    "    )\n",
    "    return (\n",
    "        np.array(median),\n",
    "        np.array(lower),\n",
    "        np.array(upper),\n",
    "        np.array(super_lower),\n",
    "        np.array(super_upper),\n",
    "    )\n",
    "\n",
    "\n",
    "def plot_with_stds(X, Y, errors, ax=None, xlabel=None, ylabel=None):\n",
    "    if ax is None:\n",
    "        fig, ax = plt.subplots(ncols=1, nrows=1, figsize=(10, 10))\n",
    "\n",
    "    ax.errorbar(X, Y, yerr=errors, marker=\".\")\n",
    "    #     ax.set_ylim(0, 32)\n",
    "    if xlabel is not None:\n",
    "        ax.set_xlabel(xlabel)\n",
    "    if ylabel is not None:\n",
    "        ax.set_ylabel(ylabel)\n",
    "\n",
    "\n",
    "def plot_quantiles(x, median, lower, upper, ax=None, xlabel=None, ylabel=None):\n",
    "    if ax is None:\n",
    "        fig, ax = plt.subplots(ncols=1, nrows=1, figsize=(6, 6))\n",
    "\n",
    "    ax.plot(x, median, marker=\".\")\n",
    "    ax.fill_between(x, lower, upper, alpha=0.4)\n",
    "\n",
    "    if xlabel is not None:\n",
    "        ax.set_xlabel(xlabel)\n",
    "    if ylabel is not None:\n",
    "        ax.set_ylabel(ylabel)\n",
    "\n",
    "\n",
    "def plot_quantiles_2(\n",
    "    x, median, lower, upper, super_lower, super_upper, ax=None, xlabel=None, ylabel=None\n",
    "):\n",
    "    if ax is None:\n",
    "        fig, ax = plt.subplots(ncols=1, nrows=1, figsize=(6, 6))\n",
    "\n",
    "    ax.plot(x, median, marker=\".\")\n",
    "    ax.fill_between(x, lower, upper, alpha=0.4)\n",
    "    ax.fill_between(x, super_lower, super_upper, alpha=0.2)\n",
    "\n",
    "    if xlabel is not None:\n",
    "        ax.set_xlabel(xlabel)\n",
    "    if ylabel is not None:\n",
    "        ax.set_ylabel(ylabel)"
   ]
  },
  {
   "cell_type": "code",
   "execution_count": null,
   "id": "ef8a05a8-705f-43b7-bb5e-8350ef1e9ce8",
   "metadata": {},
   "outputs": [],
   "source": [
    "save_path = (\n",
    "    \"/beegfs/home/r.kail/faces/figures/22_dataset_distribution/merged/blurred_mean.pdf\"\n",
    ")\n",
    "blur_kernel_sizes = [1, 2, 3, 4, 5, 6, 7, 8, 9, 10]\n",
    "datasets_paths = [\n",
    "    f\"/beegfs/home/r.kail/faces/figures/22_dataset_distribution/blurred_IJBC/sigm_32/{idx}/uncertainties.npy\"\n",
    "    for idx in blur_kernel_sizes\n",
    "]"
   ]
  },
  {
   "cell_type": "code",
   "execution_count": null,
   "id": "40f2740f-bdfb-4084-ba5d-f4910e278bba",
   "metadata": {},
   "outputs": [],
   "source": [
    "# means, stds = get_means_and_stds(get_loaded_uncertainties(datasets_paths))\n",
    "\n",
    "# lower, median, upper = get_median_quantiles(get_loaded_uncertainties(datasets_paths))\n",
    "median, lower, upper, super_lower, super_upper = get_median_quantiles_2(\n",
    "    get_loaded_uncertainties(datasets_paths)\n",
    ")"
   ]
  },
  {
   "cell_type": "code",
   "execution_count": 97,
   "id": "65c99b5f-c145-4ee1-be0b-b1ae68c62dc9",
   "metadata": {},
   "outputs": [
    {
     "data": {
      "image/png": "[encoded data removed]",
      "text/plain": [
       "<Figure size 432x432 with 1 Axes>"
      ]
     },
     "metadata": {
      "needs_background": "light"
     },
     "output_type": "display_data"
    }
   ],
   "source": [
    "# plot_with_stds(blur_kernel_sizes, means, stds, xlabel=\"Blur kernel size\", ylabel=\"Mean uncertainty on IJBC\")\n",
    "\n",
    "plot_quantiles(\n",
    "    blur_kernel_sizes,\n",
    "    median,\n",
    "    lower,\n",
    "    upper,\n",
    "    xlabel=\"Blur kernel size\",\n",
    "    ylabel=\"Mean uncertainty on IJBC\",\n",
    ")"
   ]
  },
  {
   "cell_type": "code",
   "execution_count": null,
   "id": "53003a9f-e14e-43fe-b1ab-a67b24bb751a",
   "metadata": {},
   "outputs": [],
   "source": []
  },
  {
   "cell_type": "code",
   "execution_count": null,
   "id": "6ccc6370-a81c-4d22-96b6-93f07b9023ae",
   "metadata": {},
   "outputs": [],
   "source": []
  }
 ],
 "metadata": {
  "kernelspec": {
   "display_name": "Python 3",
   "language": "python",
   "name": "python3"
  },
  "language_info": {
   "codemirror_mode": {
    "name": "ipython",
    "version": 3
   },
   "file_extension": ".py",
   "mimetype": "text/x-python",
   "name": "python",
   "nbconvert_exporter": "python",
   "pygments_lexer": "ipython3",
   "version": "3.8.5"
  }
 },
 "nbformat": 4,
 "nbformat_minor": 5
}
