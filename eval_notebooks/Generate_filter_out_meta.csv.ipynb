{
 "cells": [
  {
   "cell_type": "code",
   "execution_count": 4,
   "metadata": {
    "collapsed": true
   },
   "outputs": [],
   "source": [
    "import os\n",
    "import random\n",
    "import numpy as np\n",
    "import pandas as pd\n",
    "\n",
    "from itertools import combinations"
   ]
  },
  {
   "cell_type": "code",
   "execution_count": 5,
   "outputs": [],
   "source": [
    "import random\n",
    "\n",
    "NUM_PAIRS = 100000\n",
    "POSITIVE_PORTION = 0.5\n",
    "\n",
    "IDENTITIES_FOLDER = \"/gpfs/gpfs0/r.karimov/IJB/aligned_data_for_fusion/debug\"\n",
    "RESULT_META_DIR = \"/gpfs/gpfs0/r.karimov/IJB/aligned_data_for_fusion/metadata_refuse_verification\""
   ],
   "metadata": {
    "collapsed": false,
    "pycharm": {
     "name": "#%%\n"
    }
   }
  },
  {
   "cell_type": "code",
   "execution_count": 6,
   "outputs": [],
   "source": [
    "def randomized_round(number):\n",
    "    return int(number) + int(random.random() < (number % 1))\n",
    "\n",
    "\n",
    "def sample_pairs_from_directory(prefix, directory, n_pairs):\n",
    "    pairs = list(combinations(os.listdir(os.path.join(prefix, directory)), r=2))\n",
    "    n_sampled_pairs = n_pairs if n_pairs < len(pairs) else len(pairs)\n",
    "    pairs = [tuple(map(lambda x: os.path.join(directory, x), pair)) for pair in pairs]\n",
    "    return random.sample(pairs, n_sampled_pairs)\n",
    "\n",
    "\n",
    "def generate_positive_pairs(identities_dir, n_pairs):\n",
    "\n",
    "    remaining_directories = sum(1 for _ in os.listdir(identities_dir))\n",
    "    remaining_pairs = n_pairs\n",
    "\n",
    "    positive_pairs = []\n",
    "\n",
    "    for dir in os.listdir(identities_dir):\n",
    "        needed_pairs_amount = randomized_round(remaining_pairs / remaining_directories)\n",
    "        positive_pairs.extend(sample_pairs_from_directory(identities_dir, dir, needed_pairs_amount))\n",
    "\n",
    "    return positive_pairs\n",
    "\n",
    "\n",
    "def generate_negative_pairs(identities_dir, n_pairs):\n",
    "    negative_pairs = set()\n",
    "    identities = list(os.listdir(identities_dir))\n",
    "    while len(negative_pairs) < n_pairs:\n",
    "        left, right = random.sample(identities, 2)\n",
    "        left = os.path.join(left, random.choice(os.listdir(\n",
    "            os.path.join(identities_dir, left))))\n",
    "        right = os.path.join(right, random.choice(\n",
    "            os.listdir(os.path.join(identities_dir, right))))\n",
    "        negative_pairs.add((left, right,))\n",
    "\n",
    "    return list(negative_pairs)"
   ],
   "metadata": {
    "collapsed": false,
    "pycharm": {
     "name": "#%%\n"
    }
   }
  },
  {
   "cell_type": "code",
   "execution_count": 7,
   "outputs": [],
   "source": [
    "# generate_negative_pairs(IDENTITIES_FOLDER, int(NUM_PAIRS * (1 - POSITIVE_PORTION)))\n",
    "\n",
    "# generate_positive_pairs(IDENTITIES_FOLDER, int(NUM_PAIRS * POSITIVE_PORTION))"
   ],
   "metadata": {
    "collapsed": false,
    "pycharm": {
     "name": "#%%\n"
    }
   }
  },
  {
   "cell_type": "code",
   "execution_count": null,
   "outputs": [],
   "source": [
    "meta_path = os.path.join(RESULT_META_DIR, \"pairs_\" + str(NUM_PAIRS) + \"_prob_\" + str(POSITIVE_PORTION) + \".csv\")\n",
    "with open(meta_path, \"w\") as f:\n",
    "    for pair in generate_positive_pairs(\n",
    "            IDENTITIES_FOLDER, int(NUM_PAIRS * POSITIVE_PORTION)):\n",
    "        f.write(\",\".join((pair[0], pair[1], \"1\")) + \"\\n\")\n",
    "    for pair in generate_negative_pairs(\n",
    "            IDENTITIES_FOLDER, int(NUM_PAIRS * (1 - POSITIVE_PORTION))):\n",
    "        f.write(\",\".join((pair[0], pair[1], \"0\")) + \"\\n\")"
   ],
   "metadata": {
    "collapsed": false,
    "pycharm": {
     "name": "#%%\n",
     "is_executing": true
    }
   }
  },
  {
   "cell_type": "code",
   "execution_count": null,
   "outputs": [],
   "source": [],
   "metadata": {
    "collapsed": false,
    "pycharm": {
     "name": "#%%\n"
    }
   }
  }
 ],
 "metadata": {
  "kernelspec": {
   "display_name": "Python 3",
   "language": "python",
   "name": "python3"
  },
  "language_info": {
   "codemirror_mode": {
    "name": "ipython",
    "version": 2
   },
   "file_extension": ".py",
   "mimetype": "text/x-python",
   "name": "python",
   "nbconvert_exporter": "python",
   "pygments_lexer": "ipython2",
   "version": "2.7.6"
  }
 },
 "nbformat": 4,
 "nbformat_minor": 0
}