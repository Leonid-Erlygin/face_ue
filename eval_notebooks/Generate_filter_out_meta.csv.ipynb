{
 "cells": [
  {
   "cell_type": "code",
   "execution_count": 1,
   "metadata": {},
   "outputs": [],
   "source": [
    "import os\n",
    "import sys\n",
    "import random\n",
    "import numpy as np\n",
    "import pandas as pd\n",
    "\n",
    "from tqdm import tqdm\n",
    "from itertools import combinations"
   ]
  },
  {
   "cell_type": "code",
   "execution_count": 2,
   "metadata": {
    "collapsed": false,
    "jupyter": {
     "outputs_hidden": false
    },
    "pycharm": {
     "name": "#%%\n"
    }
   },
   "outputs": [],
   "source": [
    "import random\n",
    "\n",
    "NUM_PAIRS = 200\n",
    "POSITIVE_PORTION = 0.5\n",
    "\n",
    "IDENTITIES_FOLDER = \"/gpfs/gpfs0/r.karimov/IJB/aligned_data_for_fusion/big\"\n",
    "RESULT_META_DIR = \"/gpfs/gpfs0/r.karimov/IJB/aligned_data_for_fusion/metadata_refuse_verification\""
   ]
  },
  {
   "cell_type": "code",
   "execution_count": 3,
   "metadata": {},
   "outputs": [],
   "source": [
    "probes = []"
   ]
  },
  {
   "cell_type": "code",
   "execution_count": 4,
   "metadata": {},
   "outputs": [],
   "source": [
    "# sum(len(os.listdir(os.path.join(IDENTITIES_FOLDER, dirr))) * (len(os.listdir(os.path.join(IDENTITIES_FOLDER, dirr))) - 1) / 2 for dirr in os.listdir(IDENTITIES_FOLDER))"
   ]
  },
  {
   "cell_type": "code",
   "execution_count": 5,
   "metadata": {
    "collapsed": false,
    "jupyter": {
     "outputs_hidden": false
    },
    "pycharm": {
     "name": "#%%\n"
    }
   },
   "outputs": [],
   "source": [
    "def randomized_round(number):\n",
    "    return int(number) + int(random.random() < (number % 1))\n",
    "\n",
    "\n",
    "def sample_pairs_from_directory(prefix, directory, n_pairs):\n",
    "    pairs = list(combinations(os.listdir(os.path.join(prefix, directory)), r=2))\n",
    "    n_sampled_pairs = n_pairs if n_pairs < len(pairs) else len(pairs)\n",
    "    pairs = [tuple(map(lambda x: os.path.join(directory, x), pair)) for pair in pairs]\n",
    "    return random.sample(pairs, n_sampled_pairs)\n",
    "\n",
    "\n",
    "def generate_positive_pairs(identities_dir, n_pairs):\n",
    "\n",
    "    remaining_directories = sum(1 for _ in os.listdir(identities_dir))\n",
    "    remaining_pairs = n_pairs\n",
    "\n",
    "    positive_pairs = []\n",
    "\n",
    "    directories = os.listdir(identities_dir)\n",
    "    random.shuffle(directories)\n",
    "    \n",
    "    mean_pairs_from_directory = n_pairs / len(directories)\n",
    "    sampled_pairs = 0\n",
    "    \n",
    "    for idx, directory in tqdm(enumerate(directories)):\n",
    "        lack = idx * mean_pairs_from_directory - sampled_pairs\n",
    "        lack = max(0, lack)\n",
    "        \n",
    "        needed_pairs_amount = randomized_round(lack + mean_pairs_from_directory)\n",
    "        probes.append(needed_pairs_amount)\n",
    "        new_pairs = sample_pairs_from_directory(identities_dir, directory, needed_pairs_amount)\n",
    "        positive_pairs.extend(new_pairs)\n",
    "\n",
    "        sampled_pairs += len(new_pairs)\n",
    "        \n",
    "    return positive_pairs\n",
    "\n",
    "\n",
    "def generate_negative_pairs(identities_dir, n_pairs):\n",
    "    negative_pairs = set()\n",
    "    identities = list(os.listdir(identities_dir))\n",
    "    i = 0\n",
    "    while len(negative_pairs) < n_pairs:\n",
    "        left, right = random.sample(identities, 2)\n",
    "        potential_lefts = os.listdir(os.path.join(identities_dir, left))\n",
    "        potential_rights = os.listdir(os.path.join(identities_dir, right))\n",
    "        \n",
    "        if len(potential_lefts) and len(potential_rights):\n",
    "            left = os.path.join(left, random.choice(potential_lefts))\n",
    "            right = os.path.join(right, random.choice(potential_rights))\n",
    "            negative_pairs.add((left, right,))\n",
    "            \n",
    "        if i % 1000 == 0:\n",
    "            sys.stdout.write(\"Sampled pairs : {}/{}...\\t\\r\".format(len(negative_pairs), n_pairs))\n",
    "    return list(negative_pairs)"
   ]
  },
  {
   "cell_type": "code",
   "execution_count": 6,
   "metadata": {
    "collapsed": false,
    "jupyter": {
     "outputs_hidden": false
    },
    "pycharm": {
     "name": "#%%\n"
    }
   },
   "outputs": [],
   "source": [
    "# generate_negative_pairs(IDENTITIES_FOLDER, int(NUM_PAIRS * (1 - POSITIVE_PORTION)))\n",
    "\n",
    "# generate_positive_pairs(IDENTITIES_FOLDER, int(NUM_PAIRS * POSITIVE_PORTION))"
   ]
  },
  {
   "cell_type": "code",
   "execution_count": 7,
   "metadata": {
    "collapsed": false,
    "jupyter": {
     "outputs_hidden": false
    },
    "pycharm": {
     "is_executing": true,
     "name": "#%%\n"
    }
   },
   "outputs": [
    {
     "name": "stderr",
     "output_type": "stream",
     "text": [
      "3531it [00:20, 175.46it/s]"
     ]
    },
    {
     "name": "stdout",
     "output_type": "stream",
     "text": [
      "Positive pairs number : 103\n",
      "Negative pairs number : 100\n"
     ]
    },
    {
     "name": "stderr",
     "output_type": "stream",
     "text": [
      "\n"
     ]
    }
   ],
   "source": [
    "meta_path = os.path.join(RESULT_META_DIR, \"pairs_\" + str(NUM_PAIRS) + \"_prob_\" + str(POSITIVE_PORTION) + \".csv\")\n",
    "with open(meta_path, \"w\") as f:\n",
    "    pairs = generate_positive_pairs(IDENTITIES_FOLDER, int(NUM_PAIRS * POSITIVE_PORTION))\n",
    "    print(\"Positive pairs number :\", len(pairs))    \n",
    "    for pair in pairs:\n",
    "        f.write(\",\".join((pair[0], pair[1], \"1\")) + \"\\n\")\n",
    "    pairs = generate_negative_pairs(IDENTITIES_FOLDER, int(NUM_PAIRS * (1 - POSITIVE_PORTION)))\n",
    "    print(\"Negative pairs number :\", len(pairs))\n",
    "    for pair in pairs:\n",
    "        f.write(\",\".join((pair[0], pair[1], \"0\")) + \"\\n\")"
   ]
  },
  {
   "cell_type": "code",
   "execution_count": 8,
   "metadata": {
    "collapsed": false,
    "jupyter": {
     "outputs_hidden": false
    },
    "pycharm": {
     "name": "#%%\n"
    }
   },
   "outputs": [
    {
     "data": {
      "text/plain": [
       "[<matplotlib.lines.Line2D at 0x15550cc54a30>]"
      ]
     },
     "execution_count": 8,
     "metadata": {},
     "output_type": "execute_result"
    },
    {
     "data": {
      "image/png": "[encoded data removed]",
      "text/plain": [
       "<Figure size 432x288 with 1 Axes>"
      ]
     },
     "metadata": {
      "needs_background": "light"
     },
     "output_type": "display_data"
    }
   ],
   "source": [
    "import matplotlib.pyplot as plt\n",
    "    \n",
    "plt.plot(probes)"
   ]
  },
  {
   "cell_type": "code",
   "execution_count": null,
   "metadata": {},
   "outputs": [],
   "source": []
  }
 ],
 "metadata": {
  "kernelspec": {
   "display_name": "Python 3",
   "language": "python",
   "name": "python3"
  },
  "language_info": {
   "codemirror_mode": {
    "name": "ipython",
    "version": 3
   },
   "file_extension": ".py",
   "mimetype": "text/x-python",
   "name": "python",
   "nbconvert_exporter": "python",
   "pygments_lexer": "ipython3",
   "version": "3.8.5"
  }
 },
 "nbformat": 4,
 "nbformat_minor": 4
}
