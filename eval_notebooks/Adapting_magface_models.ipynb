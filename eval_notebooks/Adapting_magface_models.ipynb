{
 "cells": [
  {
   "cell_type": "code",
   "execution_count": 1,
   "id": "eb88e275-1265-44e0-b153-ac7c52a141c0",
   "metadata": {},
   "outputs": [],
   "source": [
    "import os\n",
    "import sys\n",
    "import torch\n",
    "from collections import OrderedDict\n",
    "\n",
    "sys.path.insert(0, \"..\")\n",
    "from face_lib.models.iresnet import iresnet100, iresnet50"
   ]
  },
  {
   "cell_type": "code",
   "execution_count": 2,
   "id": "64225eee-d5c2-42aa-8886-cb42247e4561",
   "metadata": {},
   "outputs": [],
   "source": [
    "magface_repo_path = \"/beegfs/home/r.kail/faces/repos/MagFace\"\n",
    "sys.path.insert(0, magface_repo_path)\n",
    "\n",
    "from models import magface\n",
    "from inference.network_inf import builder_inf"
   ]
  },
  {
   "cell_type": "code",
   "execution_count": 3,
   "id": "a567d875-cb29-47b9-a0da-6cf37a4d8f93",
   "metadata": {},
   "outputs": [],
   "source": [
    "arcface_path = (\n",
    "    \"/gpfs/data/gpfs0/k.fedyanin/space/models/arcface/backbones/classic_packed.pth\"\n",
    ")\n",
    "src_path = \"/gpfs/data/gpfs0/k.fedyanin/space/models/magface/ms1mv2_ir50_ddp/magface_iresnet50_MS1MV2_ddp_fp32.pth\"\n",
    "trg_path = \"/gpfs/data/gpfs0/k.fedyanin/space/models/magface/ms1mv2_ir50_ddp/arcface+magface.pth\"\n",
    "\n",
    "# save_mode = \"magface_only\"\n",
    "save_mode = \"arcface+magface\""
   ]
  },
  {
   "cell_type": "code",
   "execution_count": 4,
   "id": "989c824f-3a60-4310-a8af-d755c2e2109c",
   "metadata": {},
   "outputs": [],
   "source": [
    "class Args:\n",
    "    def __init__(self):\n",
    "        self.arch = \"iresnet50\"\n",
    "        self.embedding_size = 512\n",
    "        self.last_fc_size = 1000\n",
    "        self.arc_scale = 64\n",
    "        self.l_margin = 0.45\n",
    "        self.u_margin = 0.8\n",
    "        self.l_a = 10\n",
    "        self.u_a = 110\n",
    "        self.resume = src_path\n",
    "        self.cpu_mode = False\n",
    "\n",
    "\n",
    "args = Args()"
   ]
  },
  {
   "cell_type": "code",
   "execution_count": 5,
   "id": "0bc39c70-8314-43ff-b0f3-0583be2bb54a",
   "metadata": {},
   "outputs": [],
   "source": [
    "def rename_ckpt(ckpt):\n",
    "    new_dict = [(k[len(\"features.\") :], v) for k, v in ckpt.items()]\n",
    "    new_dict = OrderedDict(new_dict)\n",
    "    return new_dict\n",
    "\n",
    "\n",
    "def create_state_dict(args):\n",
    "    model = builder_inf(args)\n",
    "    renamed_state_dict = rename_ckpt(model.state_dict())\n",
    "    return renamed_state_dict\n",
    "\n",
    "\n",
    "def check_state_dict_loads(model_name, state_dict):\n",
    "    if model_name == \"iresnet50\":\n",
    "        model = iresnet50()\n",
    "    elif model_name == \"iresnet100\":\n",
    "        model = iresnet100()\n",
    "    else:\n",
    "        raise NotImplementedError(\"Don't knpw this type of model\")\n",
    "\n",
    "    try:\n",
    "        model.load_state_dict(state_dict)\n",
    "    except Exception as e:\n",
    "        print(e)\n",
    "        return False\n",
    "\n",
    "    return True"
   ]
  },
  {
   "cell_type": "code",
   "execution_count": 6,
   "id": "0431b292-595c-462a-8216-056c0d2b3793",
   "metadata": {},
   "outputs": [
    {
     "name": "stdout",
     "output_type": "stream",
     "text": [
      "=> loading pth from /gpfs/data/gpfs0/k.fedyanin/space/models/magface/ms1mv2_ir50_ddp/magface_iresnet50_MS1MV2_ddp_fp32.pth ...\u001b[0m\n"
     ]
    }
   ],
   "source": [
    "reforged_state_dict = create_state_dict(args)"
   ]
  },
  {
   "cell_type": "code",
   "execution_count": 7,
   "id": "d515a6be-8a09-44a7-9d77-4ae7ac32646f",
   "metadata": {},
   "outputs": [],
   "source": [
    "assert check_state_dict_loads(args.arch, reforged_state_dict)"
   ]
  },
  {
   "cell_type": "code",
   "execution_count": 8,
   "id": "00ac489c-51c5-4ec1-89b1-eb4f1fbd6a12",
   "metadata": {},
   "outputs": [],
   "source": [
    "if save_mode == \"magface_only\":\n",
    "    torch.save({\"backbone\": reforged_state_dict}, trg_path)\n",
    "elif save_mode == \"arcface+magface\":\n",
    "    ckpt = torch.load(arcface_path)\n",
    "    ckpt[\"uncertainty_model\"] = reforged_state_dict\n",
    "    torch.save(ckpt, trg_path)\n",
    "else:\n",
    "    raise NotImplementedError(\"Don't know this save_mode\")"
   ]
  },
  {
   "cell_type": "code",
   "execution_count": null,
   "id": "11160b37-d2a6-46d6-80fc-3d933ab682c4",
   "metadata": {},
   "outputs": [],
   "source": []
  }
 ],
 "metadata": {
  "kernelspec": {
   "display_name": "Python 3",
   "language": "python",
   "name": "python3"
  },
  "language_info": {
   "codemirror_mode": {
    "name": "ipython",
    "version": 3
   },
   "file_extension": ".py",
   "mimetype": "text/x-python",
   "name": "python",
   "nbconvert_exporter": "python",
   "pygments_lexer": "ipython3",
   "version": "3.8.5"
  }
 },
 "nbformat": 4,
 "nbformat_minor": 5
}
