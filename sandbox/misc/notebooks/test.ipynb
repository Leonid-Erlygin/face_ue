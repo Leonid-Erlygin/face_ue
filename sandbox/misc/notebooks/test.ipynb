{
 "cells": [
  {
   "cell_type": "code",
   "execution_count": 2,
   "metadata": {},
   "outputs": [],
   "source": [
    "%load_ext autoreload\n",
    "%autoreload 2\n",
    "import numpy as np\n",
    "import multiprocessing\n",
    "import ctypes\n",
    "import numpy as np\n",
    "import sys\n",
    "import shutil\n",
    "import cv2\n",
    "from glob import glob\n",
    "import matplotlib.pyplot as plt\n",
    "from evaluation.test_datasets import FaceRecogntionDataset\n",
    "from evaluation.ijb_evals import plot_dir_far_scores\n",
    "from face_lib.datasets.qmul import SurvFace"
   ]
  },
  {
   "cell_type": "code",
   "execution_count": 1,
   "metadata": {},
   "outputs": [],
   "source": [
    "import pandas as pd\n",
    "\n",
    "df = pd.read_csv(\n",
    "    \"/app/experiments/pooling_methods/IJBC/open_set_identification/open_set_recognition.csv\"\n",
    ")"
   ]
  },
  {
   "cell_type": "code",
   "execution_count": 8,
   "metadata": {},
   "outputs": [],
   "source": [
    "numerics = [\"int16\", \"int32\", \"int64\", \"float16\", \"float32\", \"float64\"]\n",
    "\n",
    "newdf = df.select_dtypes(include=numerics)"
   ]
  },
  {
   "cell_type": "code",
   "execution_count": 11,
   "metadata": {},
   "outputs": [],
   "source": [
    "for column in newdf.columns:\n",
    "    pass"
   ]
  },
  {
   "cell_type": "code",
   "execution_count": 12,
   "metadata": {},
   "outputs": [
    {
     "data": {
      "text/plain": [
       "'final_top_20_recall_at_far_1'"
      ]
     },
     "execution_count": 12,
     "metadata": {},
     "output_type": "execute_result"
    }
   ],
   "source": [
    "column"
   ]
  },
  {
   "cell_type": "code",
   "execution_count": 3,
   "metadata": {},
   "outputs": [
    {
     "name": "stdout",
     "output_type": "stream",
     "text": [
      "0\n",
      "1\n",
      "2\n",
      "3\n",
      "4\n",
      "5\n"
     ]
    }
   ],
   "source": [
    "for row_index, (model, row) in enumerate(df.iterrows()):\n",
    "    print(row)"
   ]
  },
  {
   "cell_type": "code",
   "execution_count": 6,
   "metadata": {},
   "outputs": [
    {
     "data": {
      "text/plain": [
       "'CosineSim_DetScore_PFEHarmonicMean-Pool'"
      ]
     },
     "execution_count": 6,
     "metadata": {},
     "output_type": "execute_result"
    }
   ],
   "source": [
    "row[\"pretty_name\"]"
   ]
  },
  {
   "cell_type": "code",
   "execution_count": 4,
   "metadata": {},
   "outputs": [
    {
     "data": {
      "text/plain": [
       "5"
      ]
     },
     "execution_count": 4,
     "metadata": {},
     "output_type": "execute_result"
    }
   ],
   "source": [
    "row_index"
   ]
  },
  {
   "cell_type": "code",
   "execution_count": 2,
   "metadata": {},
   "outputs": [
    {
     "data": {
      "text/html": [
       "<div>\n",
       "<style scoped>\n",
       "    .dataframe tbody tr th:only-of-type {\n",
       "        vertical-align: middle;\n",
       "    }\n",
       "\n",
       "    .dataframe tbody tr th {\n",
       "        vertical-align: top;\n",
       "    }\n",
       "\n",
       "    .dataframe thead th {\n",
       "        text-align: right;\n",
       "    }\n",
       "</style>\n",
       "<table border=\"1\" class=\"dataframe\">\n",
       "  <thead>\n",
       "    <tr style=\"text-align: right;\">\n",
       "      <th></th>\n",
       "      <th>model_name</th>\n",
       "      <th>final_AUC_1_rank</th>\n",
       "      <th>final_top_1_recall_at_far_0.0001</th>\n",
       "      <th>final_top_1_recall_at_far_0.001</th>\n",
       "      <th>final_top_1_recall_at_far_0.01</th>\n",
       "      <th>final_top_1_recall_at_far_0.1</th>\n",
       "      <th>final_top_1_recall_at_far_1</th>\n",
       "      <th>final_AUC_5_rank</th>\n",
       "      <th>final_top_5_recall_at_far_0.0001</th>\n",
       "      <th>final_top_5_recall_at_far_0.001</th>\n",
       "      <th>...</th>\n",
       "      <th>final_top_10_recall_at_far_0.001</th>\n",
       "      <th>final_top_10_recall_at_far_0.01</th>\n",
       "      <th>final_top_10_recall_at_far_0.1</th>\n",
       "      <th>final_top_10_recall_at_far_1</th>\n",
       "      <th>final_AUC_20_rank</th>\n",
       "      <th>final_top_20_recall_at_far_0.0001</th>\n",
       "      <th>final_top_20_recall_at_far_0.001</th>\n",
       "      <th>final_top_20_recall_at_far_0.01</th>\n",
       "      <th>final_top_20_recall_at_far_0.1</th>\n",
       "      <th>final_top_20_recall_at_far_1</th>\n",
       "    </tr>\n",
       "  </thead>\n",
       "  <tbody>\n",
       "    <tr>\n",
       "      <th>0</th>\n",
       "      <td>pooling-with-PoolingSCF_use-det-score-True_eva...</td>\n",
       "      <td>0.968227</td>\n",
       "      <td>0.460910</td>\n",
       "      <td>0.829266</td>\n",
       "      <td>0.944261</td>\n",
       "      <td>0.963392</td>\n",
       "      <td>0.972182</td>\n",
       "      <td>0.973912</td>\n",
       "      <td>0.460910</td>\n",
       "      <td>0.829266</td>\n",
       "      <td>...</td>\n",
       "      <td>0.829266</td>\n",
       "      <td>0.944674</td>\n",
       "      <td>0.966184</td>\n",
       "      <td>0.983247</td>\n",
       "      <td>0.976651</td>\n",
       "      <td>0.460910</td>\n",
       "      <td>0.829266</td>\n",
       "      <td>0.944674</td>\n",
       "      <td>0.966494</td>\n",
       "      <td>0.985315</td>\n",
       "    </tr>\n",
       "    <tr>\n",
       "      <th>1</th>\n",
       "      <td>pooling-with-PoolingSCF_use-det-score-True_eva...</td>\n",
       "      <td>0.968645</td>\n",
       "      <td>0.407653</td>\n",
       "      <td>0.837642</td>\n",
       "      <td>0.945812</td>\n",
       "      <td>0.964943</td>\n",
       "      <td>0.972182</td>\n",
       "      <td>0.974308</td>\n",
       "      <td>0.407653</td>\n",
       "      <td>0.837642</td>\n",
       "      <td>...</td>\n",
       "      <td>0.837642</td>\n",
       "      <td>0.946122</td>\n",
       "      <td>0.967218</td>\n",
       "      <td>0.983247</td>\n",
       "      <td>0.976861</td>\n",
       "      <td>0.407653</td>\n",
       "      <td>0.837642</td>\n",
       "      <td>0.946122</td>\n",
       "      <td>0.967322</td>\n",
       "      <td>0.985315</td>\n",
       "    </tr>\n",
       "  </tbody>\n",
       "</table>\n",
       "<p>2 rows × 25 columns</p>\n",
       "</div>"
      ],
      "text/plain": [
       "                                          model_name  final_AUC_1_rank  \\\n",
       "0  pooling-with-PoolingSCF_use-det-score-True_eva...          0.968227   \n",
       "1  pooling-with-PoolingSCF_use-det-score-True_eva...          0.968645   \n",
       "\n",
       "   final_top_1_recall_at_far_0.0001  final_top_1_recall_at_far_0.001  \\\n",
       "0                          0.460910                         0.829266   \n",
       "1                          0.407653                         0.837642   \n",
       "\n",
       "   final_top_1_recall_at_far_0.01  final_top_1_recall_at_far_0.1  \\\n",
       "0                        0.944261                       0.963392   \n",
       "1                        0.945812                       0.964943   \n",
       "\n",
       "   final_top_1_recall_at_far_1  final_AUC_5_rank  \\\n",
       "0                     0.972182          0.973912   \n",
       "1                     0.972182          0.974308   \n",
       "\n",
       "   final_top_5_recall_at_far_0.0001  final_top_5_recall_at_far_0.001  ...  \\\n",
       "0                          0.460910                         0.829266  ...   \n",
       "1                          0.407653                         0.837642  ...   \n",
       "\n",
       "   final_top_10_recall_at_far_0.001  final_top_10_recall_at_far_0.01  \\\n",
       "0                          0.829266                         0.944674   \n",
       "1                          0.837642                         0.946122   \n",
       "\n",
       "   final_top_10_recall_at_far_0.1  final_top_10_recall_at_far_1  \\\n",
       "0                        0.966184                      0.983247   \n",
       "1                        0.967218                      0.983247   \n",
       "\n",
       "   final_AUC_20_rank  final_top_20_recall_at_far_0.0001  \\\n",
       "0           0.976651                           0.460910   \n",
       "1           0.976861                           0.407653   \n",
       "\n",
       "   final_top_20_recall_at_far_0.001  final_top_20_recall_at_far_0.01  \\\n",
       "0                          0.829266                         0.944674   \n",
       "1                          0.837642                         0.946122   \n",
       "\n",
       "   final_top_20_recall_at_far_0.1  final_top_20_recall_at_far_1  \n",
       "0                        0.966494                      0.985315  \n",
       "1                        0.967322                      0.985315  \n",
       "\n",
       "[2 rows x 25 columns]"
      ]
     },
     "execution_count": 2,
     "metadata": {},
     "output_type": "execute_result"
    }
   ],
   "source": [
    "df"
   ]
  },
  {
   "cell_type": "code",
   "execution_count": null,
   "metadata": {},
   "outputs": [],
   "source": [
    "import pandas as pd\n",
    "import numpy as np\n",
    "\n",
    "fars = [np.arange(20) for _ in range(10)]\n",
    "recalls = [np.arange(20) + 30 for _ in range(10)]\n",
    "method_names = [f\"m_{i}\" for i in range(10)]\n",
    "\n",
    "rows = []\n",
    "\n",
    "for i in range(10):\n",
    "    rows.append([method_names[i]] + list(fars[i]) + list(recalls[i]))"
   ]
  },
  {
   "cell_type": "code",
   "execution_count": 2,
   "metadata": {},
   "outputs": [
    {
     "data": {
      "text/plain": [
       "array([0. , 0.1, 0.2, 0.3, 0.4, 0.5, 0.6, 0.7, 0.8, 0.9, 1. ])"
      ]
     },
     "execution_count": 2,
     "metadata": {},
     "output_type": "execute_result"
    }
   ],
   "source": [
    "import numpy as np\n",
    "\n",
    "np.arange(0, 1 + 0.1, step=0.1)"
   ]
  },
  {
   "cell_type": "code",
   "execution_count": 14,
   "metadata": {},
   "outputs": [
    {
     "data": {
      "text/plain": [
       "(23124, 512)"
      ]
     },
     "execution_count": 14,
     "metadata": {},
     "output_type": "execute_result"
    }
   ],
   "source": [
    "a[\"template_pooled_unc\"].shape"
   ]
  },
  {
   "cell_type": "code",
   "execution_count": 12,
   "metadata": {},
   "outputs": [
    {
     "data": {
      "text/plain": [
       "['template_pooled_emb', 'template_pooled_unc', 'template_ids']"
      ]
     },
     "execution_count": 12,
     "metadata": {},
     "output_type": "execute_result"
    }
   ],
   "source": [
    "list(a.keys())"
   ]
  },
  {
   "attachments": {},
   "cell_type": "markdown",
   "metadata": {},
   "source": [
    "### Create SurvFace metadata"
   ]
  },
  {
   "cell_type": "code",
   "execution_count": 24,
   "metadata": {},
   "outputs": [],
   "source": [
    "# create survface_face_tid_mid.txt\n",
    "# we suppose that media is different for each samples\n",
    "dataset = SurvFace(\"/app/datasets/QMUL-SurvFace/Face_Identification_Test_Set\")\n",
    "\n",
    "with open(\n",
    "    \"/app/datasets/QMUL-SurvFace/Face_Identification_Test_Set/meta/survface_face_tid_mid.txt\",\n",
    "    \"w\",\n",
    ") as fd:\n",
    "    i = 0\n",
    "    medias = np.arange(len(dataset))\n",
    "    for template_id in dataset.gallery_template_ids:\n",
    "        fd.write(f\"{dataset.image_short_names[i]} {template_id} {medias[i]}\\n\")\n",
    "        i += 1\n",
    "    for template_id in dataset.mated_probe_template_ids:\n",
    "        fd.write(f\"{dataset.image_short_names[i]} {template_id} {medias[i]}\\n\")\n",
    "        i += 1\n",
    "    for template_id in dataset.unmated_probe_template_ids:\n",
    "        fd.write(f\"{dataset.image_short_names[i]} {template_id} {medias[i]}\\n\")\n",
    "        i += 1"
   ]
  },
  {
   "cell_type": "code",
   "execution_count": 28,
   "metadata": {},
   "outputs": [],
   "source": [
    "# create survface_1N_gallery_G1.csv\n",
    "import pandas as pd\n",
    "\n",
    "gallery_id_data = {\n",
    "    \"TEMPLATE_ID\": dataset.gallery_template_ids,\n",
    "    \"SUBJECT_ID\": dataset.gallery_ids,\n",
    "    \"FILENAME\": dataset.image_short_names[: len(dataset.gallery_ids)],\n",
    "}\n",
    "df = pd.DataFrame(data=gallery_id_data)\n",
    "df.to_csv(\n",
    "    \"/app/datasets/QMUL-SurvFace/Face_Identification_Test_Set/meta/survface_1N_gallery_G1.csv\",\n",
    "    index=False,\n",
    ")"
   ]
  },
  {
   "cell_type": "code",
   "execution_count": 31,
   "metadata": {},
   "outputs": [],
   "source": [
    "# create survface_1N_probe_mixed.csv\n",
    "import pandas as pd\n",
    "\n",
    "template_id = (\n",
    "    dataset.mated_probe_template_ids.tolist()\n",
    "    + dataset.unmated_probe_template_ids.tolist()\n",
    ")\n",
    "subject_id = dataset.mated_probe_ids.tolist() + dataset.unmated_probe_ids.tolist()\n",
    "probe_id_data = {\n",
    "    \"TEMPLATE_ID\": template_id,\n",
    "    \"SUBJECT_ID\": subject_id,\n",
    "    \"FILENAME\": dataset.image_short_names[len(dataset.gallery_ids) :],\n",
    "}\n",
    "df = pd.DataFrame(data=probe_id_data)\n",
    "df.to_csv(\n",
    "    \"/app/datasets/QMUL-SurvFace/Face_Identification_Test_Set/meta/survface_1N_probe_mixed.csv\",\n",
    "    index=False,\n",
    ")"
   ]
  },
  {
   "cell_type": "code",
   "execution_count": 19,
   "metadata": {},
   "outputs": [
    {
     "data": {
      "text/plain": [
       "set()"
      ]
     },
     "execution_count": 19,
     "metadata": {},
     "output_type": "execute_result"
    }
   ],
   "source": [
    "set(dataset.gallery_template_ids).intersection(set(dataset.mated_probe_template_ids))"
   ]
  },
  {
   "cell_type": "code",
   "execution_count": 21,
   "metadata": {},
   "outputs": [
    {
     "data": {
      "text/plain": [
       "set()"
      ]
     },
     "execution_count": 21,
     "metadata": {},
     "output_type": "execute_result"
    }
   ],
   "source": [
    "set(dataset.gallery_template_ids).intersection(set(dataset.unmated_probe_template_ids))"
   ]
  },
  {
   "cell_type": "code",
   "execution_count": 22,
   "metadata": {},
   "outputs": [
    {
     "data": {
      "text/plain": [
       "set()"
      ]
     },
     "execution_count": 22,
     "metadata": {},
     "output_type": "execute_result"
    }
   ],
   "source": [
    "set(dataset.mated_probe_template_ids).intersection(\n",
    "    set(dataset.unmated_probe_template_ids)\n",
    ")"
   ]
  },
  {
   "cell_type": "code",
   "execution_count": 23,
   "metadata": {},
   "outputs": [
    {
     "data": {
      "text/plain": [
       "set()"
      ]
     },
     "execution_count": 23,
     "metadata": {},
     "output_type": "execute_result"
    }
   ],
   "source": [
    "set(dataset.unmated_probe_ids).intersection(set(dataset.gallery_ids))"
   ]
  },
  {
   "cell_type": "code",
   "execution_count": 8,
   "metadata": {},
   "outputs": [],
   "source": [
    "assert (set(dataset.gallery_ids)) == set(dataset.mated_probe_ids)"
   ]
  },
  {
   "cell_type": "code",
   "execution_count": 14,
   "metadata": {},
   "outputs": [
    {
     "data": {
      "text/plain": [
       "array([ 1,  1,  1,  1,  1,  1,  1,  1,  1,  1,  1,  1,  1,  1,  1,  1,  1,\n",
       "        1,  1,  1,  1,  1,  1,  1,  1,  1,  1,  1,  1,  1,  1,  1,  1,  1,\n",
       "        1,  1,  1,  1,  1,  1,  1,  1,  1,  1,  1,  1,  1,  1,  1,  1,  1,\n",
       "        1,  1,  1,  1,  1,  1,  1,  1,  1,  1,  1,  1,  1,  1,  1,  1,  1,\n",
       "        1,  1,  1,  1,  1,  1,  1,  1,  1,  1,  1,  1,  1,  1,  1,  1,  1,\n",
       "        1,  1,  1,  1,  1,  1,  1,  1,  1,  1,  1,  1,  1,  1,  1,  1,  1,\n",
       "        1,  1,  1,  1,  1,  4,  6,  9,  9,  9,  9,  9,  9,  9,  9,  9,  9,\n",
       "        9,  9,  9,  9,  9,  9,  9,  9,  9,  9,  9,  9,  9,  9,  9,  9,  9,\n",
       "        9,  9,  9,  9,  9,  9,  9,  9,  9,  9,  9,  9,  9,  9,  9,  9,  9,\n",
       "        9,  9,  9,  9,  9,  9,  9,  9,  9,  9,  9,  9, 10, 10, 10, 10, 10,\n",
       "       10, 10, 10, 10, 10, 10, 10, 10, 10, 10, 10, 10, 10, 10, 10, 10, 10,\n",
       "       10, 10, 10, 10, 10, 10, 10, 10, 10, 10, 10, 10, 10], dtype=uint16)"
      ]
     },
     "execution_count": 14,
     "metadata": {},
     "output_type": "execute_result"
    }
   ],
   "source": [
    "dataset.gallery_template_ids[:200]"
   ]
  },
  {
   "cell_type": "code",
   "execution_count": 13,
   "metadata": {},
   "outputs": [
    {
     "data": {
      "text/plain": [
       "array([ 1,  1,  1,  1,  1,  1,  1,  1,  1,  1,  1,  1,  1,  1,  1,  1,  1,\n",
       "        1,  1,  1,  1,  1,  1,  1,  1,  1,  1,  1,  1,  1,  1,  1,  1,  1,\n",
       "        1,  1,  1,  1,  1,  1,  1,  1,  1,  1,  1,  1,  1,  1,  1,  1,  1,\n",
       "        1,  1,  1,  1,  1,  1,  1,  1,  1,  1,  1,  1,  1,  1,  1,  1,  1,\n",
       "        1,  1,  1,  1,  1,  1,  1,  1,  1,  1,  1,  1,  1,  1,  1,  1,  1,\n",
       "        1,  1,  1,  1,  1,  1,  1,  1,  1,  1,  1,  1,  1,  1,  1,  1,  1,\n",
       "        1,  1,  1,  1,  1,  4,  6,  9,  9,  9,  9,  9,  9,  9,  9,  9,  9,\n",
       "        9,  9,  9,  9,  9,  9,  9,  9,  9,  9,  9,  9,  9,  9,  9,  9,  9,\n",
       "        9,  9,  9,  9,  9,  9,  9,  9,  9,  9,  9,  9,  9,  9, 10, 10, 10,\n",
       "       10, 10, 10, 10, 10, 10, 10, 10, 10, 10, 10, 10, 10, 10, 10, 10, 10,\n",
       "       10, 10, 10, 10, 10, 10, 10, 10, 10, 10, 10, 10, 10, 10, 10, 10, 10,\n",
       "       10, 11, 11, 11, 11, 11, 11, 11, 11, 11, 11, 11, 11], dtype=uint16)"
      ]
     },
     "execution_count": 13,
     "metadata": {},
     "output_type": "execute_result"
    }
   ],
   "source": [
    "dataset.mated_probe_ids[:200]"
   ]
  },
  {
   "cell_type": "code",
   "execution_count": 15,
   "metadata": {},
   "outputs": [
    {
     "data": {
      "text/plain": [
       "array([5320, 5320, 5320, 5320, 5320, 5320, 5320, 5320, 5320, 5320, 5320,\n",
       "       5320, 5320, 5320, 5320, 5320, 5320, 5320, 5320, 5320, 5320, 5320,\n",
       "       5320, 5320, 5320, 5320, 5320, 5320, 5320, 5320, 5320, 5320, 5320,\n",
       "       5320, 5320, 5320, 5320, 5320, 5320, 5320, 5320, 5320, 5320, 5320,\n",
       "       5320, 5320, 5320, 5320, 5320, 5320, 5320, 5320, 5320, 5320, 5320,\n",
       "       5320, 5320, 5320, 5320, 5320, 5320, 5320, 5320, 5320, 5320, 5320,\n",
       "       5320, 5320, 5320, 5320, 5320, 5320, 5320, 5320, 5320, 5320, 5320,\n",
       "       5320, 5320, 5320, 5320, 5320, 5320, 5320, 5320, 5320, 5320, 5320,\n",
       "       5320, 5320, 5320, 5320, 5320, 5320, 5320, 5320, 5320, 5320, 5320,\n",
       "       5320, 5320, 5320, 5320, 5320, 5320, 5320, 5320, 5323, 5325, 5328,\n",
       "       5328, 5328, 5328, 5328, 5328, 5328, 5328, 5328, 5328, 5328, 5328,\n",
       "       5328, 5328, 5328, 5328, 5328, 5328, 5328, 5328, 5328, 5328, 5328,\n",
       "       5328, 5328, 5328, 5328, 5328, 5328, 5328, 5328, 5328, 5328, 5328,\n",
       "       5328, 5328, 5328, 5328, 5328, 5328, 5328, 5329, 5329, 5329, 5329,\n",
       "       5329, 5329, 5329, 5329, 5329, 5329, 5329, 5329, 5329, 5329, 5329,\n",
       "       5329, 5329, 5329, 5329, 5329, 5329, 5329, 5329, 5329, 5329, 5329,\n",
       "       5329, 5329, 5329, 5329, 5329, 5329, 5329, 5329, 5329, 5329, 5329,\n",
       "       5329, 5330, 5330, 5330, 5330, 5330, 5330, 5330, 5330, 5330, 5330,\n",
       "       5330, 5330], dtype=uint16)"
      ]
     },
     "execution_count": 15,
     "metadata": {},
     "output_type": "execute_result"
    }
   ],
   "source": [
    "dataset.mated_probe_template_ids[:200]"
   ]
  },
  {
   "cell_type": "code",
   "execution_count": 17,
   "metadata": {},
   "outputs": [
    {
     "data": {
      "text/plain": [
       "array([5319, 5320, 5321, ..., 8316, 8317, 8318])"
      ]
     },
     "execution_count": 17,
     "metadata": {},
     "output_type": "execute_result"
    }
   ],
   "source": [
    "dataset.unmated_probe_ids"
   ]
  },
  {
   "cell_type": "code",
   "execution_count": 18,
   "metadata": {},
   "outputs": [
    {
     "data": {
      "text/plain": [
       "array([15957, 15958, 15959, ..., 18954, 18955, 18956])"
      ]
     },
     "execution_count": 18,
     "metadata": {},
     "output_type": "execute_result"
    }
   ],
   "source": [
    "dataset.unmated_probe_template_ids"
   ]
  },
  {
   "cell_type": "code",
   "execution_count": 3,
   "metadata": {},
   "outputs": [],
   "source": [
    "a = np.load(\"/app/cache/features/pfe_qmul_survFace.npz\")"
   ]
  },
  {
   "cell_type": "code",
   "execution_count": 9,
   "metadata": {},
   "outputs": [
    {
     "data": {
      "text/plain": [
       "array([[0.05713168, 0.05248559, 0.04987973, ..., 0.05157684, 0.05030818,\n",
       "        0.0543626 ],\n",
       "       [0.04836658, 0.04669207, 0.0470348 , ..., 0.04875289, 0.04657172,\n",
       "        0.04417749],\n",
       "       [0.04804879, 0.04335583, 0.0441819 , ..., 0.04498498, 0.04813632,\n",
       "        0.04209794],\n",
       "       ...,\n",
       "       [0.05014598, 0.05014416, 0.04968883, ..., 0.04902398, 0.04871278,\n",
       "        0.04757581],\n",
       "       [0.04999655, 0.04704627, 0.04745691, ..., 0.04860072, 0.04618262,\n",
       "        0.04694822],\n",
       "       [0.05930768, 0.05543486, 0.05102114, ..., 0.05300561, 0.05416605,\n",
       "        0.05105976]], dtype=float32)"
      ]
     },
     "execution_count": 9,
     "metadata": {},
     "output_type": "execute_result"
    }
   ],
   "source": [
    "np.exp(a[\"unc\"]) ** 0.5"
   ]
  },
  {
   "cell_type": "code",
   "execution_count": 4,
   "metadata": {},
   "outputs": [
    {
     "data": {
      "text/plain": [
       "(469375, 1)"
      ]
     },
     "execution_count": 4,
     "metadata": {},
     "output_type": "execute_result"
    }
   ],
   "source": [
    "b = np.load(\"/app/datasets/arcface_ijb/IJBC/embeddings/scf_ijb_embs_IJBC.npz\")\n",
    "b[\"unc\"].shape"
   ]
  },
  {
   "cell_type": "code",
   "execution_count": 3,
   "metadata": {},
   "outputs": [
    {
     "data": {
      "text/plain": [
       "(123717, 1)"
      ]
     },
     "execution_count": 3,
     "metadata": {},
     "output_type": "execute_result"
    }
   ],
   "source": [
    "a[\"unc\"].shape"
   ]
  },
  {
   "cell_type": "code",
   "execution_count": 2,
   "metadata": {},
   "outputs": [],
   "source": [
    "dataset = SurvFace(\"/app/datasets/QMUL-SurvFace/Face_Identification_Test_Set\")"
   ]
  },
  {
   "cell_type": "code",
   "execution_count": 3,
   "metadata": {},
   "outputs": [
    {
     "data": {
      "text/plain": [
       "123717"
      ]
     },
     "execution_count": 3,
     "metadata": {},
     "output_type": "execute_result"
    }
   ],
   "source": [
    "len(dataset)"
   ]
  },
  {
   "cell_type": "code",
   "execution_count": 19,
   "metadata": {},
   "outputs": [
    {
     "data": {
      "text/plain": [
       "<matplotlib.image.AxesImage at 0x7ff4a3709dc0>"
      ]
     },
     "execution_count": 19,
     "metadata": {},
     "output_type": "execute_result"
    },
    {
     "data": {
      "image/png": "[encoded data removed]",
      "text/plain": [
       "<Figure size 640x480 with 1 Axes>"
      ]
     },
     "metadata": {},
     "output_type": "display_data"
    }
   ],
   "source": [
    "plt.imshow((dataset[8] / 0.0078125 + 127.5).astype(\"uint8\"))"
   ]
  },
  {
   "cell_type": "code",
   "execution_count": 93,
   "metadata": {},
   "outputs": [
    {
     "data": {
      "text/plain": [
       "121736"
      ]
     },
     "execution_count": 93,
     "metadata": {},
     "output_type": "execute_result"
    }
   ],
   "source": [
    "unmated_probe = list(\n",
    "    glob(\"/app/datasets/QMUL-SurvFace/Face_Identification_Test_Set/unmated_probe/*\")\n",
    ")\n",
    "unmated_probe = [probe_path.split(\"/\")[-1] for probe_path in unmated_probe]\n",
    "len(unmated_probe)"
   ]
  },
  {
   "cell_type": "code",
   "execution_count": 95,
   "metadata": {},
   "outputs": [],
   "source": [
    "from numpy.random import RandomState\n",
    "\n",
    "rs = RandomState(1572)\n",
    "probe_subset = rs.choice(unmated_probe, 3000, replace=False)"
   ]
  },
  {
   "cell_type": "code",
   "execution_count": 97,
   "metadata": {},
   "outputs": [],
   "source": [
    "np.save(\n",
    "    \"/app/datasets/QMUL-SurvFace/Face_Identification_Test_Set/unmated_probe_subset.npy\",\n",
    "    probe_subset,\n",
    ")"
   ]
  },
  {
   "cell_type": "code",
   "execution_count": 78,
   "metadata": {},
   "outputs": [
    {
     "data": {
      "text/plain": [
       "60294"
      ]
     },
     "execution_count": 78,
     "metadata": {},
     "output_type": "execute_result"
    }
   ],
   "source": [
    "names = []\n",
    "with open(\n",
    "    \"/app/datasets/QMUL-SurvFace/Face_Identification_Test_Set/gallery_names.txt\"\n",
    ") as fd:\n",
    "    for line in fd.read().splitlines():\n",
    "        names.append(line)\n",
    "len(names)"
   ]
  },
  {
   "cell_type": "code",
   "execution_count": 81,
   "metadata": {},
   "outputs": [],
   "source": [
    "gallery_ids = [int(name.split(\"_\")[0]) for name in names]\n",
    "len(set(gallery_ids))"
   ]
  },
  {
   "cell_type": "code",
   "execution_count": 80,
   "metadata": {},
   "outputs": [
    {
     "data": {
      "text/plain": [
       "60423"
      ]
     },
     "execution_count": 80,
     "metadata": {},
     "output_type": "execute_result"
    }
   ],
   "source": [
    "probe = []\n",
    "with open(\n",
    "    \"/app/datasets/QMUL-SurvFace/Face_Identification_Test_Set/probe_names.txt\"\n",
    ") as fd:\n",
    "    for line in fd.read().splitlines():\n",
    "        probe.append(line)\n",
    "len(probe)"
   ]
  },
  {
   "cell_type": "code",
   "execution_count": 84,
   "metadata": {},
   "outputs": [
    {
     "data": {
      "text/plain": [
       "3000"
      ]
     },
     "execution_count": 84,
     "metadata": {},
     "output_type": "execute_result"
    }
   ],
   "source": [
    "probe_ids = [int(name.split(\"_\")[0]) for name in probe]\n",
    "len(set(probe_ids))"
   ]
  },
  {
   "cell_type": "code",
   "execution_count": 65,
   "metadata": {},
   "outputs": [
    {
     "data": {
      "text/plain": [
       "<matplotlib.image.AxesImage at 0x7f0da287eeb0>"
      ]
     },
     "execution_count": 65,
     "metadata": {},
     "output_type": "execute_result"
    },
    {
     "data": {
      "image/png": "[encoded data removed]",
      "text/plain": [
       "<Figure size 640x480 with 1 Axes>"
      ]
     },
     "metadata": {},
     "output_type": "display_data"
    }
   ],
   "source": [
    "image = cv2.imread(\"/app/outputs/qmul_test/probe/11/10029_cam2_59.jpg\")\n",
    "image = cv2.cvtColor(image, cv2.COLOR_BGR2RGB)\n",
    "image = cv2.resize(image, (112, 112), interpolation=cv2.INTER_CUBIC)\n",
    "plt.imshow(image)"
   ]
  },
  {
   "cell_type": "code",
   "execution_count": 22,
   "metadata": {},
   "outputs": [],
   "source": [
    "import scipy.io\n",
    "\n",
    "mat = scipy.io.loadmat(\n",
    "    \"/app/datasets/QMUL-SurvFace/Face_Identification_Test_Set/gallery_img_ID_pairs.mat\"\n",
    ")\n",
    "mat_probe = scipy.io.loadmat(\n",
    "    \"/app/datasets/QMUL-SurvFace/Face_Identification_Test_Set/mated_probe_img_ID_pairs.mat\"\n",
    ")"
   ]
  },
  {
   "cell_type": "code",
   "execution_count": 67,
   "metadata": {},
   "outputs": [
    {
     "data": {
      "text/plain": [
       "(60423, 3000)"
      ]
     },
     "execution_count": 67,
     "metadata": {},
     "output_type": "execute_result"
    }
   ],
   "source": [
    "mated_probe_ids = np.squeeze(mat_probe[\"mated_probe_ids\"])\n",
    "mated_probe_set = np.array(\n",
    "    [image_name[0] for image_name in np.squeeze(mat_probe[\"mated_probe_set\"])]\n",
    ")\n",
    "len(mated_probe_set), len(np.unique(mated_probe_ids))"
   ]
  },
  {
   "cell_type": "code",
   "execution_count": 99,
   "metadata": {},
   "outputs": [
    {
     "data": {
      "text/plain": [
       "array(['10002_cam3_1.jpg', '10002_cam3_10.jpg', '10002_cam3_100.jpg', ...,\n",
       "       '9998_cam2_7.jpg', '9998_cam2_8.jpg', '9998_cam2_9.jpg'],\n",
       "      dtype='<U18')"
      ]
     },
     "execution_count": 99,
     "metadata": {},
     "output_type": "execute_result"
    }
   ],
   "source": [
    "mated_probe_set"
   ]
  },
  {
   "cell_type": "code",
   "execution_count": 58,
   "metadata": {},
   "outputs": [],
   "source": [
    "from pathlib import Path\n",
    "\n",
    "probe_path = Path(\n",
    "    \"/app/datasets/QMUL-SurvFace/Face_Identification_Test_Set/mated_probe\"\n",
    ")\n",
    "id = 11\n",
    "out_path = Path(f\"/app/outputs/qmul_test/probe/{id}\")\n",
    "out_path.mkdir()\n",
    "for image_path in mated_probe_set[np.where(mated_probe_ids == id)]:\n",
    "    shutil.copyfile(probe_path / image_path, out_path / image_path)"
   ]
  },
  {
   "cell_type": "code",
   "execution_count": 23,
   "metadata": {},
   "outputs": [
    {
     "data": {
      "text/plain": [
       "(60294, 3000)"
      ]
     },
     "execution_count": 23,
     "metadata": {},
     "output_type": "execute_result"
    }
   ],
   "source": [
    "gallery_ids = np.squeeze(mat[\"gallery_ids\"])\n",
    "gallery_set = np.array([image_name[0] for image_name in np.squeeze(mat[\"gallery_set\"])])\n",
    "len(gallery_ids), len(np.unique(gallery_ids))"
   ]
  },
  {
   "cell_type": "code",
   "execution_count": 24,
   "metadata": {},
   "outputs": [
    {
     "data": {
      "text/plain": [
       "'10002_cam2_104.jpg'"
      ]
     },
     "execution_count": 24,
     "metadata": {},
     "output_type": "execute_result"
    }
   ],
   "source": [
    "gallery_set[8]"
   ]
  },
  {
   "cell_type": "code",
   "execution_count": 100,
   "metadata": {},
   "outputs": [
    {
     "data": {
      "text/plain": [
       "array(['10002_cam1_1.jpg', '10002_cam1_2.jpg', '10002_cam2_1.jpg', ...,\n",
       "       '9998_cam3_7.jpg', '9998_cam3_8.jpg', '9998_cam3_9.jpg'],\n",
       "      dtype='<U18')"
      ]
     },
     "execution_count": 100,
     "metadata": {},
     "output_type": "execute_result"
    }
   ],
   "source": [
    "gallery_set"
   ]
  },
  {
   "cell_type": "code",
   "execution_count": 56,
   "metadata": {},
   "outputs": [
    {
     "data": {
      "text/plain": [
       "array([ 1,  1,  1,  1,  1,  1,  1,  1,  1,  1,  1,  1,  1,  1,  1,  1,  1,\n",
       "        1,  1,  1,  1,  1,  1,  1,  1,  1,  1,  1,  1,  1,  1,  1,  1,  1,\n",
       "        1,  1,  1,  1,  1,  1,  1,  1,  1,  1,  1,  1,  1,  1,  1,  1,  1,\n",
       "        1,  1,  1,  1,  1,  1,  1,  1,  1,  1,  1,  1,  1,  1,  1,  1,  1,\n",
       "        1,  1,  1,  1,  1,  1,  1,  1,  1,  1,  1,  1,  1,  1,  1,  1,  1,\n",
       "        1,  1,  1,  1,  1,  1,  1,  1,  1,  1,  1,  1,  1,  1,  1,  1,  1,\n",
       "        1,  1,  1,  1,  1,  4,  6,  9,  9,  9,  9,  9,  9,  9,  9,  9,  9,\n",
       "        9,  9,  9,  9,  9,  9,  9,  9,  9,  9,  9,  9,  9,  9,  9,  9,  9,\n",
       "        9,  9,  9,  9,  9,  9,  9,  9,  9,  9,  9,  9,  9,  9,  9,  9,  9,\n",
       "        9,  9,  9,  9,  9,  9,  9,  9,  9,  9,  9,  9, 10, 10, 10, 10, 10,\n",
       "       10, 10, 10, 10, 10, 10, 10, 10, 10, 10, 10, 10, 10, 10, 10, 10, 10,\n",
       "       10, 10, 10, 10, 10, 10, 10, 10, 10, 10, 10, 10, 10, 10, 10, 10, 10,\n",
       "       10, 10, 10, 10, 10, 10, 10, 10, 10, 10, 10, 10, 10, 10, 10, 10, 10,\n",
       "       10, 10, 10, 10, 10, 10, 10, 10, 10, 10, 10, 10, 10, 10, 10, 10, 10,\n",
       "       10, 10, 10, 10, 10, 10, 10, 10, 10, 10, 10, 10, 10, 10, 10, 10, 10,\n",
       "       10, 10, 10, 10, 10, 10, 10, 10, 10, 10, 10, 10, 10, 10, 10, 10, 10,\n",
       "       10, 10, 11, 11, 11, 11, 11, 11, 11, 11, 11, 11, 11, 11, 11, 11, 11,\n",
       "       11, 11, 11, 11, 11, 11, 11, 11, 11, 11, 11, 11, 11, 11, 11, 11, 11,\n",
       "       11, 11, 11, 11, 11, 11, 11, 11, 11, 11, 11, 11, 12, 12, 12, 12, 12,\n",
       "       12, 12, 12, 12, 12, 12, 12, 12, 12, 12, 12, 12, 12, 12, 12, 12, 12,\n",
       "       12, 12, 12, 12, 12, 12, 12, 12, 12, 12, 12, 12, 12, 12, 12, 12, 12,\n",
       "       12, 13, 13, 13, 13, 13, 13, 13, 13, 13, 13, 13, 13, 13, 13, 13, 13,\n",
       "       13, 13, 13, 13, 13, 13, 13, 13, 13, 14, 14, 14, 14, 14, 14, 14, 14,\n",
       "       14, 14, 14, 14, 14, 14, 14, 14, 14], dtype=uint16)"
      ]
     },
     "execution_count": 56,
     "metadata": {},
     "output_type": "execute_result"
    }
   ],
   "source": [
    "gallery_ids[:400]"
   ]
  },
  {
   "cell_type": "code",
   "execution_count": null,
   "metadata": {},
   "outputs": [],
   "source": []
  },
  {
   "cell_type": "code",
   "execution_count": 57,
   "metadata": {},
   "outputs": [],
   "source": [
    "from pathlib import Path\n",
    "\n",
    "gallery_path = Path(\"/app/datasets/QMUL-SurvFace/Face_Identification_Test_Set/gallery\")\n",
    "id = 11\n",
    "out_path = Path(f\"/app/outputs/qmul_test/{id}\")\n",
    "out_path.mkdir()\n",
    "for image_path in gallery_set[np.where(gallery_ids == id)]:\n",
    "    shutil.copyfile(gallery_path / image_path, out_path / image_path)"
   ]
  },
  {
   "cell_type": "code",
   "execution_count": 18,
   "metadata": {},
   "outputs": [
    {
     "data": {
      "text/plain": [
       "array([[array(['10002_cam1_1.jpg'], dtype='<U16')],\n",
       "       [array(['10002_cam1_2.jpg'], dtype='<U16')],\n",
       "       [array(['10002_cam2_1.jpg'], dtype='<U16')],\n",
       "       ...,\n",
       "       [array(['9998_cam3_7.jpg'], dtype='<U15')],\n",
       "       [array(['9998_cam3_8.jpg'], dtype='<U15')],\n",
       "       [array(['9998_cam3_9.jpg'], dtype='<U15')]], dtype=object)"
      ]
     },
     "execution_count": 18,
     "metadata": {},
     "output_type": "execute_result"
    }
   ],
   "source": [
    "mat[\"gallery_set\"]"
   ]
  },
  {
   "cell_type": "code",
   "execution_count": 17,
   "metadata": {},
   "outputs": [
    {
     "data": {
      "text/plain": [
       "array([array(['10002_cam1_1.jpg'], dtype='<U16'),\n",
       "       array(['10002_cam1_2.jpg'], dtype='<U16'),\n",
       "       array(['10002_cam2_1.jpg'], dtype='<U16'), ...,\n",
       "       array(['9998_cam3_7.jpg'], dtype='<U15'),\n",
       "       array(['9998_cam3_8.jpg'], dtype='<U15'),\n",
       "       array(['9998_cam3_9.jpg'], dtype='<U15')], dtype=object)"
      ]
     },
     "execution_count": 17,
     "metadata": {},
     "output_type": "execute_result"
    }
   ],
   "source": [
    "gallery_set"
   ]
  },
  {
   "cell_type": "code",
   "execution_count": null,
   "metadata": {},
   "outputs": [],
   "source": []
  }
 ],
 "metadata": {
  "kernelspec": {
   "display_name": "base",
   "language": "python",
   "name": "python3"
  },
  "language_info": {
   "codemirror_mode": {
    "name": "ipython",
    "version": 3
   },
   "file_extension": ".py",
   "mimetype": "text/x-python",
   "name": "python",
   "nbconvert_exporter": "python",
   "pygments_lexer": "ipython3",
   "version": "3.9.7"
  },
  "orig_nbformat": 4
 },
 "nbformat": 4,
 "nbformat_minor": 2
}
