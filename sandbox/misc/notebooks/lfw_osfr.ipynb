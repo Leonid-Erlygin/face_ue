{
 "cells": [
  {
   "cell_type": "code",
   "execution_count": 6,
   "metadata": {},
   "outputs": [
    {
     "name": "stdout",
     "output_type": "stream",
     "text": [
      "The autoreload extension is already loaded. To reload it, use:\n",
      "  %reload_ext autoreload\n"
     ]
    }
   ],
   "source": [
    "%load_ext autoreload\n",
    "%autoreload 2\n",
    "from pathlib import Path\n",
    "import numpy as np\n",
    "import pandas as pd"
   ]
  },
  {
   "cell_type": "markdown",
   "metadata": {},
   "source": [
    "## 0. Check LFW embeddings"
   ]
  },
  {
   "cell_type": "code",
   "execution_count": 43,
   "metadata": {},
   "outputs": [
    {
     "name": "stderr",
     "output_type": "stream",
     "text": [
      "0it [00:00, ?it/s]"
     ]
    },
    {
     "name": "stderr",
     "output_type": "stream",
     "text": [
      "6000it [00:10, 583.32it/s]\n"
     ]
    }
   ],
   "source": [
    "from tqdm import tqdm\n",
    "\n",
    "dataset_path = Path(\"/app/datasets/lfw/data_aligned_112_112\")\n",
    "img_names = np.array([str(x) for x in list(Path(dataset_path).rglob(\"*.jpg\"))])\n",
    "embs = np.load(\"/app/cache/features/scf_embs_lfw.npz\")[\"embs\"]\n",
    "\n",
    "# load pairs\n",
    "pairs_path = \"/app/datasets/lfw/pairs_val_6000.txt\"\n",
    "pairs_label = []\n",
    "pairs_score = []\n",
    "with open(pairs_path) as fd:\n",
    "    for line in tqdm(fd):\n",
    "        pair_data = line[:-1].split(\"\\t\")\n",
    "        # assert len(pair_data) == 3 or len(pair_data) == 4\n",
    "        if len(pair_data) == 3:\n",
    "            first_image_path = (\n",
    "                Path(dataset_path)\n",
    "                / pair_data[0]\n",
    "                / f\"{pair_data[0]}_{pair_data[1].zfill(4)}.jpg\"\n",
    "            )\n",
    "            second_image_path = (\n",
    "                Path(dataset_path)\n",
    "                / pair_data[0]\n",
    "                / f\"{pair_data[0]}_{pair_data[2].zfill(4)}.jpg\"\n",
    "            )\n",
    "            pairs_label.append(1)\n",
    "        else:\n",
    "            first_image_path = (\n",
    "                Path(dataset_path)\n",
    "                / pair_data[0]\n",
    "                / f\"{pair_data[0]}_{pair_data[1].zfill(4)}.jpg\"\n",
    "            )\n",
    "            second_image_path = (\n",
    "                Path(dataset_path)\n",
    "                / pair_data[2]\n",
    "                / f\"{pair_data[2]}_{pair_data[3].zfill(4)}.jpg\"\n",
    "            )\n",
    "            pairs_label.append(0)\n",
    "        pairs_score.append(\n",
    "            embs[img_names == str(first_image_path)][0]\n",
    "            @ embs[img_names == str(second_image_path)][0]\n",
    "        )\n",
    "pairs_score = np.array(pairs_score)\n",
    "pairs_label = np.array(pairs_label)"
   ]
  },
  {
   "cell_type": "code",
   "execution_count": 54,
   "metadata": {},
   "outputs": [],
   "source": [
    "from evaluation.visualize import draw_score_distr_plot\n",
    "\n",
    "true_match_scores = pairs_score[pairs_label == 1]\n",
    "wrong_match_scores = pairs_score[pairs_label == 0]\n",
    "scores_distr = {\n",
    "    \"Истинная пара\": true_match_scores,\n",
    "    \"Ложная пара\": wrong_match_scores,\n",
    "}\n",
    "# draw_score_distr_plot(\n",
    "#     scores_distr=scores_distr,\n",
    "#     score_type=\"EVM\",\n",
    "#     model_name=\"EVM\",\n",
    "#     in_data_name=\"Истинная пара\",\n",
    "#     out_data_name=\"Ложная пара\",\n",
    "# )"
   ]
  },
  {
   "cell_type": "markdown",
   "metadata": {},
   "source": [
    "## 1. Create LFW OSFR protocol"
   ]
  },
  {
   "cell_type": "code",
   "execution_count": 57,
   "metadata": {},
   "outputs": [],
   "source": [
    "img_names = np.array([str(x) for x in list(Path(dataset_path).rglob(\"*.jpg\"))])\n",
    "person_names = np.array(\n",
    "    [str(x).split(\"/\")[-2] for x in list(Path(dataset_path).rglob(\"*.jpg\"))]\n",
    ")"
   ]
  },
  {
   "cell_type": "code",
   "execution_count": 60,
   "metadata": {},
   "outputs": [],
   "source": [
    "unique_person_names, counts_person_names = np.unique(person_names, return_counts=True)"
   ]
  },
  {
   "cell_type": "code",
   "execution_count": 63,
   "metadata": {},
   "outputs": [
    {
     "data": {
      "text/plain": [
       "(610, 1070, 4069)"
      ]
     },
     "execution_count": 63,
     "metadata": {},
     "output_type": "execute_result"
    }
   ],
   "source": [
    "np.sum(counts_person_names > 3), np.sum(\n",
    "    np.logical_or(counts_person_names == 3, counts_person_names == 2)\n",
    "), np.sum(counts_person_names == 1)"
   ]
  },
  {
   "cell_type": "code",
   "execution_count": 101,
   "metadata": {},
   "outputs": [],
   "source": [
    "# construct gallery and probe temlates\n",
    "dataset_path = Path(\"/app/datasets/lfw/data_aligned_112_112\")\n",
    "image_path_to_template_id = {}\n",
    "image_path_to_subject_id = {}\n",
    "gallery_subjects = unique_person_names[counts_person_names > 3]\n",
    "gallery_templates = []\n",
    "known_probe_templates = []\n",
    "subject_id = 0\n",
    "gallery_template_id = 0\n",
    "probe_template_id = 700\n",
    "for subject in gallery_subjects:\n",
    "    subject_dir = dataset_path / subject\n",
    "    image_count = len(list(Path(subject_dir).glob(\"*.jpg\")))\n",
    "    subject_images_paths = []\n",
    "    for i in range(image_count):\n",
    "        image_path = str(subject_dir / f\"{subject}_{str(i+1).zfill(4)}.jpg\")\n",
    "        image_path_to_subject_id[image_path] = subject_id\n",
    "        if i < 3:\n",
    "            image_path_to_template_id[image_path] = gallery_template_id\n",
    "        if i >= 3:\n",
    "            image_path_to_template_id[image_path] = probe_template_id\n",
    "        subject_images_paths.append(image_path)\n",
    "\n",
    "    gallery_templates.append(\n",
    "        (subject_images_paths[:3], gallery_template_id, subject_id)\n",
    "    )\n",
    "    known_probe_templates.append(\n",
    "        (subject_images_paths[3:], probe_template_id, subject_id)\n",
    "    )\n",
    "    gallery_template_id += 1\n",
    "    probe_template_id += 1\n",
    "    subject_id += 1\n",
    "\n",
    "assert gallery_template_id < 700\n",
    "unknown_probe_templates = []\n",
    "probe_subjects = unique_person_names[counts_person_names <= 3]\n",
    "for probe_subject in probe_subjects:\n",
    "    probe_subject_dir = dataset_path / probe_subject\n",
    "    probe_template_paths = []\n",
    "    for image_path in list(Path(probe_subject_dir).glob(\"*.jpg\")):\n",
    "        image_path = str(image_path)\n",
    "        image_path_to_subject_id[image_path] = subject_id\n",
    "        image_path_to_template_id[image_path] = probe_template_id\n",
    "        probe_template_paths.append(image_path)\n",
    "    unknown_probe_templates.append(\n",
    "        (probe_template_paths, probe_template_id, subject_id)\n",
    "    )\n",
    "    probe_template_id += 1\n",
    "    subject_id += 1"
   ]
  },
  {
   "cell_type": "code",
   "execution_count": 102,
   "metadata": {},
   "outputs": [],
   "source": [
    "assert len(image_path_to_template_id) == len(img_names)\n",
    "assert len(image_path_to_subject_id) == len(img_names)\n",
    "assert len(set(image_path_to_subject_id.values())) == len(unique_person_names)\n",
    "assert len(set(image_path_to_template_id.values())) == len(unique_person_names) + 610"
   ]
  },
  {
   "cell_type": "code",
   "execution_count": 90,
   "metadata": {},
   "outputs": [
    {
     "data": {
      "text/plain": [
       "(610, 610, 5139)"
      ]
     },
     "execution_count": 90,
     "metadata": {},
     "output_type": "execute_result"
    }
   ],
   "source": [
    "len(gallery_templates), len(known_probe_templates), len(unknown_probe_templates)"
   ]
  },
  {
   "cell_type": "code",
   "execution_count": 107,
   "metadata": {},
   "outputs": [],
   "source": [
    "# create meta files\n",
    "# tid mid\n",
    "identification_ds_path = Path(\"/app/datasets/lfw_ident\")\n",
    "identification_ds_path.mkdir(exist_ok=True)\n",
    "meta_path = identification_ds_path / \"meta\"\n",
    "meta_path.mkdir(exist_ok=True)\n",
    "names = [x.split(\"/\")[-1] for x in img_names]\n",
    "mids = np.arange(len(img_names))\n",
    "tids = []\n",
    "sids = []\n",
    "\n",
    "for image_path in img_names:\n",
    "    tids.append(image_path_to_template_id[image_path])\n",
    "    sids.append(image_path_to_subject_id[image_path])\n",
    "\n",
    "out_file_tid_mid = meta_path / Path(\"lfw_face_tid_mid.txt\")\n",
    "with open(out_file_tid_mid, \"w\") as fd:\n",
    "    for name, tid, sid, mid in zip(names, tids, sids, mids):\n",
    "        fd.write(f\"{name} {tid} {mid} {sid}\\n\")\n",
    "\n",
    "out_file_probe = meta_path / Path(\"lfw_1N_probe_mixed.csv\")\n",
    "out_file_gallery = meta_path / Path(\"lfw_1N_gallery_G1.csv\")\n",
    "\n",
    "tids_probe = []\n",
    "sids_probe = []\n",
    "names_probe = []\n",
    "for probe_meta in known_probe_templates + unknown_probe_templates:\n",
    "    tids_probe.extend([probe_meta[1]] * len(probe_meta[0]))\n",
    "    sids_probe.extend([probe_meta[2]] * len(probe_meta[0]))\n",
    "    names_probe.extend([x.split(\"/\")[-1] for x in probe_meta[0]])\n",
    "\n",
    "tids_gallery = []\n",
    "sids_gallery = []\n",
    "names_gallery = []\n",
    "\n",
    "for gallery_meta in gallery_templates:\n",
    "    tids_gallery.extend([gallery_meta[1]] * len(gallery_meta[0]))\n",
    "    sids_gallery.extend([gallery_meta[2]] * len(gallery_meta[0]))\n",
    "    names_gallery.extend([x.split(\"/\")[-1] for x in gallery_meta[0]])\n",
    "\n",
    "assert len(tids_gallery) + len(tids_probe) == len(img_names)\n",
    "probe = pd.DataFrame(\n",
    "    {\n",
    "        \"TEMPLATE_ID\": tids_probe,\n",
    "        \"SUBJECT_ID\": sids_probe,\n",
    "        \"FILENAME\": names_probe,\n",
    "    }\n",
    ")\n",
    "gallery = pd.DataFrame(\n",
    "    {\n",
    "        \"TEMPLATE_ID\": tids_gallery,\n",
    "        \"SUBJECT_ID\": sids_gallery,\n",
    "        \"FILENAME\": names_gallery,\n",
    "    }\n",
    ")\n",
    "\n",
    "probe.to_csv(out_file_probe, sep=\",\", index=False)\n",
    "gallery.to_csv(out_file_gallery, sep=\",\", index=False)"
   ]
  },
  {
   "cell_type": "code",
   "execution_count": 75,
   "metadata": {},
   "outputs": [
    {
     "data": {
      "text/plain": [
       "(610, 610, 5139)"
      ]
     },
     "execution_count": 75,
     "metadata": {},
     "output_type": "execute_result"
    }
   ],
   "source": [
    "len(gallery_templates), len(known_probe_templates), len(unknown_probe_templates)"
   ]
  },
  {
   "cell_type": "code",
   "execution_count": null,
   "metadata": {},
   "outputs": [],
   "source": []
  }
 ],
 "metadata": {
  "kernelspec": {
   "display_name": "base",
   "language": "python",
   "name": "python3"
  },
  "language_info": {
   "codemirror_mode": {
    "name": "ipython",
    "version": 3
   },
   "file_extension": ".py",
   "mimetype": "text/x-python",
   "name": "python",
   "nbconvert_exporter": "python",
   "pygments_lexer": "ipython3",
   "version": "3.9.7"
  }
 },
 "nbformat": 4,
 "nbformat_minor": 2
}
