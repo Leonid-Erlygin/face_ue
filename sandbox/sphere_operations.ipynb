{
 "cells": [
  {
   "cell_type": "code",
   "execution_count": 9,
   "metadata": {},
   "outputs": [],
   "source": [
    "import scipy\n",
    "import numpy as np"
   ]
  },
  {
   "cell_type": "markdown",
   "metadata": {},
   "source": [
    "### Calculate n-Sphere survace area\n",
    "Survace of the sphere embedded in n-dimentional space is: \n",
    "$$\n",
    "S_{n-1}(R) = \\frac{2\\,\\pi^\\frac{n}{2}}{\\Gamma\\left(\\frac{n}{2}\\right)}R^{n-1}\n",
    "$$\n",
    "we have R=1\n",
    "$$\n",
    "\\log S_{n-1}(1) = \\log(2) + \\frac{n}{2}\\log\\pi - \\log \\Gamma\\left(\\frac{n}{2}\\right)\n",
    "$$"
   ]
  },
  {
   "cell_type": "code",
   "execution_count": 2,
   "metadata": {},
   "outputs": [
    {
     "data": {
      "text/plain": [
       "-867.9681031603942"
      ]
     },
     "execution_count": 2,
     "metadata": {},
     "output_type": "execute_result"
    }
   ],
   "source": [
    "n=512\n",
    "log_S = np.log(2) + (n/2)*np.log(np.pi) - scipy.special.loggamma(n/2)\n",
    "log_S"
   ]
  },
  {
   "cell_type": "code",
   "execution_count": 3,
   "metadata": {},
   "outputs": [
    {
     "name": "stdout",
     "output_type": "stream",
     "text": [
      ">>>> Reload from backup: /app/datasets/arcface_ijb/IJBC/backup.npz ...\n",
      ">>>> Reload from backup: /app/datasets/arcface_ijb/IJBC/gallery_prob_backup.npz ...\n",
      ">>>> Reload embeddings from: /app/datasets/arcface_ijb/IJBC/embeddings/scf_embs_IJBC.npz\n",
      ">>>> process_embeddings: Norm False, Detect_score True, Flip False\n",
      "Using detection score normalization\n"
     ]
    }
   ],
   "source": [
    "from omegaconf import OmegaConf\n",
    "from hydra.utils import instantiate\n",
    "from evaluation.ijb_evals import instantiate_list\n",
    "from evaluation.face_recognition_test import Face_Fecognition_test\n",
    "\n",
    "cfg = OmegaConf.load('/app/configs/uncertainty_benchmark/ijb_evals.yaml')\n",
    "\n",
    "# instantiate\n",
    "open_set_identification_metrics = instantiate_list(\n",
    "    cfg.open_set_identification_metrics\n",
    ")\n",
    "open_set_uncertainty_metrics = instantiate_list(cfg.open_set_uncertainty_metrics)\n",
    "closed_set_identification_metrics = instantiate_list(\n",
    "    cfg.closed_set_identification_metrics\n",
    ")\n",
    "verification_metrics = instantiate_list(cfg.verification_metrics)\n",
    "\n",
    "test_dataset = instantiate(cfg.test_dataset)\n",
    "\n",
    "methods = []\n",
    "method_types = []\n",
    "if \"open_set_identification_methods\" in cfg:\n",
    "    methods += cfg.open_set_identification_methods\n",
    "    method_types += [\"open_set_identification\"] * len(\n",
    "        cfg.open_set_identification_methods\n",
    "    )\n",
    "for method, method_type in zip(methods, method_types):\n",
    "    evaluation_function = instantiate(method.evaluation_function)\n",
    "    template_pooling = instantiate(method.template_pooling_strategy)\n",
    "    tt = Face_Fecognition_test(\n",
    "        evaluation_function=evaluation_function,\n",
    "        test_dataset=test_dataset,\n",
    "        embeddings_path=method.embeddings_path,\n",
    "        template_pooling_strategy=template_pooling,\n",
    "        use_detector_score=method.use_detector_score,\n",
    "        use_two_galleries=cfg.use_two_galleries,\n",
    "        recompute_template_pooling=cfg.recompute_template_pooling,\n",
    "        open_set_identification_metrics=open_set_identification_metrics,\n",
    "        closed_set_identification_metrics=closed_set_identification_metrics,\n",
    "        verification_metrics=verification_metrics,\n",
    "        open_set_uncertainty_metrics=open_set_uncertainty_metrics,\n",
    "    )"
   ]
  },
  {
   "cell_type": "code",
   "execution_count": 5,
   "metadata": {},
   "outputs": [
    {
     "name": "stdout",
     "output_type": "stream",
     "text": [
      "g1_templates_feature: (1772, 512)\n",
      "probe_templates_feature: (19593, 512)\n"
     ]
    }
   ],
   "source": [
    "(\n",
    "    g1_templates_feature,\n",
    "    g1_template_unc,\n",
    "    g1_unique_ids,\n",
    ") = tt.get_template_subsets(\n",
    "    tt.test_dataset.g1_templates, tt.test_dataset.g1_ids\n",
    ")\n",
    "print(\"g1_templates_feature:\", g1_templates_feature.shape)  # (1772, 512)\n",
    "\n",
    "(\n",
    "    probe_templates_feature,\n",
    "    probe_template_unc,\n",
    "    probe_unique_ids,\n",
    ") = tt.get_template_subsets(tt.test_dataset.probe_templates, tt.test_dataset.probe_ids)\n",
    "print(\"probe_templates_feature:\", probe_templates_feature.shape)  # (19593, 512)"
   ]
  },
  {
   "cell_type": "code",
   "execution_count": 28,
   "metadata": {},
   "outputs": [],
   "source": [
    "pos_id = 1\n",
    "neg_id = 28936\n",
    "pos_idx = np.where(probe_unique_ids == pos_id)[0][0]\n",
    "neq_idx = np.where(probe_unique_ids == neg_id)[0][0]\n",
    "positive_cosine_sim = probe_templates_feature[[pos_idx],:] @ g1_templates_feature.T\n",
    "negative_cosine_sim = probe_templates_feature[[neq_idx],:] @ g1_templates_feature.T"
   ]
  },
  {
   "cell_type": "code",
   "execution_count": 31,
   "metadata": {},
   "outputs": [
    {
     "data": {
      "text/plain": [
       "(0.695818168081169, 0.26441042146959054)"
      ]
     },
     "execution_count": 31,
     "metadata": {},
     "output_type": "execute_result"
    }
   ],
   "source": [
    "np.max(positive_cosine_sim), np.max(negative_cosine_sim)"
   ]
  },
  {
   "cell_type": "code",
   "execution_count": 37,
   "metadata": {},
   "outputs": [],
   "source": [
    "from scipy.special import ive, hyp0f1"
   ]
  },
  {
   "cell_type": "code",
   "execution_count": 42,
   "metadata": {},
   "outputs": [
    {
     "data": {
      "text/plain": [
       "14600.889158420143"
      ]
     },
     "execution_count": 42,
     "metadata": {},
     "output_type": "execute_result"
    }
   ],
   "source": [
    "hyp0f1(256, (100**2)/4)"
   ]
  },
  {
   "cell_type": "code",
   "execution_count": 84,
   "metadata": {},
   "outputs": [],
   "source": [
    "from scipy.special import ive, hyp0f1, loggamma\n",
    "def compute_log_z_prob(similarities, kappa, beta=0.5, n=256):\n",
    "    K = similarities.shape[1]\n",
    "    print(ive(n - 1, kappa))\n",
    "    log_iv = np.log(ive(n - 1, kappa)) + kappa\n",
    "    log_c = (n-1)*np.log(kappa) - n*np.log(2*np.pi) - log_iv\n",
    "    logit_sum = np.sum(np.exp(similarities * kappa), axis=1)*(1 - beta) / K\n",
    "    #print(f'Logit sum: {logit_sum}')\n",
    "    alpha_value = hyp0f1(n, kappa**2 / 4)\n",
    "    #print(f'Alpha value: {alpha_value}')\n",
    "    log_z_prob = log_c + np.log(logit_sum + alpha_value*beta)\n",
    "    #print(f'Log z prob: {log_z_prob}')\n",
    "    return log_z_prob\n",
    "\n",
    "def compute_uniform_aposteriory(similarities, kappa, beta=0.5, n=256):\n",
    "    # compute log z prob\n",
    "    log_z_prob = compute_log_z_prob(similarities, kappa, beta, n)\n",
    "    print(f'Log z prob: {log_z_prob}')\n",
    "    log_uniform_dencity = loggamma(n) - np.log(2) - n*np.log(np.pi)\n",
    "    print(f'Log uniform dencity: {log_uniform_dencity}')\n",
    "    log_beta = np.log(beta)\n",
    "    print(f'Log beta : {log_beta}')\n",
    "    log_prob = log_uniform_dencity + log_beta - log_z_prob\n",
    "    print(f'Log uniform prob: {log_prob}')\n",
    "    return log_prob\n"
   ]
  },
  {
   "cell_type": "code",
   "execution_count": 85,
   "metadata": {},
   "outputs": [
    {
     "data": {
      "text/plain": [
       "3.1780538303479458"
      ]
     },
     "execution_count": 85,
     "metadata": {},
     "output_type": "execute_result"
    }
   ],
   "source": [
    "loggamma(5)"
   ]
  },
  {
   "cell_type": "code",
   "execution_count": 90,
   "metadata": {},
   "outputs": [
    {
     "name": "stdout",
     "output_type": "stream",
     "text": [
      "1.950466804074554e-169\n",
      "Log z prob: [892.15604646]\n",
      "Log uniform dencity: 867.9681031603943\n",
      "Log beta : -0.6931471805599453\n",
      "Log uniform prob: [-24.88109048]\n"
     ]
    },
    {
     "data": {
      "text/plain": [
       "array([-24.88109048])"
      ]
     },
     "execution_count": 90,
     "metadata": {},
     "output_type": "execute_result"
    }
   ],
   "source": [
    "kappa = 50\n",
    "beta = 0.5\n",
    "n = probe_templates_feature.shape[1] / 2\n",
    "\n",
    "compute_uniform_aposteriory(positive_cosine_sim, kappa, beta, n)\n",
    "#compute_uniform_aposteriory(negative_cosine_sim, kappa, beta, n)"
   ]
  },
  {
   "cell_type": "code",
   "execution_count": 80,
   "metadata": {},
   "outputs": [
    {
     "name": "stdout",
     "output_type": "stream",
     "text": [
      "1.1199021188562076e-16\n",
      "Log z prob: [1015.35434411]\n",
      "Log uniform dencity: 867.9681031603943\n",
      "Log beta : -0.6931471805599453\n",
      "Log uniform prob: [-148.07938813]\n"
     ]
    },
    {
     "data": {
      "text/plain": [
       "array([-148.07938813])"
      ]
     },
     "execution_count": 80,
     "metadata": {},
     "output_type": "execute_result"
    }
   ],
   "source": [
    "kappa = 1000\n",
    "beta = 0.5\n",
    "n = probe_templates_feature.shape[1] / 2\n",
    "\n",
    "compute_uniform_aposteriory(positive_cosine_sim, kappa, beta, n)\n",
    "#compute_uniform_aposteriory(negative_cosine_sim, kappa, beta, n)"
   ]
  },
  {
   "cell_type": "code",
   "execution_count": null,
   "metadata": {},
   "outputs": [],
   "source": []
  },
  {
   "cell_type": "code",
   "execution_count": null,
   "metadata": {},
   "outputs": [],
   "source": []
  },
  {
   "cell_type": "code",
   "execution_count": null,
   "metadata": {},
   "outputs": [],
   "source": []
  }
 ],
 "metadata": {
  "kernelspec": {
   "display_name": "base",
   "language": "python",
   "name": "python3"
  },
  "language_info": {
   "codemirror_mode": {
    "name": "ipython",
    "version": 3
   },
   "file_extension": ".py",
   "mimetype": "text/x-python",
   "name": "python",
   "nbconvert_exporter": "python",
   "pygments_lexer": "ipython3",
   "version": "3.9.7"
  },
  "orig_nbformat": 4
 },
 "nbformat": 4,
 "nbformat_minor": 2
}
