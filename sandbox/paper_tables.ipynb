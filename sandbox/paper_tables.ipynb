{
 "cells": [
  {
   "cell_type": "code",
   "execution_count": 1,
   "metadata": {},
   "outputs": [],
   "source": [
    "import pandas as pd\n",
    "import numpy as np"
   ]
  },
  {
   "cell_type": "code",
   "execution_count": 2,
   "metadata": {},
   "outputs": [],
   "source": [
    "auc_df = pd.read_csv('/app/experiments/paper/filter_table/IJBC/open_set_identification/tabels/f1_class_auc_rejection.csv')"
   ]
  },
  {
   "cell_type": "code",
   "execution_count": 3,
   "metadata": {},
   "outputs": [],
   "source": [
    "new_auc_df_lines = []\n",
    "new_auc_df_columns = ['models'] + list(auc_df.columns[3:-1])\n",
    "aucs = []\n",
    "model_names = []\n",
    "for far, df in auc_df.groupby('far'):\n",
    "    new_auc_df_columns.append(f'FAR={far}')\n",
    "    aucs.append(list(df['auc']))\n",
    "    model_names = list(df['models'])\n",
    "aucs = np.array(aucs).T\n",
    "aucs = list(aucs)\n",
    "for model_name, auc in zip(model_names, aucs):\n",
    "    new_auc_df_lines.append([model_name, *auc.tolist()])\n",
    "new_auc_df = pd.DataFrame(new_auc_df_lines,columns =  new_auc_df_columns)"
   ]
  },
  {
   "cell_type": "code",
   "execution_count": 4,
   "metadata": {},
   "outputs": [
    {
     "data": {
      "text/html": [
       "<div>\n",
       "<style scoped>\n",
       "    .dataframe tbody tr th:only-of-type {\n",
       "        vertical-align: middle;\n",
       "    }\n",
       "\n",
       "    .dataframe tbody tr th {\n",
       "        vertical-align: top;\n",
       "    }\n",
       "\n",
       "    .dataframe thead th {\n",
       "        text-align: right;\n",
       "    }\n",
       "</style>\n",
       "<table border=\"1\" class=\"dataframe\">\n",
       "  <thead>\n",
       "    <tr style=\"text-align: right;\">\n",
       "      <th></th>\n",
       "      <th>models</th>\n",
       "      <th>FAR=0.005</th>\n",
       "      <th>FAR=0.01</th>\n",
       "      <th>FAR=0.05</th>\n",
       "      <th>FAR=0.1</th>\n",
       "    </tr>\n",
       "  </thead>\n",
       "  <tbody>\n",
       "    <tr>\n",
       "      <th>0</th>\n",
       "      <td>$u_{SCF}$</td>\n",
       "      <td>0.2939</td>\n",
       "      <td>0.2939</td>\n",
       "      <td>0.2898</td>\n",
       "      <td>0.2832</td>\n",
       "    </tr>\n",
       "    <tr>\n",
       "      <th>1</th>\n",
       "      <td>$u_{vMF}$</td>\n",
       "      <td>0.2951</td>\n",
       "      <td>0.2953</td>\n",
       "      <td>0.2941</td>\n",
       "      <td>0.2905</td>\n",
       "    </tr>\n",
       "    <tr>\n",
       "      <th>2</th>\n",
       "      <td>$u_{power}$</td>\n",
       "      <td>0.2950</td>\n",
       "      <td>0.2953</td>\n",
       "      <td>0.2941</td>\n",
       "      <td>0.2907</td>\n",
       "    </tr>\n",
       "    <tr>\n",
       "      <th>3</th>\n",
       "      <td>$u_{baseline}$</td>\n",
       "      <td>0.2951</td>\n",
       "      <td>0.2953</td>\n",
       "      <td>0.2940</td>\n",
       "      <td>0.2903</td>\n",
       "    </tr>\n",
       "    <tr>\n",
       "      <th>4</th>\n",
       "      <td>$u_{vMF} + u_{SCF}$</td>\n",
       "      <td>0.2952</td>\n",
       "      <td>0.2957</td>\n",
       "      <td>0.2943</td>\n",
       "      <td>0.2908</td>\n",
       "    </tr>\n",
       "    <tr>\n",
       "      <th>5</th>\n",
       "      <td>$u_{power} + u_{SCF}$</td>\n",
       "      <td>0.2958</td>\n",
       "      <td>0.2961</td>\n",
       "      <td>0.2945</td>\n",
       "      <td>0.2910</td>\n",
       "    </tr>\n",
       "    <tr>\n",
       "      <th>6</th>\n",
       "      <td>$u_{baseline} + u_{SCF}$</td>\n",
       "      <td>0.2958</td>\n",
       "      <td>0.2959</td>\n",
       "      <td>0.2944</td>\n",
       "      <td>0.2907</td>\n",
       "    </tr>\n",
       "  </tbody>\n",
       "</table>\n",
       "</div>"
      ],
      "text/plain": [
       "                     models  FAR=0.005  FAR=0.01  FAR=0.05  FAR=0.1\n",
       "0                 $u_{SCF}$     0.2939    0.2939    0.2898   0.2832\n",
       "1                 $u_{vMF}$     0.2951    0.2953    0.2941   0.2905\n",
       "2               $u_{power}$     0.2950    0.2953    0.2941   0.2907\n",
       "3            $u_{baseline}$     0.2951    0.2953    0.2940   0.2903\n",
       "4       $u_{vMF} + u_{SCF}$     0.2952    0.2957    0.2943   0.2908\n",
       "5     $u_{power} + u_{SCF}$     0.2958    0.2961    0.2945   0.2910\n",
       "6  $u_{baseline} + u_{SCF}$     0.2958    0.2959    0.2944   0.2907"
      ]
     },
     "execution_count": 4,
     "metadata": {},
     "output_type": "execute_result"
    }
   ],
   "source": [
    "new_auc_df"
   ]
  },
  {
   "cell_type": "code",
   "execution_count": null,
   "metadata": {},
   "outputs": [],
   "source": []
  },
  {
   "cell_type": "markdown",
   "metadata": {},
   "source": [
    "### Template pooling"
   ]
  },
  {
   "cell_type": "code",
   "execution_count": 5,
   "metadata": {},
   "outputs": [],
   "source": [
    "from pathlib import Path\n",
    "import pandas as pd\n",
    "import numpy as np\n",
    "from evaluation.visualize import (\n",
    "    plot_dir_far_scores,\n",
    "    plot_cmc_scores,\n",
    "    plot_rejection_scores,\n",
    ")\n",
    "out_dir = Path('/app/experiments/paper/template_aggregation_plot/IJBC/open_set_identification')\n",
    "tables_path = out_dir / \"tabels\"\n",
    "far_table = pd.read_csv(tables_path / \"far_rejection.csv\")\n",
    "dir_table = pd.read_csv(tables_path / \"dir_rejection.csv\")\n",
    "\n",
    "y_label = \"Detection $&$ Identification rate\"\n",
    "\n",
    "model_to_points = {}\n",
    "for model_name, far_value, dir_value in zip(\n",
    "    far_table.models, far_table[\"0.0\"], dir_table[\"0.0\"]\n",
    "):\n",
    "    if model_name in model_to_points:\n",
    "        model_to_points[model_name].append([far_value, dir_value])\n",
    "    else:\n",
    "        model_to_points[model_name] = [[far_value, dir_value]]\n",
    "    # if \"SCF\" in model_name:\n",
    "    #     scores[0].append([far_value, dir_value])\n",
    "    # else:\n",
    "    #     scores[1].append([far_value, dir_value])\n",
    "# scores[0] = np.array(scores[0]).T\n",
    "# scores[1] = np.array(scores[1]).T\n"
   ]
  },
  {
   "cell_type": "code",
   "execution_count": 6,
   "metadata": {},
   "outputs": [
    {
     "data": {
      "text/plain": [
       "[[0.0999697672074977, 0.9633919338159256],\n",
       " [0.0498841076287413, 0.9600827300930712]]"
      ]
     },
     "execution_count": 6,
     "metadata": {},
     "output_type": "execute_result"
    }
   ],
   "source": [
    "model_to_points['$u_{SCF}$']"
   ]
  },
  {
   "cell_type": "code",
   "execution_count": 7,
   "metadata": {},
   "outputs": [
    {
     "name": "stdout",
     "output_type": "stream",
     "text": [
      "$u_{SCF}$ [[0.0999697672074977, 0.9633919338159256], [0.0498841076287413, 0.9600827300930712]]\n",
      "$u_{vMF} + u_{SCF}$ [[0.0984581275823843, 0.9627714581178904], [0.0499848836037488, 0.9578076525336092]]\n"
     ]
    }
   ],
   "source": [
    "names = []\n",
    "scores = []\n",
    "for model_name, points in model_to_points.items():\n",
    "    names.append(model_name)\n",
    "    scores.append(np.array(points).T)\n",
    "    print(model_name, points)\n",
    "scores = np.array(scores)\n",
    "# scores = scores.T"
   ]
  },
  {
   "cell_type": "code",
   "execution_count": 8,
   "metadata": {},
   "outputs": [
    {
     "data": {
      "text/plain": [
       "1"
      ]
     },
     "execution_count": 8,
     "metadata": {},
     "output_type": "execute_result"
    }
   ],
   "source": [
    "1"
   ]
  },
  {
   "cell_type": "code",
   "execution_count": 9,
   "metadata": {},
   "outputs": [
    {
     "data": {
      "text/plain": [
       "['$u_{SCF}$', '$u_{vMF} + u_{SCF}$']"
      ]
     },
     "execution_count": 9,
     "metadata": {},
     "output_type": "execute_result"
    }
   ],
   "source": [
    "names"
   ]
  },
  {
   "cell_type": "code",
   "execution_count": 10,
   "metadata": {},
   "outputs": [
    {
     "data": {
      "image/png": "[encoded data removed]",
      "text/plain": [
       "<Figure size 640x480 with 1 Axes>"
      ]
     },
     "metadata": {},
     "output_type": "display_data"
    }
   ],
   "source": [
    "fig = plot_dir_far_scores(scores, names, y_label, marker=\".\")"
   ]
  },
  {
   "cell_type": "code",
   "execution_count": 11,
   "metadata": {},
   "outputs": [
    {
     "ename": "NameError",
     "evalue": "name 'plt' is not defined",
     "output_type": "error",
     "traceback": [
      "\u001b[0;31m---------------------------------------------------------------------------\u001b[0m",
      "\u001b[0;31mNameError\u001b[0m                                 Traceback (most recent call last)",
      "\u001b[1;32m/app/sandbox/paper_tables.ipynb Cell 13\u001b[0m line \u001b[0;36m3\n\u001b[1;32m      <a href='vscode-notebook-cell://attached-container%2B7b22636f6e7461696e65724e616d65223a222f666163655f6576616c5f6e6577227d@ssh-remote%2B10.16.88.88/app/sandbox/paper_tables.ipynb#X11sdnNjb2RlLXJlbW90ZQ%3D%3D?line=0'>1</a>\u001b[0m fig\u001b[39m.\u001b[39msavefig(out_dir \u001b[39m/\u001b[39m \u001b[39mf\u001b[39m\u001b[39m\"\u001b[39m\u001b[39mpool.png\u001b[39m\u001b[39m\"\u001b[39m, dpi\u001b[39m=\u001b[39m\u001b[39m300\u001b[39m)\n\u001b[0;32m----> <a href='vscode-notebook-cell://attached-container%2B7b22636f6e7461696e65724e616d65223a222f666163655f6576616c5f6e6577227d@ssh-remote%2B10.16.88.88/app/sandbox/paper_tables.ipynb#X11sdnNjb2RlLXJlbW90ZQ%3D%3D?line=2'>3</a>\u001b[0m plt\u001b[39m.\u001b[39mclose(fig)\n",
      "\u001b[0;31mNameError\u001b[0m: name 'plt' is not defined"
     ]
    }
   ],
   "source": [
    "\n",
    "fig.savefig(out_dir / f\"pool.png\", dpi=300)\n",
    "\n",
    "plt.close(fig)"
   ]
  }
 ],
 "metadata": {
  "kernelspec": {
   "display_name": "base",
   "language": "python",
   "name": "python3"
  },
  "language_info": {
   "codemirror_mode": {
    "name": "ipython",
    "version": 3
   },
   "file_extension": ".py",
   "mimetype": "text/x-python",
   "name": "python",
   "nbconvert_exporter": "python",
   "pygments_lexer": "ipython3",
   "version": "3.9.7"
  }
 },
 "nbformat": 4,
 "nbformat_minor": 2
}
