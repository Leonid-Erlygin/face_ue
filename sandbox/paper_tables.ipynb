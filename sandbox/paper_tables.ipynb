{
 "cells": [
  {
   "cell_type": "code",
   "execution_count": 53,
   "metadata": {},
   "outputs": [],
   "source": [
    "import pandas as pd\n",
    "import numpy as np"
   ]
  },
  {
   "cell_type": "code",
   "execution_count": 54,
   "metadata": {},
   "outputs": [],
   "source": [
    "auc_df = pd.read_csv('/app/experiments/paper/filter_table/IJBC/open_set_identification/tabels/f1_class_auc_rejection.csv')"
   ]
  },
  {
   "cell_type": "code",
   "execution_count": 55,
   "metadata": {},
   "outputs": [],
   "source": [
    "new_auc_df_lines = []\n",
    "new_auc_df_columns = ['models'] + list(auc_df.columns[3:-1])\n",
    "aucs = []\n",
    "model_names = []\n",
    "for far, df in auc_df.groupby('far'):\n",
    "    new_auc_df_columns.append(f'FAR={far}')\n",
    "    aucs.append(list(df['auc']))\n",
    "    model_names = list(df['models'])\n",
    "aucs = np.array(aucs).T\n",
    "aucs = list(aucs)\n",
    "for model_name, auc in zip(model_names, aucs):\n",
    "    new_auc_df_lines.append([model_name, *auc.tolist()])\n",
    "new_auc_df = pd.DataFrame(new_auc_df_lines,columns =  new_auc_df_columns)"
   ]
  },
  {
   "cell_type": "code",
   "execution_count": 56,
   "metadata": {},
   "outputs": [
    {
     "data": {
      "text/html": [
       "<div>\n",
       "<style scoped>\n",
       "    .dataframe tbody tr th:only-of-type {\n",
       "        vertical-align: middle;\n",
       "    }\n",
       "\n",
       "    .dataframe tbody tr th {\n",
       "        vertical-align: top;\n",
       "    }\n",
       "\n",
       "    .dataframe thead th {\n",
       "        text-align: right;\n",
       "    }\n",
       "</style>\n",
       "<table border=\"1\" class=\"dataframe\">\n",
       "  <thead>\n",
       "    <tr style=\"text-align: right;\">\n",
       "      <th></th>\n",
       "      <th>models</th>\n",
       "      <th>FAR=0.005</th>\n",
       "      <th>FAR=0.01</th>\n",
       "      <th>FAR=0.05</th>\n",
       "      <th>FAR=0.1</th>\n",
       "    </tr>\n",
       "  </thead>\n",
       "  <tbody>\n",
       "    <tr>\n",
       "      <th>0</th>\n",
       "      <td>$u_{SCF}$</td>\n",
       "      <td>0.2939</td>\n",
       "      <td>0.2939</td>\n",
       "      <td>0.2898</td>\n",
       "      <td>0.2832</td>\n",
       "    </tr>\n",
       "    <tr>\n",
       "      <th>1</th>\n",
       "      <td>$u_{vMF}$</td>\n",
       "      <td>0.2951</td>\n",
       "      <td>0.2953</td>\n",
       "      <td>0.2941</td>\n",
       "      <td>0.2905</td>\n",
       "    </tr>\n",
       "    <tr>\n",
       "      <th>2</th>\n",
       "      <td>$u_{power}$</td>\n",
       "      <td>0.2950</td>\n",
       "      <td>0.2953</td>\n",
       "      <td>0.2941</td>\n",
       "      <td>0.2907</td>\n",
       "    </tr>\n",
       "    <tr>\n",
       "      <th>3</th>\n",
       "      <td>$u_{baseline}$</td>\n",
       "      <td>0.2951</td>\n",
       "      <td>0.2953</td>\n",
       "      <td>0.2940</td>\n",
       "      <td>0.2903</td>\n",
       "    </tr>\n",
       "    <tr>\n",
       "      <th>4</th>\n",
       "      <td>$u_{vMF} + u_{SCF}$</td>\n",
       "      <td>0.2952</td>\n",
       "      <td>0.2957</td>\n",
       "      <td>0.2943</td>\n",
       "      <td>0.2908</td>\n",
       "    </tr>\n",
       "    <tr>\n",
       "      <th>5</th>\n",
       "      <td>$u_{power} + u_{SCF}$</td>\n",
       "      <td>0.2958</td>\n",
       "      <td>0.2961</td>\n",
       "      <td>0.2945</td>\n",
       "      <td>0.2910</td>\n",
       "    </tr>\n",
       "    <tr>\n",
       "      <th>6</th>\n",
       "      <td>$u_{baseline} + u_{SCF}$</td>\n",
       "      <td>0.2958</td>\n",
       "      <td>0.2959</td>\n",
       "      <td>0.2944</td>\n",
       "      <td>0.2907</td>\n",
       "    </tr>\n",
       "  </tbody>\n",
       "</table>\n",
       "</div>"
      ],
      "text/plain": [
       "                     models  FAR=0.005  FAR=0.01  FAR=0.05  FAR=0.1\n",
       "0                 $u_{SCF}$     0.2939    0.2939    0.2898   0.2832\n",
       "1                 $u_{vMF}$     0.2951    0.2953    0.2941   0.2905\n",
       "2               $u_{power}$     0.2950    0.2953    0.2941   0.2907\n",
       "3            $u_{baseline}$     0.2951    0.2953    0.2940   0.2903\n",
       "4       $u_{vMF} + u_{SCF}$     0.2952    0.2957    0.2943   0.2908\n",
       "5     $u_{power} + u_{SCF}$     0.2958    0.2961    0.2945   0.2910\n",
       "6  $u_{baseline} + u_{SCF}$     0.2958    0.2959    0.2944   0.2907"
      ]
     },
     "execution_count": 56,
     "metadata": {},
     "output_type": "execute_result"
    }
   ],
   "source": [
    "new_auc_df"
   ]
  },
  {
   "cell_type": "code",
   "execution_count": null,
   "metadata": {},
   "outputs": [],
   "source": []
  }
 ],
 "metadata": {
  "kernelspec": {
   "display_name": "base",
   "language": "python",
   "name": "python3"
  },
  "language_info": {
   "codemirror_mode": {
    "name": "ipython",
    "version": 3
   },
   "file_extension": ".py",
   "mimetype": "text/x-python",
   "name": "python",
   "nbconvert_exporter": "python",
   "pygments_lexer": "ipython3",
   "version": "3.9.7"
  }
 },
 "nbformat": 4,
 "nbformat_minor": 2
}
