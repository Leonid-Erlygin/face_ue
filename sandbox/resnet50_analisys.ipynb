{
 "cells": [
  {
   "cell_type": "code",
   "execution_count": 23,
   "metadata": {},
   "outputs": [],
   "source": [
    "from face_lib.models.lightning_wrappers import ResNet\n",
    "from face_lib.models.iresnet import IBasicBlock, conv1x1\n",
    "from face_lib.models.heads import make_scf_layer\n",
    "import torch"
   ]
  },
  {
   "cell_type": "code",
   "execution_count": 2,
   "metadata": {},
   "outputs": [
    {
     "name": "stderr",
     "output_type": "stream",
     "text": [
      "/app/face_lib/models/lightning_wrappers.py:39: FutureWarning: You are using `torch.load` with `weights_only=False` (the current default value), which uses the default pickle module implicitly. It is possible to construct malicious pickle data which will execute arbitrary code during unpickling (See https://github.com/pytorch/pytorch/blob/main/SECURITY.md#untrusted-models for more details). In a future release, the default value for `weights_only` will be flipped to `True`. This limits the functions that could be executed during unpickling. Arbitrary objects will no longer be allowed to be loaded via this mode unless they are explicitly allowlisted by the user via `torch.serialization.add_safe_globals`. We recommend you start setting `weights_only=True` for any use case where you don't have full control of the loaded file. Please open an issue on GitHub for any issues related to this experimental feature.\n",
      "  backbone_dict = torch.load(weights, map_location=torch.device('cpu'))\n"
     ]
    }
   ],
   "source": [
    "resnet = ResNet(\n",
    "    resnet_name=\"iresnet50_normalized\",\n",
    "    weights=\"/app/model_weights/backbone/ms1mv3_arcface_r50/backbone.pth\",\n",
    "    learnable=False,\n",
    "    use_cpu=True,\n",
    ")"
   ]
  },
  {
   "cell_type": "code",
   "execution_count": 10,
   "metadata": {},
   "outputs": [],
   "source": [
    "x = torch.zeros(1, 3, 112, 112)\n",
    "x = resnet.backbone.conv1(x)\n",
    "x = resnet.backbone.bn1(x)\n",
    "x = resnet.backbone.prelu(x)\n",
    "layer1_out = resnet.backbone.layer1(x)\n",
    "layer2_out = resnet.backbone.layer2(layer1_out)\n",
    "layer3_out = resnet.backbone.layer3(layer2_out)"
   ]
  },
  {
   "cell_type": "code",
   "execution_count": 12,
   "metadata": {},
   "outputs": [
    {
     "data": {
      "text/plain": [
       "(torch.Size([1, 64, 56, 56]),\n",
       " torch.Size([1, 128, 28, 28]),\n",
       " torch.Size([1, 256, 14, 14]))"
      ]
     },
     "execution_count": 12,
     "metadata": {},
     "output_type": "execute_result"
    }
   ],
   "source": [
    "layer1_out.shape, layer2_out.shape, layer3_out.shape"
   ]
  },
  {
   "cell_type": "code",
   "execution_count": 37,
   "metadata": {},
   "outputs": [],
   "source": [
    "layers = [4, 4, 4, 4]"
   ]
  },
  {
   "cell_type": "code",
   "execution_count": 38,
   "metadata": {},
   "outputs": [],
   "source": [
    "from torch import nn"
   ]
  },
  {
   "cell_type": "code",
   "execution_count": 39,
   "metadata": {},
   "outputs": [],
   "source": [
    "scf_layer1 = make_scf_layer(IBasicBlock, 64, 32, layers[0], stride=2)\n",
    "scf_layer2 = make_scf_layer(IBasicBlock, 32, 32, layers[1], stride=2)\n",
    "scf_layer3 = make_scf_layer(IBasicBlock, 32, 32, layers[2], stride=2)\n",
    "scf_layer4 = make_scf_layer(IBasicBlock, 32, 32, layers[3], stride=2)\n",
    "bn2 = nn.BatchNorm2d(\n",
    "    512,\n",
    "    eps=1e-05,\n",
    ")\n",
    "fc = nn.Linear(512, 1)\n",
    "x = torch.flatten(x, 1)\n",
    "bn3 = nn.BatchNorm1d(512, eps=1e-05)\n",
    "\n",
    "scf_head = nn.Sequential(*[scf_layer1, scf_layer2, scf_layer3, scf_layer4])"
   ]
  },
  {
   "cell_type": "code",
   "execution_count": 40,
   "metadata": {},
   "outputs": [],
   "source": [
    "from torchsummary import summary"
   ]
  },
  {
   "cell_type": "code",
   "execution_count": 42,
   "metadata": {},
   "outputs": [],
   "source": [
    "# summary(scf_head, [64, 56, 56], device=torch.device('cpu'))"
   ]
  },
  {
   "cell_type": "code",
   "execution_count": null,
   "metadata": {},
   "outputs": [],
   "source": []
  },
  {
   "cell_type": "code",
   "execution_count": 26,
   "metadata": {},
   "outputs": [],
   "source": [
    "# scf_layer1_out = scf_layer1(layer1_out)\n",
    "# scf_layer2_out = scf_layer2(scf_layer1_out)\n",
    "# scf_layer3_out = scf_layer3(scf_layer2_out)"
   ]
  },
  {
   "cell_type": "code",
   "execution_count": 30,
   "metadata": {},
   "outputs": [],
   "source": [
    "scf_head_out = scf_head(layer1_out)"
   ]
  },
  {
   "cell_type": "code",
   "execution_count": 31,
   "metadata": {},
   "outputs": [
    {
     "data": {
      "text/plain": [
       "torch.Size([1, 32, 4, 4])"
      ]
     },
     "execution_count": 31,
     "metadata": {},
     "output_type": "execute_result"
    }
   ],
   "source": [
    "scf_head_out.shape"
   ]
  },
  {
   "cell_type": "code",
   "execution_count": null,
   "metadata": {},
   "outputs": [],
   "source": []
  }
 ],
 "metadata": {
  "kernelspec": {
   "display_name": "base",
   "language": "python",
   "name": "python3"
  },
  "language_info": {
   "codemirror_mode": {
    "name": "ipython",
    "version": 3
   },
   "file_extension": ".py",
   "mimetype": "text/x-python",
   "name": "python",
   "nbconvert_exporter": "python",
   "pygments_lexer": "ipython3",
   "version": "3.9.7"
  }
 },
 "nbformat": 4,
 "nbformat_minor": 2
}
