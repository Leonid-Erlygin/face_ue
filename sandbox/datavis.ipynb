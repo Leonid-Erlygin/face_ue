{
 "cells": [
  {
   "cell_type": "code",
   "execution_count": 2,
   "metadata": {},
   "outputs": [],
   "source": [
    "import pandas as pd\n",
    "from pathlib import Path\n",
    "from IPython.display import Image, display"
   ]
  },
  {
   "cell_type": "code",
   "execution_count": 1,
   "metadata": {},
   "outputs": [
    {
     "data": {
      "text/plain": [
       "'1.10.2'"
      ]
     },
     "execution_count": 1,
     "metadata": {},
     "output_type": "execute_result"
    }
   ],
   "source": [
    "import torch\n",
    "torch.__version__"
   ]
  },
  {
   "cell_type": "code",
   "execution_count": 3,
   "metadata": {},
   "outputs": [],
   "source": [
    "import numpy as np\n",
    "\n",
    "a = np.array([[1, 2, 3, 4, 5]])\n",
    "I = np.identity(5)"
   ]
  },
  {
   "cell_type": "code",
   "execution_count": 17,
   "metadata": {},
   "outputs": [
    {
     "name": "stdout",
     "output_type": "stream",
     "text": [
      "3\n",
      "6\n"
     ]
    }
   ],
   "source": [
    "d = {'a': 3, 'b':6}\n",
    "for t in d.values():\n",
    "    print (t)"
   ]
  },
  {
   "cell_type": "code",
   "execution_count": 7,
   "metadata": {},
   "outputs": [
    {
     "ename": "ValueError",
     "evalue": "All dimensions of input must be of equal length",
     "output_type": "error",
     "traceback": [
      "\u001b[0;31m---------------------------------------------------------------------------\u001b[0m",
      "\u001b[0;31mValueError\u001b[0m                                Traceback (most recent call last)",
      "Cell \u001b[0;32mIn[7], line 1\u001b[0m\n\u001b[0;32m----> 1\u001b[0m np\u001b[39m.\u001b[39;49mdiag_indices_from(a)\n",
      "File \u001b[0;32m<__array_function__ internals>:5\u001b[0m, in \u001b[0;36mdiag_indices_from\u001b[0;34m(*args, **kwargs)\u001b[0m\n",
      "File \u001b[0;32m~/miniconda/lib/python3.9/site-packages/numpy/lib/index_tricks.py:1001\u001b[0m, in \u001b[0;36mdiag_indices_from\u001b[0;34m(arr)\u001b[0m\n\u001b[1;32m    998\u001b[0m \u001b[39m# For more than d=2, the strided formula is only valid for arrays with\u001b[39;00m\n\u001b[1;32m    999\u001b[0m \u001b[39m# all dimensions equal, so we check first.\u001b[39;00m\n\u001b[1;32m   1000\u001b[0m \u001b[39mif\u001b[39;00m \u001b[39mnot\u001b[39;00m alltrue(diff(arr\u001b[39m.\u001b[39mshape) \u001b[39m==\u001b[39m \u001b[39m0\u001b[39m):\n\u001b[0;32m-> 1001\u001b[0m     \u001b[39mraise\u001b[39;00m \u001b[39mValueError\u001b[39;00m(\u001b[39m\"\u001b[39m\u001b[39mAll dimensions of input must be of equal length\u001b[39m\u001b[39m\"\u001b[39m)\n\u001b[1;32m   1003\u001b[0m \u001b[39mreturn\u001b[39;00m diag_indices(arr\u001b[39m.\u001b[39mshape[\u001b[39m0\u001b[39m], arr\u001b[39m.\u001b[39mndim)\n",
      "\u001b[0;31mValueError\u001b[0m: All dimensions of input must be of equal length"
     ]
    }
   ],
   "source": [
    "np.diag_indices_from(a)"
   ]
  },
  {
   "cell_type": "code",
   "execution_count": 11,
   "metadata": {},
   "outputs": [],
   "source": [
    "np.fill_diagonal(I, a)"
   ]
  },
  {
   "cell_type": "code",
   "execution_count": 14,
   "metadata": {},
   "outputs": [
    {
     "data": {
      "text/plain": [
       "array([[1, 0, 0, 0, 0],\n",
       "       [0, 2, 0, 0, 0],\n",
       "       [0, 0, 3, 0, 0],\n",
       "       [0, 0, 0, 4, 0],\n",
       "       [0, 0, 0, 0, 5]])"
      ]
     },
     "execution_count": 14,
     "metadata": {},
     "output_type": "execute_result"
    }
   ],
   "source": [
    "np.diag(a[0])"
   ]
  },
  {
   "cell_type": "code",
   "execution_count": 12,
   "metadata": {},
   "outputs": [
    {
     "data": {
      "text/plain": [
       "array([[1., 0., 0., 0., 0.],\n",
       "       [0., 2., 0., 0., 0.],\n",
       "       [0., 0., 3., 0., 0.],\n",
       "       [0., 0., 0., 4., 0.],\n",
       "       [0., 0., 0., 0., 5.]])"
      ]
     },
     "execution_count": 12,
     "metadata": {},
     "output_type": "execute_result"
    }
   ],
   "source": [
    "I"
   ]
  },
  {
   "cell_type": "code",
   "execution_count": 3,
   "metadata": {},
   "outputs": [],
   "source": [
    "enroll_templates = pd.read_csv('../data/test1/enroll_templates.csv')\n",
    "verif_templates = pd.read_csv('../data/test1/verif_templates.csv')\n",
    "pairs = pd.read_csv('../data/test1/cropped_matches.csv', header=None).to_numpy()"
   ]
  },
  {
   "cell_type": "code",
   "execution_count": 5,
   "metadata": {},
   "outputs": [
    {
     "data": {
      "text/plain": [
       "array([[     1,  11065],\n",
       "       [     1,  11066],\n",
       "       [     1,  11067],\n",
       "       ...,\n",
       "       [171650, 187642],\n",
       "       [171650, 187643],\n",
       "       [171650, 187644]])"
      ]
     },
     "execution_count": 5,
     "metadata": {},
     "output_type": "execute_result"
    }
   ],
   "source": [
    "pairs"
   ]
  },
  {
   "cell_type": "code",
   "execution_count": 4,
   "metadata": {},
   "outputs": [
    {
     "data": {
      "text/plain": [
       "1019000"
      ]
     },
     "execution_count": 4,
     "metadata": {},
     "output_type": "execute_result"
    }
   ],
   "source": [
    "len(pairs)"
   ]
  },
  {
   "cell_type": "code",
   "execution_count": 24,
   "metadata": {},
   "outputs": [
    {
     "data": {
      "text/html": [
       "<div>\n",
       "<style scoped>\n",
       "    .dataframe tbody tr th:only-of-type {\n",
       "        vertical-align: middle;\n",
       "    }\n",
       "\n",
       "    .dataframe tbody tr th {\n",
       "        vertical-align: top;\n",
       "    }\n",
       "\n",
       "    .dataframe thead th {\n",
       "        text-align: right;\n",
       "    }\n",
       "</style>\n",
       "<table border=\"1\" class=\"dataframe\">\n",
       "  <thead>\n",
       "    <tr style=\"text-align: right;\">\n",
       "      <th></th>\n",
       "      <th>TEMPLATE_ID</th>\n",
       "      <th>SUBJECT_ID</th>\n",
       "      <th>FILENAME</th>\n",
       "      <th>FACE_X</th>\n",
       "      <th>FACE_Y</th>\n",
       "      <th>FACE_WIDTH</th>\n",
       "      <th>FACE_HEIGHT</th>\n",
       "    </tr>\n",
       "  </thead>\n",
       "  <tbody>\n",
       "    <tr>\n",
       "      <th>0</th>\n",
       "      <td>11065</td>\n",
       "      <td>1</td>\n",
       "      <td>frames/175312.png</td>\n",
       "      <td>206</td>\n",
       "      <td>83</td>\n",
       "      <td>86</td>\n",
       "      <td>96</td>\n",
       "    </tr>\n",
       "    <tr>\n",
       "      <th>1</th>\n",
       "      <td>11065</td>\n",
       "      <td>1</td>\n",
       "      <td>frames/189228.png</td>\n",
       "      <td>154</td>\n",
       "      <td>53</td>\n",
       "      <td>58</td>\n",
       "      <td>77</td>\n",
       "    </tr>\n",
       "    <tr>\n",
       "      <th>2</th>\n",
       "      <td>11065</td>\n",
       "      <td>1</td>\n",
       "      <td>frames/192578.png</td>\n",
       "      <td>123</td>\n",
       "      <td>79</td>\n",
       "      <td>33</td>\n",
       "      <td>36</td>\n",
       "    </tr>\n",
       "    <tr>\n",
       "      <th>3</th>\n",
       "      <td>11065</td>\n",
       "      <td>1</td>\n",
       "      <td>frames/192586.png</td>\n",
       "      <td>389</td>\n",
       "      <td>98</td>\n",
       "      <td>61</td>\n",
       "      <td>60</td>\n",
       "    </tr>\n",
       "    <tr>\n",
       "      <th>4</th>\n",
       "      <td>11065</td>\n",
       "      <td>1</td>\n",
       "      <td>frames/193264.png</td>\n",
       "      <td>159</td>\n",
       "      <td>96</td>\n",
       "      <td>53</td>\n",
       "      <td>57</td>\n",
       "    </tr>\n",
       "    <tr>\n",
       "      <th>...</th>\n",
       "      <td>...</td>\n",
       "      <td>...</td>\n",
       "      <td>...</td>\n",
       "      <td>...</td>\n",
       "      <td>...</td>\n",
       "      <td>...</td>\n",
       "      <td>...</td>\n",
       "    </tr>\n",
       "    <tr>\n",
       "      <th>457514</th>\n",
       "      <td>187955</td>\n",
       "      <td>28936</td>\n",
       "      <td>frames/386082.png</td>\n",
       "      <td>480</td>\n",
       "      <td>171</td>\n",
       "      <td>230</td>\n",
       "      <td>264</td>\n",
       "    </tr>\n",
       "    <tr>\n",
       "      <th>457515</th>\n",
       "      <td>187955</td>\n",
       "      <td>28936</td>\n",
       "      <td>frames/362821.png</td>\n",
       "      <td>489</td>\n",
       "      <td>151</td>\n",
       "      <td>203</td>\n",
       "      <td>272</td>\n",
       "    </tr>\n",
       "    <tr>\n",
       "      <th>457516</th>\n",
       "      <td>187955</td>\n",
       "      <td>28936</td>\n",
       "      <td>frames/374305.png</td>\n",
       "      <td>465</td>\n",
       "      <td>143</td>\n",
       "      <td>222</td>\n",
       "      <td>257</td>\n",
       "    </tr>\n",
       "    <tr>\n",
       "      <th>457517</th>\n",
       "      <td>187955</td>\n",
       "      <td>28936</td>\n",
       "      <td>frames/431799.png</td>\n",
       "      <td>436</td>\n",
       "      <td>143</td>\n",
       "      <td>229</td>\n",
       "      <td>267</td>\n",
       "    </tr>\n",
       "    <tr>\n",
       "      <th>457518</th>\n",
       "      <td>187955</td>\n",
       "      <td>28936</td>\n",
       "      <td>frames/408323.png</td>\n",
       "      <td>441</td>\n",
       "      <td>138</td>\n",
       "      <td>231</td>\n",
       "      <td>270</td>\n",
       "    </tr>\n",
       "  </tbody>\n",
       "</table>\n",
       "<p>457519 rows × 7 columns</p>\n",
       "</div>"
      ],
      "text/plain": [
       "        TEMPLATE_ID  SUBJECT_ID           FILENAME  FACE_X  FACE_Y  \\\n",
       "0             11065           1  frames/175312.png     206      83   \n",
       "1             11065           1  frames/189228.png     154      53   \n",
       "2             11065           1  frames/192578.png     123      79   \n",
       "3             11065           1  frames/192586.png     389      98   \n",
       "4             11065           1  frames/193264.png     159      96   \n",
       "...             ...         ...                ...     ...     ...   \n",
       "457514       187955       28936  frames/386082.png     480     171   \n",
       "457515       187955       28936  frames/362821.png     489     151   \n",
       "457516       187955       28936  frames/374305.png     465     143   \n",
       "457517       187955       28936  frames/431799.png     436     143   \n",
       "457518       187955       28936  frames/408323.png     441     138   \n",
       "\n",
       "        FACE_WIDTH  FACE_HEIGHT  \n",
       "0               86           96  \n",
       "1               58           77  \n",
       "2               33           36  \n",
       "3               61           60  \n",
       "4               53           57  \n",
       "...            ...          ...  \n",
       "457514         230          264  \n",
       "457515         203          272  \n",
       "457516         222          257  \n",
       "457517         229          267  \n",
       "457518         231          270  \n",
       "\n",
       "[457519 rows x 7 columns]"
      ]
     },
     "execution_count": 24,
     "metadata": {},
     "output_type": "execute_result"
    }
   ],
   "source": [
    "verif_templates"
   ]
  },
  {
   "cell_type": "code",
   "execution_count": 20,
   "metadata": {},
   "outputs": [
    {
     "data": {
      "text/plain": [
       "3531"
      ]
     },
     "execution_count": 20,
     "metadata": {},
     "output_type": "execute_result"
    }
   ],
   "source": [
    "len(enroll_templates.groupby(['SUBJECT_ID']))"
   ]
  },
  {
   "cell_type": "code",
   "execution_count": 21,
   "metadata": {},
   "outputs": [
    {
     "data": {
      "text/plain": [
       "3531"
      ]
     },
     "execution_count": 21,
     "metadata": {},
     "output_type": "execute_result"
    }
   ],
   "source": [
    "len(verif_templates.groupby(['SUBJECT_ID']))"
   ]
  },
  {
   "cell_type": "code",
   "execution_count": 19,
   "metadata": {},
   "outputs": [
    {
     "data": {
      "image/jpeg": "[encoded data removed]",
      "text/plain": [
       "<IPython.core.display.Image object>"
      ]
     },
     "metadata": {},
     "output_type": "display_data"
    },
    {
     "name": "stdout",
     "output_type": "stream",
     "text": [
      "/app/data/big/1/img_116262.jpg\n"
     ]
    },
    {
     "data": {
      "image/jpeg": "[encoded data removed]",
      "text/plain": [
       "<IPython.core.display.Image object>"
      ]
     },
     "metadata": {},
     "output_type": "display_data"
    },
    {
     "name": "stdout",
     "output_type": "stream",
     "text": [
      "/app/data/big/1/img_4702.jpg\n"
     ]
    },
    {
     "data": {
      "image/jpeg": "[encoded data removed]",
      "text/plain": [
       "<IPython.core.display.Image object>"
      ]
     },
     "metadata": {},
     "output_type": "display_data"
    },
    {
     "name": "stdout",
     "output_type": "stream",
     "text": [
      "/app/data/big/1/img_2597.jpg\n"
     ]
    },
    {
     "data": {
      "image/jpeg": "[encoded data removed]",
      "text/plain": [
       "<IPython.core.display.Image object>"
      ]
     },
     "metadata": {},
     "output_type": "display_data"
    },
    {
     "name": "stdout",
     "output_type": "stream",
     "text": [
      "/app/data/big/1/img_2416.jpg\n"
     ]
    },
    {
     "data": {
      "image/jpeg": "[encoded data removed]",
      "text/plain": [
       "<IPython.core.display.Image object>"
      ]
     },
     "metadata": {},
     "output_type": "display_data"
    },
    {
     "name": "stdout",
     "output_type": "stream",
     "text": [
      "/app/data/big/1/img_5127.jpg\n"
     ]
    },
    {
     "data": {
      "image/jpeg": "[encoded data removed]",
      "text/plain": [
       "<IPython.core.display.Image object>"
      ]
     },
     "metadata": {},
     "output_type": "display_data"
    },
    {
     "name": "stdout",
     "output_type": "stream",
     "text": [
      "/app/data/big/1/img_116526.jpg\n"
     ]
    },
    {
     "data": {
      "image/jpeg": "[encoded data removed]",
      "text/plain": [
       "<IPython.core.display.Image object>"
      ]
     },
     "metadata": {},
     "output_type": "display_data"
    },
    {
     "name": "stdout",
     "output_type": "stream",
     "text": [
      "/app/data/big/1/img_3905.jpg\n",
      "   TEMPLATE_ID  SUBJECT_ID        FILENAME  FACE_X  FACE_Y  FACE_WIDTH  \\\n",
      "0            1           1  img/116262.jpg     268      32          40   \n",
      "1            1           1    img/4702.jpg      93      84          76   \n",
      "2            1           1    img/2597.jpg      68      63         138   \n",
      "3            1           1    img/2416.jpg      32      25         119   \n",
      "4            1           1    img/5127.jpg     159      36          56   \n",
      "5            1           1  img/116526.jpg    2211     699         337   \n",
      "6            1           1    img/3905.jpg      99      40         112   \n",
      "\n",
      "   FACE_HEIGHT  \n",
      "0           47  \n",
      "1          100  \n",
      "2          166  \n",
      "3          149  \n",
      "4           75  \n",
      "5          380  \n",
      "6          146  \n"
     ]
    }
   ],
   "source": [
    "images_root = Path('/app/data/big')\n",
    "for id,template in enroll_templates.groupby(['SUBJECT_ID']):\n",
    "    for file_name in template['FILENAME']:\n",
    "        image_path = images_root / str(id) / file_name.replace('/', '_')\n",
    "        display(Image(filename=image_path))\n",
    "        print(image_path)\n",
    "    print(template)\n",
    "    break\n"
   ]
  },
  {
   "cell_type": "code",
   "execution_count": null,
   "metadata": {},
   "outputs": [],
   "source": []
  }
 ],
 "metadata": {
  "kernelspec": {
   "display_name": "base",
   "language": "python",
   "name": "python3"
  },
  "language_info": {
   "codemirror_mode": {
    "name": "ipython",
    "version": 3
   },
   "file_extension": ".py",
   "mimetype": "text/x-python",
   "name": "python",
   "nbconvert_exporter": "python",
   "pygments_lexer": "ipython3",
   "version": "3.9.7"
  },
  "orig_nbformat": 4
 },
 "nbformat": 4,
 "nbformat_minor": 2
}
