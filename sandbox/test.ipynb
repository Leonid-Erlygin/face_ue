{
 "cells": [
  {
   "cell_type": "code",
   "execution_count": 2,
   "metadata": {},
   "outputs": [],
   "source": [
    "import numpy as np\n",
    "import multiprocessing\n",
    "import ctypes"
   ]
  },
  {
   "cell_type": "code",
   "execution_count": 3,
   "metadata": {},
   "outputs": [],
   "source": [
    "A = np.array(\n",
    "    [\n",
    "        [[1, 2], [4, 5]],\n",
    "        [[0, 2], [1, 6]],\n",
    "    ]\n",
    "    ,dtype=np.float32\n",
    ")"
   ]
  },
  {
   "cell_type": "code",
   "execution_count": 10,
   "metadata": {},
   "outputs": [
    {
     "data": {
      "text/plain": [
       "dtype('float64')"
      ]
     },
     "execution_count": 10,
     "metadata": {},
     "output_type": "execute_result"
    }
   ],
   "source": [
    "A = A.astype(np.float64)\n",
    "A.dtype"
   ]
  },
  {
   "cell_type": "code",
   "execution_count": 11,
   "metadata": {},
   "outputs": [
    {
     "data": {
      "text/plain": [
       "array([[[1., 2.],\n",
       "        [4., 5.]],\n",
       "\n",
       "       [[0., 2.],\n",
       "        [1., 6.]]])"
      ]
     },
     "execution_count": 11,
     "metadata": {},
     "output_type": "execute_result"
    }
   ],
   "source": [
    "A"
   ]
  },
  {
   "cell_type": "code",
   "execution_count": 7,
   "metadata": {},
   "outputs": [
    {
     "data": {
      "text/plain": [
       "finfo(resolution=1e-15, min=-1.7976931348623157e+308, max=1.7976931348623157e+308, dtype=float64)"
      ]
     },
     "execution_count": 7,
     "metadata": {},
     "output_type": "execute_result"
    }
   ],
   "source": [
    "np.finfo(np.float64)"
   ]
  },
  {
   "cell_type": "code",
   "execution_count": 29,
   "metadata": {},
   "outputs": [
    {
     "name": "stdout",
     "output_type": "stream",
     "text": [
      "140650840592080 140650840592080 140650840592080 140650840592080 \n",
      "\n",
      "\n",
      "\n",
      "140650840592080 140650840592080 140650840592080 140650840592080 \n",
      "\n",
      "\n",
      "[[0. 0. 0. 0. 0. 0. 0. 0. 0. 0.]\n",
      " [1. 1. 1. 1. 1. 1. 1. 1. 1. 1.]\n",
      " [2. 2. 2. 2. 2. 2. 2. 2. 2. 2.]\n",
      " [3. 3. 3. 3. 3. 3. 3. 3. 3. 3.]\n",
      " [4. 4. 4. 4. 4. 4. 4. 4. 4. 4.]\n",
      " [5. 5. 5. 5. 5. 5. 5. 5. 5. 5.]\n",
      " [6. 6. 6. 6. 6. 6. 6. 6. 6. 6.]\n",
      " [7. 7. 7. 7. 7. 7. 7. 7. 7. 7.]\n",
      " [8. 8. 8. 8. 8. 8. 8. 8. 8. 8.]\n",
      " [9. 9. 9. 9. 9. 9. 9. 9. 9. 9.]]\n",
      "\n",
      "140650840592080 140650840592080 \n",
      "\n"
     ]
    }
   ],
   "source": [
    "shared_array_base = multiprocessing.Array(ctypes.c_double, 10 * 10)\n",
    "a_ilj_final = np.ctypeslib.as_array(shared_array_base.get_obj())\n",
    "a_ilj_final = a_ilj_final.reshape(10, 10)\n",
    "\n",
    "\n",
    "# -- edited 2015-05-01: the assert check below checks the wrong thing\n",
    "#   with recent versions of Numpy/multiprocessing. That no copy is made\n",
    "#   is indicated by the fact that the program prints the output shown below.\n",
    "## No copy was made\n",
    "##assert shared_array.base.base is shared_array_base.get_obj()\n",
    "\n",
    "\n",
    "def my_func(i, def_param=a_ilj_final, param=A):\n",
    "    a_ilj_final[i, :] = i\n",
    "    print(id(A))\n",
    "\n",
    "\n",
    "if __name__ == \"__main__\":\n",
    "    pool = multiprocessing.Pool(processes=4)\n",
    "    pool.map(my_func, range(10))\n",
    "\n",
    "    print(a_ilj_final)"
   ]
  },
  {
   "cell_type": "code",
   "execution_count": 48,
   "metadata": {},
   "outputs": [
    {
     "name": "stderr",
     "output_type": "stream",
     "text": [
      "  0%|          | 0/2 [00:00<?, ?it/s]/tmp/ipykernel_32159/3613483182.py:12: RuntimeWarning: divide by zero encountered in log\n",
      "  ) ** 2 / sigma[np.newaxis, np.newaxis, :, k] + np.log(sigma)[\n",
      "/tmp/ipykernel_32159/3613483182.py:10: RuntimeWarning: divide by zero encountered in true_divide\n",
      "  a_ilj = (\n",
      "/tmp/ipykernel_32159/3613483182.py:12: RuntimeWarning: divide by zero encountered in log\n",
      "  ) ** 2 / sigma[np.newaxis, np.newaxis, :, k] + np.log(sigma)[\n",
      "/tmp/ipykernel_32159/3613483182.py:10: RuntimeWarning: invalid value encountered in add\n",
      "  a_ilj = (\n",
      "100%|██████████| 2/2 [00:00<00:00, 141.64it/s]\n"
     ]
    }
   ],
   "source": [
    "from tqdm import tqdm\n",
    "from multiprocessing import Pool\n",
    "from functools import partial\n",
    "\n",
    "\n",
    "class DefaultPfe:\n",
    "    def __init__(self, T=1, sigma_shift=0) -> None:\n",
    "        self.T = T\n",
    "        self.sigma_shift = sigma_shift\n",
    "\n",
    "    @staticmethod\n",
    "    def per_dim_computation(k, mu, sigma, z, a_ilj_final):\n",
    "        a_ilj = (\n",
    "            z[:, :, np.newaxis, k] - mu[np.newaxis, np.newaxis, :, k]\n",
    "        ) ** 2 / sigma[np.newaxis, np.newaxis, :, k] + np.log(sigma)[\n",
    "            np.newaxis, np.newaxis, :, k\n",
    "        ]\n",
    "        np.add(a_ilj_final, a_ilj, out=a_ilj_final)\n",
    "\n",
    "    def __call__(self, mu, sigma, z):\n",
    "\n",
    "        a_ilj_final = np.zeros(shape=z.shape[:-1] + mu.shape[:-1])  # placeholder\n",
    "        shared_array_base = multiprocessing.Array(\n",
    "            ctypes.c_double, int(np.multiply.reduce(list(z.shape[:-1] + mu.shape[:-1])))\n",
    "        )\n",
    "        a_ilj_final = np.ctypeslib.as_array(shared_array_base.get_obj())\n",
    "        a_ilj_final = a_ilj_final.reshape(z.shape[:-1] + mu.shape[:-1])\n",
    "\n",
    "        num_dims = mu.shape[1]\n",
    "        sigma = sigma + self.sigma_shift\n",
    "        with Pool(4) as pool_fc:\n",
    "            for _ in tqdm(\n",
    "                pool_fc.imap_unordered(\n",
    "                    partial(\n",
    "                        self.per_dim_computation,\n",
    "                        mu=mu,\n",
    "                        sigma=sigma,\n",
    "                        z=z,\n",
    "                        a_ilj_final=a_ilj_final,\n",
    "                    ),\n",
    "                    range(num_dims),\n",
    "                ),\n",
    "                total=len(range(num_dims)),\n",
    "            ):\n",
    "                pass\n",
    "\n",
    "        return -0.5 * a_ilj_final / self.T\n",
    "\n",
    "\n",
    "fpe = DefaultPfe(1, 0)\n",
    "a = fpe(A, A, A)"
   ]
  },
  {
   "cell_type": "code",
   "execution_count": 49,
   "metadata": {},
   "outputs": [
    {
     "data": {
      "text/plain": [
       "(2, 2, 2, 2)"
      ]
     },
     "execution_count": 49,
     "metadata": {},
     "output_type": "execute_result"
    }
   ],
   "source": [
    "a.shape"
   ]
  },
  {
   "cell_type": "code",
   "execution_count": 33,
   "metadata": {},
   "outputs": [
    {
     "ename": "NameError",
     "evalue": "name 'z' is not defined",
     "output_type": "error",
     "traceback": [
      "\u001b[0;31m---------------------------------------------------------------------------\u001b[0m",
      "\u001b[0;31mNameError\u001b[0m                                 Traceback (most recent call last)",
      "Cell \u001b[0;32mIn[33], line 1\u001b[0m\n\u001b[0;32m----> 1\u001b[0m np\u001b[39m.\u001b[39mmultiply(z\u001b[39m.\u001b[39mshape[:\u001b[39m-\u001b[39m\u001b[39m1\u001b[39m] \u001b[39m+\u001b[39m mu\u001b[39m.\u001b[39mshape[:\u001b[39m-\u001b[39m\u001b[39m1\u001b[39m])\n",
      "\u001b[0;31mNameError\u001b[0m: name 'z' is not defined"
     ]
    }
   ],
   "source": [
    "np.multiply(z.shape[:-1] + mu.shape[:-1])"
   ]
  },
  {
   "cell_type": "code",
   "execution_count": null,
   "metadata": {},
   "outputs": [],
   "source": []
  }
 ],
 "metadata": {
  "kernelspec": {
   "display_name": "base",
   "language": "python",
   "name": "python3"
  },
  "language_info": {
   "codemirror_mode": {
    "name": "ipython",
    "version": 3
   },
   "file_extension": ".py",
   "mimetype": "text/x-python",
   "name": "python",
   "nbconvert_exporter": "python",
   "pygments_lexer": "ipython3",
   "version": "3.9.7"
  },
  "orig_nbformat": 4
 },
 "nbformat": 4,
 "nbformat_minor": 2
}
