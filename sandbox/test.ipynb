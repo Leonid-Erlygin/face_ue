{
 "cells": [
  {
   "cell_type": "code",
   "execution_count": 19,
   "metadata": {},
   "outputs": [],
   "source": [
    "import numpy as np\n",
    "import multiprocessing\n",
    "import ctypes"
   ]
  },
  {
   "cell_type": "code",
   "execution_count": 20,
   "metadata": {},
   "outputs": [],
   "source": [
    "A = np.array([\n",
    "    [\n",
    "    [1, 2, 3],\n",
    "    [4, 5, 6]\n",
    "    ],\n",
    "    [\n",
    "    [0, 2, 3],\n",
    "    [1, 6, 8]\n",
    "    ],\n",
    "])"
   ]
  },
  {
   "cell_type": "code",
   "execution_count": 24,
   "metadata": {},
   "outputs": [
    {
     "ename": "TypeError",
     "evalue": "Array() missing 1 required positional argument: 'size_or_initializer'",
     "output_type": "error",
     "traceback": [
      "\u001b[0;31m---------------------------------------------------------------------------\u001b[0m",
      "\u001b[0;31mTypeError\u001b[0m                                 Traceback (most recent call last)",
      "Cell \u001b[0;32mIn[24], line 4\u001b[0m\n\u001b[1;32m      2\u001b[0m a_ilj_final \u001b[39m=\u001b[39m np\u001b[39m.\u001b[39mctypeslib\u001b[39m.\u001b[39mas_array(shared_array_base\u001b[39m.\u001b[39mget_obj())\n\u001b[1;32m      3\u001b[0m a_ilj_final \u001b[39m=\u001b[39m a_ilj_final\u001b[39m.\u001b[39mreshape(\u001b[39m10\u001b[39m, \u001b[39m10\u001b[39m)\n\u001b[0;32m----> 4\u001b[0m A_shared \u001b[39m=\u001b[39m multiprocessing\u001b[39m.\u001b[39;49mArray(A)\n\u001b[1;32m      5\u001b[0m \u001b[39m#-- edited 2015-05-01: the assert check below checks the wrong thing\u001b[39;00m\n\u001b[1;32m      6\u001b[0m \u001b[39m#   with recent versions of Numpy/multiprocessing. That no copy is made\u001b[39;00m\n\u001b[1;32m      7\u001b[0m \u001b[39m#   is indicated by the fact that the program prints the output shown below.\u001b[39;00m\n\u001b[1;32m      8\u001b[0m \u001b[39m## No copy was made\u001b[39;00m\n\u001b[1;32m      9\u001b[0m \u001b[39m##assert shared_array.base.base is shared_array_base.get_obj()\u001b[39;00m\n\u001b[1;32m     11\u001b[0m \u001b[39mdef\u001b[39;00m \u001b[39mmy_func\u001b[39m(i, def_param\u001b[39m=\u001b[39ma_ilj_final):\n",
      "\u001b[0;31mTypeError\u001b[0m: Array() missing 1 required positional argument: 'size_or_initializer'"
     ]
    }
   ],
   "source": [
    "shared_array_base = multiprocessing.Array(ctypes.c_double, 10*10)\n",
    "a_ilj_final = np.ctypeslib.as_array(shared_array_base.get_obj())\n",
    "a_ilj_final = a_ilj_final.reshape(10, 10)\n",
    "\n",
    "A_shared = multiprocessing.Array(A)\n",
    "#-- edited 2015-05-01: the assert check below checks the wrong thing\n",
    "#   with recent versions of Numpy/multiprocessing. That no copy is made\n",
    "#   is indicated by the fact that the program prints the output shown below.\n",
    "## No copy was made\n",
    "##assert shared_array.base.base is shared_array_base.get_obj()\n",
    "\n",
    "def my_func(i, def_param=a_ilj_final):\n",
    "    a_ilj_final[i,:] = i\n",
    "\n",
    "if __name__ == '__main__':\n",
    "    pool = multiprocessing.Pool(processes=4)\n",
    "    pool.map(my_func, range(10))\n",
    "\n",
    "    print(shared_array)"
   ]
  },
  {
   "cell_type": "code",
   "execution_count": null,
   "metadata": {},
   "outputs": [],
   "source": []
  }
 ],
 "metadata": {
  "kernelspec": {
   "display_name": "base",
   "language": "python",
   "name": "python3"
  },
  "language_info": {
   "codemirror_mode": {
    "name": "ipython",
    "version": 3
   },
   "file_extension": ".py",
   "mimetype": "text/x-python",
   "name": "python",
   "nbconvert_exporter": "python",
   "pygments_lexer": "ipython3",
   "version": "3.9.7"
  },
  "orig_nbformat": 4
 },
 "nbformat": 4,
 "nbformat_minor": 2
}
