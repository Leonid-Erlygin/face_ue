{
 "cells": [
  {
   "cell_type": "code",
   "execution_count": 2,
   "metadata": {},
   "outputs": [],
   "source": [
    "import scipy\n",
    "import numpy as np"
   ]
  },
  {
   "cell_type": "markdown",
   "metadata": {},
   "source": [
    "### Calculate n-Sphere survace area\n",
    "Survace of the sphere embedded in n-dimentional space is: \n",
    "$$\n",
    "S_{n-1}(R) = \\frac{2\\,\\pi^\\frac{n}{2}}{\\Gamma\\left(\\frac{n}{2}\\right)}R^{n-1}\n",
    "$$\n",
    "we have R=1\n",
    "$$\n",
    "\\log S_{n-1}(1) = \\log(2) + \\frac{n}{2}\\log\\pi - \\log \\Gamma\\left(\\frac{n}{2}\\right)\n",
    "$$"
   ]
  },
  {
   "cell_type": "code",
   "execution_count": 11,
   "metadata": {},
   "outputs": [
    {
     "data": {
      "text/plain": [
       "-867.9681031603942"
      ]
     },
     "execution_count": 11,
     "metadata": {},
     "output_type": "execute_result"
    }
   ],
   "source": [
    "n=512\n",
    "log_S = np.log(2) + (n/2)*np.log(np.pi) - scipy.special.loggamma(n/2)\n",
    "log_S"
   ]
  },
  {
   "cell_type": "code",
   "execution_count": null,
   "metadata": {},
   "outputs": [],
   "source": []
  }
 ],
 "metadata": {
  "kernelspec": {
   "display_name": "base",
   "language": "python",
   "name": "python3"
  },
  "language_info": {
   "codemirror_mode": {
    "name": "ipython",
    "version": 3
   },
   "file_extension": ".py",
   "mimetype": "text/x-python",
   "name": "python",
   "nbconvert_exporter": "python",
   "pygments_lexer": "ipython3",
   "version": "3.9.7"
  },
  "orig_nbformat": 4
 },
 "nbformat": 4,
 "nbformat_minor": 2
}
