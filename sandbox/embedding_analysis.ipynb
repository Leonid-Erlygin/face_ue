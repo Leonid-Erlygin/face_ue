{
 "cells": [
  {
   "cell_type": "code",
   "execution_count": 1,
   "metadata": {},
   "outputs": [],
   "source": [
    "%load_ext autoreload\n",
    "%autoreload 2\n",
    "\n",
    "import sys\n",
    "path = '/app'\n",
    "sys.path.insert(1, path)\n",
    "\n",
    "from pathlib import Path\n",
    "import pickle\n",
    "from tqdm import tqdm\n",
    "import numpy as np\n",
    "from face_lib.datasets import IJBDataset, IJBATest, IJBCTemplates\n",
    "from face_lib.evaluation.aggregation import aggregate_templates"
   ]
  },
  {
   "cell_type": "code",
   "execution_count": 32,
   "metadata": {},
   "outputs": [],
   "source": [
    "K = 3\n",
    "D = 2\n",
    "n = 2\n",
    "num_z_samples = 1\n",
    "z = np.array(\n",
    "    [[1, 2],\n",
    "     [3, 4],\n",
    "    ]\n",
    ")\n",
    "sigma = np.array(\n",
    "    [\n",
    "    [3, 5],\n",
    "    [2, 1],\n",
    "    [4, 3]\n",
    "    ]\n",
    ")\n",
    "mu = np.array(\n",
    "    [[-2, 1],\n",
    "     [1, 1],\n",
    "     [2, 2]]\n",
    ")\n",
    "z = z[:,np.newaxis,:]"
   ]
  },
  {
   "cell_type": "code",
   "execution_count": 33,
   "metadata": {},
   "outputs": [
    {
     "name": "stderr",
     "output_type": "stream",
     "text": [
      "100%|██████████| 2/2 [00:00<00:00, 9974.56it/s]\n"
     ]
    }
   ],
   "source": [
    "from face_lib.probability.likelihoods import default_pfe_likelihood, default_pfe_likelihood_slow\n",
    "\n",
    "a_1 = default_pfe_likelihood(mu, sigma, z)* -2\n",
    "a_2 = default_pfe_likelihood_slow(mu, sigma, z) * -2"
   ]
  },
  {
   "cell_type": "code",
   "execution_count": 34,
   "metadata": {},
   "outputs": [
    {
     "data": {
      "text/plain": [
       "array([[ 5.9080502 ,  1.69314718,  2.73490665],\n",
       "       [12.84138353, 11.69314718,  4.06823998]])"
      ]
     },
     "execution_count": 34,
     "metadata": {},
     "output_type": "execute_result"
    }
   ],
   "source": [
    "a_1[:,0,:]"
   ]
  },
  {
   "cell_type": "code",
   "execution_count": 35,
   "metadata": {},
   "outputs": [
    {
     "data": {
      "text/plain": [
       "array([[ 5.9080502 ,  1.69314718,  2.73490665],\n",
       "       [12.84138353, 11.69314718,  4.06823998]])"
      ]
     },
     "execution_count": 35,
     "metadata": {},
     "output_type": "execute_result"
    }
   ],
   "source": [
    "a_2[:,0,:]"
   ]
  },
  {
   "cell_type": "code",
   "execution_count": 53,
   "metadata": {},
   "outputs": [
    {
     "name": "stderr",
     "output_type": "stream",
     "text": [
      "100%|██████████| 10/10 [00:18<00:00,  1.81s/it]\n"
     ]
    },
    {
     "data": {
      "text/plain": [
       "True"
      ]
     },
     "execution_count": 53,
     "metadata": {},
     "output_type": "execute_result"
    }
   ],
   "source": [
    "z = np.random.rand(19467, 1, 10)\n",
    "mu = np.random.rand(3497, 10)\n",
    "sigma = np.random.rand(3497, 10)\n",
    "\n",
    "a_1 = default_pfe_likelihood(mu, sigma, z)* -2\n",
    "a_2 = default_pfe_likelihood_slow(mu, sigma, z) * -2\n",
    "\n",
    "np.allclose(a_1, a_2)"
   ]
  },
  {
   "cell_type": "code",
   "execution_count": 55,
   "metadata": {},
   "outputs": [],
   "source": [
    "cache_dir = '/app/cache'\n",
    "uncertainty_strategy = 'head'\n",
    "dataset_path = \"/app/data/big\"\n",
    "protocol_path = \"/app/data/test1\"\n",
    "\n",
    "testset = IJBDataset(dataset_path)\n",
    "image_paths = testset[\"abspath\"].values\n",
    "\n",
    "features_path = Path(cache_dir) / f\"{uncertainty_strategy}_features.pickle\"\n",
    "uncertainty_path = (\n",
    "    Path(cache_dir) / f\"{uncertainty_strategy}_uncertainty.pickle\"\n",
    ")\n",
    "\n",
    "with open(features_path, \"rb\") as f:\n",
    "    feature_dict = pickle.load(f)\n",
    "with open(uncertainty_path, \"rb\") as f:\n",
    "    uncertainty_dict = pickle.load(f)\n"
   ]
  },
  {
   "cell_type": "code",
   "execution_count": 56,
   "metadata": {},
   "outputs": [],
   "source": [
    "tester = IJBCTemplates(image_paths, feature_dict, uncertainty_dict)\n",
    "tester.init_proto(protocol_path)\n",
    "\n",
    "aggregate_templates(tester.enroll_templates(), 'PFE')\n",
    "aggregate_templates(tester.verification_templates(), \"first\")"
   ]
  },
  {
   "attachments": {},
   "cell_type": "markdown",
   "metadata": {},
   "source": [
    "\n",
    "\n",
    "Cosine distance:\n",
    "\\begin{equation*}\n",
    "    a^{ijl} = \\sum_{k=1}^d\\left[(z^{il}_k\\cdot\\hat{\\mu}^j_k)\\right]\n",
    "\\end{equation*}\n",
    "Default PFE:\n",
    "\\begin{equation*}\n",
    "    a^{ijl} = -\\frac{1}{2}\\sum_{k=1}^d\\left[(z^{il}_k-\\hat{\\mu}^j_k)^2\\frac{1}{{\\hat{\\sigma}^j_k}^2} +\\log{\\hat{\\sigma}^j_k}^2\\right]\n",
    "\\end{equation*}\n",
    "\n",
    "\\begin{equation*}\n",
    "    a^{ijl} = -\\frac{1}{2}\\sum_{k=1}^d\\left[\\left(\\frac{z^{il}_k}{\\hat{\\sigma}^j_k} -\\frac{\\hat{\\mu}^j_k}{\\hat{\\sigma}^j_k}\\right)^2 +\\log{\\hat{\\sigma}^j_k}^2\\right]\n",
    "\\end{equation*}\n",
    "\n",
    "Cosine PFE:\n",
    "\\begin{equation*}\n",
    "    a^{ijl} = \\frac{1}{2}\\sum_{k=1}^d\\left[(z^{il}_k\\cdot\\hat{\\mu}^j_k)\\frac{1}{{\\hat{\\sigma}^j_k}^2} \\cancel{-\\log{\\hat{\\sigma}^j_k}^2}\\right]\n",
    "\\end{equation*}\n",
    "\n"
   ]
  },
  {
   "cell_type": "code",
   "execution_count": 4,
   "metadata": {},
   "outputs": [],
   "source": [
    "from multiprocessing import Pool\n",
    "class Compute_scores:\n",
    "    def __init__(self, mus) -> None:\n",
    "        self.mus = mus\n",
    "    def __call__(self, data_piece):\n",
    "        mu, sigma_sq = data_piece\n",
    "        enroll_template_sigma_sqrt = np.sqrt(sigma_sq)\n",
    "        log_sigma_sum = np.log(sigma_sq).sum()\n",
    "        z_dist_to_mu = []\n",
    "        z_dist_to_mu_over_sigma = []\n",
    "        for mu_ver in self.mus:\n",
    "            z_dist_to_mu.append(np.linalg.norm(mu_ver - mu)**2)\n",
    "            z_dist_to_mu_over_sigma.append(np.linalg.norm((mu_ver - mu)/enroll_template_sigma_sqrt)**2)\n",
    "        return log_sigma_sum, z_dist_to_mu, z_dist_to_mu_over_sigma\n",
    "\n",
    "enroll_data = [(t.mu, t.sigma_sq) for t in tester.enroll_templates()]\n",
    "mus = [t.mu for t in tester.verification_templates()]\n",
    "compute_scores = Compute_scores(mus)\n",
    "with Pool(20) as pool_fc:\n",
    "    data = pool_fc.map(compute_scores, enroll_data)"
   ]
  },
  {
   "cell_type": "code",
   "execution_count": 8,
   "metadata": {},
   "outputs": [],
   "source": [
    "z_dist_to_mu = []\n",
    "log_sigma_sum = []\n",
    "z_dist_to_mu_over_sigma = []\n",
    "\n",
    "for t in data:\n",
    "    log_sigma_sum.append(t[0])\n",
    "    z_dist_to_mu += t[1]\n",
    "    z_dist_to_mu_over_sigma+=t[2]"
   ]
  },
  {
   "cell_type": "code",
   "execution_count": 21,
   "metadata": {},
   "outputs": [],
   "source": [
    "sigma_sq = []\n",
    "for t in enroll_data:\n",
    "    sigma_sq.append(t[1])"
   ]
  },
  {
   "cell_type": "code",
   "execution_count": 22,
   "metadata": {},
   "outputs": [],
   "source": [
    "z_dist_to_mu = np.array(z_dist_to_mu)\n",
    "log_sigma_sum = np.array(log_sigma_sum)\n",
    "z_dist_to_mu_over_sigma = np.array(z_dist_to_mu_over_sigma)\n",
    "sigma_sq = np.array(sigma_sq)"
   ]
  },
  {
   "cell_type": "code",
   "execution_count": 16,
   "metadata": {},
   "outputs": [
    {
     "data": {
      "text/plain": [
       "(1.9950265130518914, 0.1360088922879119)"
      ]
     },
     "execution_count": 16,
     "metadata": {},
     "output_type": "execute_result"
    }
   ],
   "source": [
    "z_dist_to_mu.mean(), z_dist_to_mu.std()"
   ]
  },
  {
   "cell_type": "code",
   "execution_count": 19,
   "metadata": {},
   "outputs": [
    {
     "data": {
      "text/plain": [
       "(-3727.7708, 192.98286)"
      ]
     },
     "execution_count": 19,
     "metadata": {},
     "output_type": "execute_result"
    }
   ],
   "source": [
    "log_sigma_sum.mean(), log_sigma_sum.std()"
   ]
  },
  {
   "cell_type": "code",
   "execution_count": 20,
   "metadata": {},
   "outputs": [
    {
     "data": {
      "text/plain": [
       "(3094.800804568953, 1107.134084335944)"
      ]
     },
     "execution_count": 20,
     "metadata": {},
     "output_type": "execute_result"
    }
   ],
   "source": [
    "z_dist_to_mu_over_sigma.mean(), z_dist_to_mu_over_sigma.std()"
   ]
  },
  {
   "cell_type": "code",
   "execution_count": 23,
   "metadata": {},
   "outputs": [
    {
     "data": {
      "text/plain": [
       "(0.00074784114, 0.0003429491)"
      ]
     },
     "execution_count": 23,
     "metadata": {},
     "output_type": "execute_result"
    }
   ],
   "source": [
    "sigma_sq.mean(), sigma_sq.std()"
   ]
  },
  {
   "cell_type": "code",
   "execution_count": 57,
   "metadata": {},
   "outputs": [
    {
     "name": "stderr",
     "output_type": "stream",
     "text": [
      "100%|██████████| 19467/19467 [00:00<00:00, 411694.34it/s]\n"
     ]
    }
   ],
   "source": [
    "z = []  # n x num_z_samples x 512\n",
    "sigma = []  # K x 512\n",
    "mu = []  # K x 512\n",
    "\n",
    "# sample z's for each query image\n",
    "for query_template in tqdm(tester.verification_templates()):\n",
    "    z_samples = []\n",
    "    z_samples.append(query_template.mu)\n",
    "    z.append(z_samples)\n",
    "z = np.array(z)\n",
    "for enroll_template in tester.enroll_templates():\n",
    "    sigma.append(enroll_template.sigma_sq)\n",
    "    mu.append(enroll_template.mu)\n",
    "sigma = np.array(sigma)\n",
    "mu = np.array(mu)"
   ]
  },
  {
   "cell_type": "code",
   "execution_count": 112,
   "metadata": {},
   "outputs": [],
   "source": [
    "sigma = sigma / (np.min(sigma))"
   ]
  },
  {
   "cell_type": "code",
   "execution_count": 113,
   "metadata": {},
   "outputs": [
    {
     "data": {
      "text/plain": [
       "1.0"
      ]
     },
     "execution_count": 113,
     "metadata": {},
     "output_type": "execute_result"
    }
   ],
   "source": [
    "# norm_sigma\n",
    "np.min(sigma)"
   ]
  },
  {
   "cell_type": "code",
   "execution_count": 114,
   "metadata": {},
   "outputs": [
    {
     "data": {
      "text/plain": [
       "4.948837"
      ]
     },
     "execution_count": 114,
     "metadata": {},
     "output_type": "execute_result"
    }
   ],
   "source": [
    "sigma.mean()"
   ]
  },
  {
   "cell_type": "code",
   "execution_count": 115,
   "metadata": {},
   "outputs": [
    {
     "data": {
      "text/plain": [
       "29.736185"
      ]
     },
     "execution_count": 115,
     "metadata": {},
     "output_type": "execute_result"
    }
   ],
   "source": [
    "np.max(sigma)"
   ]
  },
  {
   "cell_type": "code",
   "execution_count": 116,
   "metadata": {},
   "outputs": [
    {
     "name": "stderr",
     "output_type": "stream",
     "text": [
      "100%|██████████| 512/512 [00:02<00:00, 203.95it/s]\n"
     ]
    },
    {
     "data": {
      "text/plain": [
       "True"
      ]
     },
     "execution_count": 116,
     "metadata": {},
     "output_type": "execute_result"
    }
   ],
   "source": [
    "z_range = [22, 44,566,444, 19466]\n",
    "a_1 = default_pfe_likelihood(mu, sigma, z[z_range])* -2\n",
    "a_2 = default_pfe_likelihood_slow(mu, sigma, z[z_range]) * -2\n",
    "\n",
    "np.allclose(a_1, a_2)"
   ]
  },
  {
   "cell_type": "code",
   "execution_count": 117,
   "metadata": {},
   "outputs": [
    {
     "data": {
      "text/plain": [
       "777.0017"
      ]
     },
     "execution_count": 117,
     "metadata": {},
     "output_type": "execute_result"
    }
   ],
   "source": [
    "a_1.mean()"
   ]
  },
  {
   "cell_type": "code",
   "execution_count": 118,
   "metadata": {},
   "outputs": [],
   "source": [
    "diff = np.abs(a_1 - a_2)[:,0,:]"
   ]
  },
  {
   "cell_type": "code",
   "execution_count": 119,
   "metadata": {},
   "outputs": [
    {
     "data": {
      "text/plain": [
       "(2, 853)"
      ]
     },
     "execution_count": 119,
     "metadata": {},
     "output_type": "execute_result"
    }
   ],
   "source": [
    "np.unravel_index(diff.argmax(), diff.shape)"
   ]
  },
  {
   "cell_type": "code",
   "execution_count": 120,
   "metadata": {},
   "outputs": [
    {
     "data": {
      "text/plain": [
       "0.0002619028091430664"
      ]
     },
     "execution_count": 120,
     "metadata": {},
     "output_type": "execute_result"
    }
   ],
   "source": [
    "diff.max()"
   ]
  }
 ],
 "metadata": {
  "kernelspec": {
   "display_name": "base",
   "language": "python",
   "name": "python3"
  },
  "language_info": {
   "codemirror_mode": {
    "name": "ipython",
    "version": 3
   },
   "file_extension": ".py",
   "mimetype": "text/x-python",
   "name": "python",
   "nbconvert_exporter": "python",
   "pygments_lexer": "ipython3",
   "version": "3.9.7"
  },
  "orig_nbformat": 4
 },
 "nbformat": 4,
 "nbformat_minor": 2
}
