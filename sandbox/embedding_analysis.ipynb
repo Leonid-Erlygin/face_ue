{
 "cells": [
  {
   "cell_type": "code",
   "execution_count": 1,
   "metadata": {},
   "outputs": [],
   "source": [
    "import sys\n",
    "path = '/app'\n",
    "sys.path.insert(1, path)\n",
    "\n",
    "from pathlib import Path\n",
    "import pickle\n",
    "from tqdm import tqdm\n",
    "import numpy as np\n",
    "from face_lib.datasets import IJBDataset, IJBATest, IJBCTemplates\n",
    "from face_lib.evaluation.aggregation import aggregate_templates"
   ]
  },
  {
   "cell_type": "code",
   "execution_count": 2,
   "metadata": {},
   "outputs": [],
   "source": [
    "cache_dir = '/app/cache'\n",
    "uncertainty_strategy = 'head'\n",
    "dataset_path = \"/app/data/big\"\n",
    "protocol_path = \"/app/data/test1\"\n",
    "\n",
    "testset = IJBDataset(dataset_path)\n",
    "image_paths = testset[\"abspath\"].values\n",
    "\n",
    "features_path = Path(cache_dir) / f\"{uncertainty_strategy}_features.pickle\"\n",
    "uncertainty_path = (\n",
    "    Path(cache_dir) / f\"{uncertainty_strategy}_uncertainty.pickle\"\n",
    ")\n",
    "\n",
    "with open(features_path, \"rb\") as f:\n",
    "    feature_dict = pickle.load(f)\n",
    "with open(uncertainty_path, \"rb\") as f:\n",
    "    uncertainty_dict = pickle.load(f)\n"
   ]
  },
  {
   "cell_type": "code",
   "execution_count": 3,
   "metadata": {},
   "outputs": [],
   "source": [
    "tester = IJBCTemplates(image_paths, feature_dict, uncertainty_dict)\n",
    "tester.init_proto(protocol_path)\n",
    "\n",
    "aggregate_templates(tester.enroll_templates(), 'PFE')\n",
    "aggregate_templates(tester.verification_templates(), \"first\")"
   ]
  },
  {
   "attachments": {},
   "cell_type": "markdown",
   "metadata": {},
   "source": [
    "\n",
    "\n",
    "Cosine distance:\n",
    "\\begin{equation*}\n",
    "    a^{ijl} = \\sum_{k=1}^d\\left[(z^{il}_k\\cdot\\hat{\\mu}^j_k)\\right]\n",
    "\\end{equation*}\n",
    "Default PFE:\n",
    "\\begin{equation*}\n",
    "    a^{ijl} = -\\frac{1}{2}\\sum_{k=1}^d\\left[(z^{il}_k-\\hat{\\mu}^j_k)^2\\frac{1}{{\\hat{\\sigma}^j_k}^2} +\\log{\\hat{\\sigma}^j_k}^2\\right]\n",
    "\\end{equation*}\n",
    "\n",
    "\\begin{equation*}\n",
    "    a^{ijl} = -\\frac{1}{2}\\sum_{k=1}^d\\left[\\left(\\frac{z^{il}_k}{\\hat{\\sigma}^j_k} -\\frac{\\hat{\\mu}^j_k}{\\hat{\\sigma}^j_k}\\right)^2 +\\log{\\hat{\\sigma}^j_k}^2\\right]\n",
    "\\end{equation*}\n",
    "\n",
    "Cosine PFE:\n",
    "\\begin{equation*}\n",
    "    a^{ijl} = \\frac{1}{2}\\sum_{k=1}^d\\left[(z^{il}_k\\cdot\\hat{\\mu}^j_k)\\frac{1}{{\\hat{\\sigma}^j_k}^2} \\cancel{-\\log{\\hat{\\sigma}^j_k}^2}\\right]\n",
    "\\end{equation*}\n",
    "\n"
   ]
  },
  {
   "cell_type": "code",
   "execution_count": 4,
   "metadata": {},
   "outputs": [],
   "source": [
    "from multiprocessing import Pool\n",
    "class Compute_scores:\n",
    "    def __init__(self, mus) -> None:\n",
    "        self.mus = mus\n",
    "    def __call__(self, data_piece):\n",
    "        mu, sigma_sq = data_piece\n",
    "        enroll_template_sigma_sqrt = np.sqrt(sigma_sq)\n",
    "        log_sigma_sum = np.log(sigma_sq).sum()\n",
    "        z_dist_to_mu = []\n",
    "        z_dist_to_mu_over_sigma = []\n",
    "        for mu_ver in self.mus:\n",
    "            z_dist_to_mu.append(np.linalg.norm(mu_ver - mu)**2)\n",
    "            z_dist_to_mu_over_sigma.append(np.linalg.norm((mu_ver - mu)/enroll_template_sigma_sqrt)**2)\n",
    "        return log_sigma_sum, z_dist_to_mu, z_dist_to_mu_over_sigma\n",
    "\n",
    "enroll_data = [(t.mu, t.sigma_sq) for t in tester.enroll_templates()]\n",
    "mus = [t.mu for t in tester.verification_templates()]\n",
    "compute_scores = Compute_scores(mus)\n",
    "with Pool(20) as pool_fc:\n",
    "    data = pool_fc.map(compute_scores, enroll_data)"
   ]
  },
  {
   "cell_type": "code",
   "execution_count": 8,
   "metadata": {},
   "outputs": [],
   "source": [
    "z_dist_to_mu = []\n",
    "log_sigma_sum = []\n",
    "z_dist_to_mu_over_sigma = []\n",
    "\n",
    "for t in data:\n",
    "    log_sigma_sum.append(t[0])\n",
    "    z_dist_to_mu += t[1]\n",
    "    z_dist_to_mu_over_sigma+=t[2]"
   ]
  },
  {
   "cell_type": "code",
   "execution_count": 21,
   "metadata": {},
   "outputs": [],
   "source": [
    "sigma_sq = []\n",
    "for t in enroll_data:\n",
    "    sigma_sq.append(t[1])"
   ]
  },
  {
   "cell_type": "code",
   "execution_count": 22,
   "metadata": {},
   "outputs": [],
   "source": [
    "z_dist_to_mu = np.array(z_dist_to_mu)\n",
    "log_sigma_sum = np.array(log_sigma_sum)\n",
    "z_dist_to_mu_over_sigma = np.array(z_dist_to_mu_over_sigma)\n",
    "sigma_sq = np.array(sigma_sq)"
   ]
  },
  {
   "cell_type": "code",
   "execution_count": 16,
   "metadata": {},
   "outputs": [
    {
     "data": {
      "text/plain": [
       "(1.9950265130518914, 0.1360088922879119)"
      ]
     },
     "execution_count": 16,
     "metadata": {},
     "output_type": "execute_result"
    }
   ],
   "source": [
    "z_dist_to_mu.mean(), z_dist_to_mu.std()"
   ]
  },
  {
   "cell_type": "code",
   "execution_count": 19,
   "metadata": {},
   "outputs": [
    {
     "data": {
      "text/plain": [
       "(-3727.7708, 192.98286)"
      ]
     },
     "execution_count": 19,
     "metadata": {},
     "output_type": "execute_result"
    }
   ],
   "source": [
    "log_sigma_sum.mean(), log_sigma_sum.std()"
   ]
  },
  {
   "cell_type": "code",
   "execution_count": 20,
   "metadata": {},
   "outputs": [
    {
     "data": {
      "text/plain": [
       "(3094.800804568953, 1107.134084335944)"
      ]
     },
     "execution_count": 20,
     "metadata": {},
     "output_type": "execute_result"
    }
   ],
   "source": [
    "z_dist_to_mu_over_sigma.mean(), z_dist_to_mu_over_sigma.std()"
   ]
  },
  {
   "cell_type": "code",
   "execution_count": 23,
   "metadata": {},
   "outputs": [
    {
     "data": {
      "text/plain": [
       "(0.00074784114, 0.0003429491)"
      ]
     },
     "execution_count": 23,
     "metadata": {},
     "output_type": "execute_result"
    }
   ],
   "source": [
    "sigma_sq.mean(), sigma_sq.std()"
   ]
  }
 ],
 "metadata": {
  "kernelspec": {
   "display_name": "base",
   "language": "python",
   "name": "python3"
  },
  "language_info": {
   "codemirror_mode": {
    "name": "ipython",
    "version": 3
   },
   "file_extension": ".py",
   "mimetype": "text/x-python",
   "name": "python",
   "nbconvert_exporter": "python",
   "pygments_lexer": "ipython3",
   "version": "3.9.7"
  },
  "orig_nbformat": 4
 },
 "nbformat": 4,
 "nbformat_minor": 2
}
