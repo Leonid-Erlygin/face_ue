{
 "cells": [
  {
   "cell_type": "code",
   "execution_count": 1,
   "metadata": {},
   "outputs": [],
   "source": [
    "%load_ext autoreload\n",
    "%autoreload 2\n",
    "\n",
    "import sys\n",
    "\n",
    "path = \"/app\"\n",
    "sys.path.insert(1, path)\n",
    "\n",
    "from pathlib import Path\n",
    "import pickle\n",
    "from tqdm import tqdm\n",
    "import numpy as np\n",
    "from face_lib.datasets import IJBDataset, IJBATest, IJBCTemplates\n",
    "from face_lib.evaluation.aggregation import aggregate_templates"
   ]
  },
  {
   "cell_type": "code",
   "execution_count": 1,
   "metadata": {},
   "outputs": [
    {
     "data": {
      "text/plain": [
       "\"{'a': 5, 'b': 6}\""
      ]
     },
     "execution_count": 1,
     "metadata": {},
     "output_type": "execute_result"
    }
   ],
   "source": [
    "d = {\"a\": 5, \"b\": 6}\n",
    "str(d)"
   ]
  },
  {
   "cell_type": "code",
   "execution_count": 2,
   "metadata": {},
   "outputs": [],
   "source": [
    "cache_dir = \"/app/cache\"\n",
    "uncertainty_strategy = \"head\"\n",
    "dataset_path = \"/app/data/big\"\n",
    "protocol_path = \"/app/data/test1\"\n",
    "\n",
    "testset = IJBDataset(dataset_path)\n",
    "image_paths = testset[\"abspath\"].values\n",
    "\n",
    "features_path = Path(cache_dir) / f\"{uncertainty_strategy}_features.pickle\"\n",
    "uncertainty_path = Path(cache_dir) / f\"{uncertainty_strategy}_uncertainty.pickle\"\n",
    "\n",
    "with open(features_path, \"rb\") as f:\n",
    "    feature_dict = pickle.load(f)\n",
    "with open(uncertainty_path, \"rb\") as f:\n",
    "    uncertainty_dict = pickle.load(f)"
   ]
  },
  {
   "cell_type": "code",
   "execution_count": 3,
   "metadata": {},
   "outputs": [],
   "source": [
    "tester = IJBCTemplates(image_paths, feature_dict, uncertainty_dict)\n",
    "tester.init_proto(protocol_path)\n",
    "\n",
    "normalize = True\n",
    "aggregate_templates(tester.enroll_templates(), \"PFE\", normalize=normalize)\n",
    "aggregate_templates(tester.verification_templates(), \"first\", normalize=normalize)"
   ]
  },
  {
   "attachments": {},
   "cell_type": "markdown",
   "metadata": {},
   "source": [
    "\n",
    "\n",
    "Cosine distance:\n",
    "\\begin{equation*}\n",
    "    a^{ijl} = \\sum_{k=1}^d\\left[(z^{il}_k\\cdot\\hat{\\mu}^j_k)\\right]\n",
    "\\end{equation*}\n",
    "Default PFE:\n",
    "\\begin{equation*}\n",
    "    a^{ijl} = -\\frac{1}{2}\\sum_{k=1}^d\\left[(z^{il}_k-\\hat{\\mu}^j_k)^2\\frac{1}{{\\hat{\\sigma}^j_k}^2} +\\log{\\hat{\\sigma}^j_k}^2\\right]\n",
    "\\end{equation*}\n",
    "\n",
    "\\begin{equation*}\n",
    "    a^{ijl} = -\\frac{1}{2}\\sum_{k=1}^d\\left[\\left(\\frac{z^{il}_k}{\\hat{\\sigma}^j_k} -\\frac{\\hat{\\mu}^j_k}{\\hat{\\sigma}^j_k}\\right)^2 +\\log{\\hat{\\sigma}^j_k}^2\\right]\n",
    "\\end{equation*}\n",
    "\n",
    "Cosine PFE:\n",
    "\\begin{equation*}\n",
    "    a^{ijl} = \\frac{1}{2}\\sum_{k=1}^d\\left[(z^{il}_k\\cdot\\hat{\\mu}^j_k)\\frac{1}{{\\hat{\\sigma}^j_k}^2} \\cancel{-\\log{\\hat{\\sigma}^j_k}^2}\\right]\n",
    "\\end{equation*}\n",
    "\n"
   ]
  },
  {
   "cell_type": "code",
   "execution_count": 4,
   "metadata": {},
   "outputs": [],
   "source": [
    "from multiprocessing import Pool\n",
    "\n",
    "\n",
    "class Compute_scores:\n",
    "    def __init__(self, verif_mus) -> None:\n",
    "        self.verif_mus = verif_mus\n",
    "\n",
    "    def __call__(self, data_piece):\n",
    "        mu, sigma_sq = data_piece\n",
    "        enroll_template_sigma_sqrt = np.sqrt(sigma_sq)\n",
    "        log_sigma_sum = np.log(sigma_sq).sum()\n",
    "        z_dist_to_mu = []\n",
    "        z_dist_to_mu_over_sigma = []\n",
    "        for mu_ver in self.verif_mus:\n",
    "            z_dist_to_mu.append(np.linalg.norm(mu_ver - mu) ** 2)\n",
    "            z_dist_to_mu_over_sigma.append(\n",
    "                np.linalg.norm((mu_ver - mu) / enroll_template_sigma_sqrt) ** 2\n",
    "            )\n",
    "        return log_sigma_sum, z_dist_to_mu, z_dist_to_mu_over_sigma\n",
    "\n",
    "\n",
    "enroll_data = [(t.mu, t.sigma_sq) for t in tester.enroll_templates()]\n",
    "verification_mus = [t.mu for t in tester.verification_templates()]"
   ]
  },
  {
   "cell_type": "code",
   "execution_count": 5,
   "metadata": {},
   "outputs": [
    {
     "name": "stderr",
     "output_type": "stream",
     "text": [
      "100%|██████████| 3497/3497 [20:41<00:00,  2.82it/s]  \n"
     ]
    }
   ],
   "source": [
    "compute_scores = Compute_scores(verification_mus)\n",
    "\n",
    "with Pool(40) as pool_fc:\n",
    "    data = []  # pool_fc.map(compute_scores, enroll_data)\n",
    "    for result in tqdm(\n",
    "        pool_fc.imap_unordered(compute_scores, enroll_data), total=len(enroll_data)\n",
    "    ):\n",
    "        data.append(result)"
   ]
  },
  {
   "cell_type": "code",
   "execution_count": 42,
   "metadata": {},
   "outputs": [],
   "source": [
    "z_dist_to_mu = []\n",
    "log_sigma_sum = []\n",
    "z_dist_to_mu_over_sigma = []\n",
    "\n",
    "for t in data:\n",
    "    log_sigma_sum.append(t[0])\n",
    "    z_dist_to_mu.append(t[1])\n",
    "    z_dist_to_mu_over_sigma.append(t[2])"
   ]
  },
  {
   "cell_type": "code",
   "execution_count": 43,
   "metadata": {},
   "outputs": [],
   "source": [
    "sigma_sq = []\n",
    "enroll_mu = []\n",
    "for t in enroll_data:\n",
    "    sigma_sq.append(t[1])\n",
    "    enroll_mu.append(t[0])\n",
    "\n",
    "z_dist_to_mu = np.array(z_dist_to_mu)\n",
    "log_sigma_sum = np.array(log_sigma_sum)\n",
    "z_dist_to_mu_over_sigma = np.array(z_dist_to_mu_over_sigma)\n",
    "verification_mus = np.array(verification_mus)\n",
    "enroll_mu = np.array(enroll_mu)\n",
    "sigma_sq = np.array(sigma_sq)"
   ]
  },
  {
   "cell_type": "code",
   "execution_count": 44,
   "metadata": {},
   "outputs": [
    {
     "data": {
      "text/plain": [
       "(0.7787896389670563, 0.2901087908616003)"
      ]
     },
     "execution_count": 44,
     "metadata": {},
     "output_type": "execute_result"
    }
   ],
   "source": [
    "z_dist_to_mu_min = np.min(z_dist_to_mu, axis=0)\n",
    "np.mean(z_dist_to_mu_min), np.std(z_dist_to_mu_min)"
   ]
  },
  {
   "cell_type": "code",
   "execution_count": 45,
   "metadata": {},
   "outputs": [
    {
     "data": {
      "text/plain": [
       "(0.89221215, 0.08975799)"
      ]
     },
     "execution_count": 45,
     "metadata": {},
     "output_type": "execute_result"
    }
   ],
   "source": [
    "enroll_norm = np.linalg.norm(enroll_mu, axis=1)\n",
    "np.mean(enroll_norm), np.std(enroll_norm)"
   ]
  },
  {
   "cell_type": "code",
   "execution_count": 57,
   "metadata": {},
   "outputs": [
    {
     "data": {
      "text/plain": [
       "(1.0, 3.642485e-08)"
      ]
     },
     "execution_count": 57,
     "metadata": {},
     "output_type": "execute_result"
    }
   ],
   "source": [
    "veverification_mus_norm = np.linalg.norm(verification_mus, axis=1)\n",
    "np.mean(veverification_mus_norm), np.std(veverification_mus_norm)"
   ]
  },
  {
   "cell_type": "code",
   "execution_count": 12,
   "metadata": {},
   "outputs": [
    {
     "data": {
      "text/plain": [
       "(-3727.771, 192.98288)"
      ]
     },
     "execution_count": 12,
     "metadata": {},
     "output_type": "execute_result"
    }
   ],
   "source": [
    "log_sigma_sum.mean(), log_sigma_sum.std()"
   ]
  },
  {
   "cell_type": "code",
   "execution_count": 13,
   "metadata": {},
   "outputs": [
    {
     "data": {
      "text/plain": [
       "(2787.699437101349, 1022.7334336205469)"
      ]
     },
     "execution_count": 13,
     "metadata": {},
     "output_type": "execute_result"
    }
   ],
   "source": [
    "z_dist_to_mu_over_sigma.mean(), z_dist_to_mu_over_sigma.std()"
   ]
  },
  {
   "cell_type": "code",
   "execution_count": 14,
   "metadata": {},
   "outputs": [
    {
     "data": {
      "text/plain": [
       "(0.00074784114, 0.0003429491)"
      ]
     },
     "execution_count": 14,
     "metadata": {},
     "output_type": "execute_result"
    }
   ],
   "source": [
    "sigma_sq.mean(), sigma_sq.std()"
   ]
  },
  {
   "attachments": {},
   "cell_type": "markdown",
   "metadata": {},
   "source": [
    "## Likelyhoods compare"
   ]
  },
  {
   "cell_type": "code",
   "execution_count": 57,
   "metadata": {},
   "outputs": [
    {
     "name": "stderr",
     "output_type": "stream",
     "text": [
      "100%|██████████| 19467/19467 [00:00<00:00, 411694.34it/s]\n"
     ]
    }
   ],
   "source": [
    "z = []  # n x num_z_samples x 512\n",
    "sigma = []  # K x 512\n",
    "mu = []  # K x 512\n",
    "\n",
    "# sample z's for each query image\n",
    "for query_template in tqdm(tester.verification_templates()):\n",
    "    z_samples = []\n",
    "    z_samples.append(query_template.mu)\n",
    "    z.append(z_samples)\n",
    "z = np.array(z)\n",
    "for enroll_template in tester.enroll_templates():\n",
    "    sigma.append(enroll_template.sigma_sq)\n",
    "    mu.append(enroll_template.mu)\n",
    "sigma = np.array(sigma)\n",
    "mu = np.array(mu)"
   ]
  },
  {
   "cell_type": "code",
   "execution_count": 112,
   "metadata": {},
   "outputs": [],
   "source": [
    "sigma = sigma / (np.min(sigma))"
   ]
  },
  {
   "cell_type": "code",
   "execution_count": 113,
   "metadata": {},
   "outputs": [
    {
     "data": {
      "text/plain": [
       "1.0"
      ]
     },
     "execution_count": 113,
     "metadata": {},
     "output_type": "execute_result"
    }
   ],
   "source": [
    "# norm_sigma\n",
    "np.min(sigma)"
   ]
  },
  {
   "cell_type": "code",
   "execution_count": 114,
   "metadata": {},
   "outputs": [
    {
     "data": {
      "text/plain": [
       "4.948837"
      ]
     },
     "execution_count": 114,
     "metadata": {},
     "output_type": "execute_result"
    }
   ],
   "source": [
    "sigma.mean()"
   ]
  },
  {
   "cell_type": "code",
   "execution_count": 115,
   "metadata": {},
   "outputs": [
    {
     "data": {
      "text/plain": [
       "29.736185"
      ]
     },
     "execution_count": 115,
     "metadata": {},
     "output_type": "execute_result"
    }
   ],
   "source": [
    "np.max(sigma)"
   ]
  },
  {
   "cell_type": "code",
   "execution_count": 116,
   "metadata": {},
   "outputs": [
    {
     "name": "stderr",
     "output_type": "stream",
     "text": [
      "100%|██████████| 512/512 [00:02<00:00, 203.95it/s]\n"
     ]
    },
    {
     "data": {
      "text/plain": [
       "True"
      ]
     },
     "execution_count": 116,
     "metadata": {},
     "output_type": "execute_result"
    }
   ],
   "source": [
    "z_range = [22, 44, 566, 444, 19466]\n",
    "a_1 = default_pfe_likelihood(mu, sigma, z[z_range]) * -2\n",
    "a_2 = default_pfe_likelihood_slow(mu, sigma, z[z_range]) * -2\n",
    "\n",
    "np.allclose(a_1, a_2)"
   ]
  },
  {
   "cell_type": "code",
   "execution_count": 117,
   "metadata": {},
   "outputs": [
    {
     "data": {
      "text/plain": [
       "777.0017"
      ]
     },
     "execution_count": 117,
     "metadata": {},
     "output_type": "execute_result"
    }
   ],
   "source": [
    "a_1.mean()"
   ]
  },
  {
   "cell_type": "code",
   "execution_count": 118,
   "metadata": {},
   "outputs": [],
   "source": [
    "diff = np.abs(a_1 - a_2)[:, 0, :]"
   ]
  },
  {
   "cell_type": "code",
   "execution_count": 119,
   "metadata": {},
   "outputs": [
    {
     "data": {
      "text/plain": [
       "(2, 853)"
      ]
     },
     "execution_count": 119,
     "metadata": {},
     "output_type": "execute_result"
    }
   ],
   "source": [
    "np.unravel_index(diff.argmax(), diff.shape)"
   ]
  },
  {
   "cell_type": "code",
   "execution_count": 120,
   "metadata": {},
   "outputs": [
    {
     "data": {
      "text/plain": [
       "0.0002619028091430664"
      ]
     },
     "execution_count": 120,
     "metadata": {},
     "output_type": "execute_result"
    }
   ],
   "source": [
    "diff.max()"
   ]
  }
 ],
 "metadata": {
  "kernelspec": {
   "display_name": "base",
   "language": "python",
   "name": "python3"
  },
  "language_info": {
   "codemirror_mode": {
    "name": "ipython",
    "version": 3
   },
   "file_extension": ".py",
   "mimetype": "text/x-python",
   "name": "python",
   "nbconvert_exporter": "python",
   "pygments_lexer": "ipython3",
   "version": "3.9.7"
  },
  "orig_nbformat": 4
 },
 "nbformat": 4,
 "nbformat_minor": 2
}
