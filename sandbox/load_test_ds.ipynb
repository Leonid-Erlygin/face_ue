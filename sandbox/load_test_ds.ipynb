{
 "cells": [
  {
   "cell_type": "code",
   "execution_count": 1,
   "metadata": {},
   "outputs": [
    {
     "name": "stderr",
     "output_type": "stream",
     "text": [
      "Error.  nthreads cannot be larger than environment variable \"NUMEXPR_MAX_THREADS\" (64)"
     ]
    }
   ],
   "source": [
    "import sys\n",
    "import pickle\n",
    "import torch\n",
    "import os\n",
    "import numpy as np\n",
    "import mxnet as mx\n",
    "from mxnet import ndarray as nd\n",
    "\n",
    "sys.path.append(\"/app/sandbox/AdaFace\")\n",
    "from AdaFace.data import test_dataset, prepare_data\n",
    "from AdaFace.evaluate_utils import get_val_data"
   ]
  },
  {
   "cell_type": "code",
   "execution_count": 2,
   "metadata": {},
   "outputs": [],
   "source": [
    "def load_bin(path, image_size=[112, 112]):\n",
    "    try:\n",
    "        with open(path, \"rb\") as f:\n",
    "            bins, issame_list = pickle.load(f)  # py2\n",
    "    except UnicodeDecodeError as e:\n",
    "        with open(path, \"rb\") as f:\n",
    "            bins, issame_list = pickle.load(f, encoding=\"bytes\")  # py3\n",
    "    data_list = []\n",
    "    for flip in [0, 1]:\n",
    "        data = torch.empty((len(issame_list) * 2, 3, image_size[0], image_size[1]))\n",
    "        data_list.append(data)\n",
    "    for idx in range(len(issame_list) * 2):\n",
    "        _bin = bins[idx]\n",
    "        img = mx.image.imdecode(_bin)\n",
    "        if img.shape[1] != image_size[0]:\n",
    "            img = mx.image.resize_short(img, image_size[0])\n",
    "        img = nd.transpose(img, axes=(2, 0, 1))\n",
    "        for flip in [0, 1]:\n",
    "            if flip == 1:\n",
    "                img = mx.ndarray.flip(data=img, axis=2)\n",
    "            data_list[flip][idx][:] = torch.from_numpy(img.asnumpy())\n",
    "        if idx % 1000 == 0:\n",
    "            print(\"loading bin\", idx)\n",
    "    print(data_list[0].shape)\n",
    "    return data_list, issame_list"
   ]
  },
  {
   "cell_type": "code",
   "execution_count": 4,
   "metadata": {},
   "outputs": [],
   "source": [
    "# data_set = load_bin('/app/datasets/ms1m/agedb_30.bin')\n",
    "# len(data_set[1]), np.sum(data_set[1])\n",
    "# data_set[0][0].shape"
   ]
  },
  {
   "cell_type": "code",
   "execution_count": 2,
   "metadata": {},
   "outputs": [
    {
     "name": "stdout",
     "output_type": "stream",
     "text": [
      "laoding validation data memfile\n",
      "laoding validation data memfile\n",
      "laoding validation data memfile\n",
      "laoding validation data memfile\n",
      "laoding validation data memfile\n"
     ]
    }
   ],
   "source": [
    "data_root = \"/app/datasets\"\n",
    "val_data_path = \"ms1m\"\n",
    "val_data = get_val_data(os.path.join(data_root, val_data_path))\n",
    "# theses datasets are already normalized with mean 0.5, std 0.5\n",
    "(\n",
    "    age_30,\n",
    "    cfp_fp,\n",
    "    lfw,\n",
    "    age_30_issame,\n",
    "    cfp_fp_issame,\n",
    "    lfw_issame,\n",
    "    cplfw,\n",
    "    cplfw_issame,\n",
    "    calfw,\n",
    "    calfw_issame,\n",
    ") = val_data\n",
    "val_data_dict = {\n",
    "    \"agedb_30\": (age_30, age_30_issame),\n",
    "    \"cfp_fp\": (cfp_fp, cfp_fp_issame),\n",
    "    \"lfw\": (lfw, lfw_issame),\n",
    "    \"cplfw\": (cplfw, cplfw_issame),\n",
    "    \"calfw\": (calfw, calfw_issame),\n",
    "}"
   ]
  },
  {
   "cell_type": "code",
   "execution_count": 8,
   "metadata": {},
   "outputs": [
    {
     "data": {
      "text/plain": [
       "(12000, 3, 112, 112)"
      ]
     },
     "execution_count": 8,
     "metadata": {},
     "output_type": "execute_result"
    }
   ],
   "source": [
    "age_30.shape"
   ]
  },
  {
   "cell_type": "code",
   "execution_count": 25,
   "metadata": {},
   "outputs": [
    {
     "data": {
      "text/plain": [
       "(12000, 3, 112, 112)"
      ]
     },
     "execution_count": 25,
     "metadata": {},
     "output_type": "execute_result"
    }
   ],
   "source": [
    "val_data_dict[\"agedb_30\"][0].shape"
   ]
  },
  {
   "cell_type": "code",
   "execution_count": 23,
   "metadata": {},
   "outputs": [
    {
     "data": {
      "text/plain": [
       "(6000, 3000)"
      ]
     },
     "execution_count": 23,
     "metadata": {},
     "output_type": "execute_result"
    }
   ],
   "source": [
    "len(val_data_dict[\"agedb_30\"][1]), np.sum(val_data_dict[\"agedb_30\"][1])"
   ]
  },
  {
   "cell_type": "code",
   "execution_count": 29,
   "metadata": {},
   "outputs": [
    {
     "data": {
      "text/plain": [
       "True"
      ]
     },
     "execution_count": 29,
     "metadata": {},
     "output_type": "execute_result"
    }
   ],
   "source": [
    "np.all(np.array(data_set[1]) == val_data_dict[\"agedb_30\"][1])"
   ]
  },
  {
   "cell_type": "code",
   "execution_count": 3,
   "metadata": {},
   "outputs": [],
   "source": [
    "prepare_data(data_root, val_data_path, \"five_mem_concat\")"
   ]
  },
  {
   "cell_type": "code",
   "execution_count": 4,
   "metadata": {},
   "outputs": [
    {
     "name": "stdout",
     "output_type": "stream",
     "text": [
      "laoding validation data memfile\n",
      "laoding validation data memfile\n",
      "laoding validation data memfile\n",
      "laoding validation data memfile\n",
      "laoding validation data memfile\n"
     ]
    }
   ],
   "source": [
    "five_ds = test_dataset(data_root, val_data_path, \"five_mem_concat\")"
   ]
  },
  {
   "cell_type": "code",
   "execution_count": 5,
   "metadata": {},
   "outputs": [
    {
     "data": {
      "text/plain": [
       "62000"
      ]
     },
     "execution_count": 5,
     "metadata": {},
     "output_type": "execute_result"
    }
   ],
   "source": [
    "len(five_ds)"
   ]
  },
  {
   "cell_type": "code",
   "execution_count": 9,
   "metadata": {},
   "outputs": [
    {
     "data": {
      "text/plain": [
       "4"
      ]
     },
     "execution_count": 9,
     "metadata": {},
     "output_type": "execute_result"
    }
   ],
   "source": [
    "len(five_ds[0][])"
   ]
  },
  {
   "cell_type": "code",
   "execution_count": 8,
   "metadata": {},
   "outputs": [
    {
     "data": {
      "text/plain": [
       "torch.Size([3, 112, 112])"
      ]
     },
     "execution_count": 8,
     "metadata": {},
     "output_type": "execute_result"
    }
   ],
   "source": [
    "five_ds[0][0].shape"
   ]
  },
  {
   "cell_type": "code",
   "execution_count": null,
   "metadata": {},
   "outputs": [],
   "source": []
  }
 ],
 "metadata": {
  "kernelspec": {
   "display_name": "base",
   "language": "python",
   "name": "python3"
  },
  "language_info": {
   "codemirror_mode": {
    "name": "ipython",
    "version": 3
   },
   "file_extension": ".py",
   "mimetype": "text/x-python",
   "name": "python",
   "nbconvert_exporter": "python",
   "pygments_lexer": "ipython3",
   "version": "3.9.7"
  }
 },
 "nbformat": 4,
 "nbformat_minor": 2
}
