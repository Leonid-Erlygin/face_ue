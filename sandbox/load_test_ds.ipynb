{
 "cells": [
  {
   "cell_type": "code",
   "execution_count": 2,
   "metadata": {},
   "outputs": [],
   "source": [
    "import sys\n",
    "import pickle\n",
    "import torch\n",
    "import os\n",
    "import numpy as np\n",
    "import mxnet as mx\n",
    "from mxnet import ndarray as nd\n",
    "\n",
    "sys.path.append(\"/app/sandbox/AdaFace\")\n",
    "from AdaFace.data import test_dataset, prepare_data\n",
    "from AdaFace.evaluate_utils import get_val_data"
   ]
  },
  {
   "cell_type": "code",
   "execution_count": 3,
   "metadata": {},
   "outputs": [],
   "source": [
    "def load_bin(path, image_size=[112, 112]):\n",
    "    try:\n",
    "        with open(path, \"rb\") as f:\n",
    "            bins, issame_list = pickle.load(f)  # py2\n",
    "    except UnicodeDecodeError as e:\n",
    "        with open(path, \"rb\") as f:\n",
    "            bins, issame_list = pickle.load(f, encoding=\"bytes\")  # py3\n",
    "    data_list = []\n",
    "    for flip in [0, 1]:\n",
    "        data = torch.empty((len(issame_list) * 2, 3, image_size[0], image_size[1]))\n",
    "        data_list.append(data)\n",
    "    for idx in range(len(issame_list) * 2):\n",
    "        _bin = bins[idx]\n",
    "        img = mx.image.imdecode(_bin)\n",
    "        if img.shape[1] != image_size[0]:\n",
    "            img = mx.image.resize_short(img, image_size[0])\n",
    "        img = nd.transpose(img, axes=(2, 0, 1))\n",
    "        for flip in [0, 1]:\n",
    "            if flip == 1:\n",
    "                img = mx.ndarray.flip(data=img, axis=2)\n",
    "            data_list[flip][idx][:] = torch.from_numpy(img.asnumpy())\n",
    "        if idx % 1000 == 0:\n",
    "            print(\"loading bin\", idx)\n",
    "    print(data_list[0].shape)\n",
    "    return data_list, issame_list"
   ]
  },
  {
   "cell_type": "code",
   "execution_count": 4,
   "metadata": {},
   "outputs": [],
   "source": [
    "# data_set = load_bin('/app/datasets/ms1m/agedb_30.bin')\n",
    "# len(data_set[1]), np.sum(data_set[1])\n",
    "# data_set[0][0].shape"
   ]
  },
  {
   "cell_type": "code",
   "execution_count": 5,
   "metadata": {},
   "outputs": [
    {
     "name": "stdout",
     "output_type": "stream",
     "text": [
      "/app\n"
     ]
    }
   ],
   "source": [
    "%pwd\n",
    "%cd /app"
   ]
  },
  {
   "cell_type": "code",
   "execution_count": 6,
   "metadata": {},
   "outputs": [
    {
     "name": "stdout",
     "output_type": "stream",
     "text": [
      "laoding validation data memfile\n",
      "laoding validation data memfile\n",
      "laoding validation data memfile\n",
      "laoding validation data memfile\n",
      "laoding validation data memfile\n"
     ]
    }
   ],
   "source": [
    "data_root = \"/app/datasets\"\n",
    "val_data_path = \"ms1m\"\n",
    "five_ds = test_dataset(data_root, val_data_path, \"five_mem_concat\")"
   ]
  },
  {
   "cell_type": "code",
   "execution_count": 8,
   "metadata": {},
   "outputs": [],
   "source": [
    "from pathlib import Path\n",
    "from tqdm import tqdm\n",
    "\n",
    "out_dir = Path(\"/app/cache/five_ds_embs\")\n",
    "# save metadata\n",
    "\n",
    "# all_issame = []\n",
    "# dataname = []\n",
    "# for i in tqdm(range(len(five_ds))):\n",
    "#     all_issame.append(five_ds[i][1])\n",
    "#     dataname.append(five_ds[i][2])\n",
    "# all_issame = np.array(all_issame)\n",
    "# dataname = np.array(dataname)\n",
    "# np.save(out_dir / \"all_issame.npy\", all_issame)\n",
    "# np.save(out_dir / \"dataname.npy\", dataname)"
   ]
  },
  {
   "cell_type": "markdown",
   "metadata": {},
   "source": [
    "### Create five datasets"
   ]
  },
  {
   "cell_type": "code",
   "execution_count": 21,
   "metadata": {},
   "outputs": [],
   "source": [
    "dataname_to_idx = {\n",
    "    \"agedb_30\": 0,\n",
    "    \"cfp_fp\": 1,\n",
    "    \"lfw\": 2,\n",
    "    \"cplfw\": 3,\n",
    "    \"calfw\": 4,\n",
    "}\n",
    "all_issame = np.load(out_dir / \"all_issame.npy\")\n",
    "dataname = np.load(out_dir / \"dataname.npy\")\n",
    "five_ds_path = Path(\"/app/datasets/five_hq_datasets\")\n",
    "five_embs_name = \"default-scf_embs_five_ds.npz\"\n",
    "embs = np.load(out_dir / five_embs_name)\n",
    "\n",
    "for name in dataname_to_idx:\n",
    "    ds_dir = five_ds_path / name\n",
    "\n",
    "    embs_dir = ds_dir / \"embeddings\"\n",
    "    embs_dir.mkdir(exist_ok=True, parents=True)\n",
    "    embs_file_name = f'{five_embs_name.split(\"_\")[0]}_embs_{name}.npz'\n",
    "    ds_index = dataname == dataname_to_idx[name]\n",
    "    np.savez(\n",
    "        embs_dir / embs_file_name,\n",
    "        embs=embs[\"embs\"][ds_index],\n",
    "        unc=embs[\"unc\"][ds_index],\n",
    "    )\n",
    "\n",
    "    meta_dir = ds_dir / \"meta\"\n",
    "    meta_dir.mkdir(exist_ok=True)\n",
    "    isssame_path = meta_dir / \"issame.npy\"\n",
    "    np.save(isssame_path, all_issame[ds_index])"
   ]
  },
  {
   "cell_type": "code",
   "execution_count": 22,
   "metadata": {},
   "outputs": [
    {
     "data": {
      "text/plain": [
       "array([0, 2, 4])"
      ]
     },
     "execution_count": 22,
     "metadata": {},
     "output_type": "execute_result"
    }
   ],
   "source": [
    "np.arange(6)[0::2]"
   ]
  },
  {
   "cell_type": "code",
   "execution_count": 23,
   "metadata": {},
   "outputs": [
    {
     "data": {
      "text/plain": [
       "array([1, 3, 5])"
      ]
     },
     "execution_count": 23,
     "metadata": {},
     "output_type": "execute_result"
    }
   ],
   "source": [
    "np.arange(6)[1::2]"
   ]
  },
  {
   "cell_type": "code",
   "execution_count": 17,
   "metadata": {},
   "outputs": [
    {
     "data": {
      "text/plain": [
       "((12000, 512), (12000, 1))"
      ]
     },
     "execution_count": 17,
     "metadata": {},
     "output_type": "execute_result"
    }
   ],
   "source": [
    "embs[\"embs\"][ds_index].shape, embs[\"unc\"][ds_index].shape"
   ]
  },
  {
   "cell_type": "code",
   "execution_count": 11,
   "metadata": {},
   "outputs": [],
   "source": [
    "ds_index = dataname == 0"
   ]
  },
  {
   "cell_type": "code",
   "execution_count": 14,
   "metadata": {},
   "outputs": [
    {
     "data": {
      "text/plain": [
       "((62000,), 12000)"
      ]
     },
     "execution_count": 14,
     "metadata": {},
     "output_type": "execute_result"
    }
   ],
   "source": [
    "ds_index.shape, np.sum(ds_index)"
   ]
  },
  {
   "cell_type": "markdown",
   "metadata": {},
   "source": [
    "### Compute metrics"
   ]
  },
  {
   "cell_type": "code",
   "execution_count": 10,
   "metadata": {},
   "outputs": [],
   "source": [
    "emb_dir = Path(\"/app/cache/five_ds_embs\")\n",
    "pred = np.load(emb_dir / \"default_scf_embs_five_ds.npz\")\n",
    "all_issame = np.load(emb_dir / \"all_issame.npy\")\n",
    "dataname = np.load(emb_dir / \"dataname.npy\")"
   ]
  },
  {
   "cell_type": "code",
   "execution_count": 24,
   "metadata": {},
   "outputs": [
    {
     "data": {
      "text/plain": [
       "(0.63323724, -0.07951261)"
      ]
     },
     "execution_count": 24,
     "metadata": {},
     "output_type": "execute_result"
    }
   ],
   "source": [
    "pred[\"embs\"][0] @ pred[\"embs\"][1], pred[\"embs\"][0] @ pred[\"embs\"][12]"
   ]
  },
  {
   "cell_type": "code",
   "execution_count": 18,
   "metadata": {},
   "outputs": [
    {
     "data": {
      "text/plain": [
       "array([1, 1])"
      ]
     },
     "execution_count": 18,
     "metadata": {},
     "output_type": "execute_result"
    }
   ],
   "source": [
    "all_issame[:2]"
   ]
  },
  {
   "cell_type": "code",
   "execution_count": 11,
   "metadata": {},
   "outputs": [
    {
     "data": {
      "text/plain": [
       "62000"
      ]
     },
     "execution_count": 11,
     "metadata": {},
     "output_type": "execute_result"
    }
   ],
   "source": [
    "len(all_issame)"
   ]
  },
  {
   "cell_type": "code",
   "execution_count": 3,
   "metadata": {},
   "outputs": [],
   "source": [
    "prepare_data(data_root, val_data_path, \"five_mem_concat\")"
   ]
  },
  {
   "cell_type": "code",
   "execution_count": 4,
   "metadata": {},
   "outputs": [
    {
     "name": "stdout",
     "output_type": "stream",
     "text": [
      "laoding validation data memfile\n",
      "laoding validation data memfile\n",
      "laoding validation data memfile\n",
      "laoding validation data memfile\n",
      "laoding validation data memfile\n"
     ]
    }
   ],
   "source": []
  },
  {
   "cell_type": "code",
   "execution_count": 5,
   "metadata": {},
   "outputs": [
    {
     "data": {
      "text/plain": [
       "62000"
      ]
     },
     "execution_count": 5,
     "metadata": {},
     "output_type": "execute_result"
    }
   ],
   "source": [
    "len(five_ds)"
   ]
  },
  {
   "cell_type": "code",
   "execution_count": 8,
   "metadata": {},
   "outputs": [
    {
     "data": {
      "text/plain": [
       "torch.Size([3, 112, 112])"
      ]
     },
     "execution_count": 8,
     "metadata": {},
     "output_type": "execute_result"
    }
   ],
   "source": [
    "five_ds[0][0].shape"
   ]
  },
  {
   "cell_type": "code",
   "execution_count": null,
   "metadata": {},
   "outputs": [],
   "source": []
  }
 ],
 "metadata": {
  "kernelspec": {
   "display_name": "base",
   "language": "python",
   "name": "python3"
  },
  "language_info": {
   "codemirror_mode": {
    "name": "ipython",
    "version": 3
   },
   "file_extension": ".py",
   "mimetype": "text/x-python",
   "name": "python",
   "nbconvert_exporter": "python",
   "pygments_lexer": "ipython3",
   "version": "3.9.7"
  }
 },
 "nbformat": 4,
 "nbformat_minor": 2
}
