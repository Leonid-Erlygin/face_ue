{
 "cells": [
  {
   "cell_type": "code",
   "execution_count": 8,
   "metadata": {},
   "outputs": [],
   "source": [
    "def calculate_gain(base_accuracy, new_accuracy):\n",
    "    base_error = 1 - base_accuracy\n",
    "    new_error = 1 - new_accuracy\n",
    "    return (base_error - new_error) / base_error\n",
    "\n",
    "\n",
    "def calculate_auc_gain(base_accuracy, new_accuracy):\n",
    "    return (new_accuracy - base_accuracy) / base_accuracy"
   ]
  },
  {
   "attachments": {},
   "cell_type": "markdown",
   "metadata": {},
   "source": [
    "### Объединение шаблонов"
   ]
  },
  {
   "cell_type": "code",
   "execution_count": 3,
   "metadata": {},
   "outputs": [],
   "source": [
    "# ijb-b\n",
    "mean_pool_accuracy = 0.94532\n",
    "scf_pool_accuracy = 0.94597\n",
    "pfe_pool_accuracy = 0.9474\n",
    "scf_pool_gain = calculate_gain(\n",
    "    base_accuracy=mean_pool_accuracy, new_accuracy=scf_pool_accuracy\n",
    ")\n",
    "pfe_pool_gain = calculate_gain(\n",
    "    base_accuracy=mean_pool_accuracy, new_accuracy=pfe_pool_accuracy\n",
    ")"
   ]
  },
  {
   "cell_type": "code",
   "execution_count": 4,
   "metadata": {},
   "outputs": [
    {
     "name": "stdout",
     "output_type": "stream",
     "text": [
      "Уменьшение ошибки при использовании SCF и PFE объединения шаблонов $1.189\\%$ и $3.804\\%$ соответственно\n"
     ]
    }
   ],
   "source": [
    "print(\n",
    "    f\"Уменьшение ошибки при использовании SCF и PFE объединения шаблонов ${round(scf_pool_gain * 100, 3)}\\%$ и ${round(pfe_pool_gain * 100, 3)}\\%$ соответственно\"\n",
    ")"
   ]
  },
  {
   "cell_type": "code",
   "execution_count": 5,
   "metadata": {},
   "outputs": [],
   "source": [
    "# ijb-c\n",
    "mean_pool_accuracy = 0.95773\n",
    "scf_pool_accuracy = 0.95973\n",
    "pfe_pool_accuracy = 0.95978\n",
    "scf_pool_gain = calculate_gain(\n",
    "    base_accuracy=mean_pool_accuracy, new_accuracy=scf_pool_accuracy\n",
    ")\n",
    "pfe_pool_gain = calculate_gain(\n",
    "    base_accuracy=mean_pool_accuracy, new_accuracy=pfe_pool_accuracy\n",
    ")"
   ]
  },
  {
   "cell_type": "code",
   "execution_count": 6,
   "metadata": {},
   "outputs": [
    {
     "name": "stdout",
     "output_type": "stream",
     "text": [
      "Уменьшение ошибки при использовании SCF и PFE объединения шаблонов $4.731\\%$ и $4.85\\%$ соответственно\n"
     ]
    }
   ],
   "source": [
    "print(\n",
    "    f\"Уменьшение ошибки при использовании SCF и PFE объединения шаблонов ${round(scf_pool_gain * 100, 3)}\\%$ и ${round(pfe_pool_gain * 100, 3)}\\%$ соответственно\"\n",
    ")"
   ]
  },
  {
   "cell_type": "code",
   "execution_count": 9,
   "metadata": {},
   "outputs": [
    {
     "name": "stdout",
     "output_type": "stream",
     "text": [
      "Уменьшение ошибки при использовании SCF и PFE объединения шаблонов $3.562\\%$ и $0.324\\%$ соответственно\n"
     ]
    }
   ],
   "source": [
    "# survface\n",
    "mean_pool_accuracy = 0.06486\n",
    "scf_pool_accuracy = 0.06717\n",
    "pfe_pool_accuracy = 0.06507\n",
    "scf_pool_gain = calculate_auc_gain(\n",
    "    base_accuracy=mean_pool_accuracy, new_accuracy=scf_pool_accuracy\n",
    ")\n",
    "pfe_pool_gain = calculate_auc_gain(\n",
    "    base_accuracy=mean_pool_accuracy, new_accuracy=pfe_pool_accuracy\n",
    ")\n",
    "\n",
    "print(\n",
    "    f\"Уменьшение ошибки при использовании SCF и PFE объединения шаблонов ${round(scf_pool_gain * 100, 3)}\\%$ и ${round(pfe_pool_gain * 100, 3)}\\%$ соответственно\"\n",
    ")"
   ]
  },
  {
   "attachments": {},
   "cell_type": "markdown",
   "metadata": {},
   "source": [
    "### NAC"
   ]
  },
  {
   "cell_type": "code",
   "execution_count": 14,
   "metadata": {},
   "outputs": [
    {
     "name": "stdout",
     "output_type": "stream",
     "text": [
      "Уменьшение ошибки при использовании NAC, $k=120$: $0.26\\%$\n"
     ]
    }
   ],
   "source": [
    "mean_pool_accuracy = 0.95773\n",
    "nac_accuracy = 0.95784\n",
    "nac_gain = calculate_gain(base_accuracy=mean_pool_accuracy, new_accuracy=nac_accuracy)\n",
    "print(\n",
    "    f\"Уменьшение ошибки при использовании NAC, $k=120$: ${round(nac_gain * 100, 3)}\\%$\"\n",
    ")"
   ]
  },
  {
   "cell_type": "code",
   "execution_count": 6,
   "metadata": {},
   "outputs": [
    {
     "name": "stdout",
     "output_type": "stream",
     "text": [
      "Уменьшение ошибки при использовании NAC, $k=120$ $0.215\\%$\n"
     ]
    }
   ],
   "source": []
  },
  {
   "attachments": {},
   "cell_type": "markdown",
   "metadata": {},
   "source": [
    "### SCF dist"
   ]
  },
  {
   "cell_type": "code",
   "execution_count": 10,
   "metadata": {},
   "outputs": [
    {
     "name": "stdout",
     "output_type": "stream",
     "text": [
      "Уменьшение ошибки при использовании SCF объединения шаблонов и SCF расстояния: $4.442\\%$\n"
     ]
    }
   ],
   "source": [
    "# ijb-b\n",
    "mean_pool_accuracy = 0.94597\n",
    "scf_accuracy = 0.94837\n",
    "scf_gain = calculate_gain(base_accuracy=mean_pool_accuracy, new_accuracy=scf_accuracy)\n",
    "\n",
    "print(\n",
    "    f\"Уменьшение ошибки при использовании SCF объединения шаблонов и SCF расстояния: ${round(scf_gain * 100, 3)}\\%$\"\n",
    ")"
   ]
  },
  {
   "cell_type": "code",
   "execution_count": 11,
   "metadata": {},
   "outputs": [
    {
     "name": "stdout",
     "output_type": "stream",
     "text": [
      "Уменьшение ошибки при использовании SCF объединения шаблонов и SCF расстояния: $7.475\\%$\n"
     ]
    }
   ],
   "source": [
    "# ijb-c\n",
    "mean_pool_accuracy = 0.95973\n",
    "scf_accuracy = 0.96274\n",
    "scf_gain = calculate_gain(base_accuracy=mean_pool_accuracy, new_accuracy=scf_accuracy)\n",
    "\n",
    "print(\n",
    "    f\"Уменьшение ошибки при использовании SCF объединения шаблонов и SCF расстояния: ${round(scf_gain * 100, 3)}\\%$\"\n",
    ")"
   ]
  },
  {
   "cell_type": "code",
   "execution_count": 7,
   "metadata": {},
   "outputs": [
    {
     "name": "stdout",
     "output_type": "stream",
     "text": [
      "Уменьшение ошибки при использовании SCF объединения шаблонов и SCF расстояния: $11.898\\%$\n"
     ]
    }
   ],
   "source": [
    "# ijb-b\n",
    "mean_pool_accuracy = 0.957733\n",
    "scf_accuracy = 0.962762\n",
    "scf_gain = calculate_gain(base_accuracy=mean_pool_accuracy, new_accuracy=scf_accuracy)\n",
    "\n",
    "print(\n",
    "    f\"Уменьшение ошибки при использовании SCF объединения шаблонов и SCF расстояния: ${round(scf_gain * 100, 3)}\\%$\"\n",
    ")"
   ]
  },
  {
   "cell_type": "code",
   "execution_count": 15,
   "metadata": {},
   "outputs": [
    {
     "name": "stdout",
     "output_type": "stream",
     "text": [
      "Уменьшение ошибки при использовании SCF объединения шаблонов, SCF расстояния и NAC($k=120$): $0.456\\%$\n"
     ]
    }
   ],
   "source": [
    "mean_pool_accuracy = 0.96274\n",
    "scf_accuracy = 0.96291\n",
    "scf_gain = calculate_gain(base_accuracy=mean_pool_accuracy, new_accuracy=scf_accuracy)\n",
    "\n",
    "print(\n",
    "    f\"Уменьшение ошибки при использовании SCF объединения шаблонов, SCF расстояния и NAC($k=120$): ${round(scf_gain * 100, 3)}\\%$\"\n",
    ")"
   ]
  },
  {
   "attachments": {},
   "cell_type": "markdown",
   "metadata": {},
   "source": []
  },
  {
   "attachments": {},
   "cell_type": "markdown",
   "metadata": {},
   "source": [
    "### SCF dist + NAC"
   ]
  },
  {
   "cell_type": "markdown",
   "metadata": {},
   "source": []
  },
  {
   "cell_type": "code",
   "execution_count": 2,
   "metadata": {},
   "outputs": [
    {
     "name": "stdout",
     "output_type": "stream",
     "text": [
      "Уменьшение ошибки при использовании SCF объединения шаблонов, SCF расстояния и NAC($k=120$): $12.244\\%$\n"
     ]
    }
   ],
   "source": [
    "mean_pool_accuracy = 0.957733\n",
    "scf_accuracy = 0.962908\n",
    "scf_gain = calculate_gain(base_accuracy=mean_pool_accuracy, new_accuracy=scf_accuracy)\n",
    "\n",
    "print(\n",
    "    f\"Уменьшение ошибки при использовании SCF объединения шаблонов, SCF расстояния и NAC($k=120$): ${round(scf_gain * 100, 3)}\\%$\"\n",
    ")"
   ]
  },
  {
   "attachments": {},
   "cell_type": "markdown",
   "metadata": {},
   "source": [
    "## Final gain"
   ]
  },
  {
   "cell_type": "code",
   "execution_count": 17,
   "metadata": {},
   "outputs": [
    {
     "name": "stdout",
     "output_type": "stream",
     "text": [
      "Уменьшение ошибки при использовании SCF объединения шаблонов, SCF расстояния: $5.578\\%$\n"
     ]
    }
   ],
   "source": [
    "# ijb-b\n",
    "mean_pool_accuracy = 0.94532\n",
    "scf_accuracy = 0.94837\n",
    "scf_gain = calculate_gain(base_accuracy=mean_pool_accuracy, new_accuracy=scf_accuracy)\n",
    "\n",
    "print(\n",
    "    f\"Уменьшение ошибки при использовании SCF объединения шаблонов, SCF расстояния: ${round(scf_gain * 100, 3)}\\%$\"\n",
    ")"
   ]
  },
  {
   "cell_type": "code",
   "execution_count": 18,
   "metadata": {},
   "outputs": [
    {
     "name": "stdout",
     "output_type": "stream",
     "text": [
      "Уменьшение ошибки при использовании SCF объединения шаблонов, SCF расстояния и NAC($k=120$): $12.255\\%$\n"
     ]
    }
   ],
   "source": [
    "# ijb-c\n",
    "mean_pool_accuracy = 0.95773\n",
    "scf_accuracy = 0.96291\n",
    "scf_gain = calculate_gain(base_accuracy=mean_pool_accuracy, new_accuracy=scf_accuracy)\n",
    "\n",
    "print(\n",
    "    f\"Уменьшение ошибки при использовании SCF объединения шаблонов, SCF расстояния и NAC($k=120$): ${round(scf_gain * 100, 3)}\\%$\"\n",
    ")"
   ]
  },
  {
   "cell_type": "code",
   "execution_count": 19,
   "metadata": {},
   "outputs": [
    {
     "name": "stdout",
     "output_type": "stream",
     "text": [
      "Уменьшение ошибки при использовании SCF объединения шаблонов, SCF расстояния и NAC($k=120$): $3.562\\%$\n"
     ]
    }
   ],
   "source": [
    "# survFace\n",
    "mean_pool_accuracy = 0.06486\n",
    "scf_accuracy = 0.06717\n",
    "scf_gain = calculate_auc_gain(\n",
    "    base_accuracy=mean_pool_accuracy, new_accuracy=scf_accuracy\n",
    ")\n",
    "\n",
    "print(\n",
    "    f\"Уменьшение ошибки при использовании SCF объединения шаблонов, SCF расстояния и NAC($k=120$): ${round(scf_gain * 100, 3)}\\%$\"\n",
    ")"
   ]
  }
 ],
 "metadata": {
  "kernelspec": {
   "display_name": "base",
   "language": "python",
   "name": "python3"
  },
  "language_info": {
   "codemirror_mode": {
    "name": "ipython",
    "version": 3
   },
   "file_extension": ".py",
   "mimetype": "text/x-python",
   "name": "python",
   "nbconvert_exporter": "python",
   "pygments_lexer": "ipython3",
   "version": "3.9.7"
  },
  "orig_nbformat": 4
 },
 "nbformat": 4,
 "nbformat_minor": 2
}
