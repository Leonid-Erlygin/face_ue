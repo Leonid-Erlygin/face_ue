{
 "cells": [
  {
   "cell_type": "code",
   "execution_count": 1,
   "metadata": {},
   "outputs": [],
   "source": [
    "def calculate_gain(base_accuracy, new_accuracy):\n",
    "    base_error = 1 - base_accuracy\n",
    "    new_error = 1 - new_accuracy\n",
    "    return (base_error - new_error) / base_error"
   ]
  },
  {
   "attachments": {},
   "cell_type": "markdown",
   "metadata": {},
   "source": [
    "### Объединение шаблонов"
   ]
  },
  {
   "cell_type": "code",
   "execution_count": 3,
   "metadata": {},
   "outputs": [],
   "source": [
    "\n",
    "mean_pool_accuracy = 0.957733\n",
    "scf_pool_accuracy = 0.959731\n",
    "pfe_pool_accuracy = 0.959780\n",
    "scf_pool_gain = calculate_gain(base_accuracy=mean_pool_accuracy, new_accuracy=scf_pool_accuracy)\n",
    "pfe_pool_gain = calculate_gain(base_accuracy=mean_pool_accuracy, new_accuracy=pfe_pool_accuracy)"
   ]
  },
  {
   "cell_type": "code",
   "execution_count": 4,
   "metadata": {},
   "outputs": [
    {
     "name": "stdout",
     "output_type": "stream",
     "text": [
      "Уменьшение ошибки при использовании SCF и PFE объединения шаблонов $4.727\\%$ и $4.843\\%$ соответственно\n"
     ]
    }
   ],
   "source": [
    "\n",
    "print(f'Уменьшение ошибки при использовании SCF и PFE объединения шаблонов ${round(scf_pool_gain * 100, 3)}\\%$ и ${round(pfe_pool_gain * 100, 3)}\\%$ соответственно')"
   ]
  },
  {
   "attachments": {},
   "cell_type": "markdown",
   "metadata": {},
   "source": [
    "### NAC"
   ]
  },
  {
   "cell_type": "code",
   "execution_count": 5,
   "metadata": {},
   "outputs": [],
   "source": [
    "mean_pool_accuracy = 0.957733\n",
    "nac_accuracy = 0.957824\n",
    "nac_gain = calculate_gain(base_accuracy=mean_pool_accuracy, new_accuracy=nac_accuracy)"
   ]
  },
  {
   "cell_type": "code",
   "execution_count": 6,
   "metadata": {},
   "outputs": [
    {
     "name": "stdout",
     "output_type": "stream",
     "text": [
      "Уменьшение ошибки при использовании NAC, $k=120$ $0.215\\%$\n"
     ]
    }
   ],
   "source": [
    "print(f'Уменьшение ошибки при использовании NAC, $k=120$: ${round(nac_gain * 100, 3)}\\%$')"
   ]
  },
  {
   "attachments": {},
   "cell_type": "markdown",
   "metadata": {},
   "source": [
    "### SCF dist"
   ]
  },
  {
   "cell_type": "code",
   "execution_count": 7,
   "metadata": {},
   "outputs": [
    {
     "name": "stdout",
     "output_type": "stream",
     "text": [
      "Уменьшение ошибки при использовании SCF объединения шаблонов и SCF расстояния: $11.898\\%$\n"
     ]
    }
   ],
   "source": [
    "mean_pool_accuracy = 0.957733\n",
    "scf_accuracy = 0.962762\n",
    "scf_gain = calculate_gain(base_accuracy=mean_pool_accuracy, new_accuracy=scf_accuracy)\n",
    "\n",
    "print(f'Уменьшение ошибки при использовании SCF объединения шаблонов и SCF расстояния: ${round(scf_gain * 100, 3)}\\%$')"
   ]
  },
  {
   "attachments": {},
   "cell_type": "markdown",
   "metadata": {},
   "source": [
    "### SCF dist + NAC"
   ]
  },
  {
   "cell_type": "code",
   "execution_count": 2,
   "metadata": {},
   "outputs": [
    {
     "name": "stdout",
     "output_type": "stream",
     "text": [
      "Уменьшение ошибки при использовании SCF объединения шаблонов, SCF расстояния и NAC($k=120$): $12.244\\%$\n"
     ]
    }
   ],
   "source": [
    "mean_pool_accuracy = 0.957733\n",
    "scf_accuracy = 0.962908\n",
    "scf_gain = calculate_gain(base_accuracy=mean_pool_accuracy, new_accuracy=scf_accuracy)\n",
    "\n",
    "print(f'Уменьшение ошибки при использовании SCF объединения шаблонов, SCF расстояния и NAC($k=120$): ${round(scf_gain * 100, 3)}\\%$')"
   ]
  },
  {
   "cell_type": "code",
   "execution_count": 3,
   "metadata": {},
   "outputs": [
    {
     "data": {
      "text/plain": [
       "0.037092000000000014"
      ]
     },
     "execution_count": 3,
     "metadata": {},
     "output_type": "execute_result"
    }
   ],
   "source": [
    "1 - scf_accuracy"
   ]
  },
  {
   "cell_type": "code",
   "execution_count": 4,
   "metadata": {},
   "outputs": [
    {
     "data": {
      "text/plain": [
       "0.042267000000000055"
      ]
     },
     "execution_count": 4,
     "metadata": {},
     "output_type": "execute_result"
    }
   ],
   "source": [
    "1 - mean_pool_accuracy"
   ]
  },
  {
   "cell_type": "code",
   "execution_count": 5,
   "metadata": {},
   "outputs": [
    {
     "data": {
      "text/plain": [
       "0.005175000000000041"
      ]
     },
     "execution_count": 5,
     "metadata": {},
     "output_type": "execute_result"
    }
   ],
   "source": [
    "0.042267000000000055 - 0.037092000000000014"
   ]
  },
  {
   "cell_type": "code",
   "execution_count": 6,
   "metadata": {},
   "outputs": [
    {
     "data": {
      "text/plain": [
       "0.12243594293420479"
      ]
     },
     "execution_count": 6,
     "metadata": {},
     "output_type": "execute_result"
    }
   ],
   "source": [
    "0.005175000000000041/(1 - mean_pool_accuracy)"
   ]
  },
  {
   "cell_type": "code",
   "execution_count": null,
   "metadata": {},
   "outputs": [],
   "source": [
    "total = part * fraction"
   ]
  },
  {
   "cell_type": "code",
   "execution_count": 7,
   "metadata": {},
   "outputs": [
    {
     "data": {
      "text/plain": [
       "8.167536231884004"
      ]
     },
     "execution_count": 7,
     "metadata": {},
     "output_type": "execute_result"
    }
   ],
   "source": [
    "(1 - mean_pool_accuracy) / 0.005175000000000041"
   ]
  },
  {
   "cell_type": "code",
   "execution_count": 8,
   "metadata": {},
   "outputs": [
    {
     "data": {
      "text/plain": [
       "0.9999999999999999"
      ]
     },
     "execution_count": 8,
     "metadata": {},
     "output_type": "execute_result"
    }
   ],
   "source": [
    "0.12243594293420479 * 8.167536231884004"
   ]
  },
  {
   "cell_type": "code",
   "execution_count": null,
   "metadata": {},
   "outputs": [],
   "source": []
  }
 ],
 "metadata": {
  "kernelspec": {
   "display_name": "base",
   "language": "python",
   "name": "python3"
  },
  "language_info": {
   "codemirror_mode": {
    "name": "ipython",
    "version": 3
   },
   "file_extension": ".py",
   "mimetype": "text/x-python",
   "name": "python",
   "nbconvert_exporter": "python",
   "pygments_lexer": "ipython3",
   "version": "3.9.7"
  },
  "orig_nbformat": 4
 },
 "nbformat": 4,
 "nbformat_minor": 2
}
