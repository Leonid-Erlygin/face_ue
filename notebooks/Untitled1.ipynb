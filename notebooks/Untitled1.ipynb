{
 "cells": [
  {
   "cell_type": "code",
   "execution_count": 5,
   "id": "distinguished-monday",
   "metadata": {},
   "outputs": [],
   "source": [
    "%load_ext autoreload\n",
    "%autoreload 2\n",
    "from utils.dataset import Dataset\n",
    "from utils.dataset_lfw import Dataset as LFW_Dataset\n",
    "from utils.imageprocessing import preprocess\n",
    "import model as mlib\n",
    "from tqdm import tqdm\n",
    "import torch\n",
    "import numpy as np"
   ]
  },
  {
   "cell_type": "code",
   "execution_count": 6,
   "id": "natural-empire",
   "metadata": {},
   "outputs": [],
   "source": [
    "batches = 100"
   ]
  },
  {
   "cell_type": "code",
   "execution_count": 7,
   "id": "authentic-offense",
   "metadata": {},
   "outputs": [],
   "source": [
    "trainset = Dataset(\"/gpfs/gpfs0/r.karimov/pfe/list_casia_mtcnncaffe_aligned_nooverlap.txt\")"
   ]
  },
  {
   "cell_type": "code",
   "execution_count": 8,
   "id": "distant-opposition",
   "metadata": {},
   "outputs": [],
   "source": [
    "batch_format = {\n",
    "         \"size\": 128,\n",
    "         \"num_classes\": 64,\n",
    "}\n",
    "proc_func = lambda images: preprocess(images, True)\n",
    "trainset.start_batch_queue(batch_format, proc_func=proc_func)"
   ]
  },
  {
   "cell_type": "code",
   "execution_count": 91,
   "id": "formed-ribbon",
   "metadata": {},
   "outputs": [],
   "source": [
    "model_dict = torch.load(\"pfe/sota.pth.tar\")"
   ]
  },
  {
   "cell_type": "code",
   "execution_count": 92,
   "id": "future-queen",
   "metadata": {},
   "outputs": [],
   "source": [
    "model = dict()\n",
    "model[\"backbone\"] = mlib.SphereNet20()\n",
    "model[\"backbone\"].load_state_dict(model_dict[\"backbone\"])\n",
    "model[\"uncertain\"] = mlib.UncertaintyHead(512)\n",
    "model[\"uncertain\"].load_state_dict(model_dict[\"uncertain\"])\n",
    "model[\"criterion\"] = mlib.MLSLoss(mean=False)"
   ]
  },
  {
   "cell_type": "code",
   "execution_count": 93,
   "id": "beginning-sperm",
   "metadata": {},
   "outputs": [],
   "source": [
    "model[\"backbone\"] = model[\"backbone\"].cuda()\n",
    "model[\"uncertain\"] = model[\"uncertain\"].cuda()"
   ]
  },
  {
   "cell_type": "code",
   "execution_count": 94,
   "id": "current-plenty",
   "metadata": {},
   "outputs": [],
   "source": [
    "paths = LFW_Dataset(\"/trinity/home/r.karimov/face_uncertainty/pfe-pytorch/Probabilistic-Face-Embeddings/data/lfw_mtcnncaffe_aligned/\")['abspath'] "
   ]
  },
  {
   "cell_type": "code",
   "execution_count": 95,
   "id": "behavioral-packaging",
   "metadata": {},
   "outputs": [],
   "source": [
    "images = preprocess(paths,  False)\n",
    "images = torch.from_numpy(images).to(dtype=torch.float32)    \n",
    "images = images.permute(0, 3, 1, 2)"
   ]
  },
  {
   "cell_type": "code",
   "execution_count": 147,
   "id": "guilty-vietnam",
   "metadata": {},
   "outputs": [
    {
     "data": {
      "text/plain": [
       "torch.Size([13233, 3, 112, 96])"
      ]
     },
     "execution_count": 147,
     "metadata": {},
     "output_type": "execute_result"
    }
   ],
   "source": [
    "images.shape"
   ]
  },
  {
   "cell_type": "code",
   "execution_count": 96,
   "id": "challenging-shame",
   "metadata": {},
   "outputs": [],
   "source": [
    "device = torch.device(\"cuda\")"
   ]
  },
  {
   "cell_type": "code",
   "execution_count": 124,
   "id": "inner-stress",
   "metadata": {},
   "outputs": [],
   "source": [
    "import cv2\n",
    "def f(image, k):\n",
    "    kernel = np.ones((k,k),np.float32)/(k ** 2)\n",
    "    dst = cv2.filter2D(image,-1,kernel)\n",
    "    return dst"
   ]
  },
  {
   "cell_type": "code",
   "execution_count": 141,
   "id": "ranging-novel",
   "metadata": {},
   "outputs": [],
   "source": [
    "batch_casia = trainset.pop_batch_queue()"
   ]
  },
  {
   "cell_type": "code",
   "execution_count": 156,
   "id": "white-advocacy",
   "metadata": {},
   "outputs": [],
   "source": [
    "ff_idx = 100\n",
    "img = images[ff_idx:ff_idx+2]\n",
    "gty = torch.from_numpy(batch_casia[\"label\"])"
   ]
  },
  {
   "cell_type": "code",
   "execution_count": 157,
   "id": "exclusive-removal",
   "metadata": {},
   "outputs": [
    {
     "name": "stderr",
     "output_type": "stream",
     "text": [
      "<ipython-input-157-0f4522148cd1>:3: DeprecationWarning: `np.int` is a deprecated alias for the builtin `int`. To silence this warning, use `int` by itself. Doing this will not modify any behavior and is safe. When replacing `np.int`, you may wish to use e.g. `np.int64` or `np.int32` to specify the precision. If you wish to review your current use, check the release note link for additional information.\n",
      "Deprecated in NumPy 1.20; for more details and guidance: https://numpy.org/devdocs/release/1.20.0-notes.html#deprecations\n",
      "  ks = np.linspace(1, 70, 20).astype(np.int)\n"
     ]
    }
   ],
   "source": [
    "ones, fir = [], []\n",
    "gaus1, gaus2 = [], []\n",
    "ks = np.linspace(1, 70, 20).astype(np.int)\n",
    "for i in range(20):\n",
    "    img1 = img[0]\n",
    "    img2 = img[1]\n",
    "    img_1 = f(img1.numpy(), int(ks[i]))\n",
    "    img_2 = f(img2.numpy(), int(ks[i]))\n",
    "    \n",
    "    ad1 = torch.cat((img1[None], torch.from_numpy(img_1[None])), dim=0)\n",
    "    ad2 = torch.cat((torch.from_numpy(img_1[None]), torch.from_numpy(img_2[None])), dim=0)\n",
    "    \n",
    "    feature1, sig_feat1 = model[\"backbone\"](ad1.cuda())\n",
    "    feature2, sig_feat2 = model[\"backbone\"](ad2.cuda())\n",
    "    log_sig_sq1 = model[\"uncertain\"](sig_feat1)\n",
    "    log_sig_sq2 = model[\"uncertain\"](sig_feat2)\n",
    "    \n",
    "    dist1 = torch.norm(feature1[0] - feature1[1])\n",
    "    dist2 = torch.norm(feature2[0] - feature2[1])\n",
    "    gaus1.append(dist1.item())\n",
    "    gaus2.append(dist2.item())\n",
    "    \n",
    "    loss1 = model[\"criterion\"](feature2, log_sig_sq1, torch.ones(2).cuda())\n",
    "    loss2 = model[\"criterion\"](feature2, log_sig_sq2, torch.ones(2).cuda())\n",
    "    ones.append(loss1.item())\n",
    "    fir.append(loss2.item())"
   ]
  },
  {
   "cell_type": "code",
   "execution_count": 158,
   "id": "impressive-orchestra",
   "metadata": {},
   "outputs": [
    {
     "data": {
      "text/plain": [
       "<matplotlib.legend.Legend at 0x155475115dc0>"
      ]
     },
     "execution_count": 158,
     "metadata": {},
     "output_type": "execute_result"
    },
    {
     "data": {
      "image/png": "[encoded data removed]",
      "text/plain": [
       "<Figure size 432x288 with 1 Axes>"
      ]
     },
     "metadata": {
      "needs_background": "light"
     },
     "output_type": "display_data"
    }
   ],
   "source": [
    "plt.title(\"MLS\")\n",
    "plt.plot(ones, label=\"original vs degraded\")\n",
    "plt.plot(fir, label=\"impostor\")\n",
    "plt.legend()"
   ]
  },
  {
   "cell_type": "code",
   "execution_count": 159,
   "id": "talented-excitement",
   "metadata": {},
   "outputs": [
    {
     "data": {
      "text/plain": [
       "<matplotlib.legend.Legend at 0x15547c07fcd0>"
      ]
     },
     "execution_count": 159,
     "metadata": {},
     "output_type": "execute_result"
    },
    {
     "data": {
      "image/png": "[encoded data removed]",
      "text/plain": [
       "<Figure size 432x288 with 1 Axes>"
      ]
     },
     "metadata": {
      "needs_background": "light"
     },
     "output_type": "display_data"
    }
   ],
   "source": [
    "plt.title(\"Euclidean distance on features\")\n",
    "plt.plot(gaus1, label=\"original vs degraded\")\n",
    "plt.plot(gaus2, label=\"impostor\")\n",
    "plt.legend()"
   ]
  },
  {
   "cell_type": "code",
   "execution_count": null,
   "id": "governing-capitol",
   "metadata": {},
   "outputs": [],
   "source": []
  },
  {
   "cell_type": "code",
   "execution_count": null,
   "id": "monthly-copyright",
   "metadata": {},
   "outputs": [],
   "source": []
  }
 ],
 "metadata": {
  "kernelspec": {
   "display_name": "Python 3",
   "language": "python",
   "name": "python3"
  },
  "language_info": {
   "codemirror_mode": {
    "name": "ipython",
    "version": 3
   },
   "file_extension": ".py",
   "mimetype": "text/x-python",
   "name": "python",
   "nbconvert_exporter": "python",
   "pygments_lexer": "ipython3",
   "version": "3.8.8"
  }
 },
 "nbformat": 4,
 "nbformat_minor": 5
}
