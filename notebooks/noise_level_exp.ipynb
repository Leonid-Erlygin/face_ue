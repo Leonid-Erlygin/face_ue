{
 "cells": [
  {
   "cell_type": "code",
   "execution_count": 1,
   "metadata": {},
   "outputs": [],
   "source": [
    "import numpy as np\n",
    "from tqdm import tqdm\n",
    "import torch\n",
    "from torchvision.transforms import v2\n",
    "\n",
    "device = torch.device(\"cuda:0\")"
   ]
  },
  {
   "cell_type": "markdown",
   "metadata": {},
   "source": [
    "### Cosine similarity as a function of augmentation strength"
   ]
  },
  {
   "cell_type": "code",
   "execution_count": 2,
   "metadata": {},
   "outputs": [],
   "source": [
    "number_of_hq_samples = 1000\n",
    "cosine_sim = np.load(\"/app/model_weights/ms1m_cache/cosine_sim.npy\")\n",
    "labels = np.load(\"/app/datasets/ms1m/labels.npy\")"
   ]
  },
  {
   "cell_type": "code",
   "execution_count": 3,
   "metadata": {},
   "outputs": [],
   "source": [
    "seen_ids = []\n",
    "hq_samples = []\n",
    "cosine_sims = []\n",
    "sample_count = 0\n",
    "sorted_sim = np.sort(cosine_sim)[::-1]\n",
    "id_sorted = np.argsort(cosine_sim)[::-1]\n",
    "i = 0\n",
    "while sample_count < number_of_hq_samples:\n",
    "    sample_id = labels[id_sorted[i]]\n",
    "    if sample_id not in seen_ids:\n",
    "        hq_samples.append(id_sorted[i])\n",
    "        sample_count += 1\n",
    "        i += 1\n",
    "        seen_ids.append(sample_id)\n",
    "        cosine_sims.append(sorted_sim[i])\n",
    "    else:\n",
    "        i += 1"
   ]
  },
  {
   "cell_type": "code",
   "execution_count": 4,
   "metadata": {},
   "outputs": [
    {
     "name": "stderr",
     "output_type": "stream",
     "text": [
      "/tmp/ipykernel_96243/1443531500.py:7: FutureWarning: You are using `torch.load` with `weights_only=False` (the current default value), which uses the default pickle module implicitly. It is possible to construct malicious pickle data which will execute arbitrary code during unpickling (See https://github.com/pytorch/pytorch/blob/main/SECURITY.md#untrusted-models for more details). In a future release, the default value for `weights_only` will be flipped to `True`. This limits the functions that could be executed during unpickling. Arbitrary objects will no longer be allowed to be loaded via this mode unless they are explicitly allowlisted by the user via `torch.serialization.add_safe_globals`. We recommend you start setting `weights_only=True` for any use case where you don't have full control of the loaded file. Please open an issue on GitHub for any issues related to this experimental feature.\n",
      "  model_trained = torch.load(\"/app/model_weights/scf_base.ckpt\")\n",
      "/app/face_lib/models/lightning_wrappers.py:38: FutureWarning: You are using `torch.load` with `weights_only=False` (the current default value), which uses the default pickle module implicitly. It is possible to construct malicious pickle data which will execute arbitrary code during unpickling (See https://github.com/pytorch/pytorch/blob/main/SECURITY.md#untrusted-models for more details). In a future release, the default value for `weights_only` will be flipped to `True`. This limits the functions that could be executed during unpickling. Arbitrary objects will no longer be allowed to be loaded via this mode unless they are explicitly allowlisted by the user via `torch.serialization.add_safe_globals`. We recommend you start setting `weights_only=True` for any use case where you don't have full control of the loaded file. Please open an issue on GitHub for any issues related to this experimental feature.\n",
      "  backbone_dict = torch.load(weights)\n",
      "/app/face_lib/models/scf.py:29: FutureWarning: You are using `torch.load` with `weights_only=False` (the current default value), which uses the default pickle module implicitly. It is possible to construct malicious pickle data which will execute arbitrary code during unpickling (See https://github.com/pytorch/pytorch/blob/main/SECURITY.md#untrusted-models for more details). In a future release, the default value for `weights_only` will be flipped to `True`. This limits the functions that could be executed during unpickling. Arbitrary objects will no longer be allowed to be loaded via this mode unless they are explicitly allowlisted by the user via `torch.serialization.add_safe_globals`. We recommend you start setting `weights_only=True` for any use case where you don't have full control of the loaded file. Please open an issue on GitHub for any issues related to this experimental feature.\n",
      "  self.softmax_weights = torch.load(softmax_weights_path)\n"
     ]
    }
   ],
   "source": [
    "from omegaconf import OmegaConf\n",
    "from face_lib.models.lightning_wrappers import ResNet\n",
    "from face_lib.models.scf import SphereConfidenceFace, SoftmaxWeights\n",
    "from face_lib.models.heads import SCFHead\n",
    "\n",
    "conf = OmegaConf.load(\"/app/configs/train/train_scf.yaml\")\n",
    "model_trained = torch.load(\"/app/model_weights/scf_base.ckpt\")\n",
    "backbone = ResNet(\n",
    "    resnet_name=\"iresnet50_normalized\",\n",
    "    weights=\"/app/model_weights/backbone/ms1mv3_arcface_r50/backbone.pth\",\n",
    "    learnable=False,\n",
    ")\n",
    "backbone.to(device)\n",
    "backbone.eval()\n",
    "softmax_weights = SoftmaxWeights(\n",
    "    softmax_weights_path=\"/app/model_weights/backbone/ms1mv3_arcface_r50/softmax_weight.pt\",\n",
    "    radius=64,\n",
    ").softmax_weights\n",
    "softmax_weights = torch.nn.functional.normalize(softmax_weights, p=2.0, dim=1)\n",
    "softmax_weights = softmax_weights.to(device);\n",
    "# head = SCFHead(25088, 12544)\n",
    "# scf_model = SphereConfidenceFace(backbone, head, None, None, None, softmax_weights, None)\n",
    "\n",
    "# scf_model.load_state_dict(model_trained[\"state_dict\"])"
   ]
  },
  {
   "cell_type": "code",
   "execution_count": 5,
   "metadata": {},
   "outputs": [
    {
     "name": "stderr",
     "output_type": "stream",
     "text": [
      "/home/l.erlygin/miniconda/lib/python3.9/site-packages/torchvision/transforms/v2/_deprecated.py:42: UserWarning: The transform `ToTensor()` is deprecated and will be removed in a future release. Instead, please use `v2.Compose([v2.ToImage(), v2.ToDtype(torch.float32, scale=True)])`.Output is equivalent up to float precision.\n",
      "  warnings.warn(\n"
     ]
    }
   ],
   "source": [
    "from face_lib.dataset_classes.lightning_datasets import MXFaceDataset\n",
    "\n",
    "ms1m = MXFaceDataset(root_dir=\"/app/datasets/ms1m/\", test=True)"
   ]
  },
  {
   "cell_type": "code",
   "execution_count": 6,
   "metadata": {},
   "outputs": [],
   "source": [
    "transform = v2.Compose(\n",
    "    [\n",
    "        v2.ToPILImage(),\n",
    "        v2.ToTensor(),\n",
    "        v2.Normalize(mean=[0.5, 0.5, 0.5], std=[0.5, 0.5, 0.5]),\n",
    "    ]\n",
    ")"
   ]
  },
  {
   "cell_type": "code",
   "execution_count": 7,
   "metadata": {},
   "outputs": [
    {
     "name": "stderr",
     "output_type": "stream",
     "text": [
      "  0%|          | 0/1000 [00:00<?, ?it/s]/app/face_lib/models/iresnet.py:198: FutureWarning: `torch.cuda.amp.autocast(args...)` is deprecated. Please use `torch.amp.autocast('cuda', args...)` instead.\n",
      "  with torch.cuda.amp.autocast(self.fp16):\n",
      "100%|██████████| 1000/1000 [00:11<00:00, 90.55it/s]\n",
      "100%|██████████| 1000/1000 [00:10<00:00, 92.97it/s]\n",
      "100%|██████████| 1000/1000 [00:10<00:00, 93.16it/s]\n",
      "100%|██████████| 1000/1000 [00:10<00:00, 94.31it/s]\n",
      "100%|██████████| 1000/1000 [00:10<00:00, 94.12it/s]\n",
      "100%|██████████| 1000/1000 [00:10<00:00, 94.76it/s]\n",
      "100%|██████████| 1000/1000 [00:10<00:00, 92.83it/s]\n",
      "100%|██████████| 1000/1000 [00:10<00:00, 92.39it/s]\n",
      "100%|██████████| 1000/1000 [00:10<00:00, 93.28it/s]\n"
     ]
    }
   ],
   "source": [
    "import matplotlib.pyplot as plt\n",
    "from torchvision.transforms.v2 import GaussianNoise, GaussianBlur\n",
    "\n",
    "sigmas = [0.1, 1, 2, 3, 4, 5, 8, 10, 12]\n",
    "kerner_size = 11\n",
    "cosine_similarities = []\n",
    "for sigma in sigmas:\n",
    "    cos_sim = []\n",
    "    transform_blur = v2.Compose(\n",
    "        [\n",
    "            v2.ToPILImage(),\n",
    "            v2.ToTensor(),\n",
    "            v2.Normalize(mean=[0.5, 0.5, 0.5], std=[0.5, 0.5, 0.5]),\n",
    "            GaussianBlur(kernel_size=kerner_size, sigma=sigma),\n",
    "        ]\n",
    "    )\n",
    "    for image_id in tqdm(range(number_of_hq_samples)):\n",
    "        image = transform_blur(ms1m[hq_samples[image_id]]).to(device)\n",
    "        features = backbone(image[None, ...])[\"feature\"][0, :]\n",
    "        cos_sim.append((features @ softmax_weights[seen_ids[image_id]]).item())\n",
    "    cosine_similarities.append(cos_sim)\n",
    "# GaussianNoise(mean=0.3, sigma=0.5),\n",
    "# GaussianBlur(kernel_size=5, sigma=(1, 5)),\n",
    "\n",
    "# image = (transform_blur(ms1m[hq_samples[-1]]) + 0.5) * 0.5\n",
    "# plt.imshow(image.permute(1, 2, 0))"
   ]
  },
  {
   "cell_type": "code",
   "execution_count": 8,
   "metadata": {},
   "outputs": [],
   "source": [
    "cosine_similarities = np.array(cosine_similarities)"
   ]
  },
  {
   "cell_type": "code",
   "execution_count": 9,
   "metadata": {},
   "outputs": [
    {
     "data": {
      "text/plain": [
       "<AxesSubplot:ylabel='Count'>"
      ]
     },
     "execution_count": 9,
     "metadata": {},
     "output_type": "execute_result"
    },
    {
     "data": {
      "image/png": "[encoded data removed]",
      "text/plain": [
       "<Figure size 640x480 with 1 Axes>"
      ]
     },
     "metadata": {},
     "output_type": "display_data"
    }
   ],
   "source": [
    "import seaborn as sns\n",
    "\n",
    "x = cosine_similarities[-2]\n",
    "np.random.shuffle(x)\n",
    "sns.histplot(x, kde=True, hue_norm=True)"
   ]
  },
  {
   "cell_type": "code",
   "execution_count": 16,
   "metadata": {},
   "outputs": [
    {
     "data": {
      "text/plain": [
       "Text(0, 0.5, 'Cosine similarity')"
      ]
     },
     "execution_count": 16,
     "metadata": {},
     "output_type": "execute_result"
    },
    {
     "data": {
      "image/png": "[encoded data removed]",
      "text/plain": [
       "<Figure size 640x480 with 1 Axes>"
      ]
     },
     "metadata": {},
     "output_type": "display_data"
    }
   ],
   "source": [
    "fig, ax = plt.subplots()\n",
    "mean = np.mean(cosine_similarities, axis=1)\n",
    "std = np.std(cosine_similarities, axis=1)\n",
    "alpha = 0.05\n",
    "high_quantile = np.quantile(cosine_similarities, 1 - alpha / 2, axis=1)\n",
    "low_quantile = -np.quantile(-cosine_similarities, 1 - alpha / 2, axis=1)\n",
    "ax.plot(sigmas, mean, color=\"tab:brown\", zorder=-1)\n",
    "ax.scatter(sigmas, mean, s=20)\n",
    "ax.fill_between(sigmas, low_quantile, high_quantile, alpha=0.2)\n",
    "ax.set_xlabel(\"Sigma\")\n",
    "ax.set_ylabel(\"Cosine similarity\")\n",
    "# ax.fill_between(sigmas, mean - 1.96*std, mean + 1.96*std, alpha=0.2)"
   ]
  },
  {
   "cell_type": "code",
   "execution_count": 11,
   "metadata": {},
   "outputs": [
    {
     "data": {
      "text/plain": [
       "dtype('float64')"
      ]
     },
     "execution_count": 11,
     "metadata": {},
     "output_type": "execute_result"
    }
   ],
   "source": [
    "np.array(sigmas).dtype"
   ]
  },
  {
   "cell_type": "code",
   "execution_count": 12,
   "metadata": {},
   "outputs": [
    {
     "data": {
      "text/plain": [
       "array([[0.99316454, 0.99298769, 0.96350849, ..., 0.90060294, 0.90061486,\n",
       "        0.9006176 ],\n",
       "       [0.96776617, 0.96735513, 0.94894123, ..., 0.89131188, 0.8721469 ,\n",
       "        0.87733305],\n",
       "       [0.83051127, 0.83059818, 0.87140167, ..., 0.7933594 , 0.74477327,\n",
       "        0.79327762],\n",
       "       ...,\n",
       "       [0.52805364, 0.53028852, 0.48443165, ..., 0.34349382, 0.31126243,\n",
       "        0.40894675],\n",
       "       [0.48941398, 0.54085428, 0.36702168, ..., 0.23363081, 0.37807602,\n",
       "        0.32268274],\n",
       "       [0.51780689, 0.51956993, 0.45769146, ..., 0.32246369, 0.28704467,\n",
       "        0.38881385]])"
      ]
     },
     "execution_count": 12,
     "metadata": {},
     "output_type": "execute_result"
    }
   ],
   "source": [
    "cosine_similarities"
   ]
  },
  {
   "cell_type": "code",
   "execution_count": 13,
   "metadata": {},
   "outputs": [
    {
     "data": {
      "text/plain": [
       "device(type='cuda', index=0)"
      ]
     },
     "execution_count": 13,
     "metadata": {},
     "output_type": "execute_result"
    }
   ],
   "source": [
    "softmax_weights.device"
   ]
  },
  {
   "cell_type": "code",
   "execution_count": 19,
   "metadata": {},
   "outputs": [],
   "source": []
  },
  {
   "cell_type": "code",
   "execution_count": 14,
   "metadata": {},
   "outputs": [
    {
     "name": "stderr",
     "output_type": "stream",
     "text": [
      "/app/face_lib/models/iresnet.py:198: FutureWarning: `torch.cuda.amp.autocast(args...)` is deprecated. Please use `torch.amp.autocast('cuda', args...)` instead.\n",
      "  with torch.cuda.amp.autocast(self.fp16):\n"
     ]
    }
   ],
   "source": [
    "features = backbone(image[None, ...])[\"feature\"][0, :]"
   ]
  },
  {
   "cell_type": "code",
   "execution_count": null,
   "metadata": {},
   "outputs": [],
   "source": []
  },
  {
   "cell_type": "code",
   "execution_count": 15,
   "metadata": {},
   "outputs": [
    {
     "data": {
      "text/plain": [
       "0.9006073"
      ]
     },
     "execution_count": 15,
     "metadata": {},
     "output_type": "execute_result"
    }
   ],
   "source": [
    "cosine_sims[-1]"
   ]
  }
 ],
 "metadata": {
  "kernelspec": {
   "display_name": "base",
   "language": "python",
   "name": "python3"
  },
  "language_info": {
   "codemirror_mode": {
    "name": "ipython",
    "version": 3
   },
   "file_extension": ".py",
   "mimetype": "text/x-python",
   "name": "python",
   "nbconvert_exporter": "python",
   "pygments_lexer": "ipython3",
   "version": "3.9.7"
  }
 },
 "nbformat": 4,
 "nbformat_minor": 2
}
