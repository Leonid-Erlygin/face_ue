{
 "cells": [
  {
   "cell_type": "markdown",
   "metadata": {},
   "source": [
    "In this notebook, I will implement Monte Carlo incertainty estimation in OSFR "
   ]
  },
  {
   "cell_type": "markdown",
   "metadata": {},
   "source": [
    "### 1. vMF sampler"
   ]
  },
  {
   "cell_type": "code",
   "execution_count": 3,
   "metadata": {},
   "outputs": [],
   "source": [
    "from evaluation.samplers import random_VMF\n",
    "import numpy as np\n",
    "import matplotlib.pyplot as plt\n",
    "\n",
    "size = 20\n",
    "samples = random_VMF([0, 1], kappa=5, size=size)\n",
    "# plt.scatter(samples[:,0], samples[:,1])\n",
    "# plt.xlim([-1, 1])\n",
    "# plt.ylim([-1, 1])\n",
    "# ax = plt.gca()\n",
    "# ax.set_aspect('equal', adjustable='box')\n",
    "# plt.draw()"
   ]
  },
  {
   "cell_type": "markdown",
   "metadata": {},
   "source": [
    "### 2. Toy example"
   ]
  },
  {
   "cell_type": "code",
   "execution_count": 7,
   "metadata": {},
   "outputs": [
    {
     "name": "stdout",
     "output_type": "stream",
     "text": [
      "3\n",
      "2\n",
      "2\n",
      "1\n",
      "1\n",
      "0\n",
      "0\n",
      "0\n",
      "0\n",
      "3\n",
      "2\n",
      "3\n",
      "2\n",
      "2\n",
      "3\n",
      "2\n",
      "2\n",
      "2\n",
      "2\n",
      "3\n",
      "1\n",
      "3\n",
      "2\n",
      "0\n",
      "1\n",
      "3\n",
      "2\n",
      "0\n",
      "3\n",
      "2\n",
      "3\n",
      "0\n",
      "0\n",
      "3\n",
      "0\n",
      "2\n",
      "0\n",
      "1\n",
      "1\n",
      "1\n",
      "1\n",
      "0\n",
      "0\n",
      "0\n",
      "0\n",
      "2\n",
      "2\n",
      "2\n",
      "1\n",
      "2\n"
     ]
    }
   ],
   "source": [
    "gallery_features = []  # N gallery samples X 512\n",
    "gallery_unc = []  # N gallery samples X 1\n",
    "gallery_subject_ids_sorted = []  # N gallery samples\n",
    "\n",
    "\n",
    "class_centers = np.array([[0, 1], [], [], []])\n",
    "\n",
    "\n",
    "# N = 50 # dataset size\n",
    "# K = 4\n",
    "# rng = np.random.default_rng(seed = 0)\n",
    "\n",
    "# # generate random dataset\n",
    "# for _ in range(N):\n",
    "#     # sample class id\n",
    "#     c = rng.choice(np.arange(K), size = 1)[0]\n",
    "\n",
    "#     # sample"
   ]
  },
  {
   "cell_type": "code",
   "execution_count": null,
   "metadata": {},
   "outputs": [],
   "source": []
  }
 ],
 "metadata": {
  "kernelspec": {
   "display_name": "base",
   "language": "python",
   "name": "python3"
  },
  "language_info": {
   "codemirror_mode": {
    "name": "ipython",
    "version": 3
   },
   "file_extension": ".py",
   "mimetype": "text/x-python",
   "name": "python",
   "nbconvert_exporter": "python",
   "pygments_lexer": "ipython3",
   "version": "3.9.7"
  }
 },
 "nbformat": 4,
 "nbformat_minor": 2
}
