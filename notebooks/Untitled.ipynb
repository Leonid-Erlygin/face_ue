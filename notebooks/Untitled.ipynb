{
 "cells": [
  {
   "cell_type": "code",
   "execution_count": 1,
   "id": "informal-photographer",
   "metadata": {},
   "outputs": [],
   "source": [
    "%load_ext autoreload\n",
    "%autoreload 2\n",
    "from utils.dataset import Dataset\n",
    "from utils.dataset_lfw import Dataset as LFW_Dataset\n",
    "from utils.imageprocessing import preprocess\n",
    "import model as mlib\n",
    "from tqdm import tqdm\n",
    "import torch\n",
    "import numpy as np"
   ]
  },
  {
   "cell_type": "code",
   "execution_count": 2,
   "id": "pressed-pilot",
   "metadata": {},
   "outputs": [],
   "source": [
    "batches = 100"
   ]
  },
  {
   "cell_type": "code",
   "execution_count": 3,
   "id": "significant-ribbon",
   "metadata": {},
   "outputs": [],
   "source": [
    "trainset = Dataset(\"/gpfs/gpfs0/r.karimov/pfe/list_casia_mtcnncaffe_aligned_nooverlap.txt\")"
   ]
  },
  {
   "cell_type": "code",
   "execution_count": 4,
   "id": "packed-stranger",
   "metadata": {},
   "outputs": [],
   "source": [
    "batch_format = {\n",
    "         \"size\": 128,\n",
    "         \"num_classes\": 64,\n",
    "}\n",
    "proc_func = lambda images: preprocess(images, True)\n",
    "trainset.start_batch_queue(batch_format, proc_func=proc_func)"
   ]
  },
  {
   "cell_type": "code",
   "execution_count": 5,
   "id": "conceptual-degree",
   "metadata": {},
   "outputs": [],
   "source": [
    "model_dict = torch.load(\"pfe/sota.pth.tar\")"
   ]
  },
  {
   "cell_type": "code",
   "execution_count": 6,
   "id": "boring-seattle",
   "metadata": {},
   "outputs": [],
   "source": [
    "model = dict()\n",
    "model[\"backbone\"] = mlib.SphereNet20()\n",
    "model[\"backbone\"].load_state_dict(model_dict[\"backbone\"])\n",
    "model[\"uncertain\"] = mlib.UncertaintyHead(512)\n",
    "model[\"uncertain\"].load_state_dict(model_dict[\"uncertain\"])\n",
    "model[\"criterion\"] = mlib.MLSLoss(mean=False)"
   ]
  },
  {
   "cell_type": "code",
   "execution_count": 7,
   "id": "iraqi-tobago",
   "metadata": {},
   "outputs": [],
   "source": [
    "model[\"backbone\"] = model[\"backbone\"].cuda()\n",
    "model[\"uncertain\"] = model[\"uncertain\"].cuda()"
   ]
  },
  {
   "cell_type": "code",
   "execution_count": 8,
   "id": "together-swiss",
   "metadata": {},
   "outputs": [],
   "source": [
    "paths = LFW_Dataset(\"/trinity/home/r.karimov/face_uncertainty/pfe-pytorch/Probabilistic-Face-Embeddings/data/lfw_mtcnncaffe_aligned/\")['abspath'] "
   ]
  },
  {
   "cell_type": "code",
   "execution_count": 9,
   "id": "competitive-reality",
   "metadata": {},
   "outputs": [],
   "source": [
    "images = preprocess(paths,  False)\n",
    "images = torch.from_numpy(images).to(dtype=torch.float32)    \n",
    "images = images.permute(0, 3, 1, 2)"
   ]
  },
  {
   "cell_type": "code",
   "execution_count": 10,
   "id": "appropriate-color",
   "metadata": {},
   "outputs": [],
   "source": [
    "device = torch.device(\"cuda\")"
   ]
  },
  {
   "cell_type": "code",
   "execution_count": 11,
   "id": "aboriginal-extreme",
   "metadata": {},
   "outputs": [],
   "source": [
    "mus = []\n",
    "sigs = []\n",
    "cur = 0\n",
    "batch_size = 256\n",
    "while True:\n",
    "    if cur >= images.shape[0]:\n",
    "        break\n",
    "    images_ = images[cur: cur + batch_size].to(device)\n",
    "    cur += batch_size\n",
    "    mu, sigma_sq = model[\"backbone\"](images_)\n",
    "    log_sig_sq = model[\"uncertain\"](sigma_sq)\n",
    "    mu = mu.detach().cpu()\n",
    "    sigma_sq = log_sig_sq.detach().cpu()\n",
    "    mus.append(mu)\n",
    "    sigs.append(sigma_sq)"
   ]
  },
  {
   "cell_type": "code",
   "execution_count": 12,
   "id": "clean-mileage",
   "metadata": {},
   "outputs": [],
   "source": [
    "mus = torch.cat(mus, dim=0)\n",
    "sigs = torch.cat(sigs, dim=0)"
   ]
  },
  {
   "cell_type": "code",
   "execution_count": 13,
   "id": "ongoing-socket",
   "metadata": {
    "scrolled": true
   },
   "outputs": [
    {
     "name": "stderr",
     "output_type": "stream",
     "text": [
      "100%|██████████| 500/500 [01:38<00:00,  5.07it/s]\n"
     ]
    }
   ],
   "source": [
    "ins, inns = [], []\n",
    "outs = []\n",
    "inf = []\n",
    "outf = []\n",
    "innf = []\n",
    "for ids in tqdm(range(500)):\n",
    "    batch_casia = trainset.pop_batch_queue()\n",
    "    \n",
    "    img = torch.from_numpy(batch_casia[\"image\"]).permute(0, 3, 1, 2)\n",
    "    gty = torch.from_numpy(batch_casia[\"label\"])\n",
    "    \n",
    "    img = img.to(device)\n",
    "    \n",
    "    feature, sig_feat = model[\"backbone\"](img)\n",
    "    log_sig_sq = model[\"uncertain\"](sig_feat)\n",
    "    \n",
    "    inds = np.random.randint(0, mus.shape[0], (gty.shape[0],))\n",
    "    feature_ = mus[inds].to(device)\n",
    "    sigs_ = sigs[inds].to(device)\n",
    "    ln = gty.shape[0]\n",
    "    \n",
    "    non_diag_mask = (1 - torch.eye(feature.size(0))).int()\n",
    "    gty_mask = (torch.eq(gty[:, None], gty[None, :])).int()\n",
    "    pos_mask = (non_diag_mask * gty_mask) > 0\n",
    "    fs1 = torch.norm(feature[:,None] - feature[None,:], dim=-1)\n",
    "    pk = fs1[pos_mask].mean()\n",
    "    innf.append(pk.item())\n",
    "    \n",
    "    feature2 = torch.cat((feature, feature_), dim=0)\n",
    "    log_sig_sq2 = torch.cat((log_sig_sq, sigs_), dim=0)\n",
    "    \n",
    "    fs = torch.norm(feature2[:,None] - feature2[None,:], dim=-1)\n",
    "    \n",
    "    inf.append(fs[:ln,:ln].mean().cpu().item())\n",
    "    outf.append(fs[:ln,ln:].mean().cpu().item())\n",
    "    \n",
    "    loss_in, loss_out = model[\"criterion\"].forward_masked(feature2, log_sig_sq2, gty, None)\n",
    "    loss = model[\"criterion\"](feature, log_sig_sq, gty)\n",
    "    inns.append(loss.cpu().item())\n",
    "    ins.append(loss_in.cpu().item())\n",
    "    outs.append(loss_out.cpu().item())"
   ]
  },
  {
   "cell_type": "code",
   "execution_count": 48,
   "id": "thrown-adult",
   "metadata": {},
   "outputs": [
    {
     "name": "stderr",
     "output_type": "stream",
     "text": [
      "/trinity/home/r.karimov/miniconda3/envs/py33/lib/python3.8/site-packages/seaborn/distributions.py:2557: FutureWarning: `distplot` is a deprecated function and will be removed in a future version. Please adapt your code to use either `displot` (a figure-level function with similar flexibility) or `histplot` (an axes-level function for histograms).\n",
      "  warnings.warn(msg, FutureWarning)\n",
      "/trinity/home/r.karimov/miniconda3/envs/py33/lib/python3.8/site-packages/seaborn/distributions.py:2557: FutureWarning: `distplot` is a deprecated function and will be removed in a future version. Please adapt your code to use either `displot` (a figure-level function with similar flexibility) or `histplot` (an axes-level function for histograms).\n",
      "  warnings.warn(msg, FutureWarning)\n",
      "/trinity/home/r.karimov/miniconda3/envs/py33/lib/python3.8/site-packages/seaborn/distributions.py:2557: FutureWarning: `distplot` is a deprecated function and will be removed in a future version. Please adapt your code to use either `displot` (a figure-level function with similar flexibility) or `histplot` (an axes-level function for histograms).\n",
      "  warnings.warn(msg, FutureWarning)\n"
     ]
    },
    {
     "data": {
      "text/plain": [
       "<matplotlib.legend.Legend at 0x155212171520>"
      ]
     },
     "execution_count": 48,
     "metadata": {},
     "output_type": "execute_result"
    },
    {
     "data": {
      "image/png": "[encoded data removed]",
      "text/plain": [
       "<Figure size 432x288 with 1 Axes>"
      ]
     },
     "metadata": {
      "needs_background": "light"
     },
     "output_type": "display_data"
    }
   ],
   "source": [
    "import seaborn as sns\n",
    "import matplotlib.pyplot as plt\n",
    "plt.title(\"Norm of feature vectors\")\n",
    "sns.distplot(innf, label=\"in-train-same-id\")\n",
    "sns.distplot(inf, label=\"in-train\")\n",
    "sns.distplot(outf, label=\"train-val\")\n",
    "plt.legend()"
   ]
  },
  {
   "cell_type": "code",
   "execution_count": 49,
   "id": "thrown-berry",
   "metadata": {},
   "outputs": [
    {
     "name": "stderr",
     "output_type": "stream",
     "text": [
      "/trinity/home/r.karimov/miniconda3/envs/py33/lib/python3.8/site-packages/seaborn/distributions.py:2557: FutureWarning: `distplot` is a deprecated function and will be removed in a future version. Please adapt your code to use either `displot` (a figure-level function with similar flexibility) or `histplot` (an axes-level function for histograms).\n",
      "  warnings.warn(msg, FutureWarning)\n",
      "/trinity/home/r.karimov/miniconda3/envs/py33/lib/python3.8/site-packages/seaborn/distributions.py:2557: FutureWarning: `distplot` is a deprecated function and will be removed in a future version. Please adapt your code to use either `displot` (a figure-level function with similar flexibility) or `histplot` (an axes-level function for histograms).\n",
      "  warnings.warn(msg, FutureWarning)\n",
      "/trinity/home/r.karimov/miniconda3/envs/py33/lib/python3.8/site-packages/seaborn/distributions.py:2557: FutureWarning: `distplot` is a deprecated function and will be removed in a future version. Please adapt your code to use either `displot` (a figure-level function with similar flexibility) or `histplot` (an axes-level function for histograms).\n",
      "  warnings.warn(msg, FutureWarning)\n"
     ]
    },
    {
     "data": {
      "text/plain": [
       "<matplotlib.legend.Legend at 0x155212083a60>"
      ]
     },
     "execution_count": 49,
     "metadata": {},
     "output_type": "execute_result"
    },
    {
     "data": {
      "image/png": "[encoded data removed]",
      "text/plain": [
       "<Figure size 432x288 with 1 Axes>"
      ]
     },
     "metadata": {
      "needs_background": "light"
     },
     "output_type": "display_data"
    }
   ],
   "source": [
    "import seaborn as sns\n",
    "import matplotlib.pyplot as plt\n",
    "plt.title(\"MLS of feature vectors as mean of gaussian\")\n",
    "sns.distplot(inns, label=\"in-train-same-id\")\n",
    "sns.distplot(ins, label=\"in-train\")\n",
    "sns.distplot(outs, label=\"train-val\")\n",
    "plt.legend()"
   ]
  },
  {
   "cell_type": "code",
   "execution_count": 50,
   "id": "preceding-marker",
   "metadata": {},
   "outputs": [
    {
     "name": "stderr",
     "output_type": "stream",
     "text": [
      "/trinity/home/r.karimov/miniconda3/envs/py33/lib/python3.8/site-packages/seaborn/distributions.py:2557: FutureWarning: `distplot` is a deprecated function and will be removed in a future version. Please adapt your code to use either `displot` (a figure-level function with similar flexibility) or `histplot` (an axes-level function for histograms).\n",
      "  warnings.warn(msg, FutureWarning)\n",
      "/trinity/home/r.karimov/miniconda3/envs/py33/lib/python3.8/site-packages/seaborn/distributions.py:2557: FutureWarning: `distplot` is a deprecated function and will be removed in a future version. Please adapt your code to use either `displot` (a figure-level function with similar flexibility) or `histplot` (an axes-level function for histograms).\n",
      "  warnings.warn(msg, FutureWarning)\n"
     ]
    },
    {
     "data": {
      "text/plain": [
       "<matplotlib.legend.Legend at 0x1552121c5250>"
      ]
     },
     "execution_count": 50,
     "metadata": {},
     "output_type": "execute_result"
    },
    {
     "data": {
      "image/png": "[encoded data removed]",
      "text/plain": [
       "<Figure size 432x288 with 1 Axes>"
      ]
     },
     "metadata": {
      "needs_background": "light"
     },
     "output_type": "display_data"
    }
   ],
   "source": [
    "import seaborn as sns\n",
    "import matplotlib.pyplot as plt\n",
    "plt.title(\"MLS of feature vectors as mean of gaussian\")\n",
    "sns.distplot(ins, label=\"in-train\")\n",
    "sns.distplot(outs, label=\"train-val\")\n",
    "plt.legend()"
   ]
  },
  {
   "cell_type": "code",
   "execution_count": null,
   "id": "familiar-lotus",
   "metadata": {},
   "outputs": [],
   "source": []
  }
 ],
 "metadata": {
  "kernelspec": {
   "display_name": "Python 3",
   "language": "python",
   "name": "python3"
  },
  "language_info": {
   "codemirror_mode": {
    "name": "ipython",
    "version": 3
   },
   "file_extension": ".py",
   "mimetype": "text/x-python",
   "name": "python",
   "nbconvert_exporter": "python",
   "pygments_lexer": "ipython3",
   "version": "3.8.8"
  }
 },
 "nbformat": 4,
 "nbformat_minor": 5
}
