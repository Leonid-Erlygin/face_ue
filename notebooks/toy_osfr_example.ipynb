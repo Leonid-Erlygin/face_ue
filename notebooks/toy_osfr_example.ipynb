{
 "cells": [
  {
   "cell_type": "code",
   "execution_count": 1,
   "metadata": {},
   "outputs": [],
   "source": [
    "from botorch.models.transforms import Normalize, Standardize\n",
    "from torchvision import datasets, transforms\n",
    "import torch\n",
    "import numpy as np\n",
    "\n",
    "from face_lib.models.losses import ArcFaceLoss\n",
    "from face_lib.models.arcface import MetricLearningModel\n",
    "from toy_scf.models import (\n",
    "    Backbone,\n",
    "    train_arcface,\n",
    "    compute_cosine_sim,\n",
    "    predict_accuracy,\n",
    "    load_arcface_model,\n",
    "    load_scf_model,\n",
    "    train_scf,\n",
    "    get_rejection_accuracy,\n",
    "    compute_kappa,\n",
    ")"
   ]
  },
  {
   "cell_type": "markdown",
   "metadata": {},
   "source": [
    "## Experement setup\n",
    "\n",
    "We construct OSCF protocol on mnist test set by marking of numbers as oog and spliting rest randomly between probe and gallery sets.  \n",
    "Arcface and scf model are trained on mnist train part.  \n",
    "Then we test our MC based OSFR method."
   ]
  },
  {
   "cell_type": "markdown",
   "metadata": {},
   "source": [
    "### 1. Train arcface model"
   ]
  },
  {
   "cell_type": "code",
   "execution_count": 2,
   "metadata": {},
   "outputs": [],
   "source": [
    "transform = transforms.Compose(\n",
    "    [transforms.ToTensor(), transforms.Normalize((0.1307,), (0.3081,))]\n",
    ")\n",
    "mnist_ds_train = datasets.MNIST(\n",
    "    root=\"/app/datasets/mnist\", train=True, download=True, transform=transform\n",
    ")\n",
    "mnist_ds_test = datasets.MNIST(\n",
    "    root=\"/app/datasets/mnist\", train=False, download=True, transform=transform\n",
    ")"
   ]
  },
  {
   "cell_type": "code",
   "execution_count": 3,
   "metadata": {},
   "outputs": [],
   "source": [
    "# NUM_FEATURES = 2\n",
    "# MAX_EPOCH = 30\n",
    "# BATCH_SIZE = 400\n",
    "# backbone_model = Backbone(num_features=NUM_FEATURES)\n",
    "# arcface_loss = ArcFaceLoss()\n",
    "\n",
    "# scheduler_params = {\n",
    "#         \"scheduler\": \"OneCycleLR\",\n",
    "#         \"params\": {\n",
    "#             \"max_lr\": 3e-2,\n",
    "#             \"steps_per_epoch\": len(mnist_ds_train) // BATCH_SIZE,\n",
    "#             \"epochs\": MAX_EPOCH,\n",
    "#             \"div_factor\": 1e2,\n",
    "#             \"final_div_factor\": 1e2,\n",
    "#         },\n",
    "#         \"interval\": \"step\",\n",
    "#         \"frequency\": 1,\n",
    "#     }\n",
    "\n",
    "# arcface_model = MetricLearningModel(\n",
    "#     backbone_model,\n",
    "#     arcface_loss,\n",
    "#     num_labels=10,\n",
    "#     train_set=mnist_ds_train,\n",
    "#     val_set=mnist_ds_test,\n",
    "#     batch_size=BATCH_SIZE,\n",
    "#     num_workers=4,\n",
    "#     scheduler_params=scheduler_params,\n",
    "#     num_features=NUM_FEATURES,\n",
    "# )\n",
    "# run_name = \"arcface_mnist\"\n",
    "# train_arcface(arcface_model, f\"/app/outputs/mnist_train/{run_name}\", project=\"ToyArcFaceMnist\", run_name=run_name, max_epoch=MAX_EPOCH)"
   ]
  },
  {
   "cell_type": "code",
   "execution_count": 4,
   "metadata": {},
   "outputs": [],
   "source": [
    "# arcface_model = load_arcface_model(\n",
    "#     mnist_ds_train,\n",
    "#     mnist_ds_test,\n",
    "#     \"/app/outputs/mnist_train/arcface_mnist/ckpt/epoch=29-val_loss=1.05.ckpt\",\n",
    "#     visualize=True,\n",
    "# )"
   ]
  },
  {
   "cell_type": "code",
   "execution_count": 5,
   "metadata": {},
   "outputs": [
    {
     "name": "stderr",
     "output_type": "stream",
     "text": [
      "/home/l.erlygin/miniconda/lib/python3.9/site-packages/pytorch_lightning/utilities/parsing.py:197: UserWarning: Attribute 'backbone' is an instance of `nn.Module` and is already saved during checkpointing. It is recommended to ignore them using `self.save_hyperparameters(ignore=['backbone'])`.\n",
      "  rank_zero_warn(\n",
      "/home/l.erlygin/miniconda/lib/python3.9/site-packages/pytorch_lightning/utilities/parsing.py:197: UserWarning: Attribute 'loss' is an instance of `nn.Module` and is already saved during checkpointing. It is recommended to ignore them using `self.save_hyperparameters(ignore=['loss'])`.\n",
      "  rank_zero_warn(\n",
      "/home/l.erlygin/miniconda/lib/python3.9/site-packages/lightning_fabric/utilities/cloud_io.py:51: FutureWarning: You are using `torch.load` with `weights_only=False` (the current default value), which uses the default pickle module implicitly. It is possible to construct malicious pickle data which will execute arbitrary code during unpickling (See https://github.com/pytorch/pytorch/blob/main/SECURITY.md#untrusted-models for more details). In a future release, the default value for `weights_only` will be flipped to `True`. This limits the functions that could be executed during unpickling. Arbitrary objects will no longer be allowed to be loaded via this mode unless they are explicitly allowlisted by the user via `torch.serialization.add_safe_globals`. We recommend you start setting `weights_only=True` for any use case where you don't have full control of the loaded file. Please open an issue on GitHub for any issues related to this experimental feature.\n",
      "  return torch.load(f, map_location=map_location)  # type: ignore[arg-type]\n",
      "100%|██████████| 25/25 [00:00<00:00, 39.95it/s]"
     ]
    },
    {
     "name": "stdout",
     "output_type": "stream",
     "text": [
      "Test accuracy: 0.9386\n"
     ]
    },
    {
     "name": "stderr",
     "output_type": "stream",
     "text": [
      "\n"
     ]
    }
   ],
   "source": [
    "arcface_path = \"/app/outputs/mnist_train/arcface_mnist/ckpt/epoch=29-val_loss=1.05.ckpt\"\n",
    "arcface_model = load_arcface_model(\n",
    "    mnist_ds_train,\n",
    "    mnist_ds_test,\n",
    "    arcface_path,\n",
    ")\n",
    "arcface_model.eval()\n",
    "torch.save(arcface_model.softmax_weights.detach().cpu(), \"outputs/softmax_weights.pt\")\n",
    "softmax_weights = (\n",
    "    torch.nn.functional.normalize(arcface_model.softmax_weights, dim=1)\n",
    "    .detach()\n",
    "    .cpu()\n",
    "    .numpy()\n",
    ")"
   ]
  },
  {
   "cell_type": "code",
   "execution_count": 6,
   "metadata": {},
   "outputs": [],
   "source": [
    "# MAX_EPOCH_SCF = 30\n",
    "# BATCH_SIZE_SCF = 400\n",
    "# optimizer_params = {\n",
    "#     \"optimizer_path\": \"torch.optim\",\n",
    "#     \"optimizer_name\": \"AdamW\",\n",
    "#     \"params\": {\"lr\": 3e-2, \"weight_decay\": 0.01},\n",
    "# }\n",
    "# scheduler_params = {\n",
    "#     \"scheduler\": \"OneCycleLR\",\n",
    "#     \"params\": {\n",
    "#         \"max_lr\": 3e-2,\n",
    "#         \"steps_per_epoch\": len(mnist_ds_train) // BATCH_SIZE_SCF,\n",
    "#         \"epochs\": MAX_EPOCH_SCF,\n",
    "#         \"div_factor\": 1e2,\n",
    "#         \"final_div_factor\": 1e2,\n",
    "#     },\n",
    "#     \"interval\": \"step\",\n",
    "#     \"frequency\": 1,\n",
    "# }\n",
    "# scf_model = train_scf(\n",
    "#     \"SCFMnistNew\",\n",
    "#     \"scf_full_mnist\",\n",
    "#     mnist_ds_train,\n",
    "#     mnist_ds_test,\n",
    "#     arcface_path,\n",
    "#     optimizer_params=optimizer_params,\n",
    "#     scheduler_params=scheduler_params,\n",
    "#     max_epoch=MAX_EPOCH_SCF,\n",
    "#     batch_size=BATCH_SIZE_SCF,\n",
    "# )"
   ]
  },
  {
   "cell_type": "code",
   "execution_count": 7,
   "metadata": {},
   "outputs": [
    {
     "name": "stderr",
     "output_type": "stream",
     "text": [
      "  0%|          | 0/25 [00:00<?, ?it/s]"
     ]
    },
    {
     "name": "stderr",
     "output_type": "stream",
     "text": [
      "100%|██████████| 25/25 [00:00<00:00, 43.22it/s]\n"
     ]
    },
    {
     "name": "stdout",
     "output_type": "stream",
     "text": [
      "Test accuracy: 0.9386\n"
     ]
    },
    {
     "name": "stderr",
     "output_type": "stream",
     "text": [
      "/app/face_lib/models/scf.py:30: FutureWarning: You are using `torch.load` with `weights_only=False` (the current default value), which uses the default pickle module implicitly. It is possible to construct malicious pickle data which will execute arbitrary code during unpickling (See https://github.com/pytorch/pytorch/blob/main/SECURITY.md#untrusted-models for more details). In a future release, the default value for `weights_only` will be flipped to `True`. This limits the functions that could be executed during unpickling. Arbitrary objects will no longer be allowed to be loaded via this mode unless they are explicitly allowlisted by the user via `torch.serialization.add_safe_globals`. We recommend you start setting `weights_only=True` for any use case where you don't have full control of the loaded file. Please open an issue on GitHub for any issues related to this experimental feature.\n",
      "  self.softmax_weights = torch.load(softmax_weights_path)\n",
      "/app/notebooks/toy_scf/models.py:243: FutureWarning: You are using `torch.load` with `weights_only=False` (the current default value), which uses the default pickle module implicitly. It is possible to construct malicious pickle data which will execute arbitrary code during unpickling (See https://github.com/pytorch/pytorch/blob/main/SECURITY.md#untrusted-models for more details). In a future release, the default value for `weights_only` will be flipped to `True`. This limits the functions that could be executed during unpickling. Arbitrary objects will no longer be allowed to be loaded via this mode unless they are explicitly allowlisted by the user via `torch.serialization.add_safe_globals`. We recommend you start setting `weights_only=True` for any use case where you don't have full control of the loaded file. Please open an issue on GitHub for any issues related to this experimental feature.\n",
      "  scf_model.load_state_dict(torch.load(scf_path)[\"state_dict\"])\n"
     ]
    }
   ],
   "source": [
    "scf_mnist = load_scf_model(\n",
    "    mnist_ds_train,\n",
    "    mnist_ds_test,\n",
    "    scf_path=\"/app/outputs/SCFMnistNew/scf_full_mnist/ckpt/2024-10-16 14:15:27.462448/epoch=29-step=4500.ckpt\",\n",
    "    arcface_path=arcface_path,\n",
    ")"
   ]
  },
  {
   "cell_type": "code",
   "execution_count": 65,
   "metadata": {},
   "outputs": [],
   "source": [
    "features, labels, kappa = compute_kappa(scf_mnist, mnist_ds_test)"
   ]
  },
  {
   "cell_type": "code",
   "execution_count": 9,
   "metadata": {},
   "outputs": [
    {
     "data": {
      "image/png": "[encoded data removed]",
      "text/plain": [
       "<Figure size 640x480 with 1 Axes>"
      ]
     },
     "metadata": {},
     "output_type": "display_data"
    }
   ],
   "source": [
    "fractions = [0, 0.3, 10]\n",
    "fractions_linspace = np.linspace(fractions[0], fractions[1], fractions[2])\n",
    "\n",
    "model_names = [\n",
    "    \"full_mnist_scf\",\n",
    "]\n",
    "features_list = [\n",
    "    (features, labels, kappa),\n",
    "]\n",
    "fig = get_rejection_accuracy(model_names, features_list, fractions, softmax_weights)\n",
    "fig.show()"
   ]
  },
  {
   "cell_type": "markdown",
   "metadata": {},
   "source": [
    "#### Create OSFR protocol"
   ]
  },
  {
   "cell_type": "code",
   "execution_count": 61,
   "metadata": {},
   "outputs": [],
   "source": [
    "number_to_ids = {number: [] for number in range(10)}\n",
    "for i in range(len(mnist_ds_test)):\n",
    "    number = mnist_ds_test[i][1]\n",
    "    number_to_ids[number].append(i)"
   ]
  },
  {
   "cell_type": "code",
   "execution_count": 62,
   "metadata": {},
   "outputs": [],
   "source": [
    "def approximate_split(a, chunk_size):\n",
    "    return np.split(a[: (len(a) // chunk_size) * chunk_size], len(a) // chunk_size)\n",
    "\n",
    "\n",
    "num_oog_numbers = 5\n",
    "num_images_in_template_oog = 10\n",
    "num_images_in_template = 5\n",
    "rng = np.random.default_rng(0)\n",
    "oog_numbers = set(rng.choice(np.arange(10), num_oog_numbers, replace=False))\n",
    "gallery_numbers = set(np.arange(10)).difference(oog_numbers)\n",
    "\n",
    "# create oog templates\n",
    "oog_number_to_templates = {}\n",
    "for number in oog_numbers:\n",
    "    number_images = np.array(number_to_ids[number]).copy()\n",
    "    rng.shuffle(number_images)\n",
    "    oog_number_to_templates[number] = approximate_split(\n",
    "        number_images, num_images_in_template_oog\n",
    "    )\n",
    "\n",
    "# create gallery and in-gallery probe templates\n",
    "gallery_number_to_templates = {}\n",
    "probe_in_gallery_number_to_templates = {}\n",
    "\n",
    "for number in gallery_numbers:\n",
    "    number_images = np.array(number_to_ids[number]).copy()\n",
    "    rng.shuffle(number_images)\n",
    "    number_images_gallery, number_images_gallery_probe = np.split(\n",
    "        number_images[: (len(number_images) // 2) * 2], 2\n",
    "    )\n",
    "    gallery_number_to_templates[number] = approximate_split(\n",
    "        number_images_gallery, num_images_in_template\n",
    "    )\n",
    "    probe_in_gallery_number_to_templates[number] = approximate_split(\n",
    "        number_images_gallery_probe, num_images_in_template\n",
    "    )"
   ]
  },
  {
   "cell_type": "markdown",
   "metadata": {},
   "source": [
    "#### Compute baseline OSFR metrics"
   ]
  },
  {
   "cell_type": "code",
   "execution_count": 87,
   "metadata": {},
   "outputs": [],
   "source": [
    "def mean_pooling(features, templates):\n",
    "    pooled_template_features = {}\n",
    "    for number in templates:\n",
    "        embs = []\n",
    "        for template in templates[number]:\n",
    "            mean_vector = np.mean(features[template], axis=0, keepdims=True)\n",
    "            embs.append(mean_vector / np.linalg.norm(mean_vector))\n",
    "        pooled_template_features[number] = embs\n",
    "    return pooled_template_features\n",
    "\n",
    "\n",
    "pooled_oog_features = mean_pooling(features, oog_number_to_templates)\n",
    "pooled_gallery_features = mean_pooling(features, gallery_number_to_templates)\n",
    "pooled_probe_in_gallery_features = mean_pooling(\n",
    "    features, probe_in_gallery_number_to_templates\n",
    ")"
   ]
  },
  {
   "cell_type": "code",
   "execution_count": 103,
   "metadata": {},
   "outputs": [],
   "source": [
    "def concatenate_features(pooled_features):\n",
    "    labels = []\n",
    "    features = []\n",
    "    for number in pooled_features:\n",
    "        labels += [number] * len(pooled_features[number])\n",
    "        features.append(np.concatenate(pooled_features[number], axis=0))\n",
    "    return np.concatenate(features, axis=0), np.array(labels)\n",
    "\n",
    "\n",
    "oog_features, oog_labels = concatenate_features(pooled_oog_features)\n",
    "gallery_features, gallery_labels = concatenate_features(pooled_gallery_features)\n",
    "probe_in_gallery_features, probe_in_gallery_labels = concatenate_features(\n",
    "    pooled_probe_in_gallery_features\n",
    ")"
   ]
  },
  {
   "cell_type": "code",
   "execution_count": 104,
   "metadata": {},
   "outputs": [],
   "source": [
    "a = oog_features @ gallery_features.T\n",
    "b = probe_in_gallery_features @ gallery_features.T"
   ]
  },
  {
   "cell_type": "code",
   "execution_count": 132,
   "metadata": {},
   "outputs": [],
   "source": [
    "oog_similarity = oog_features @ gallery_features.T\n",
    "in_gallery_similarity = probe_in_gallery_features @ gallery_features.T\n",
    "oog_accetance_score = np.max(oog_similarity, axis=1)\n",
    "in_gallery_accetance_score = np.max(in_gallery_similarity, axis=1)\n",
    "in_gallery_pred_class = gallery_labels[np.argmax(in_gallery_similarity, axis=1)]\n",
    "\n",
    "true_class_pred = in_gallery_pred_class == probe_in_gallery_labels\n",
    "# taus = np.linspace(oog_accetance_score.min(), 1, 30)\n",
    "taus = np.linspace(oog_accetance_score.min(), 1, 30)\n",
    "fars = []\n",
    "dirs = []\n",
    "\n",
    "for tau in np.sort(oog_accetance_score):\n",
    "    far = np.mean(oog_accetance_score > tau)\n",
    "    dir = np.mean(np.logical_and(in_gallery_accetance_score > tau, true_class_pred))\n",
    "    fars.append(far)\n",
    "    dirs.append(dir)"
   ]
  },
  {
   "cell_type": "code",
   "execution_count": 133,
   "metadata": {},
   "outputs": [
    {
     "data": {
      "text/plain": [
       "493"
      ]
     },
     "execution_count": 133,
     "metadata": {},
     "output_type": "execute_result"
    }
   ],
   "source": [
    "len(oog_accetance_score)"
   ]
  },
  {
   "cell_type": "code",
   "execution_count": 139,
   "metadata": {},
   "outputs": [
    {
     "data": {
      "text/plain": [
       "<matplotlib.legend.Legend at 0x7f428a3fca00>"
      ]
     },
     "execution_count": 139,
     "metadata": {},
     "output_type": "execute_result"
    },
    {
     "data": {
      "image/png": "[encoded data removed]",
      "text/plain": [
       "<Figure size 640x480 with 1 Axes>"
      ]
     },
     "metadata": {},
     "output_type": "display_data"
    }
   ],
   "source": [
    "import matplotlib.pyplot as plt\n",
    "\n",
    "plt.scatter(fars, dirs, label=f\"AUC={np.round(np.mean(dirs),7)}\", s=3)\n",
    "\n",
    "plt.xlabel(\"FAR\")\n",
    "plt.ylabel(\"DIR\")\n",
    "plt.legend()"
   ]
  }
 ],
 "metadata": {
  "kernelspec": {
   "display_name": "base",
   "language": "python",
   "name": "python3"
  },
  "language_info": {
   "codemirror_mode": {
    "name": "ipython",
    "version": 3
   },
   "file_extension": ".py",
   "mimetype": "text/x-python",
   "name": "python",
   "nbconvert_exporter": "python",
   "pygments_lexer": "ipython3",
   "version": "3.9.7"
  }
 },
 "nbformat": 4,
 "nbformat_minor": 2
}
