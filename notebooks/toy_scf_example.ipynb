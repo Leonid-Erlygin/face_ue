{
 "cells": [
  {
   "cell_type": "markdown",
   "metadata": {},
   "source": [
    "Here we illustrate with a toy example the importance of balanced training"
   ]
  },
  {
   "cell_type": "code",
   "execution_count": 1,
   "metadata": {},
   "outputs": [],
   "source": [
    "import numpy as np\n",
    "import torch\n",
    "import matplotlib.pyplot as plt\n",
    "from torchvision import datasets, transforms\n",
    "import torch.nn as nn\n",
    "import torch.nn.functional as F\n",
    "import torch.optim as optim\n",
    "from torch.optim.lr_scheduler import StepLR\n",
    "from face_lib.models.losses import ArcFaceLoss\n",
    "from face_lib.models.arcface import MetricLearningModel\n",
    "import seaborn as sns\n",
    "import pandas as pd\n",
    "from tqdm import tqdm\n",
    "from evaluation.visualize import (\n",
    "    plot_rejection_scores,\n",
    ")\n",
    "from torch.utils.data import DataLoader\n",
    "from utils_notebooks import predict_features, compute_distance_and_visualize\n",
    "\n",
    "from pathlib import Path\n",
    "from pytorch_lightning.loggers import WandbLogger\n",
    "from pytorch_lightning.callbacks import ModelCheckpoint\n",
    "from pytorch_lightning import Trainer\n",
    "import datetime\n",
    "from face_lib.models.scf import SphereConfidenceFace, SoftmaxWeights\n",
    "from face_lib.models.heads import SCFHead\n",
    "from face_lib.models.losses import KLDiracVMF\n",
    "import pytorch_lightning\n",
    "from pytorch_lightning.loggers import WandbLogger\n",
    "from pytorch_lightning.callbacks import ModelCheckpoint\n",
    "from pytorch_lightning import Trainer\n",
    "\n",
    "%load_ext autoreload\n",
    "%autoreload 2"
   ]
  },
  {
   "cell_type": "markdown",
   "metadata": {},
   "source": [
    "### 1. Train arcface on mnist"
   ]
  },
  {
   "cell_type": "code",
   "execution_count": 2,
   "metadata": {},
   "outputs": [],
   "source": [
    "# 1. Define simple model\n",
    "class Backbone(nn.Module):\n",
    "    def __init__(self, num_features=128):\n",
    "        super(Backbone, self).__init__()\n",
    "        self.conv1 = nn.Conv2d(1, 32, 3, 1)\n",
    "        self.bn1 = nn.BatchNorm2d(\n",
    "            32,\n",
    "            eps=1e-05,\n",
    "        )\n",
    "        self.conv2 = nn.Conv2d(32, 64, 3, 1)\n",
    "        self.bn2 = nn.BatchNorm2d(\n",
    "            64,\n",
    "            eps=1e-05,\n",
    "        )\n",
    "        self.features = nn.BatchNorm1d(num_features, eps=1e-05)\n",
    "        self.fc1 = nn.Linear(9216, num_features)\n",
    "\n",
    "    def forward(self, x):\n",
    "        x = self.conv1(x)\n",
    "        x = self.bn1(x)\n",
    "        x = F.relu(x)\n",
    "        x = self.conv2(x)\n",
    "        x = F.relu(x)\n",
    "        x = F.max_pool2d(x, 2)\n",
    "        x = self.bn2(x)\n",
    "        x = torch.flatten(x, 1)\n",
    "        sig_x = x\n",
    "        x = self.fc1(x)\n",
    "        x = self.features(x)\n",
    "        x = F.normalize(x, p=2.0, dim=1)\n",
    "        output = {\n",
    "            \"feature\": x,\n",
    "            \"bottleneck_feature\": sig_x,\n",
    "        }\n",
    "        return output\n",
    "\n",
    "\n",
    "def train_arcface(arcface_model, dirpath: str, run_name: str = \"\", max_epoch=200):\n",
    "    dirpath = Path(dirpath)\n",
    "    wab_logger = WandbLogger(\n",
    "        # api_key=\"agnHNC2vEt7tOxnnxT4LzYf7Y\",\n",
    "        project=\"ToyArcFaceMnist\",\n",
    "        name=run_name,\n",
    "    )\n",
    "\n",
    "    checkpoint_callback = ModelCheckpoint(\n",
    "        monitor=\"val_loss\",\n",
    "        dirpath=dirpath / \"ckpt\",\n",
    "        filename=\"{epoch:02d}-{val_loss:.2f}\",\n",
    "    )\n",
    "    # initialize trainer, use one GPU for training\n",
    "    trainer = Trainer(\n",
    "        max_epochs=max_epoch,\n",
    "        default_root_dir=dirpath,  # \"/app/outputs/arcface_mnist\",\n",
    "        accelerator=\"gpu\",\n",
    "        devices=[0],\n",
    "        benchmark=True,\n",
    "        check_val_every_n_epoch=5,\n",
    "        logger=wab_logger,\n",
    "        callbacks=[checkpoint_callback],\n",
    "    )\n",
    "\n",
    "    # fit the model\n",
    "    trainer.fit(arcface_model)\n",
    "    del wab_logger\n",
    "\n",
    "\n",
    "def compute_cosine_sim(arcface_model, train_dl, test_dl, file_name: str):\n",
    "    predicted_train_features, train_labels = predict_features(arcface_model, train_dl)\n",
    "    softmax_weights = F.normalize(arcface_model.softmax_weights, dim=1)\n",
    "    wc = softmax_weights[train_labels, :].detach().cpu()\n",
    "    predicted_train_features = torch.tensor(predicted_train_features)\n",
    "    cosine_sim_train = torch.sum(predicted_train_features * wc, dim=1, keepdim=True)\n",
    "    cosine_sim_train = cosine_sim_train[:, 0].numpy()\n",
    "    np.save(f\"outputs/train_{file_name}_cosine_sim.npy\", cosine_sim_train)\n",
    "\n",
    "    predicted_test_features, test_labels = predict_features(arcface_model, test_dl)\n",
    "    predicted_test_features = torch.tensor(predicted_test_features)\n",
    "    wc_test = softmax_weights[test_labels, :].detach().cpu()\n",
    "    cosine_sim_test = torch.sum(predicted_test_features * wc_test, dim=1, keepdim=True)\n",
    "    cosine_sim_test = cosine_sim_test[:, 0].numpy()\n",
    "    np.save(f\"outputs/test_{file_name}_cosine_sim.npy\", cosine_sim_test)\n",
    "\n",
    "\n",
    "def predict_accuracy(features, labels, softmax_weights):\n",
    "    predictions = np.argmax(features @ softmax_weights.T, axis=-1)\n",
    "    return np.mean(predictions == labels)\n",
    "\n",
    "\n",
    "def load_arcface_model(\n",
    "    mnist_ds_train, mnist_ds_test, checkpoint_path: str, visualize: bool = False\n",
    "):\n",
    "\n",
    "    NUM_FEATURES = 2\n",
    "    backbone_model = Backbone(num_features=NUM_FEATURES)\n",
    "    arcface_loss = ArcFaceLoss()\n",
    "    arcface_model = MetricLearningModel(\n",
    "        backbone_model,\n",
    "        arcface_loss,\n",
    "        num_labels=10,\n",
    "        train_set=mnist_ds_train,\n",
    "        val_set=mnist_ds_test,\n",
    "        num_features=NUM_FEATURES,\n",
    "    )\n",
    "    arcface_model = arcface_model.load_from_checkpoint(checkpoint_path)\n",
    "\n",
    "    predicted_features, image_labels = predict_features(\n",
    "        arcface_model, arcface_model.val_dataloader()\n",
    "    )\n",
    "\n",
    "    softmax_weights = arcface_model.softmax_weights.detach().cpu()\n",
    "    softmax_weights = F.normalize(softmax_weights, dim=1).numpy()\n",
    "    if visualize:\n",
    "        dists = compute_distance_and_visualize(\n",
    "            predicted_features, image_labels, softmax_weights, num_features=NUM_FEATURES\n",
    "        )\n",
    "    print(\n",
    "        f\"Test accuracy: {predict_accuracy(predicted_features, image_labels, softmax_weights)}\"\n",
    "    )\n",
    "    # print(f\"Average distance: {np.mean(dists)}\")\n",
    "    return arcface_model\n",
    "\n",
    "\n",
    "def load_scf_model(mnist_ds_train, mnist_ds_test, scf_path, arcface_path, radius=1):\n",
    "    optimizer_params = {\n",
    "        \"optimizer_path\": \"torch.optim\",\n",
    "        \"optimizer_name\": \"AdamW\",\n",
    "        \"params\": {\"lr\": 3e-2, \"weight_decay\": 0.01},\n",
    "    }\n",
    "    scheduler_params = {\n",
    "        \"scheduler\": \"StepLR\",\n",
    "        \"params\": {\"step_size\": 10, \"gamma\": 0.5},\n",
    "        \"interval\": \"step\",\n",
    "        \"frequency\": 1,\n",
    "    }\n",
    "    arcface_model = load_arcface_model(mnist_ds_train, mnist_ds_test, arcface_path)\n",
    "    arcface_model = arcface_model.load_from_checkpoint(arcface_path)\n",
    "    backbone = arcface_model.backbone\n",
    "    head = SCFHead(convf_dim=28 * 28, latent_vector_size=10, activation=\"sigmoid\")\n",
    "    softmax_weights = SoftmaxWeights(\n",
    "        softmax_weights_path=f\"outputs/softmax_weights.pt\", radius=radius\n",
    "    )\n",
    "    scf_loss = KLDiracVMF(z_dim=2, radius=radius)\n",
    "    scf_model = SphereConfidenceFace(\n",
    "        backbone=backbone,\n",
    "        head=head,\n",
    "        scf_loss=scf_loss,\n",
    "        optimizer_params=optimizer_params,\n",
    "        scheduler_params=scheduler_params,\n",
    "        softmax_weights=softmax_weights,\n",
    "        permute_batch=False,\n",
    "        predict_kappa_by_input=True,\n",
    "    )\n",
    "\n",
    "    scf_model.load_state_dict(torch.load(scf_path)[\"state_dict\"])\n",
    "    return scf_model\n",
    "\n",
    "\n",
    "def train_scf(\n",
    "    run_name,\n",
    "    mnist_ds_train,\n",
    "    mnist_ds_test,\n",
    "    arcface_path: str,\n",
    "    batch_size=400,\n",
    "    radius=1,\n",
    "    max_epoch=20,\n",
    "    num_features=2,\n",
    "):\n",
    "\n",
    "    optimizer_params = {\n",
    "        \"optimizer_path\": \"torch.optim\",\n",
    "        \"optimizer_name\": \"AdamW\",\n",
    "        \"params\": {\"lr\": 3e-2, \"weight_decay\": 0.01},\n",
    "    }\n",
    "    # scheduler_params = {\n",
    "    #     \"scheduler\": \"StepLR\",\n",
    "    #     \"params\": {\"step_size\": 10, \"gamma\": 0.1},\n",
    "    #     \"interval\": \"epoch\",\n",
    "    #     \"frequency\": 1,\n",
    "    # }\n",
    "    scheduler_params = {\n",
    "        \"scheduler\": \"OneCycleLR\",\n",
    "        \"params\": {\n",
    "            \"max_lr\": 3e-2,\n",
    "            \"steps_per_epoch\": 144,\n",
    "            \"epochs\": max_epoch,\n",
    "            \"div_factor\": 100,\n",
    "            \"final_div_factor\": 1e3,\n",
    "        },\n",
    "        \"interval\": \"step\",\n",
    "        \"frequency\": 1,\n",
    "    }\n",
    "    backbone_model = Backbone(num_features=num_features)\n",
    "    arcface_loss = ArcFaceLoss()\n",
    "\n",
    "    arcface_model = MetricLearningModel(\n",
    "        backbone_model,\n",
    "        arcface_loss,\n",
    "        num_labels=10,\n",
    "        train_set=mnist_ds_train,\n",
    "        val_set=mnist_ds_test,\n",
    "        num_features=num_features,\n",
    "    )\n",
    "    arcface_model = arcface_model.load_from_checkpoint(arcface_path)\n",
    "    backbone = arcface_model.backbone\n",
    "    head = SCFHead(convf_dim=28 * 28, latent_vector_size=10, activation=\"sigmoid\")\n",
    "    softmax_weights = SoftmaxWeights(\n",
    "        softmax_weights_path=f\"outputs/softmax_weights.pt\", radius=radius\n",
    "    )\n",
    "    scf_loss = KLDiracVMF(z_dim=2, radius=radius)\n",
    "    scf_model = SphereConfidenceFace(\n",
    "        backbone=backbone,\n",
    "        head=head,\n",
    "        scf_loss=scf_loss,\n",
    "        optimizer_params=optimizer_params,\n",
    "        scheduler_params=scheduler_params,\n",
    "        softmax_weights=softmax_weights,\n",
    "        permute_batch=False,\n",
    "        predict_kappa_by_input=True,\n",
    "    )\n",
    "\n",
    "    train_dl = DataLoader(\n",
    "        mnist_ds_train,\n",
    "        batch_size=batch_size,\n",
    "        shuffle=True,\n",
    "        drop_last=False,\n",
    "        num_workers=32,\n",
    "    )\n",
    "    now = datetime.datetime.now()\n",
    "    wab_logger = WandbLogger(project=\"SCFMnist\", name=f\"{run_name}-{str(now)}\")\n",
    "    checkpoint_callback = ModelCheckpoint(\n",
    "        every_n_epochs=10,\n",
    "        dirpath=f\"/app/outputs/scf_mnist_aug_search/{run_name}/ckpt/{str(now)}\",\n",
    "        save_last=True,\n",
    "    )\n",
    "    lr_callback = pytorch_lightning.callbacks.LearningRateMonitor(\n",
    "        logging_interval=\"step\"\n",
    "    )\n",
    "    # initialize trainer, use one GPU for training\n",
    "    trainer = Trainer(\n",
    "        max_epochs=max_epoch,\n",
    "        default_root_dir=f\"/app/outputs/{run_name}/ckpt/{str(now)}\",\n",
    "        accelerator=\"gpu\",\n",
    "        devices=[0],\n",
    "        logger=wab_logger,\n",
    "        callbacks=[checkpoint_callback, lr_callback],\n",
    "    )\n",
    "\n",
    "    # fit the model\n",
    "    trainer.fit(scf_model, train_dl)\n",
    "    del wab_logger\n",
    "    return scf_model"
   ]
  },
  {
   "cell_type": "code",
   "execution_count": 3,
   "metadata": {},
   "outputs": [],
   "source": [
    "transform = transforms.Compose(\n",
    "    [transforms.ToTensor(), transforms.Normalize((0.1307,), (0.3081,))]\n",
    ")\n",
    "mnist_ds_train = datasets.MNIST(\n",
    "    root=\"/app/datasets/mnist\", train=True, download=True, transform=transform\n",
    ")\n",
    "mnist_ds_test = datasets.MNIST(\n",
    "    root=\"/app/datasets/mnist\", train=False, download=True, transform=transform\n",
    ")"
   ]
  },
  {
   "cell_type": "markdown",
   "metadata": {},
   "source": [
    "#### 1.1 Train Arcface on full ds"
   ]
  },
  {
   "cell_type": "code",
   "execution_count": 4,
   "metadata": {},
   "outputs": [
    {
     "name": "stderr",
     "output_type": "stream",
     "text": [
      "/home/l.erlygin/miniconda/lib/python3.9/site-packages/pytorch_lightning/utilities/parsing.py:197: UserWarning: Attribute 'backbone' is an instance of `nn.Module` and is already saved during checkpointing. It is recommended to ignore them using `self.save_hyperparameters(ignore=['backbone'])`.\n",
      "  rank_zero_warn(\n",
      "/home/l.erlygin/miniconda/lib/python3.9/site-packages/pytorch_lightning/utilities/parsing.py:197: UserWarning: Attribute 'loss' is an instance of `nn.Module` and is already saved during checkpointing. It is recommended to ignore them using `self.save_hyperparameters(ignore=['loss'])`.\n",
      "  rank_zero_warn(\n"
     ]
    }
   ],
   "source": [
    "NUM_FEATURES = 2\n",
    "\n",
    "backbone_model = Backbone(num_features=NUM_FEATURES)\n",
    "arcface_loss = ArcFaceLoss()\n",
    "\n",
    "arcface_model = MetricLearningModel(\n",
    "    backbone_model,\n",
    "    arcface_loss,\n",
    "    num_labels=10,\n",
    "    train_set=mnist_ds_train,\n",
    "    val_set=mnist_ds_test,\n",
    "    batch_size=400,\n",
    "    num_workers=4,\n",
    "    num_features=NUM_FEATURES,\n",
    ")\n",
    "exp_name = \"arcface_full_mnist\"\n",
    "# train_arcface(arcface_model, f\"/app/outputs/{exp_name}\", exp_name, max_epoch=100)"
   ]
  },
  {
   "cell_type": "markdown",
   "metadata": {},
   "source": [
    "##### Cosine similarity distribution"
   ]
  },
  {
   "cell_type": "code",
   "execution_count": 5,
   "metadata": {},
   "outputs": [
    {
     "name": "stderr",
     "output_type": "stream",
     "text": [
      "/home/l.erlygin/miniconda/lib/python3.9/site-packages/lightning_fabric/utilities/cloud_io.py:51: FutureWarning: You are using `torch.load` with `weights_only=False` (the current default value), which uses the default pickle module implicitly. It is possible to construct malicious pickle data which will execute arbitrary code during unpickling (See https://github.com/pytorch/pytorch/blob/main/SECURITY.md#untrusted-models for more details). In a future release, the default value for `weights_only` will be flipped to `True`. This limits the functions that could be executed during unpickling. Arbitrary objects will no longer be allowed to be loaded via this mode unless they are explicitly allowlisted by the user via `torch.serialization.add_safe_globals`. We recommend you start setting `weights_only=True` for any use case where you don't have full control of the loaded file. Please open an issue on GitHub for any issues related to this experimental feature.\n",
      "  return torch.load(f, map_location=map_location)  # type: ignore[arg-type]\n",
      "100%|██████████| 25/25 [00:01<00:00, 15.37it/s]\n"
     ]
    },
    {
     "data": {
      "image/png": "[encoded data removed]",
      "text/plain": [
       "<Figure size 600x600 with 1 Axes>"
      ]
     },
     "metadata": {},
     "output_type": "display_data"
    },
    {
     "name": "stderr",
     "output_type": "stream",
     "text": [
      "  0%|          | 0/469 [00:00<?, ?it/s]"
     ]
    },
    {
     "name": "stdout",
     "output_type": "stream",
     "text": [
      "Test accuracy: 0.8849\n"
     ]
    },
    {
     "name": "stderr",
     "output_type": "stream",
     "text": [
      "100%|██████████| 469/469 [00:01<00:00, 264.06it/s]\n",
      "100%|██████████| 79/79 [00:01<00:00, 54.44it/s]\n",
      "/tmp/ipykernel_574986/999290897.py:26: RuntimeWarning: invalid value encountered in arccos\n",
      "  \"test\": (np.arccos(cosine_sim_test) / (2 * np.pi)) * 360,\n",
      "/tmp/ipykernel_574986/999290897.py:27: RuntimeWarning: invalid value encountered in arccos\n",
      "  \"train\": (np.arccos(cosine_sim_train) / (2 * np.pi)) * 360,\n"
     ]
    },
    {
     "data": {
      "text/plain": [
       "<seaborn.axisgrid.FacetGrid at 0x7f1c9ffeb340>"
      ]
     },
     "execution_count": 5,
     "metadata": {},
     "output_type": "execute_result"
    },
    {
     "data": {
      "image/png": "[encoded data removed]",
      "text/plain": [
       "<Figure size 582.5x500 with 1 Axes>"
      ]
     },
     "metadata": {},
     "output_type": "display_data"
    }
   ],
   "source": [
    "train_dl = DataLoader(\n",
    "    mnist_ds_train,\n",
    "    batch_size=128,\n",
    "    shuffle=False,\n",
    "    drop_last=False,\n",
    "    num_workers=32,\n",
    ")\n",
    "test_dl = DataLoader(\n",
    "    mnist_ds_test,\n",
    "    batch_size=128,\n",
    "    shuffle=False,\n",
    "    drop_last=False,\n",
    "    num_workers=32,\n",
    ")\n",
    "arcface_model = load_arcface_model(\n",
    "    mnist_ds_train,\n",
    "    mnist_ds_test,\n",
    "    \"/app/outputs/arcface_full_mnist/ckpt/epoch=89-val_loss=1.24.ckpt\",\n",
    "    visualize=True,\n",
    ")\n",
    "file_name = \"full_mnist\"\n",
    "compute_cosine_sim(arcface_model, train_dl, test_dl, file_name)\n",
    "cosine_sim_train = np.load(f\"outputs/train_{file_name}_cosine_sim.npy\")\n",
    "cosine_sim_test = np.load(f\"outputs/test_{file_name}_cosine_sim.npy\")\n",
    "data = {\n",
    "    \"test\": (np.arccos(cosine_sim_test) / (2 * np.pi)) * 360,\n",
    "    \"train\": (np.arccos(cosine_sim_train) / (2 * np.pi)) * 360,\n",
    "}\n",
    "sns.displot(\n",
    "    data,\n",
    "    kind=\"kde\",\n",
    "    log_scale=False,\n",
    "    common_norm=False,\n",
    ")"
   ]
  },
  {
   "cell_type": "markdown",
   "metadata": {},
   "source": [
    "#### 1.2 Train Arcface on filtered ds  "
   ]
  },
  {
   "cell_type": "code",
   "execution_count": 6,
   "metadata": {},
   "outputs": [
    {
     "name": "stderr",
     "output_type": "stream",
     "text": [
      "/tmp/ipykernel_574986/2342528981.py:1: RuntimeWarning: invalid value encountered in arccos\n",
      "  np.sum((np.arccos(cosine_sim_train) / (2 * np.pi)) * 360 > 18), len(cosine_sim_train)\n"
     ]
    },
    {
     "data": {
      "text/plain": [
       "(2751, 60000)"
      ]
     },
     "execution_count": 6,
     "metadata": {},
     "output_type": "execute_result"
    }
   ],
   "source": [
    "np.sum((np.arccos(cosine_sim_train) / (2 * np.pi)) * 360 > 18), len(cosine_sim_train)"
   ]
  },
  {
   "cell_type": "code",
   "execution_count": 7,
   "metadata": {},
   "outputs": [
    {
     "data": {
      "text/plain": [
       "57249"
      ]
     },
     "execution_count": 7,
     "metadata": {},
     "output_type": "execute_result"
    }
   ],
   "source": [
    "EPS = 1e-6\n",
    "angle = 18\n",
    "angles = (np.arccos(np.clip(cosine_sim_train, -1.0 + EPS, 1.0 - EPS)) / (np.pi)) * 180\n",
    "mnist_ds_train_filtered = torch.utils.data.Subset(\n",
    "    mnist_ds_train,\n",
    "    np.where(angles < angle)[0],\n",
    ")\n",
    "len(mnist_ds_train_filtered)"
   ]
  },
  {
   "cell_type": "code",
   "execution_count": 8,
   "metadata": {},
   "outputs": [
    {
     "name": "stderr",
     "output_type": "stream",
     "text": [
      "/home/l.erlygin/miniconda/lib/python3.9/site-packages/pytorch_lightning/utilities/parsing.py:197: UserWarning: Attribute 'backbone' is an instance of `nn.Module` and is already saved during checkpointing. It is recommended to ignore them using `self.save_hyperparameters(ignore=['backbone'])`.\n",
      "  rank_zero_warn(\n",
      "/home/l.erlygin/miniconda/lib/python3.9/site-packages/pytorch_lightning/utilities/parsing.py:197: UserWarning: Attribute 'loss' is an instance of `nn.Module` and is already saved during checkpointing. It is recommended to ignore them using `self.save_hyperparameters(ignore=['loss'])`.\n",
      "  rank_zero_warn(\n"
     ]
    }
   ],
   "source": [
    "NUM_FEATURES = 2\n",
    "\n",
    "backbone_model = Backbone(num_features=NUM_FEATURES)\n",
    "arcface_loss = ArcFaceLoss()\n",
    "\n",
    "arcface_model = MetricLearningModel(\n",
    "    backbone_model,\n",
    "    arcface_loss,\n",
    "    num_labels=10,\n",
    "    train_set=mnist_ds_train_filtered,\n",
    "    val_set=mnist_ds_test,\n",
    "    batch_size=400,\n",
    "    num_workers=4,\n",
    "    num_features=NUM_FEATURES,\n",
    ")\n",
    "exp_name = f\"arcface_angle_{angle}_filtered_mnist\"\n",
    "# train_arcface(arcface_model, f\"/app/outputs/{exp_name}\", exp_name, max_epoch=100)"
   ]
  },
  {
   "cell_type": "code",
   "execution_count": 9,
   "metadata": {},
   "outputs": [
    {
     "name": "stderr",
     "output_type": "stream",
     "text": [
      "/home/l.erlygin/miniconda/lib/python3.9/site-packages/lightning_fabric/utilities/cloud_io.py:51: FutureWarning: You are using `torch.load` with `weights_only=False` (the current default value), which uses the default pickle module implicitly. It is possible to construct malicious pickle data which will execute arbitrary code during unpickling (See https://github.com/pytorch/pytorch/blob/main/SECURITY.md#untrusted-models for more details). In a future release, the default value for `weights_only` will be flipped to `True`. This limits the functions that could be executed during unpickling. Arbitrary objects will no longer be allowed to be loaded via this mode unless they are explicitly allowlisted by the user via `torch.serialization.add_safe_globals`. We recommend you start setting `weights_only=True` for any use case where you don't have full control of the loaded file. Please open an issue on GitHub for any issues related to this experimental feature.\n",
      "  return torch.load(f, map_location=map_location)  # type: ignore[arg-type]\n",
      "100%|██████████| 25/25 [00:00<00:00, 47.14it/s]\n",
      "  0%|          | 0/448 [00:00<?, ?it/s]"
     ]
    },
    {
     "name": "stdout",
     "output_type": "stream",
     "text": [
      "Test accuracy: 0.9208\n"
     ]
    },
    {
     "name": "stderr",
     "output_type": "stream",
     "text": [
      "100%|██████████| 448/448 [00:01<00:00, 241.53it/s]\n",
      "100%|██████████| 79/79 [00:01<00:00, 78.73it/s] \n",
      "/tmp/ipykernel_574986/2242598020.py:26: RuntimeWarning: invalid value encountered in arccos\n",
      "  \"train\": (np.arccos(cosine_sim_train) / (2 * np.pi)) * 360,\n"
     ]
    },
    {
     "data": {
      "text/plain": [
       "<seaborn.axisgrid.FacetGrid at 0x7f1ce2a53610>"
      ]
     },
     "execution_count": 9,
     "metadata": {},
     "output_type": "execute_result"
    },
    {
     "data": {
      "image/png": "[encoded data removed]",
      "text/plain": [
       "<Figure size 582.5x500 with 1 Axes>"
      ]
     },
     "metadata": {},
     "output_type": "display_data"
    }
   ],
   "source": [
    "train_dl = DataLoader(\n",
    "    mnist_ds_train_filtered,\n",
    "    batch_size=128,\n",
    "    shuffle=False,\n",
    "    drop_last=False,\n",
    "    num_workers=32,\n",
    ")\n",
    "test_dl = DataLoader(\n",
    "    mnist_ds_test,\n",
    "    batch_size=128,\n",
    "    shuffle=False,\n",
    "    drop_last=False,\n",
    "    num_workers=32,\n",
    ")\n",
    "arcface_model = load_arcface_model(\n",
    "    mnist_ds_train_filtered,\n",
    "    mnist_ds_test,\n",
    "    \"/app/outputs/arcface_angle_18_filtered_mnist/ckpt/epoch=99-val_loss=1.09.ckpt\",\n",
    ")\n",
    "file_name = f\"angle_{angle}_filtered_mnist\"\n",
    "compute_cosine_sim(arcface_model, train_dl, test_dl, file_name)\n",
    "cosine_sim_train = np.load(f\"outputs/train_{file_name}_cosine_sim.npy\")\n",
    "cosine_sim_test = np.load(f\"outputs/test_{file_name}_cosine_sim.npy\")\n",
    "data = {\n",
    "    \"test\": (np.arccos(cosine_sim_test) / (2 * np.pi)) * 360,\n",
    "    \"train\": (np.arccos(cosine_sim_train) / (2 * np.pi)) * 360,\n",
    "}\n",
    "sns.displot(\n",
    "    data,\n",
    "    kind=\"kde\",\n",
    "    log_scale=False,\n",
    "    common_norm=False,\n",
    ")"
   ]
  },
  {
   "cell_type": "markdown",
   "metadata": {},
   "source": [
    "#### 1.3 Compute error probabilities on train MNIST and clean MNIST\n",
    "Here we use arcface model trained on clean MNIST"
   ]
  },
  {
   "cell_type": "code",
   "execution_count": 10,
   "metadata": {},
   "outputs": [
    {
     "name": "stderr",
     "output_type": "stream",
     "text": [
      "/home/l.erlygin/miniconda/lib/python3.9/site-packages/pytorch_lightning/utilities/parsing.py:197: UserWarning: Attribute 'backbone' is an instance of `nn.Module` and is already saved during checkpointing. It is recommended to ignore them using `self.save_hyperparameters(ignore=['backbone'])`.\n",
      "  rank_zero_warn(\n",
      "/home/l.erlygin/miniconda/lib/python3.9/site-packages/pytorch_lightning/utilities/parsing.py:197: UserWarning: Attribute 'loss' is an instance of `nn.Module` and is already saved during checkpointing. It is recommended to ignore them using `self.save_hyperparameters(ignore=['loss'])`.\n",
      "  rank_zero_warn(\n",
      "/home/l.erlygin/miniconda/lib/python3.9/site-packages/lightning_fabric/utilities/cloud_io.py:51: FutureWarning: You are using `torch.load` with `weights_only=False` (the current default value), which uses the default pickle module implicitly. It is possible to construct malicious pickle data which will execute arbitrary code during unpickling (See https://github.com/pytorch/pytorch/blob/main/SECURITY.md#untrusted-models for more details). In a future release, the default value for `weights_only` will be flipped to `True`. This limits the functions that could be executed during unpickling. Arbitrary objects will no longer be allowed to be loaded via this mode unless they are explicitly allowlisted by the user via `torch.serialization.add_safe_globals`. We recommend you start setting `weights_only=True` for any use case where you don't have full control of the loaded file. Please open an issue on GitHub for any issues related to this experimental feature.\n",
      "  return torch.load(f, map_location=map_location)  # type: ignore[arg-type]\n",
      "100%|██████████| 25/25 [00:00<00:00, 46.15it/s]\n",
      "  0%|          | 0/469 [00:00<?, ?it/s]"
     ]
    },
    {
     "name": "stdout",
     "output_type": "stream",
     "text": [
      "Test accuracy: 0.9208\n"
     ]
    },
    {
     "name": "stderr",
     "output_type": "stream",
     "text": [
      "100%|██████████| 469/469 [00:01<00:00, 305.39it/s]\n",
      "100%|██████████| 448/448 [00:01<00:00, 240.45it/s]\n"
     ]
    }
   ],
   "source": [
    "arcface_model = load_arcface_model(\n",
    "    mnist_ds_train,\n",
    "    mnist_ds_test,\n",
    "    \"/app/outputs/arcface_angle_18_filtered_mnist/ckpt/epoch=99-val_loss=1.09.ckpt\",\n",
    ")\n",
    "arcface_model.eval()\n",
    "\n",
    "train_dl = DataLoader(\n",
    "    mnist_ds_train,\n",
    "    batch_size=128,\n",
    "    shuffle=False,\n",
    "    drop_last=False,\n",
    "    num_workers=32,\n",
    ")\n",
    "train_dl_filtered = DataLoader(\n",
    "    mnist_ds_train_filtered,\n",
    "    batch_size=128,\n",
    "    shuffle=False,\n",
    "    drop_last=False,\n",
    "    num_workers=32,\n",
    ")\n",
    "\n",
    "predicted_train_features, train_labels = predict_features(arcface_model, train_dl)\n",
    "predicted_train_features_filtered, train_labels_filtered = predict_features(\n",
    "    arcface_model, train_dl_filtered\n",
    ")\n",
    "softmax_weights = (\n",
    "    F.normalize(arcface_model.softmax_weights, dim=1).detach().cpu().numpy()\n",
    ")"
   ]
  },
  {
   "cell_type": "code",
   "execution_count": 11,
   "metadata": {},
   "outputs": [
    {
     "data": {
      "text/plain": [
       "MetricLearningModel(\n",
       "  (backbone): Backbone(\n",
       "    (conv1): Conv2d(1, 32, kernel_size=(3, 3), stride=(1, 1))\n",
       "    (bn1): BatchNorm2d(32, eps=1e-05, momentum=0.1, affine=True, track_running_stats=True)\n",
       "    (conv2): Conv2d(32, 64, kernel_size=(3, 3), stride=(1, 1))\n",
       "    (bn2): BatchNorm2d(64, eps=1e-05, momentum=0.1, affine=True, track_running_stats=True)\n",
       "    (features): BatchNorm1d(2, eps=1e-05, momentum=0.1, affine=True, track_running_stats=True)\n",
       "    (fc1): Linear(in_features=9216, out_features=2, bias=True)\n",
       "  )\n",
       "  (loss): ArcFaceLoss()\n",
       ")"
      ]
     },
     "execution_count": 11,
     "metadata": {},
     "output_type": "execute_result"
    }
   ],
   "source": [
    "arcface_model"
   ]
  },
  {
   "cell_type": "code",
   "execution_count": 12,
   "metadata": {},
   "outputs": [
    {
     "data": {
      "text/plain": [
       "<seaborn.axisgrid.FacetGrid at 0x7f1c9fff79a0>"
      ]
     },
     "execution_count": 12,
     "metadata": {},
     "output_type": "execute_result"
    },
    {
     "data": {
      "image/png": "[encoded data removed]",
      "text/plain": [
       "<Figure size 716.75x500 with 1 Axes>"
      ]
     },
     "metadata": {},
     "output_type": "display_data"
    }
   ],
   "source": [
    "cosine_sim = predicted_train_features @ softmax_weights.T\n",
    "s = 5\n",
    "p_z = np.exp(s * cosine_sim)\n",
    "p_z_filtered = np.exp(s * predicted_train_features_filtered @ softmax_weights.T)\n",
    "true_class_prob = p_z[np.arange(p_z.shape[0]), train_labels] / np.sum(p_z, axis=1)\n",
    "true_class_prob_filtered = p_z_filtered[\n",
    "    np.arange(p_z_filtered.shape[0]), train_labels_filtered\n",
    "] / np.sum(p_z_filtered, axis=1)\n",
    "\n",
    "data = {\n",
    "    \"error probability\": 1 - true_class_prob,\n",
    "    \"error probability filtered\": 1 - true_class_prob_filtered,\n",
    "}\n",
    "sns.displot(\n",
    "    data,\n",
    "    kind=\"kde\",\n",
    "    log_scale=False,\n",
    "    common_norm=False,\n",
    ")"
   ]
  },
  {
   "cell_type": "code",
   "execution_count": 13,
   "metadata": {},
   "outputs": [
    {
     "data": {
      "text/plain": [
       "(0.47488457, 0.46801722)"
      ]
     },
     "execution_count": 13,
     "metadata": {},
     "output_type": "execute_result"
    }
   ],
   "source": [
    "np.mean(1 - true_class_prob), np.mean(1 - true_class_prob_filtered)"
   ]
  },
  {
   "cell_type": "code",
   "execution_count": 14,
   "metadata": {},
   "outputs": [
    {
     "data": {
      "text/plain": [
       "(0.4637637, 0.46135283)"
      ]
     },
     "execution_count": 14,
     "metadata": {},
     "output_type": "execute_result"
    }
   ],
   "source": [
    "np.median(1 - true_class_prob), np.median(1 - true_class_prob_filtered)"
   ]
  },
  {
   "cell_type": "code",
   "execution_count": 15,
   "metadata": {},
   "outputs": [
    {
     "data": {
      "text/plain": [
       "<seaborn.axisgrid.FacetGrid at 0x7f1c9b084b20>"
      ]
     },
     "execution_count": 15,
     "metadata": {},
     "output_type": "execute_result"
    },
    {
     "data": {
      "image/png": "[encoded data removed]",
      "text/plain": [
       "<Figure size 677.25x500 with 1 Axes>"
      ]
     },
     "metadata": {},
     "output_type": "display_data"
    }
   ],
   "source": [
    "cosine_sim = (predicted_train_features @ softmax_weights.T)[\n",
    "    np.arange(predicted_train_features.shape[0]), train_labels\n",
    "]\n",
    "cosine_sim_filtered = (predicted_train_features_filtered @ softmax_weights.T)[\n",
    "    np.arange(predicted_train_features_filtered.shape[0]), train_labels_filtered\n",
    "]\n",
    "data = {\n",
    "    \"cosine sim\": cosine_sim,\n",
    "    \"cosine sim filtered\": cosine_sim_filtered,\n",
    "}\n",
    "sns.displot(\n",
    "    data,\n",
    "    kind=\"kde\",\n",
    "    log_scale=False,\n",
    "    common_norm=False,\n",
    ")"
   ]
  },
  {
   "cell_type": "markdown",
   "metadata": {},
   "source": [
    "#### 2.1 Train SCF on full mnist"
   ]
  },
  {
   "cell_type": "code",
   "execution_count": 16,
   "metadata": {},
   "outputs": [],
   "source": [
    "# arcface_model = load_arcface_model(\n",
    "#     mnist_ds_train,\n",
    "#     mnist_ds_test,\n",
    "#     \"/app/outputs/arcface_angle_18_filtered_mnist/ckpt/epoch=99-val_loss=1.09.ckpt\",\n",
    "# )\n",
    "# arcface_model.eval()\n",
    "# torch.save(arcface_model.softmax_weights.detach().cpu(), \"outputs/softmax_weights.pt\")"
   ]
  },
  {
   "cell_type": "code",
   "execution_count": 17,
   "metadata": {},
   "outputs": [],
   "source": [
    "# train_scf('scf_full_mnist', mnist_ds_train, mnist_ds_test, '/app/outputs/arcface_angle_18_filtered_mnist/ckpt/epoch=99-val_loss=1.09.ckpt')"
   ]
  },
  {
   "cell_type": "markdown",
   "metadata": {},
   "source": [
    "#### 2.2 Train SCF on filtered dataset"
   ]
  },
  {
   "cell_type": "code",
   "execution_count": 18,
   "metadata": {},
   "outputs": [],
   "source": [
    "exp_name = f\"scf_angle_{angle}_filtered_mnist\"\n",
    "# train_scf(\n",
    "#     exp_name,\n",
    "#     mnist_ds_train_filtered,\n",
    "#     mnist_ds_test,\n",
    "#     \"/app/outputs/arcface_angle_18_filtered_mnist/ckpt/epoch=99-val_loss=1.09.ckpt\",\n",
    "# )"
   ]
  },
  {
   "cell_type": "markdown",
   "metadata": {},
   "source": [
    "#### 2.3 Train SCF on DirtyMNIST"
   ]
  },
  {
   "cell_type": "code",
   "execution_count": 19,
   "metadata": {},
   "outputs": [],
   "source": [
    "# import ddu_dirty_mnist\n",
    "\n",
    "# # transform_dirty = transforms.Compose(\n",
    "# #     [transforms.Normalize((0.1307,), (0.3081,))]\n",
    "# # )\n",
    "# dirty_mnist_train = ddu_dirty_mnist.DirtyMNIST(\n",
    "#     root=\"/app/datasets/dirty_mnist\", train=True, download=True\n",
    "# )\n",
    "# dirty_mnist_test = ddu_dirty_mnist.DirtyMNIST(\n",
    "#     root=\"/app/datasets/dirty_mnist\", train=False, download=True\n",
    "# )\n",
    "# len(dirty_mnist_train), len(dirty_mnist_test)\n",
    "\n",
    "# exp_name = f\"scf_dirty_mnist\"\n",
    "# train_scf(\n",
    "#     exp_name,\n",
    "#     dirty_mnist_train,\n",
    "#     mnist_ds_test,\n",
    "#     \"/app/outputs/arcface_angle_18_filtered_mnist/ckpt/epoch=99-val_loss=1.09.ckpt\",\n",
    "# )"
   ]
  },
  {
   "cell_type": "markdown",
   "metadata": {},
   "source": [
    "#### 3.1 Compare UE methods"
   ]
  },
  {
   "cell_type": "code",
   "execution_count": 20,
   "metadata": {},
   "outputs": [
    {
     "name": "stderr",
     "output_type": "stream",
     "text": [
      "/home/l.erlygin/miniconda/lib/python3.9/site-packages/pytorch_lightning/utilities/parsing.py:197: UserWarning: Attribute 'backbone' is an instance of `nn.Module` and is already saved during checkpointing. It is recommended to ignore them using `self.save_hyperparameters(ignore=['backbone'])`.\n",
      "  rank_zero_warn(\n",
      "/home/l.erlygin/miniconda/lib/python3.9/site-packages/pytorch_lightning/utilities/parsing.py:197: UserWarning: Attribute 'loss' is an instance of `nn.Module` and is already saved during checkpointing. It is recommended to ignore them using `self.save_hyperparameters(ignore=['loss'])`.\n",
      "  rank_zero_warn(\n",
      "/home/l.erlygin/miniconda/lib/python3.9/site-packages/lightning_fabric/utilities/cloud_io.py:51: FutureWarning: You are using `torch.load` with `weights_only=False` (the current default value), which uses the default pickle module implicitly. It is possible to construct malicious pickle data which will execute arbitrary code during unpickling (See https://github.com/pytorch/pytorch/blob/main/SECURITY.md#untrusted-models for more details). In a future release, the default value for `weights_only` will be flipped to `True`. This limits the functions that could be executed during unpickling. Arbitrary objects will no longer be allowed to be loaded via this mode unless they are explicitly allowlisted by the user via `torch.serialization.add_safe_globals`. We recommend you start setting `weights_only=True` for any use case where you don't have full control of the loaded file. Please open an issue on GitHub for any issues related to this experimental feature.\n",
      "  return torch.load(f, map_location=map_location)  # type: ignore[arg-type]\n",
      "100%|██████████| 25/25 [00:00<00:00, 45.52it/s]\n"
     ]
    },
    {
     "name": "stdout",
     "output_type": "stream",
     "text": [
      "Test accuracy: 0.9208\n"
     ]
    },
    {
     "name": "stderr",
     "output_type": "stream",
     "text": [
      "/app/face_lib/models/scf.py:30: FutureWarning: You are using `torch.load` with `weights_only=False` (the current default value), which uses the default pickle module implicitly. It is possible to construct malicious pickle data which will execute arbitrary code during unpickling (See https://github.com/pytorch/pytorch/blob/main/SECURITY.md#untrusted-models for more details). In a future release, the default value for `weights_only` will be flipped to `True`. This limits the functions that could be executed during unpickling. Arbitrary objects will no longer be allowed to be loaded via this mode unless they are explicitly allowlisted by the user via `torch.serialization.add_safe_globals`. We recommend you start setting `weights_only=True` for any use case where you don't have full control of the loaded file. Please open an issue on GitHub for any issues related to this experimental feature.\n",
      "  self.softmax_weights = torch.load(softmax_weights_path)\n",
      "/tmp/ipykernel_574986/1119162656.py:155: FutureWarning: You are using `torch.load` with `weights_only=False` (the current default value), which uses the default pickle module implicitly. It is possible to construct malicious pickle data which will execute arbitrary code during unpickling (See https://github.com/pytorch/pytorch/blob/main/SECURITY.md#untrusted-models for more details). In a future release, the default value for `weights_only` will be flipped to `True`. This limits the functions that could be executed during unpickling. Arbitrary objects will no longer be allowed to be loaded via this mode unless they are explicitly allowlisted by the user via `torch.serialization.add_safe_globals`. We recommend you start setting `weights_only=True` for any use case where you don't have full control of the loaded file. Please open an issue on GitHub for any issues related to this experimental feature.\n",
      "  scf_model.load_state_dict(torch.load(scf_path)[\"state_dict\"])\n"
     ]
    }
   ],
   "source": [
    "arcface_path = (\n",
    "    \"/app/outputs/arcface_angle_18_filtered_mnist/ckpt/epoch=99-val_loss=1.09.ckpt\"\n",
    ")\n",
    "scf_full = load_scf_model(\n",
    "    mnist_ds_train,\n",
    "    mnist_ds_test,\n",
    "    scf_path=\"/app/outputs/scf_full_mnist/ckpt/2024-08-30 15:28:19.199679/epoch=99-step=15000.ckpt\",\n",
    "    arcface_path=arcface_path,\n",
    ")"
   ]
  },
  {
   "cell_type": "code",
   "execution_count": 21,
   "metadata": {},
   "outputs": [
    {
     "data": {
      "text/plain": [
       "4.5"
      ]
     },
     "execution_count": 21,
     "metadata": {},
     "output_type": "execute_result"
    }
   ],
   "source": [
    "(2700 / 60000) * 100"
   ]
  },
  {
   "cell_type": "code",
   "execution_count": 22,
   "metadata": {},
   "outputs": [],
   "source": [
    "def compute_kappa(scf_model, dataset):\n",
    "    mnist_dl = DataLoader(\n",
    "        dataset,\n",
    "        batch_size=128,\n",
    "        shuffle=False,\n",
    "        drop_last=False,\n",
    "        num_workers=32,\n",
    "    )\n",
    "    scf_model.eval()\n",
    "    features = []\n",
    "    labels = []\n",
    "    kappa = []\n",
    "    for batch in tqdm(mnist_dl):\n",
    "        labels.append(batch[1].numpy())\n",
    "        predictions = scf_model(batch[0])\n",
    "        features.append(predictions[0].detach().cpu().numpy())\n",
    "        kappa.append(torch.exp(predictions[1]).detach().cpu().numpy())\n",
    "    labels = np.concatenate(labels)\n",
    "    features = np.concatenate(features, axis=0)\n",
    "    kappa = np.concatenate(kappa, axis=0)[:, 0]\n",
    "    return features, labels, kappa"
   ]
  },
  {
   "cell_type": "code",
   "execution_count": 23,
   "metadata": {},
   "outputs": [
    {
     "name": "stderr",
     "output_type": "stream",
     "text": [
      "100%|██████████| 79/79 [00:02<00:00, 27.14it/s]\n"
     ]
    }
   ],
   "source": [
    "full_features, full_labels, full_kappa = compute_kappa(scf_full, mnist_ds_test)"
   ]
  },
  {
   "cell_type": "code",
   "execution_count": 24,
   "metadata": {},
   "outputs": [
    {
     "name": "stderr",
     "output_type": "stream",
     "text": [
      "100%|██████████| 25/25 [00:00<00:00, 34.88it/s]\n"
     ]
    },
    {
     "name": "stdout",
     "output_type": "stream",
     "text": [
      "Test accuracy: 0.9208\n"
     ]
    },
    {
     "name": "stderr",
     "output_type": "stream",
     "text": [
      "/tmp/ipykernel_574986/1119162656.py:155: FutureWarning: You are using `torch.load` with `weights_only=False` (the current default value), which uses the default pickle module implicitly. It is possible to construct malicious pickle data which will execute arbitrary code during unpickling (See https://github.com/pytorch/pytorch/blob/main/SECURITY.md#untrusted-models for more details). In a future release, the default value for `weights_only` will be flipped to `True`. This limits the functions that could be executed during unpickling. Arbitrary objects will no longer be allowed to be loaded via this mode unless they are explicitly allowlisted by the user via `torch.serialization.add_safe_globals`. We recommend you start setting `weights_only=True` for any use case where you don't have full control of the loaded file. Please open an issue on GitHub for any issues related to this experimental feature.\n",
      "  scf_model.load_state_dict(torch.load(scf_path)[\"state_dict\"])\n"
     ]
    }
   ],
   "source": [
    "scf_filtered = load_scf_model(\n",
    "    mnist_ds_train,\n",
    "    mnist_ds_test,\n",
    "    scf_path=\"/app/outputs/scf_angle_18_filtered_mnist/ckpt/2024-08-30 15:36:36.239175/epoch=99-step=14400.ckpt\",\n",
    "    arcface_path=arcface_path,\n",
    ")"
   ]
  },
  {
   "cell_type": "code",
   "execution_count": 25,
   "metadata": {},
   "outputs": [
    {
     "name": "stderr",
     "output_type": "stream",
     "text": [
      "100%|██████████| 79/79 [00:02<00:00, 26.89it/s]\n"
     ]
    }
   ],
   "source": [
    "filtered_features, filtered_labels, filtered_kappa = compute_kappa(\n",
    "    scf_filtered, mnist_ds_test\n",
    ")"
   ]
  },
  {
   "cell_type": "code",
   "execution_count": 26,
   "metadata": {},
   "outputs": [],
   "source": [
    "# scf_dirty_mnist = load_scf_model(\n",
    "#     dirty_mnist_train,\n",
    "#     mnist_ds_test,\n",
    "#     scf_path=\"/app/outputs/scf_dirty_mnist/ckpt/2024-09-16 11:36:51.218096/epoch=99-step=30000.ckpt\",\n",
    "#     arcface_path=arcface_path,\n",
    "# )\n",
    "# dirty_mnist_features, dirty_mnist_labels, dirty_mnist_kappa = compute_kappa(\n",
    "#     scf_dirty_mnist, mnist_ds_test\n",
    "# )"
   ]
  },
  {
   "cell_type": "code",
   "execution_count": 27,
   "metadata": {},
   "outputs": [
    {
     "name": "stderr",
     "output_type": "stream",
     "text": [
      "100%|██████████| 25/25 [00:00<00:00, 30.20it/s]"
     ]
    },
    {
     "name": "stdout",
     "output_type": "stream",
     "text": [
      "Test accuracy: 0.9208\n"
     ]
    },
    {
     "name": "stderr",
     "output_type": "stream",
     "text": [
      "\n"
     ]
    }
   ],
   "source": [
    "arcface_model = load_arcface_model(\n",
    "    mnist_ds_train,\n",
    "    mnist_ds_test,\n",
    "    arcface_path,\n",
    ")\n",
    "softmax_weights = (\n",
    "    torch.nn.functional.normalize(arcface_model.softmax_weights, dim=1)\n",
    "    .detach()\n",
    "    .cpu()\n",
    "    .numpy()\n",
    ")"
   ]
  },
  {
   "cell_type": "markdown",
   "metadata": {},
   "source": [
    "#### TAR@FAR Curve"
   ]
  },
  {
   "cell_type": "code",
   "execution_count": 28,
   "metadata": {},
   "outputs": [],
   "source": [
    "# sns.displot(\n",
    "#     {\"full\": full_kappa, \"filtered\": filtered_kappa, \"dirty mnist\": dirty_mnist_kappa},\n",
    "#     kind=\"kde\",\n",
    "#     log_scale=False,\n",
    "#     common_norm=False,\n",
    "# )"
   ]
  },
  {
   "cell_type": "markdown",
   "metadata": {},
   "source": [
    "#### Train scf on augmented data"
   ]
  },
  {
   "cell_type": "code",
   "execution_count": 29,
   "metadata": {},
   "outputs": [
    {
     "name": "stderr",
     "output_type": "stream",
     "text": [
      "/home/l.erlygin/miniconda/lib/python3.9/site-packages/torchvision/transforms/v2/_deprecated.py:42: UserWarning: The transform `ToTensor()` is deprecated and will be removed in a future release. Instead, please use `v2.Compose([v2.ToImage(), v2.ToDtype(torch.float32, scale=True)])`.Output is equivalent up to float precision.\n",
      "  warnings.warn(\n"
     ]
    },
    {
     "data": {
      "text/plain": [
       "<matplotlib.image.AxesImage at 0x7f1a6308a7c0>"
      ]
     },
     "execution_count": 29,
     "metadata": {},
     "output_type": "execute_result"
    },
    {
     "data": {
      "image/png": "[encoded data removed]",
      "text/plain": [
       "<Figure size 640x480 with 4 Axes>"
      ]
     },
     "metadata": {},
     "output_type": "display_data"
    }
   ],
   "source": [
    "from torchvision.transforms.v2 import GaussianNoise, GaussianBlur\n",
    "from torchvision.transforms import v2\n",
    "\n",
    "mnist_ds_train_vis = datasets.MNIST(\n",
    "    root=\"/app/datasets/mnist\", train=True, download=True\n",
    ")\n",
    "transform = v2.Compose([v2.ToTensor(), v2.Normalize((0.1307,), (0.3081,))])\n",
    "transform_nose = v2.Compose(\n",
    "    [\n",
    "        v2.ToTensor(),\n",
    "        v2.Normalize((0.1307,), (0.3081,)),\n",
    "        GaussianNoise(mean=0.6, sigma=0.4),\n",
    "    ]\n",
    ")\n",
    "transform_blur = v2.Compose(\n",
    "    [\n",
    "        v2.ToTensor(),\n",
    "        v2.Normalize((0.1307,), (0.3081,)),\n",
    "        GaussianBlur(kernel_size=5, sigma=5),\n",
    "    ]\n",
    ")\n",
    "transform_nose_blur = v2.Compose(\n",
    "    [\n",
    "        v2.ToTensor(),\n",
    "        v2.Normalize((0.1307,), (0.3081,)),\n",
    "        v2.RandomApply(\n",
    "            [\n",
    "                GaussianNoise(mean=0.3, sigma=0.5),\n",
    "                GaussianBlur(kernel_size=5, sigma=(1, 5)),\n",
    "            ],\n",
    "            p=0.5,\n",
    "        ),\n",
    "    ]\n",
    ")\n",
    "image_id = 0\n",
    "image = transform(mnist_ds_train_vis[image_id][0])[0, ...]\n",
    "image_nose = transform_nose(mnist_ds_train_vis[image_id][0])[0, ...]\n",
    "image_blur = transform_blur(mnist_ds_train_vis[image_id][0])[0, ...]\n",
    "image_nose_blur = transform_nose_blur(mnist_ds_train_vis[image_id][0])[0, ...]\n",
    "\n",
    "fig, axes = plt.subplots(1, 4)  # figsize=(1.5 * num_col, 2 * num_row)#\n",
    "axes[0].imshow(image)\n",
    "axes[1].imshow(image_nose)\n",
    "axes[2].imshow(image_blur)\n",
    "axes[3].imshow(image_nose_blur)"
   ]
  },
  {
   "cell_type": "code",
   "execution_count": 30,
   "metadata": {},
   "outputs": [
    {
     "data": {
      "text/plain": [
       "57249"
      ]
     },
     "execution_count": 30,
     "metadata": {},
     "output_type": "execute_result"
    }
   ],
   "source": [
    "def get_aug_dataset(aug_probability, sigma, kernel_size):\n",
    "    transform_nose_blur = v2.Compose(\n",
    "        [\n",
    "            v2.ToTensor(),\n",
    "            v2.Normalize((0.1307,), (0.3081,)),\n",
    "            v2.RandomApply(\n",
    "                [\n",
    "                    # GaussianNoise(mean=0.3, sigma=0.5),\n",
    "                    GaussianBlur(kernel_size=kernel_size, sigma=sigma),\n",
    "                ],\n",
    "                p=aug_probability,\n",
    "            ),\n",
    "        ]\n",
    "    )\n",
    "\n",
    "    cosine_sim_train = np.load(f\"outputs/train_full_mnist_cosine_sim.npy\")\n",
    "    mnist_ds_train_aug = datasets.MNIST(\n",
    "        root=\"/app/datasets/mnist\",\n",
    "        train=True,\n",
    "        download=True,\n",
    "        transform=transform_nose_blur,\n",
    "    )\n",
    "    EPS = 1e-6\n",
    "    angle = 18\n",
    "    angles = (\n",
    "        np.arccos(np.clip(cosine_sim_train, -1.0 + EPS, 1.0 - EPS)) / (np.pi)\n",
    "    ) * 180\n",
    "    mnist_ds_train_filtered_aug = torch.utils.data.Subset(\n",
    "        mnist_ds_train_aug,\n",
    "        np.where(angles < angle)[0],\n",
    "    )\n",
    "    return mnist_ds_train_filtered_aug\n",
    "\n",
    "\n",
    "mnist_ds_train_filtered_aug = get_aug_dataset(\n",
    "    aug_probability=0.5, sigma=4, kernel_size=5\n",
    ")\n",
    "len(mnist_ds_train_filtered_aug)"
   ]
  },
  {
   "cell_type": "code",
   "execution_count": 31,
   "metadata": {},
   "outputs": [],
   "source": [
    "def compute_mean_accuracy(aug_probability, sigma, kernel_size):\n",
    "    mnist_ds_train_filtered_aug = get_aug_dataset(\n",
    "        aug_probability=aug_probability, sigma=sigma, kernel_size=kernel_size\n",
    "    )\n",
    "    exp_name = f\"scf_angle_{angle}_filtered_aug_blur_p={np.round(aug_probability, 2)}-sig={np.round(sigma,2)}_kernel={np.round(kernel_size, 2)}\"\n",
    "    scf_aug = train_scf(\n",
    "        exp_name,\n",
    "        mnist_ds_train_filtered_aug,\n",
    "        mnist_ds_test,\n",
    "        \"/app/outputs/arcface_angle_18_filtered_mnist/ckpt/epoch=99-val_loss=1.09.ckpt\",\n",
    "    )\n",
    "    scf_aug.eval()\n",
    "    aug_features, aug_labels, aug_kappa = compute_kappa(scf_aug, mnist_ds_test)\n",
    "    fractions = [0, 0.3, 10]\n",
    "    fractions_linspace = np.linspace(fractions[0], fractions[1], fractions[2])\n",
    "    accuracies = []\n",
    "    unc_indexes = np.argsort(-aug_kappa)\n",
    "    for fraction in fractions_linspace:\n",
    "        good_idx = unc_indexes[: int((1 - fraction) * aug_kappa.shape[0])]\n",
    "        accuracies.append(\n",
    "            predict_accuracy(\n",
    "                features=aug_features[good_idx],\n",
    "                labels=aug_labels[good_idx],\n",
    "                softmax_weights=softmax_weights,\n",
    "            )\n",
    "        )\n",
    "    return np.mean(accuracies) * fractions[-2]\n",
    "\n",
    "\n",
    "# accuracy = compute_mean_accuracy(aug_probability=0.5, sigma=4, kernel_size=5)"
   ]
  },
  {
   "cell_type": "code",
   "execution_count": 36,
   "metadata": {},
   "outputs": [
    {
     "name": "stderr",
     "output_type": "stream",
     "text": [
      "/home/l.erlygin/miniconda/lib/python3.9/site-packages/botorch/models/transforms/outcome.py:304: UserWarning: std(): degrees of freedom is <= 0. Correction should be strictly less than the reduction factor (input numel divided by output numel). (Triggered internally at ../aten/src/ATen/native/ReduceOps.cpp:1808.)\n",
      "  stdvs = Y.std(dim=-2, keepdim=True)\n",
      "/home/l.erlygin/miniconda/lib/python3.9/site-packages/botorch/models/utils/assorted.py:174: InputDataWarning: Input data is not contained to the unit cube. Please consider min-max scaling the input data.\n",
      "  warnings.warn(msg, InputDataWarning)\n",
      "/home/l.erlygin/miniconda/lib/python3.9/site-packages/botorch/models/utils/assorted.py:194: UserWarning: std(): degrees of freedom is <= 0. Correction should be strictly less than the reduction factor (input numel divided by output numel). (Triggered internally at ../aten/src/ATen/native/ReduceOps.cpp:1808.)\n",
      "  Ymean, Ystd = torch.mean(Y, dim=-2), torch.std(Y, dim=-2)\n",
      "/home/l.erlygin/miniconda/lib/python3.9/site-packages/torchvision/transforms/v2/_deprecated.py:42: UserWarning: The transform `ToTensor()` is deprecated and will be removed in a future release. Instead, please use `v2.Compose([v2.ToImage(), v2.ToDtype(torch.float32, scale=True)])`.Output is equivalent up to float precision.\n",
      "  warnings.warn(\n",
      "/home/l.erlygin/miniconda/lib/python3.9/site-packages/pytorch_lightning/utilities/parsing.py:197: UserWarning: Attribute 'backbone' is an instance of `nn.Module` and is already saved during checkpointing. It is recommended to ignore them using `self.save_hyperparameters(ignore=['backbone'])`.\n",
      "  rank_zero_warn(\n",
      "/home/l.erlygin/miniconda/lib/python3.9/site-packages/pytorch_lightning/utilities/parsing.py:197: UserWarning: Attribute 'loss' is an instance of `nn.Module` and is already saved during checkpointing. It is recommended to ignore them using `self.save_hyperparameters(ignore=['loss'])`.\n",
      "  rank_zero_warn(\n",
      "/home/l.erlygin/miniconda/lib/python3.9/site-packages/lightning_fabric/utilities/cloud_io.py:51: FutureWarning: You are using `torch.load` with `weights_only=False` (the current default value), which uses the default pickle module implicitly. It is possible to construct malicious pickle data which will execute arbitrary code during unpickling (See https://github.com/pytorch/pytorch/blob/main/SECURITY.md#untrusted-models for more details). In a future release, the default value for `weights_only` will be flipped to `True`. This limits the functions that could be executed during unpickling. Arbitrary objects will no longer be allowed to be loaded via this mode unless they are explicitly allowlisted by the user via `torch.serialization.add_safe_globals`. We recommend you start setting `weights_only=True` for any use case where you don't have full control of the loaded file. Please open an issue on GitHub for any issues related to this experimental feature.\n",
      "  return torch.load(f, map_location=map_location)  # type: ignore[arg-type]\n",
      "/app/face_lib/models/scf.py:30: FutureWarning: You are using `torch.load` with `weights_only=False` (the current default value), which uses the default pickle module implicitly. It is possible to construct malicious pickle data which will execute arbitrary code during unpickling (See https://github.com/pytorch/pytorch/blob/main/SECURITY.md#untrusted-models for more details). In a future release, the default value for `weights_only` will be flipped to `True`. This limits the functions that could be executed during unpickling. Arbitrary objects will no longer be allowed to be loaded via this mode unless they are explicitly allowlisted by the user via `torch.serialization.add_safe_globals`. We recommend you start setting `weights_only=True` for any use case where you don't have full control of the loaded file. Please open an issue on GitHub for any issues related to this experimental feature.\n",
      "  self.softmax_weights = torch.load(softmax_weights_path)\n",
      "\u001b[34m\u001b[1mwandb\u001b[0m: Using wandb-core as the SDK backend. Please refer to https://wandb.me/wandb-core for more information.\n",
      "\u001b[34m\u001b[1mwandb\u001b[0m: Currently logged in as: \u001b[33maspek\u001b[0m. Use \u001b[1m`wandb login --relogin`\u001b[0m to force relogin\n"
     ]
    },
    {
     "data": {
      "text/html": [
       "Tracking run with wandb version 0.18.1"
      ],
      "text/plain": [
       "<IPython.core.display.HTML object>"
      ]
     },
     "metadata": {},
     "output_type": "display_data"
    },
    {
     "data": {
      "text/html": [
       "Run data is saved locally in <code>./wandb/run-20241008_150648-hxqgtbig</code>"
      ],
      "text/plain": [
       "<IPython.core.display.HTML object>"
      ]
     },
     "metadata": {},
     "output_type": "display_data"
    },
    {
     "data": {
      "text/html": [
       "Syncing run <strong><a href='https://wandb.ai/aspek/SCFMnist/runs/hxqgtbig' target=\"_blank\">scf_angle_18_filtered_aug_blur_p=0.75-sig=8.17_kernel=5-2024-10-08 15:06:47.309906</a></strong> to <a href='https://wandb.ai/aspek/SCFMnist' target=\"_blank\">Weights & Biases</a> (<a href='https://wandb.me/run' target=\"_blank\">docs</a>)<br/>"
      ],
      "text/plain": [
       "<IPython.core.display.HTML object>"
      ]
     },
     "metadata": {},
     "output_type": "display_data"
    },
    {
     "data": {
      "text/html": [
       " View project at <a href='https://wandb.ai/aspek/SCFMnist' target=\"_blank\">https://wandb.ai/aspek/SCFMnist</a>"
      ],
      "text/plain": [
       "<IPython.core.display.HTML object>"
      ]
     },
     "metadata": {},
     "output_type": "display_data"
    },
    {
     "data": {
      "text/html": [
       " View run at <a href='https://wandb.ai/aspek/SCFMnist/runs/hxqgtbig' target=\"_blank\">https://wandb.ai/aspek/SCFMnist/runs/hxqgtbig</a>"
      ],
      "text/plain": [
       "<IPython.core.display.HTML object>"
      ]
     },
     "metadata": {},
     "output_type": "display_data"
    },
    {
     "name": "stderr",
     "output_type": "stream",
     "text": [
      "GPU available: True (cuda), used: True\n",
      "TPU available: False, using: 0 TPU cores\n",
      "IPU available: False, using: 0 IPUs\n",
      "HPU available: False, using: 0 HPUs\n",
      "/home/l.erlygin/miniconda/lib/python3.9/site-packages/pytorch_lightning/trainer/configuration_validator.py:72: PossibleUserWarning: You defined a `validation_step` but have no `val_dataloader`. Skipping val loop.\n",
      "  rank_zero_warn(\n",
      "You are using a CUDA device ('NVIDIA L40') that has Tensor Cores. To properly utilize them, you should set `torch.set_float32_matmul_precision('medium' | 'high')` which will trade-off precision for performance. For more details, read https://pytorch.org/docs/stable/generated/torch.set_float32_matmul_precision.html#torch.set_float32_matmul_precision\n",
      "LOCAL_RANK: 0 - CUDA_VISIBLE_DEVICES: [0]\n",
      "\n",
      "  | Name     | Type       | Params\n",
      "----------------------------------------\n",
      "0 | backbone | Backbone   | 37.4 K\n",
      "1 | head     | SCFHead    | 7.9 K \n",
      "2 | scf_loss | KLDiracVMF | 0     \n",
      "----------------------------------------\n",
      "45.4 K    Trainable params\n",
      "20        Non-trainable params\n",
      "45.4 K    Total params\n",
      "0.182     Total estimated model params size (MB)\n"
     ]
    },
    {
     "name": "stdout",
     "output_type": "stream",
     "text": [
      "Epoch 19: 100%|██████████| 144/144 [00:02<00:00, 49.06it/s, v_num=tbig, train_loss=-.0242]  "
     ]
    },
    {
     "name": "stderr",
     "output_type": "stream",
     "text": [
      "`Trainer.fit` stopped: `max_epochs=20` reached.\n"
     ]
    },
    {
     "name": "stdout",
     "output_type": "stream",
     "text": [
      "Epoch 19: 100%|██████████| 144/144 [00:02<00:00, 48.83it/s, v_num=tbig, train_loss=-.0242]\n"
     ]
    },
    {
     "name": "stderr",
     "output_type": "stream",
     "text": [
      "100%|██████████| 79/79 [00:03<00:00, 25.72it/s]\n"
     ]
    },
    {
     "name": "stdout",
     "output_type": "stream",
     "text": [
      "iteration 0: accuracy 0.28\n"
     ]
    },
    {
     "name": "stderr",
     "output_type": "stream",
     "text": [
      "/home/l.erlygin/miniconda/lib/python3.9/site-packages/torchvision/transforms/v2/_deprecated.py:42: UserWarning: The transform `ToTensor()` is deprecated and will be removed in a future release. Instead, please use `v2.Compose([v2.ToImage(), v2.ToDtype(torch.float32, scale=True)])`.Output is equivalent up to float precision.\n",
      "  warnings.warn(\n",
      "/home/l.erlygin/miniconda/lib/python3.9/site-packages/pytorch_lightning/utilities/parsing.py:197: UserWarning: Attribute 'backbone' is an instance of `nn.Module` and is already saved during checkpointing. It is recommended to ignore them using `self.save_hyperparameters(ignore=['backbone'])`.\n",
      "  rank_zero_warn(\n",
      "/home/l.erlygin/miniconda/lib/python3.9/site-packages/pytorch_lightning/utilities/parsing.py:197: UserWarning: Attribute 'loss' is an instance of `nn.Module` and is already saved during checkpointing. It is recommended to ignore them using `self.save_hyperparameters(ignore=['loss'])`.\n",
      "  rank_zero_warn(\n",
      "/home/l.erlygin/miniconda/lib/python3.9/site-packages/lightning_fabric/utilities/cloud_io.py:51: FutureWarning: You are using `torch.load` with `weights_only=False` (the current default value), which uses the default pickle module implicitly. It is possible to construct malicious pickle data which will execute arbitrary code during unpickling (See https://github.com/pytorch/pytorch/blob/main/SECURITY.md#untrusted-models for more details). In a future release, the default value for `weights_only` will be flipped to `True`. This limits the functions that could be executed during unpickling. Arbitrary objects will no longer be allowed to be loaded via this mode unless they are explicitly allowlisted by the user via `torch.serialization.add_safe_globals`. We recommend you start setting `weights_only=True` for any use case where you don't have full control of the loaded file. Please open an issue on GitHub for any issues related to this experimental feature.\n",
      "  return torch.load(f, map_location=map_location)  # type: ignore[arg-type]\n",
      "/app/face_lib/models/scf.py:30: FutureWarning: You are using `torch.load` with `weights_only=False` (the current default value), which uses the default pickle module implicitly. It is possible to construct malicious pickle data which will execute arbitrary code during unpickling (See https://github.com/pytorch/pytorch/blob/main/SECURITY.md#untrusted-models for more details). In a future release, the default value for `weights_only` will be flipped to `True`. This limits the functions that could be executed during unpickling. Arbitrary objects will no longer be allowed to be loaded via this mode unless they are explicitly allowlisted by the user via `torch.serialization.add_safe_globals`. We recommend you start setting `weights_only=True` for any use case where you don't have full control of the loaded file. Please open an issue on GitHub for any issues related to this experimental feature.\n",
      "  self.softmax_weights = torch.load(softmax_weights_path)\n",
      "/home/l.erlygin/miniconda/lib/python3.9/site-packages/pytorch_lightning/loggers/wandb.py:395: UserWarning: There is a wandb run already in progress and newly created instances of `WandbLogger` will reuse this run. If this is not desired, call `wandb.finish()` before instantiating `WandbLogger`.\n",
      "  rank_zero_warn(\n",
      "GPU available: True (cuda), used: True\n",
      "TPU available: False, using: 0 TPU cores\n",
      "IPU available: False, using: 0 IPUs\n",
      "HPU available: False, using: 0 HPUs\n",
      "/home/l.erlygin/miniconda/lib/python3.9/site-packages/pytorch_lightning/trainer/configuration_validator.py:72: PossibleUserWarning: You defined a `validation_step` but have no `val_dataloader`. Skipping val loop.\n",
      "  rank_zero_warn(\n",
      "You are using a CUDA device ('NVIDIA L40') that has Tensor Cores. To properly utilize them, you should set `torch.set_float32_matmul_precision('medium' | 'high')` which will trade-off precision for performance. For more details, read https://pytorch.org/docs/stable/generated/torch.set_float32_matmul_precision.html#torch.set_float32_matmul_precision\n",
      "LOCAL_RANK: 0 - CUDA_VISIBLE_DEVICES: [0]\n",
      "\n",
      "  | Name     | Type       | Params\n",
      "----------------------------------------\n",
      "0 | backbone | Backbone   | 37.4 K\n",
      "1 | head     | SCFHead    | 7.9 K \n",
      "2 | scf_loss | KLDiracVMF | 0     \n",
      "----------------------------------------\n",
      "45.4 K    Trainable params\n",
      "20        Non-trainable params\n",
      "45.4 K    Total params\n",
      "0.182     Total estimated model params size (MB)\n"
     ]
    },
    {
     "name": "stdout",
     "output_type": "stream",
     "text": [
      "Epoch 19: 100%|██████████| 144/144 [00:03<00:00, 46.33it/s, v_num=tbig, train_loss=-.473] "
     ]
    },
    {
     "name": "stderr",
     "output_type": "stream",
     "text": [
      "`Trainer.fit` stopped: `max_epochs=20` reached.\n"
     ]
    },
    {
     "name": "stdout",
     "output_type": "stream",
     "text": [
      "Epoch 19: 100%|██████████| 144/144 [00:03<00:00, 46.08it/s, v_num=tbig, train_loss=-.473]\n"
     ]
    },
    {
     "name": "stderr",
     "output_type": "stream",
     "text": [
      "100%|██████████| 79/79 [00:03<00:00, 23.57it/s]\n"
     ]
    },
    {
     "name": "stdout",
     "output_type": "stream",
     "text": [
      "iteration 1: accuracy 0.28\n"
     ]
    },
    {
     "name": "stderr",
     "output_type": "stream",
     "text": [
      "/home/l.erlygin/miniconda/lib/python3.9/site-packages/torchvision/transforms/v2/_deprecated.py:42: UserWarning: The transform `ToTensor()` is deprecated and will be removed in a future release. Instead, please use `v2.Compose([v2.ToImage(), v2.ToDtype(torch.float32, scale=True)])`.Output is equivalent up to float precision.\n",
      "  warnings.warn(\n",
      "/home/l.erlygin/miniconda/lib/python3.9/site-packages/pytorch_lightning/utilities/parsing.py:197: UserWarning: Attribute 'backbone' is an instance of `nn.Module` and is already saved during checkpointing. It is recommended to ignore them using `self.save_hyperparameters(ignore=['backbone'])`.\n",
      "  rank_zero_warn(\n",
      "/home/l.erlygin/miniconda/lib/python3.9/site-packages/pytorch_lightning/utilities/parsing.py:197: UserWarning: Attribute 'loss' is an instance of `nn.Module` and is already saved during checkpointing. It is recommended to ignore them using `self.save_hyperparameters(ignore=['loss'])`.\n",
      "  rank_zero_warn(\n",
      "/home/l.erlygin/miniconda/lib/python3.9/site-packages/lightning_fabric/utilities/cloud_io.py:51: FutureWarning: You are using `torch.load` with `weights_only=False` (the current default value), which uses the default pickle module implicitly. It is possible to construct malicious pickle data which will execute arbitrary code during unpickling (See https://github.com/pytorch/pytorch/blob/main/SECURITY.md#untrusted-models for more details). In a future release, the default value for `weights_only` will be flipped to `True`. This limits the functions that could be executed during unpickling. Arbitrary objects will no longer be allowed to be loaded via this mode unless they are explicitly allowlisted by the user via `torch.serialization.add_safe_globals`. We recommend you start setting `weights_only=True` for any use case where you don't have full control of the loaded file. Please open an issue on GitHub for any issues related to this experimental feature.\n",
      "  return torch.load(f, map_location=map_location)  # type: ignore[arg-type]\n",
      "/app/face_lib/models/scf.py:30: FutureWarning: You are using `torch.load` with `weights_only=False` (the current default value), which uses the default pickle module implicitly. It is possible to construct malicious pickle data which will execute arbitrary code during unpickling (See https://github.com/pytorch/pytorch/blob/main/SECURITY.md#untrusted-models for more details). In a future release, the default value for `weights_only` will be flipped to `True`. This limits the functions that could be executed during unpickling. Arbitrary objects will no longer be allowed to be loaded via this mode unless they are explicitly allowlisted by the user via `torch.serialization.add_safe_globals`. We recommend you start setting `weights_only=True` for any use case where you don't have full control of the loaded file. Please open an issue on GitHub for any issues related to this experimental feature.\n",
      "  self.softmax_weights = torch.load(softmax_weights_path)\n",
      "/home/l.erlygin/miniconda/lib/python3.9/site-packages/pytorch_lightning/loggers/wandb.py:395: UserWarning: There is a wandb run already in progress and newly created instances of `WandbLogger` will reuse this run. If this is not desired, call `wandb.finish()` before instantiating `WandbLogger`.\n",
      "  rank_zero_warn(\n",
      "GPU available: True (cuda), used: True\n",
      "TPU available: False, using: 0 TPU cores\n",
      "IPU available: False, using: 0 IPUs\n",
      "HPU available: False, using: 0 HPUs\n",
      "/home/l.erlygin/miniconda/lib/python3.9/site-packages/pytorch_lightning/trainer/configuration_validator.py:72: PossibleUserWarning: You defined a `validation_step` but have no `val_dataloader`. Skipping val loop.\n",
      "  rank_zero_warn(\n",
      "You are using a CUDA device ('NVIDIA L40') that has Tensor Cores. To properly utilize them, you should set `torch.set_float32_matmul_precision('medium' | 'high')` which will trade-off precision for performance. For more details, read https://pytorch.org/docs/stable/generated/torch.set_float32_matmul_precision.html#torch.set_float32_matmul_precision\n",
      "LOCAL_RANK: 0 - CUDA_VISIBLE_DEVICES: [0]\n",
      "\n",
      "  | Name     | Type       | Params\n",
      "----------------------------------------\n",
      "0 | backbone | Backbone   | 37.4 K\n",
      "1 | head     | SCFHead    | 7.9 K \n",
      "2 | scf_loss | KLDiracVMF | 0     \n",
      "----------------------------------------\n",
      "45.4 K    Trainable params\n",
      "20        Non-trainable params\n",
      "45.4 K    Total params\n",
      "0.182     Total estimated model params size (MB)\n"
     ]
    },
    {
     "name": "stdout",
     "output_type": "stream",
     "text": [
      "Epoch 19: 100%|██████████| 144/144 [00:03<00:00, 45.24it/s, v_num=tbig, train_loss=-.593] "
     ]
    },
    {
     "name": "stderr",
     "output_type": "stream",
     "text": [
      "`Trainer.fit` stopped: `max_epochs=20` reached.\n"
     ]
    },
    {
     "name": "stdout",
     "output_type": "stream",
     "text": [
      "Epoch 19: 100%|██████████| 144/144 [00:03<00:00, 45.02it/s, v_num=tbig, train_loss=-.593]\n"
     ]
    },
    {
     "name": "stderr",
     "output_type": "stream",
     "text": [
      "100%|██████████| 79/79 [00:03<00:00, 20.09it/s]\n"
     ]
    },
    {
     "name": "stdout",
     "output_type": "stream",
     "text": [
      "iteration 2: accuracy 0.28\n"
     ]
    },
    {
     "name": "stderr",
     "output_type": "stream",
     "text": [
      "/home/l.erlygin/miniconda/lib/python3.9/site-packages/torchvision/transforms/v2/_deprecated.py:42: UserWarning: The transform `ToTensor()` is deprecated and will be removed in a future release. Instead, please use `v2.Compose([v2.ToImage(), v2.ToDtype(torch.float32, scale=True)])`.Output is equivalent up to float precision.\n",
      "  warnings.warn(\n",
      "/home/l.erlygin/miniconda/lib/python3.9/site-packages/pytorch_lightning/utilities/parsing.py:197: UserWarning: Attribute 'backbone' is an instance of `nn.Module` and is already saved during checkpointing. It is recommended to ignore them using `self.save_hyperparameters(ignore=['backbone'])`.\n",
      "  rank_zero_warn(\n",
      "/home/l.erlygin/miniconda/lib/python3.9/site-packages/pytorch_lightning/utilities/parsing.py:197: UserWarning: Attribute 'loss' is an instance of `nn.Module` and is already saved during checkpointing. It is recommended to ignore them using `self.save_hyperparameters(ignore=['loss'])`.\n",
      "  rank_zero_warn(\n",
      "/home/l.erlygin/miniconda/lib/python3.9/site-packages/lightning_fabric/utilities/cloud_io.py:51: FutureWarning: You are using `torch.load` with `weights_only=False` (the current default value), which uses the default pickle module implicitly. It is possible to construct malicious pickle data which will execute arbitrary code during unpickling (See https://github.com/pytorch/pytorch/blob/main/SECURITY.md#untrusted-models for more details). In a future release, the default value for `weights_only` will be flipped to `True`. This limits the functions that could be executed during unpickling. Arbitrary objects will no longer be allowed to be loaded via this mode unless they are explicitly allowlisted by the user via `torch.serialization.add_safe_globals`. We recommend you start setting `weights_only=True` for any use case where you don't have full control of the loaded file. Please open an issue on GitHub for any issues related to this experimental feature.\n",
      "  return torch.load(f, map_location=map_location)  # type: ignore[arg-type]\n",
      "/app/face_lib/models/scf.py:30: FutureWarning: You are using `torch.load` with `weights_only=False` (the current default value), which uses the default pickle module implicitly. It is possible to construct malicious pickle data which will execute arbitrary code during unpickling (See https://github.com/pytorch/pytorch/blob/main/SECURITY.md#untrusted-models for more details). In a future release, the default value for `weights_only` will be flipped to `True`. This limits the functions that could be executed during unpickling. Arbitrary objects will no longer be allowed to be loaded via this mode unless they are explicitly allowlisted by the user via `torch.serialization.add_safe_globals`. We recommend you start setting `weights_only=True` for any use case where you don't have full control of the loaded file. Please open an issue on GitHub for any issues related to this experimental feature.\n",
      "  self.softmax_weights = torch.load(softmax_weights_path)\n",
      "/home/l.erlygin/miniconda/lib/python3.9/site-packages/pytorch_lightning/loggers/wandb.py:395: UserWarning: There is a wandb run already in progress and newly created instances of `WandbLogger` will reuse this run. If this is not desired, call `wandb.finish()` before instantiating `WandbLogger`.\n",
      "  rank_zero_warn(\n",
      "GPU available: True (cuda), used: True\n",
      "TPU available: False, using: 0 TPU cores\n",
      "IPU available: False, using: 0 IPUs\n",
      "HPU available: False, using: 0 HPUs\n",
      "/home/l.erlygin/miniconda/lib/python3.9/site-packages/pytorch_lightning/trainer/configuration_validator.py:72: PossibleUserWarning: You defined a `validation_step` but have no `val_dataloader`. Skipping val loop.\n",
      "  rank_zero_warn(\n",
      "You are using a CUDA device ('NVIDIA L40') that has Tensor Cores. To properly utilize them, you should set `torch.set_float32_matmul_precision('medium' | 'high')` which will trade-off precision for performance. For more details, read https://pytorch.org/docs/stable/generated/torch.set_float32_matmul_precision.html#torch.set_float32_matmul_precision\n",
      "LOCAL_RANK: 0 - CUDA_VISIBLE_DEVICES: [0]\n",
      "\n",
      "  | Name     | Type       | Params\n",
      "----------------------------------------\n",
      "0 | backbone | Backbone   | 37.4 K\n",
      "1 | head     | SCFHead    | 7.9 K \n",
      "2 | scf_loss | KLDiracVMF | 0     \n",
      "----------------------------------------\n",
      "45.4 K    Trainable params\n",
      "20        Non-trainable params\n",
      "45.4 K    Total params\n",
      "0.182     Total estimated model params size (MB)\n"
     ]
    },
    {
     "name": "stdout",
     "output_type": "stream",
     "text": [
      "Epoch 19: 100%|██████████| 144/144 [00:03<00:00, 45.59it/s, v_num=tbig, train_loss=-.219] "
     ]
    },
    {
     "name": "stderr",
     "output_type": "stream",
     "text": [
      "`Trainer.fit` stopped: `max_epochs=20` reached.\n"
     ]
    },
    {
     "name": "stdout",
     "output_type": "stream",
     "text": [
      "Epoch 19: 100%|██████████| 144/144 [00:03<00:00, 45.40it/s, v_num=tbig, train_loss=-.219]\n"
     ]
    },
    {
     "name": "stderr",
     "output_type": "stream",
     "text": [
      "100%|██████████| 79/79 [00:03<00:00, 23.07it/s]\n",
      "/home/l.erlygin/miniconda/lib/python3.9/site-packages/torchvision/transforms/v2/_deprecated.py:42: UserWarning: The transform `ToTensor()` is deprecated and will be removed in a future release. Instead, please use `v2.Compose([v2.ToImage(), v2.ToDtype(torch.float32, scale=True)])`.Output is equivalent up to float precision.\n",
      "  warnings.warn(\n"
     ]
    },
    {
     "name": "stdout",
     "output_type": "stream",
     "text": [
      "iteration 3: accuracy 0.28\n"
     ]
    },
    {
     "name": "stderr",
     "output_type": "stream",
     "text": [
      "/home/l.erlygin/miniconda/lib/python3.9/site-packages/pytorch_lightning/utilities/parsing.py:197: UserWarning: Attribute 'backbone' is an instance of `nn.Module` and is already saved during checkpointing. It is recommended to ignore them using `self.save_hyperparameters(ignore=['backbone'])`.\n",
      "  rank_zero_warn(\n",
      "/home/l.erlygin/miniconda/lib/python3.9/site-packages/pytorch_lightning/utilities/parsing.py:197: UserWarning: Attribute 'loss' is an instance of `nn.Module` and is already saved during checkpointing. It is recommended to ignore them using `self.save_hyperparameters(ignore=['loss'])`.\n",
      "  rank_zero_warn(\n",
      "/home/l.erlygin/miniconda/lib/python3.9/site-packages/lightning_fabric/utilities/cloud_io.py:51: FutureWarning: You are using `torch.load` with `weights_only=False` (the current default value), which uses the default pickle module implicitly. It is possible to construct malicious pickle data which will execute arbitrary code during unpickling (See https://github.com/pytorch/pytorch/blob/main/SECURITY.md#untrusted-models for more details). In a future release, the default value for `weights_only` will be flipped to `True`. This limits the functions that could be executed during unpickling. Arbitrary objects will no longer be allowed to be loaded via this mode unless they are explicitly allowlisted by the user via `torch.serialization.add_safe_globals`. We recommend you start setting `weights_only=True` for any use case where you don't have full control of the loaded file. Please open an issue on GitHub for any issues related to this experimental feature.\n",
      "  return torch.load(f, map_location=map_location)  # type: ignore[arg-type]\n",
      "/app/face_lib/models/scf.py:30: FutureWarning: You are using `torch.load` with `weights_only=False` (the current default value), which uses the default pickle module implicitly. It is possible to construct malicious pickle data which will execute arbitrary code during unpickling (See https://github.com/pytorch/pytorch/blob/main/SECURITY.md#untrusted-models for more details). In a future release, the default value for `weights_only` will be flipped to `True`. This limits the functions that could be executed during unpickling. Arbitrary objects will no longer be allowed to be loaded via this mode unless they are explicitly allowlisted by the user via `torch.serialization.add_safe_globals`. We recommend you start setting `weights_only=True` for any use case where you don't have full control of the loaded file. Please open an issue on GitHub for any issues related to this experimental feature.\n",
      "  self.softmax_weights = torch.load(softmax_weights_path)\n",
      "/home/l.erlygin/miniconda/lib/python3.9/site-packages/pytorch_lightning/loggers/wandb.py:395: UserWarning: There is a wandb run already in progress and newly created instances of `WandbLogger` will reuse this run. If this is not desired, call `wandb.finish()` before instantiating `WandbLogger`.\n",
      "  rank_zero_warn(\n",
      "GPU available: True (cuda), used: True\n",
      "TPU available: False, using: 0 TPU cores\n",
      "IPU available: False, using: 0 IPUs\n",
      "HPU available: False, using: 0 HPUs\n",
      "/home/l.erlygin/miniconda/lib/python3.9/site-packages/pytorch_lightning/trainer/configuration_validator.py:72: PossibleUserWarning: You defined a `validation_step` but have no `val_dataloader`. Skipping val loop.\n",
      "  rank_zero_warn(\n",
      "You are using a CUDA device ('NVIDIA L40') that has Tensor Cores. To properly utilize them, you should set `torch.set_float32_matmul_precision('medium' | 'high')` which will trade-off precision for performance. For more details, read https://pytorch.org/docs/stable/generated/torch.set_float32_matmul_precision.html#torch.set_float32_matmul_precision\n",
      "LOCAL_RANK: 0 - CUDA_VISIBLE_DEVICES: [0]\n",
      "\n",
      "  | Name     | Type       | Params\n",
      "----------------------------------------\n",
      "0 | backbone | Backbone   | 37.4 K\n",
      "1 | head     | SCFHead    | 7.9 K \n",
      "2 | scf_loss | KLDiracVMF | 0     \n",
      "----------------------------------------\n",
      "45.4 K    Trainable params\n",
      "20        Non-trainable params\n",
      "45.4 K    Total params\n",
      "0.182     Total estimated model params size (MB)\n"
     ]
    },
    {
     "name": "stdout",
     "output_type": "stream",
     "text": [
      "Epoch 19: 100%|██████████| 144/144 [00:03<00:00, 43.55it/s, v_num=tbig, train_loss=-1.05]"
     ]
    },
    {
     "name": "stderr",
     "output_type": "stream",
     "text": [
      "`Trainer.fit` stopped: `max_epochs=20` reached.\n"
     ]
    },
    {
     "name": "stdout",
     "output_type": "stream",
     "text": [
      "Epoch 19: 100%|██████████| 144/144 [00:03<00:00, 43.35it/s, v_num=tbig, train_loss=-1.05]\n"
     ]
    },
    {
     "name": "stderr",
     "output_type": "stream",
     "text": [
      "100%|██████████| 79/79 [00:03<00:00, 19.78it/s]\n"
     ]
    },
    {
     "name": "stdout",
     "output_type": "stream",
     "text": [
      "iteration 4: accuracy 0.28\n"
     ]
    },
    {
     "name": "stderr",
     "output_type": "stream",
     "text": [
      "/home/l.erlygin/miniconda/lib/python3.9/site-packages/torchvision/transforms/v2/_deprecated.py:42: UserWarning: The transform `ToTensor()` is deprecated and will be removed in a future release. Instead, please use `v2.Compose([v2.ToImage(), v2.ToDtype(torch.float32, scale=True)])`.Output is equivalent up to float precision.\n",
      "  warnings.warn(\n",
      "/home/l.erlygin/miniconda/lib/python3.9/site-packages/pytorch_lightning/utilities/parsing.py:197: UserWarning: Attribute 'backbone' is an instance of `nn.Module` and is already saved during checkpointing. It is recommended to ignore them using `self.save_hyperparameters(ignore=['backbone'])`.\n",
      "  rank_zero_warn(\n",
      "/home/l.erlygin/miniconda/lib/python3.9/site-packages/pytorch_lightning/utilities/parsing.py:197: UserWarning: Attribute 'loss' is an instance of `nn.Module` and is already saved during checkpointing. It is recommended to ignore them using `self.save_hyperparameters(ignore=['loss'])`.\n",
      "  rank_zero_warn(\n",
      "/home/l.erlygin/miniconda/lib/python3.9/site-packages/lightning_fabric/utilities/cloud_io.py:51: FutureWarning: You are using `torch.load` with `weights_only=False` (the current default value), which uses the default pickle module implicitly. It is possible to construct malicious pickle data which will execute arbitrary code during unpickling (See https://github.com/pytorch/pytorch/blob/main/SECURITY.md#untrusted-models for more details). In a future release, the default value for `weights_only` will be flipped to `True`. This limits the functions that could be executed during unpickling. Arbitrary objects will no longer be allowed to be loaded via this mode unless they are explicitly allowlisted by the user via `torch.serialization.add_safe_globals`. We recommend you start setting `weights_only=True` for any use case where you don't have full control of the loaded file. Please open an issue on GitHub for any issues related to this experimental feature.\n",
      "  return torch.load(f, map_location=map_location)  # type: ignore[arg-type]\n",
      "/app/face_lib/models/scf.py:30: FutureWarning: You are using `torch.load` with `weights_only=False` (the current default value), which uses the default pickle module implicitly. It is possible to construct malicious pickle data which will execute arbitrary code during unpickling (See https://github.com/pytorch/pytorch/blob/main/SECURITY.md#untrusted-models for more details). In a future release, the default value for `weights_only` will be flipped to `True`. This limits the functions that could be executed during unpickling. Arbitrary objects will no longer be allowed to be loaded via this mode unless they are explicitly allowlisted by the user via `torch.serialization.add_safe_globals`. We recommend you start setting `weights_only=True` for any use case where you don't have full control of the loaded file. Please open an issue on GitHub for any issues related to this experimental feature.\n",
      "  self.softmax_weights = torch.load(softmax_weights_path)\n",
      "/home/l.erlygin/miniconda/lib/python3.9/site-packages/pytorch_lightning/loggers/wandb.py:395: UserWarning: There is a wandb run already in progress and newly created instances of `WandbLogger` will reuse this run. If this is not desired, call `wandb.finish()` before instantiating `WandbLogger`.\n",
      "  rank_zero_warn(\n",
      "GPU available: True (cuda), used: True\n",
      "TPU available: False, using: 0 TPU cores\n",
      "IPU available: False, using: 0 IPUs\n",
      "HPU available: False, using: 0 HPUs\n",
      "/home/l.erlygin/miniconda/lib/python3.9/site-packages/pytorch_lightning/trainer/configuration_validator.py:72: PossibleUserWarning: You defined a `validation_step` but have no `val_dataloader`. Skipping val loop.\n",
      "  rank_zero_warn(\n",
      "You are using a CUDA device ('NVIDIA L40') that has Tensor Cores. To properly utilize them, you should set `torch.set_float32_matmul_precision('medium' | 'high')` which will trade-off precision for performance. For more details, read https://pytorch.org/docs/stable/generated/torch.set_float32_matmul_precision.html#torch.set_float32_matmul_precision\n",
      "LOCAL_RANK: 0 - CUDA_VISIBLE_DEVICES: [0]\n",
      "\n",
      "  | Name     | Type       | Params\n",
      "----------------------------------------\n",
      "0 | backbone | Backbone   | 37.4 K\n",
      "1 | head     | SCFHead    | 7.9 K \n",
      "2 | scf_loss | KLDiracVMF | 0     \n",
      "----------------------------------------\n",
      "45.4 K    Trainable params\n",
      "20        Non-trainable params\n",
      "45.4 K    Total params\n",
      "0.182     Total estimated model params size (MB)\n"
     ]
    },
    {
     "name": "stdout",
     "output_type": "stream",
     "text": [
      "Epoch 19: 100%|██████████| 144/144 [00:03<00:00, 38.17it/s, v_num=tbig, train_loss=-.489]"
     ]
    },
    {
     "name": "stderr",
     "output_type": "stream",
     "text": [
      "`Trainer.fit` stopped: `max_epochs=20` reached.\n"
     ]
    },
    {
     "name": "stdout",
     "output_type": "stream",
     "text": [
      "Epoch 19: 100%|██████████| 144/144 [00:03<00:00, 38.02it/s, v_num=tbig, train_loss=-.489]\n"
     ]
    },
    {
     "name": "stderr",
     "output_type": "stream",
     "text": [
      "100%|██████████| 79/79 [00:03<00:00, 20.11it/s]\n"
     ]
    },
    {
     "name": "stdout",
     "output_type": "stream",
     "text": [
      "iteration 5: accuracy 0.28\n"
     ]
    },
    {
     "name": "stderr",
     "output_type": "stream",
     "text": [
      "/home/l.erlygin/miniconda/lib/python3.9/site-packages/torchvision/transforms/v2/_deprecated.py:42: UserWarning: The transform `ToTensor()` is deprecated and will be removed in a future release. Instead, please use `v2.Compose([v2.ToImage(), v2.ToDtype(torch.float32, scale=True)])`.Output is equivalent up to float precision.\n",
      "  warnings.warn(\n",
      "/home/l.erlygin/miniconda/lib/python3.9/site-packages/pytorch_lightning/utilities/parsing.py:197: UserWarning: Attribute 'backbone' is an instance of `nn.Module` and is already saved during checkpointing. It is recommended to ignore them using `self.save_hyperparameters(ignore=['backbone'])`.\n",
      "  rank_zero_warn(\n",
      "/home/l.erlygin/miniconda/lib/python3.9/site-packages/pytorch_lightning/utilities/parsing.py:197: UserWarning: Attribute 'loss' is an instance of `nn.Module` and is already saved during checkpointing. It is recommended to ignore them using `self.save_hyperparameters(ignore=['loss'])`.\n",
      "  rank_zero_warn(\n",
      "/home/l.erlygin/miniconda/lib/python3.9/site-packages/lightning_fabric/utilities/cloud_io.py:51: FutureWarning: You are using `torch.load` with `weights_only=False` (the current default value), which uses the default pickle module implicitly. It is possible to construct malicious pickle data which will execute arbitrary code during unpickling (See https://github.com/pytorch/pytorch/blob/main/SECURITY.md#untrusted-models for more details). In a future release, the default value for `weights_only` will be flipped to `True`. This limits the functions that could be executed during unpickling. Arbitrary objects will no longer be allowed to be loaded via this mode unless they are explicitly allowlisted by the user via `torch.serialization.add_safe_globals`. We recommend you start setting `weights_only=True` for any use case where you don't have full control of the loaded file. Please open an issue on GitHub for any issues related to this experimental feature.\n",
      "  return torch.load(f, map_location=map_location)  # type: ignore[arg-type]\n",
      "/app/face_lib/models/scf.py:30: FutureWarning: You are using `torch.load` with `weights_only=False` (the current default value), which uses the default pickle module implicitly. It is possible to construct malicious pickle data which will execute arbitrary code during unpickling (See https://github.com/pytorch/pytorch/blob/main/SECURITY.md#untrusted-models for more details). In a future release, the default value for `weights_only` will be flipped to `True`. This limits the functions that could be executed during unpickling. Arbitrary objects will no longer be allowed to be loaded via this mode unless they are explicitly allowlisted by the user via `torch.serialization.add_safe_globals`. We recommend you start setting `weights_only=True` for any use case where you don't have full control of the loaded file. Please open an issue on GitHub for any issues related to this experimental feature.\n",
      "  self.softmax_weights = torch.load(softmax_weights_path)\n",
      "/home/l.erlygin/miniconda/lib/python3.9/site-packages/pytorch_lightning/loggers/wandb.py:395: UserWarning: There is a wandb run already in progress and newly created instances of `WandbLogger` will reuse this run. If this is not desired, call `wandb.finish()` before instantiating `WandbLogger`.\n",
      "  rank_zero_warn(\n",
      "GPU available: True (cuda), used: True\n",
      "TPU available: False, using: 0 TPU cores\n",
      "IPU available: False, using: 0 IPUs\n",
      "HPU available: False, using: 0 HPUs\n",
      "/home/l.erlygin/miniconda/lib/python3.9/site-packages/pytorch_lightning/trainer/configuration_validator.py:72: PossibleUserWarning: You defined a `validation_step` but have no `val_dataloader`. Skipping val loop.\n",
      "  rank_zero_warn(\n",
      "You are using a CUDA device ('NVIDIA L40') that has Tensor Cores. To properly utilize them, you should set `torch.set_float32_matmul_precision('medium' | 'high')` which will trade-off precision for performance. For more details, read https://pytorch.org/docs/stable/generated/torch.set_float32_matmul_precision.html#torch.set_float32_matmul_precision\n",
      "LOCAL_RANK: 0 - CUDA_VISIBLE_DEVICES: [0]\n",
      "\n",
      "  | Name     | Type       | Params\n",
      "----------------------------------------\n",
      "0 | backbone | Backbone   | 37.4 K\n",
      "1 | head     | SCFHead    | 7.9 K \n",
      "2 | scf_loss | KLDiracVMF | 0     \n",
      "----------------------------------------\n",
      "45.4 K    Trainable params\n",
      "20        Non-trainable params\n",
      "45.4 K    Total params\n",
      "0.182     Total estimated model params size (MB)\n"
     ]
    },
    {
     "name": "stdout",
     "output_type": "stream",
     "text": [
      "Epoch 19: 100%|██████████| 144/144 [00:03<00:00, 44.74it/s, v_num=tbig, train_loss=-.475] "
     ]
    },
    {
     "name": "stderr",
     "output_type": "stream",
     "text": [
      "`Trainer.fit` stopped: `max_epochs=20` reached.\n"
     ]
    },
    {
     "name": "stdout",
     "output_type": "stream",
     "text": [
      "Epoch 19: 100%|██████████| 144/144 [00:03<00:00, 44.54it/s, v_num=tbig, train_loss=-.475]\n"
     ]
    },
    {
     "name": "stderr",
     "output_type": "stream",
     "text": [
      "100%|██████████| 79/79 [00:03<00:00, 22.62it/s]\n",
      "/home/l.erlygin/miniconda/lib/python3.9/site-packages/torchvision/transforms/v2/_deprecated.py:42: UserWarning: The transform `ToTensor()` is deprecated and will be removed in a future release. Instead, please use `v2.Compose([v2.ToImage(), v2.ToDtype(torch.float32, scale=True)])`.Output is equivalent up to float precision.\n",
      "  warnings.warn(\n"
     ]
    },
    {
     "name": "stdout",
     "output_type": "stream",
     "text": [
      "iteration 6: accuracy 0.28\n"
     ]
    },
    {
     "name": "stderr",
     "output_type": "stream",
     "text": [
      "/home/l.erlygin/miniconda/lib/python3.9/site-packages/pytorch_lightning/utilities/parsing.py:197: UserWarning: Attribute 'backbone' is an instance of `nn.Module` and is already saved during checkpointing. It is recommended to ignore them using `self.save_hyperparameters(ignore=['backbone'])`.\n",
      "  rank_zero_warn(\n",
      "/home/l.erlygin/miniconda/lib/python3.9/site-packages/pytorch_lightning/utilities/parsing.py:197: UserWarning: Attribute 'loss' is an instance of `nn.Module` and is already saved during checkpointing. It is recommended to ignore them using `self.save_hyperparameters(ignore=['loss'])`.\n",
      "  rank_zero_warn(\n",
      "/home/l.erlygin/miniconda/lib/python3.9/site-packages/lightning_fabric/utilities/cloud_io.py:51: FutureWarning: You are using `torch.load` with `weights_only=False` (the current default value), which uses the default pickle module implicitly. It is possible to construct malicious pickle data which will execute arbitrary code during unpickling (See https://github.com/pytorch/pytorch/blob/main/SECURITY.md#untrusted-models for more details). In a future release, the default value for `weights_only` will be flipped to `True`. This limits the functions that could be executed during unpickling. Arbitrary objects will no longer be allowed to be loaded via this mode unless they are explicitly allowlisted by the user via `torch.serialization.add_safe_globals`. We recommend you start setting `weights_only=True` for any use case where you don't have full control of the loaded file. Please open an issue on GitHub for any issues related to this experimental feature.\n",
      "  return torch.load(f, map_location=map_location)  # type: ignore[arg-type]\n",
      "/app/face_lib/models/scf.py:30: FutureWarning: You are using `torch.load` with `weights_only=False` (the current default value), which uses the default pickle module implicitly. It is possible to construct malicious pickle data which will execute arbitrary code during unpickling (See https://github.com/pytorch/pytorch/blob/main/SECURITY.md#untrusted-models for more details). In a future release, the default value for `weights_only` will be flipped to `True`. This limits the functions that could be executed during unpickling. Arbitrary objects will no longer be allowed to be loaded via this mode unless they are explicitly allowlisted by the user via `torch.serialization.add_safe_globals`. We recommend you start setting `weights_only=True` for any use case where you don't have full control of the loaded file. Please open an issue on GitHub for any issues related to this experimental feature.\n",
      "  self.softmax_weights = torch.load(softmax_weights_path)\n",
      "/home/l.erlygin/miniconda/lib/python3.9/site-packages/pytorch_lightning/loggers/wandb.py:395: UserWarning: There is a wandb run already in progress and newly created instances of `WandbLogger` will reuse this run. If this is not desired, call `wandb.finish()` before instantiating `WandbLogger`.\n",
      "  rank_zero_warn(\n",
      "GPU available: True (cuda), used: True\n",
      "TPU available: False, using: 0 TPU cores\n",
      "IPU available: False, using: 0 IPUs\n",
      "HPU available: False, using: 0 HPUs\n",
      "/home/l.erlygin/miniconda/lib/python3.9/site-packages/pytorch_lightning/trainer/configuration_validator.py:72: PossibleUserWarning: You defined a `validation_step` but have no `val_dataloader`. Skipping val loop.\n",
      "  rank_zero_warn(\n",
      "You are using a CUDA device ('NVIDIA L40') that has Tensor Cores. To properly utilize them, you should set `torch.set_float32_matmul_precision('medium' | 'high')` which will trade-off precision for performance. For more details, read https://pytorch.org/docs/stable/generated/torch.set_float32_matmul_precision.html#torch.set_float32_matmul_precision\n",
      "LOCAL_RANK: 0 - CUDA_VISIBLE_DEVICES: [0]\n",
      "\n",
      "  | Name     | Type       | Params\n",
      "----------------------------------------\n",
      "0 | backbone | Backbone   | 37.4 K\n",
      "1 | head     | SCFHead    | 7.9 K \n",
      "2 | scf_loss | KLDiracVMF | 0     \n",
      "----------------------------------------\n",
      "45.4 K    Trainable params\n",
      "20        Non-trainable params\n",
      "45.4 K    Total params\n",
      "0.182     Total estimated model params size (MB)\n"
     ]
    },
    {
     "name": "stdout",
     "output_type": "stream",
     "text": [
      "Epoch 19: 100%|██████████| 144/144 [00:03<00:00, 46.31it/s, v_num=tbig, train_loss=-.606] "
     ]
    },
    {
     "name": "stderr",
     "output_type": "stream",
     "text": [
      "`Trainer.fit` stopped: `max_epochs=20` reached.\n"
     ]
    },
    {
     "name": "stdout",
     "output_type": "stream",
     "text": [
      "Epoch 19: 100%|██████████| 144/144 [00:03<00:00, 46.08it/s, v_num=tbig, train_loss=-.606]\n"
     ]
    },
    {
     "name": "stderr",
     "output_type": "stream",
     "text": [
      "100%|██████████| 79/79 [00:03<00:00, 23.85it/s]\n"
     ]
    },
    {
     "name": "stdout",
     "output_type": "stream",
     "text": [
      "iteration 7: accuracy 0.28\n"
     ]
    },
    {
     "name": "stderr",
     "output_type": "stream",
     "text": [
      "/home/l.erlygin/miniconda/lib/python3.9/site-packages/torchvision/transforms/v2/_deprecated.py:42: UserWarning: The transform `ToTensor()` is deprecated and will be removed in a future release. Instead, please use `v2.Compose([v2.ToImage(), v2.ToDtype(torch.float32, scale=True)])`.Output is equivalent up to float precision.\n",
      "  warnings.warn(\n",
      "/home/l.erlygin/miniconda/lib/python3.9/site-packages/pytorch_lightning/utilities/parsing.py:197: UserWarning: Attribute 'backbone' is an instance of `nn.Module` and is already saved during checkpointing. It is recommended to ignore them using `self.save_hyperparameters(ignore=['backbone'])`.\n",
      "  rank_zero_warn(\n",
      "/home/l.erlygin/miniconda/lib/python3.9/site-packages/pytorch_lightning/utilities/parsing.py:197: UserWarning: Attribute 'loss' is an instance of `nn.Module` and is already saved during checkpointing. It is recommended to ignore them using `self.save_hyperparameters(ignore=['loss'])`.\n",
      "  rank_zero_warn(\n",
      "/home/l.erlygin/miniconda/lib/python3.9/site-packages/lightning_fabric/utilities/cloud_io.py:51: FutureWarning: You are using `torch.load` with `weights_only=False` (the current default value), which uses the default pickle module implicitly. It is possible to construct malicious pickle data which will execute arbitrary code during unpickling (See https://github.com/pytorch/pytorch/blob/main/SECURITY.md#untrusted-models for more details). In a future release, the default value for `weights_only` will be flipped to `True`. This limits the functions that could be executed during unpickling. Arbitrary objects will no longer be allowed to be loaded via this mode unless they are explicitly allowlisted by the user via `torch.serialization.add_safe_globals`. We recommend you start setting `weights_only=True` for any use case where you don't have full control of the loaded file. Please open an issue on GitHub for any issues related to this experimental feature.\n",
      "  return torch.load(f, map_location=map_location)  # type: ignore[arg-type]\n",
      "/app/face_lib/models/scf.py:30: FutureWarning: You are using `torch.load` with `weights_only=False` (the current default value), which uses the default pickle module implicitly. It is possible to construct malicious pickle data which will execute arbitrary code during unpickling (See https://github.com/pytorch/pytorch/blob/main/SECURITY.md#untrusted-models for more details). In a future release, the default value for `weights_only` will be flipped to `True`. This limits the functions that could be executed during unpickling. Arbitrary objects will no longer be allowed to be loaded via this mode unless they are explicitly allowlisted by the user via `torch.serialization.add_safe_globals`. We recommend you start setting `weights_only=True` for any use case where you don't have full control of the loaded file. Please open an issue on GitHub for any issues related to this experimental feature.\n",
      "  self.softmax_weights = torch.load(softmax_weights_path)\n",
      "/home/l.erlygin/miniconda/lib/python3.9/site-packages/pytorch_lightning/loggers/wandb.py:395: UserWarning: There is a wandb run already in progress and newly created instances of `WandbLogger` will reuse this run. If this is not desired, call `wandb.finish()` before instantiating `WandbLogger`.\n",
      "  rank_zero_warn(\n",
      "GPU available: True (cuda), used: True\n",
      "TPU available: False, using: 0 TPU cores\n",
      "IPU available: False, using: 0 IPUs\n",
      "HPU available: False, using: 0 HPUs\n",
      "/home/l.erlygin/miniconda/lib/python3.9/site-packages/pytorch_lightning/trainer/configuration_validator.py:72: PossibleUserWarning: You defined a `validation_step` but have no `val_dataloader`. Skipping val loop.\n",
      "  rank_zero_warn(\n",
      "You are using a CUDA device ('NVIDIA L40') that has Tensor Cores. To properly utilize them, you should set `torch.set_float32_matmul_precision('medium' | 'high')` which will trade-off precision for performance. For more details, read https://pytorch.org/docs/stable/generated/torch.set_float32_matmul_precision.html#torch.set_float32_matmul_precision\n",
      "LOCAL_RANK: 0 - CUDA_VISIBLE_DEVICES: [0]\n",
      "\n",
      "  | Name     | Type       | Params\n",
      "----------------------------------------\n",
      "0 | backbone | Backbone   | 37.4 K\n",
      "1 | head     | SCFHead    | 7.9 K \n",
      "2 | scf_loss | KLDiracVMF | 0     \n",
      "----------------------------------------\n",
      "45.4 K    Trainable params\n",
      "20        Non-trainable params\n",
      "45.4 K    Total params\n",
      "0.182     Total estimated model params size (MB)\n"
     ]
    },
    {
     "name": "stdout",
     "output_type": "stream",
     "text": [
      "Epoch 19: 100%|██████████| 144/144 [00:04<00:00, 34.24it/s, v_num=tbig, train_loss=-1.02] "
     ]
    },
    {
     "name": "stderr",
     "output_type": "stream",
     "text": [
      "`Trainer.fit` stopped: `max_epochs=20` reached.\n"
     ]
    },
    {
     "name": "stdout",
     "output_type": "stream",
     "text": [
      "Epoch 19: 100%|██████████| 144/144 [00:04<00:00, 34.12it/s, v_num=tbig, train_loss=-1.02]\n"
     ]
    },
    {
     "name": "stderr",
     "output_type": "stream",
     "text": [
      "100%|██████████| 79/79 [00:04<00:00, 17.62it/s]\n"
     ]
    },
    {
     "name": "stdout",
     "output_type": "stream",
     "text": [
      "iteration 8: accuracy 0.28\n"
     ]
    },
    {
     "name": "stderr",
     "output_type": "stream",
     "text": [
      "/home/l.erlygin/miniconda/lib/python3.9/site-packages/torchvision/transforms/v2/_deprecated.py:42: UserWarning: The transform `ToTensor()` is deprecated and will be removed in a future release. Instead, please use `v2.Compose([v2.ToImage(), v2.ToDtype(torch.float32, scale=True)])`.Output is equivalent up to float precision.\n",
      "  warnings.warn(\n",
      "/home/l.erlygin/miniconda/lib/python3.9/site-packages/pytorch_lightning/utilities/parsing.py:197: UserWarning: Attribute 'backbone' is an instance of `nn.Module` and is already saved during checkpointing. It is recommended to ignore them using `self.save_hyperparameters(ignore=['backbone'])`.\n",
      "  rank_zero_warn(\n",
      "/home/l.erlygin/miniconda/lib/python3.9/site-packages/pytorch_lightning/utilities/parsing.py:197: UserWarning: Attribute 'loss' is an instance of `nn.Module` and is already saved during checkpointing. It is recommended to ignore them using `self.save_hyperparameters(ignore=['loss'])`.\n",
      "  rank_zero_warn(\n",
      "/home/l.erlygin/miniconda/lib/python3.9/site-packages/lightning_fabric/utilities/cloud_io.py:51: FutureWarning: You are using `torch.load` with `weights_only=False` (the current default value), which uses the default pickle module implicitly. It is possible to construct malicious pickle data which will execute arbitrary code during unpickling (See https://github.com/pytorch/pytorch/blob/main/SECURITY.md#untrusted-models for more details). In a future release, the default value for `weights_only` will be flipped to `True`. This limits the functions that could be executed during unpickling. Arbitrary objects will no longer be allowed to be loaded via this mode unless they are explicitly allowlisted by the user via `torch.serialization.add_safe_globals`. We recommend you start setting `weights_only=True` for any use case where you don't have full control of the loaded file. Please open an issue on GitHub for any issues related to this experimental feature.\n",
      "  return torch.load(f, map_location=map_location)  # type: ignore[arg-type]\n",
      "/app/face_lib/models/scf.py:30: FutureWarning: You are using `torch.load` with `weights_only=False` (the current default value), which uses the default pickle module implicitly. It is possible to construct malicious pickle data which will execute arbitrary code during unpickling (See https://github.com/pytorch/pytorch/blob/main/SECURITY.md#untrusted-models for more details). In a future release, the default value for `weights_only` will be flipped to `True`. This limits the functions that could be executed during unpickling. Arbitrary objects will no longer be allowed to be loaded via this mode unless they are explicitly allowlisted by the user via `torch.serialization.add_safe_globals`. We recommend you start setting `weights_only=True` for any use case where you don't have full control of the loaded file. Please open an issue on GitHub for any issues related to this experimental feature.\n",
      "  self.softmax_weights = torch.load(softmax_weights_path)\n",
      "/home/l.erlygin/miniconda/lib/python3.9/site-packages/pytorch_lightning/loggers/wandb.py:395: UserWarning: There is a wandb run already in progress and newly created instances of `WandbLogger` will reuse this run. If this is not desired, call `wandb.finish()` before instantiating `WandbLogger`.\n",
      "  rank_zero_warn(\n",
      "GPU available: True (cuda), used: True\n",
      "TPU available: False, using: 0 TPU cores\n",
      "IPU available: False, using: 0 IPUs\n",
      "HPU available: False, using: 0 HPUs\n",
      "/home/l.erlygin/miniconda/lib/python3.9/site-packages/pytorch_lightning/trainer/configuration_validator.py:72: PossibleUserWarning: You defined a `validation_step` but have no `val_dataloader`. Skipping val loop.\n",
      "  rank_zero_warn(\n",
      "You are using a CUDA device ('NVIDIA L40') that has Tensor Cores. To properly utilize them, you should set `torch.set_float32_matmul_precision('medium' | 'high')` which will trade-off precision for performance. For more details, read https://pytorch.org/docs/stable/generated/torch.set_float32_matmul_precision.html#torch.set_float32_matmul_precision\n",
      "LOCAL_RANK: 0 - CUDA_VISIBLE_DEVICES: [0]\n",
      "\n",
      "  | Name     | Type       | Params\n",
      "----------------------------------------\n",
      "0 | backbone | Backbone   | 37.4 K\n",
      "1 | head     | SCFHead    | 7.9 K \n",
      "2 | scf_loss | KLDiracVMF | 0     \n",
      "----------------------------------------\n",
      "45.4 K    Trainable params\n",
      "20        Non-trainable params\n",
      "45.4 K    Total params\n",
      "0.182     Total estimated model params size (MB)\n"
     ]
    },
    {
     "name": "stdout",
     "output_type": "stream",
     "text": [
      "Epoch 19: 100%|██████████| 144/144 [00:03<00:00, 46.91it/s, v_num=tbig, train_loss=-.390]  "
     ]
    },
    {
     "name": "stderr",
     "output_type": "stream",
     "text": [
      "`Trainer.fit` stopped: `max_epochs=20` reached.\n"
     ]
    },
    {
     "name": "stdout",
     "output_type": "stream",
     "text": [
      "Epoch 19: 100%|██████████| 144/144 [00:03<00:00, 46.68it/s, v_num=tbig, train_loss=-.390]\n"
     ]
    },
    {
     "name": "stderr",
     "output_type": "stream",
     "text": [
      "100%|██████████| 79/79 [00:03<00:00, 21.59it/s]"
     ]
    },
    {
     "name": "stdout",
     "output_type": "stream",
     "text": [
      "iteration 9: accuracy 0.28\n"
     ]
    },
    {
     "name": "stderr",
     "output_type": "stream",
     "text": [
      "\n"
     ]
    }
   ],
   "source": [
    "from botorch.models import SingleTaskGP\n",
    "from botorch.models.transforms import Normalize, Standardize\n",
    "from botorch.fit import fit_gpytorch_mll\n",
    "from gpytorch.mlls import ExactMarginalLogLikelihood\n",
    "from botorch.optim import optimize_acqf\n",
    "from botorch.acquisition import LogExpectedImprovement\n",
    "\n",
    "train_X = torch.tensor([[0.5, 4]], dtype=torch.double)\n",
    "Y = torch.tensor([[0.283645]], dtype=torch.double)\n",
    "num_steps = 10\n",
    "for i in range(num_steps):\n",
    "    gp = SingleTaskGP(\n",
    "        train_X=train_X,\n",
    "        train_Y=Y,\n",
    "        input_transform=Normalize(d=2),\n",
    "        outcome_transform=Standardize(m=1),\n",
    "    )\n",
    "    mll = ExactMarginalLogLikelihood(gp.likelihood, gp)\n",
    "    fit_gpytorch_mll(mll)\n",
    "    logEI = LogExpectedImprovement(model=gp, best_f=Y.max())\n",
    "    bounds = torch.tensor([[0, 0.1], [1, 10]]).to(torch.double)\n",
    "    candidate, acq_value = optimize_acqf(\n",
    "        logEI,\n",
    "        bounds=bounds,\n",
    "        q=1,\n",
    "        num_restarts=5,\n",
    "        raw_samples=20,\n",
    "    )\n",
    "\n",
    "    accuracy = compute_mean_accuracy(\n",
    "        aug_probability=candidate[0, 0].item(),\n",
    "        sigma=candidate[0, 1].item(),\n",
    "        kernel_size=5,\n",
    "    )\n",
    "    train_X = torch.concatenate([train_X, candidate])\n",
    "    Y = torch.concatenate([Y, torch.tensor([[accuracy]], dtype=torch.double)])\n",
    "    print(f\"iteration {i}: accuracy {np.round(accuracy, 4)}\")"
   ]
  },
  {
   "cell_type": "code",
   "execution_count": 40,
   "metadata": {},
   "outputs": [
    {
     "data": {
      "text/plain": [
       "(torch.Size([11, 2]), torch.Size([11, 1]))"
      ]
     },
     "execution_count": 40,
     "metadata": {},
     "output_type": "execute_result"
    }
   ],
   "source": [
    "train_X.shape, Y.shape"
   ]
  },
  {
   "cell_type": "code",
   "execution_count": 43,
   "metadata": {},
   "outputs": [
    {
     "data": {
      "text/plain": [
       "tensor([[ 0.5000,  4.0000,  0.2836],\n",
       "        [ 0.7531,  8.1725,  0.2831],\n",
       "        [ 0.4277,  2.9401,  0.2838],\n",
       "        [ 0.4394,  1.3498,  0.2838],\n",
       "        [ 0.3426,  2.0090,  0.2834],\n",
       "        [ 0.0000, 10.0000,  0.2829],\n",
       "        [ 0.4803,  1.7045,  0.2833],\n",
       "        [ 0.3379,  5.1669,  0.2836],\n",
       "        [ 0.8109,  0.8779,  0.2839],\n",
       "        [ 0.9960,  0.1000,  0.2825],\n",
       "        [ 0.6756,  1.7220,  0.2831]], dtype=torch.float64)"
      ]
     },
     "execution_count": 43,
     "metadata": {},
     "output_type": "execute_result"
    }
   ],
   "source": [
    "torch.cat([train_X, Y], dim=-1)"
   ]
  },
  {
   "cell_type": "code",
   "execution_count": 39,
   "metadata": {},
   "outputs": [
    {
     "data": {
      "text/plain": [
       "tensor([0.8109, 0.8779], dtype=torch.float64)"
      ]
     },
     "execution_count": 39,
     "metadata": {},
     "output_type": "execute_result"
    }
   ],
   "source": [
    "train_X[Y.argmax()]"
   ]
  },
  {
   "cell_type": "code",
   "execution_count": 46,
   "metadata": {},
   "outputs": [
    {
     "name": "stderr",
     "output_type": "stream",
     "text": [
      "/home/l.erlygin/miniconda/lib/python3.9/site-packages/pytorch_lightning/utilities/parsing.py:197: UserWarning: Attribute 'backbone' is an instance of `nn.Module` and is already saved during checkpointing. It is recommended to ignore them using `self.save_hyperparameters(ignore=['backbone'])`.\n",
      "  rank_zero_warn(\n",
      "/home/l.erlygin/miniconda/lib/python3.9/site-packages/pytorch_lightning/utilities/parsing.py:197: UserWarning: Attribute 'loss' is an instance of `nn.Module` and is already saved during checkpointing. It is recommended to ignore them using `self.save_hyperparameters(ignore=['loss'])`.\n",
      "  rank_zero_warn(\n",
      "/home/l.erlygin/miniconda/lib/python3.9/site-packages/lightning_fabric/utilities/cloud_io.py:51: FutureWarning: You are using `torch.load` with `weights_only=False` (the current default value), which uses the default pickle module implicitly. It is possible to construct malicious pickle data which will execute arbitrary code during unpickling (See https://github.com/pytorch/pytorch/blob/main/SECURITY.md#untrusted-models for more details). In a future release, the default value for `weights_only` will be flipped to `True`. This limits the functions that could be executed during unpickling. Arbitrary objects will no longer be allowed to be loaded via this mode unless they are explicitly allowlisted by the user via `torch.serialization.add_safe_globals`. We recommend you start setting `weights_only=True` for any use case where you don't have full control of the loaded file. Please open an issue on GitHub for any issues related to this experimental feature.\n",
      "  return torch.load(f, map_location=map_location)  # type: ignore[arg-type]\n",
      "100%|██████████| 25/25 [00:00<00:00, 38.03it/s]\n",
      "/app/face_lib/models/scf.py:30: FutureWarning: You are using `torch.load` with `weights_only=False` (the current default value), which uses the default pickle module implicitly. It is possible to construct malicious pickle data which will execute arbitrary code during unpickling (See https://github.com/pytorch/pytorch/blob/main/SECURITY.md#untrusted-models for more details). In a future release, the default value for `weights_only` will be flipped to `True`. This limits the functions that could be executed during unpickling. Arbitrary objects will no longer be allowed to be loaded via this mode unless they are explicitly allowlisted by the user via `torch.serialization.add_safe_globals`. We recommend you start setting `weights_only=True` for any use case where you don't have full control of the loaded file. Please open an issue on GitHub for any issues related to this experimental feature.\n",
      "  self.softmax_weights = torch.load(softmax_weights_path)\n",
      "/tmp/ipykernel_574986/1119162656.py:155: FutureWarning: You are using `torch.load` with `weights_only=False` (the current default value), which uses the default pickle module implicitly. It is possible to construct malicious pickle data which will execute arbitrary code during unpickling (See https://github.com/pytorch/pytorch/blob/main/SECURITY.md#untrusted-models for more details). In a future release, the default value for `weights_only` will be flipped to `True`. This limits the functions that could be executed during unpickling. Arbitrary objects will no longer be allowed to be loaded via this mode unless they are explicitly allowlisted by the user via `torch.serialization.add_safe_globals`. We recommend you start setting `weights_only=True` for any use case where you don't have full control of the loaded file. Please open an issue on GitHub for any issues related to this experimental feature.\n",
      "  scf_model.load_state_dict(torch.load(scf_path)[\"state_dict\"])\n",
      "  0%|          | 0/79 [00:00<?, ?it/s]"
     ]
    },
    {
     "name": "stdout",
     "output_type": "stream",
     "text": [
      "Test accuracy: 0.9208\n"
     ]
    },
    {
     "name": "stderr",
     "output_type": "stream",
     "text": [
      "100%|██████████| 79/79 [00:03<00:00, 21.15it/s]\n"
     ]
    }
   ],
   "source": [
    "# scf_aug = load_scf_model(\n",
    "#     mnist_ds_train,\n",
    "#     mnist_ds_test,\n",
    "#     scf_path=\"/app/outputs/scf_angle_18_filtered_aug_mnist/ckpt/2024-09-02 11:02:15.881051/epoch=99-step=14400.ckpt\",\n",
    "#     arcface_path=arcface_path,\n",
    "# )\n",
    "scf_aug = load_scf_model(\n",
    "    mnist_ds_train,\n",
    "    mnist_ds_test,\n",
    "    scf_path=\"/app/outputs/scf_angle_18_filtered_aug_blur_mnist/ckpt/2024-10-08 14:01:37.482510/epoch=19-step=2880.ckpt\",\n",
    "    arcface_path=arcface_path,\n",
    ")\n",
    "aug_features, aug_labels, aug_kappa = compute_kappa(scf_aug, mnist_ds_test)"
   ]
  },
  {
   "cell_type": "code",
   "execution_count": 51,
   "metadata": {},
   "outputs": [
    {
     "name": "stderr",
     "output_type": "stream",
     "text": [
      "/home/l.erlygin/miniconda/lib/python3.9/site-packages/pytorch_lightning/utilities/parsing.py:197: UserWarning: Attribute 'backbone' is an instance of `nn.Module` and is already saved during checkpointing. It is recommended to ignore them using `self.save_hyperparameters(ignore=['backbone'])`.\n",
      "  rank_zero_warn(\n",
      "/home/l.erlygin/miniconda/lib/python3.9/site-packages/pytorch_lightning/utilities/parsing.py:197: UserWarning: Attribute 'loss' is an instance of `nn.Module` and is already saved during checkpointing. It is recommended to ignore them using `self.save_hyperparameters(ignore=['loss'])`.\n",
      "  rank_zero_warn(\n",
      "/home/l.erlygin/miniconda/lib/python3.9/site-packages/lightning_fabric/utilities/cloud_io.py:51: FutureWarning: You are using `torch.load` with `weights_only=False` (the current default value), which uses the default pickle module implicitly. It is possible to construct malicious pickle data which will execute arbitrary code during unpickling (See https://github.com/pytorch/pytorch/blob/main/SECURITY.md#untrusted-models for more details). In a future release, the default value for `weights_only` will be flipped to `True`. This limits the functions that could be executed during unpickling. Arbitrary objects will no longer be allowed to be loaded via this mode unless they are explicitly allowlisted by the user via `torch.serialization.add_safe_globals`. We recommend you start setting `weights_only=True` for any use case where you don't have full control of the loaded file. Please open an issue on GitHub for any issues related to this experimental feature.\n",
      "  return torch.load(f, map_location=map_location)  # type: ignore[arg-type]\n",
      "100%|██████████| 25/25 [00:00<00:00, 39.35it/s]\n",
      "/app/face_lib/models/scf.py:30: FutureWarning: You are using `torch.load` with `weights_only=False` (the current default value), which uses the default pickle module implicitly. It is possible to construct malicious pickle data which will execute arbitrary code during unpickling (See https://github.com/pytorch/pytorch/blob/main/SECURITY.md#untrusted-models for more details). In a future release, the default value for `weights_only` will be flipped to `True`. This limits the functions that could be executed during unpickling. Arbitrary objects will no longer be allowed to be loaded via this mode unless they are explicitly allowlisted by the user via `torch.serialization.add_safe_globals`. We recommend you start setting `weights_only=True` for any use case where you don't have full control of the loaded file. Please open an issue on GitHub for any issues related to this experimental feature.\n",
      "  self.softmax_weights = torch.load(softmax_weights_path)\n",
      "/tmp/ipykernel_574986/1119162656.py:155: FutureWarning: You are using `torch.load` with `weights_only=False` (the current default value), which uses the default pickle module implicitly. It is possible to construct malicious pickle data which will execute arbitrary code during unpickling (See https://github.com/pytorch/pytorch/blob/main/SECURITY.md#untrusted-models for more details). In a future release, the default value for `weights_only` will be flipped to `True`. This limits the functions that could be executed during unpickling. Arbitrary objects will no longer be allowed to be loaded via this mode unless they are explicitly allowlisted by the user via `torch.serialization.add_safe_globals`. We recommend you start setting `weights_only=True` for any use case where you don't have full control of the loaded file. Please open an issue on GitHub for any issues related to this experimental feature.\n",
      "  scf_model.load_state_dict(torch.load(scf_path)[\"state_dict\"])\n",
      "  0%|          | 0/79 [00:00<?, ?it/s]"
     ]
    },
    {
     "name": "stdout",
     "output_type": "stream",
     "text": [
      "Test accuracy: 0.9208\n"
     ]
    },
    {
     "name": "stderr",
     "output_type": "stream",
     "text": [
      "100%|██████████| 79/79 [00:02<00:00, 26.57it/s]\n"
     ]
    }
   ],
   "source": [
    "scf_aug_best = load_scf_model(\n",
    "    mnist_ds_train,\n",
    "    mnist_ds_test,\n",
    "    scf_path=\"/app/outputs/scf_mnist_aug_search/scf_angle_18_filtered_aug_blur_p=0.81-sig=0.88_kernel=5/ckpt/2024-10-08 15:15:25.511457/epoch=19-step=2880.ckpt\",\n",
    "    arcface_path=arcface_path,\n",
    ")\n",
    "aug_features_best, aug_labels_best, aug_kappa_best = compute_kappa(\n",
    "    scf_aug_best, mnist_ds_test\n",
    ")"
   ]
  },
  {
   "cell_type": "code",
   "execution_count": 53,
   "metadata": {},
   "outputs": [
    {
     "data": {
      "image/png": "[encoded data removed]",
      "text/plain": [
       "<Figure size 640x480 with 1 Axes>"
      ]
     },
     "metadata": {},
     "output_type": "display_data"
    }
   ],
   "source": [
    "fractions = [0, 0.3, 10]\n",
    "fractions_linspace = np.linspace(fractions[0], fractions[1], fractions[2])\n",
    "\n",
    "metric_scores = []\n",
    "model_names = [\n",
    "    \"full_mnist_scf\",\n",
    "    \"filtered_mnist_scf\",\n",
    "    \"filtered_mnist_aug_scf\",\n",
    "    \"filtered_mnist_aug_scf_best\",\n",
    "]  # , \"dirty_mnist\"]\n",
    "for features, labels, kappa in [\n",
    "    (full_features, full_labels, full_kappa),\n",
    "    (filtered_features, filtered_labels, filtered_kappa),\n",
    "    (aug_features, aug_labels, aug_kappa),\n",
    "    (aug_features_best, aug_labels_best, aug_kappa_best),\n",
    "    # (dirty_mnist_features, dirty_mnist_labels, dirty_mnist_kappa),\n",
    "]:\n",
    "\n",
    "    accuracies = []\n",
    "    unc_indexes = np.argsort(-kappa)\n",
    "    for fraction in fractions_linspace:\n",
    "        good_idx = unc_indexes[: int((1 - fraction) * kappa.shape[0])]\n",
    "        accuracies.append(\n",
    "            predict_accuracy(\n",
    "                features=features[good_idx],\n",
    "                labels=labels[good_idx],\n",
    "                softmax_weights=softmax_weights,\n",
    "            )\n",
    "        )\n",
    "\n",
    "    metric_scores.append((fractions_linspace, accuracies))\n",
    "\n",
    "metric_pretty_name = \"Accuracy\"\n",
    "fig, rejection_metric_values = plot_rejection_scores(\n",
    "    scores=metric_scores,\n",
    "    names=model_names,\n",
    "    y_label=f\"{metric_pretty_name}\",\n",
    ")\n",
    "fig.show()"
   ]
  },
  {
   "cell_type": "code",
   "execution_count": 39,
   "metadata": {},
   "outputs": [
    {
     "data": {
      "text/plain": [
       "0.2835471601697486"
      ]
     },
     "execution_count": 39,
     "metadata": {},
     "output_type": "execute_result"
    }
   ],
   "source": [
    "np.mean(metric_scores[-1][1]) * 0.3"
   ]
  },
  {
   "cell_type": "code",
   "execution_count": 48,
   "metadata": {},
   "outputs": [
    {
     "data": {
      "text/plain": [
       "0.2823262399296634"
      ]
     },
     "execution_count": 48,
     "metadata": {},
     "output_type": "execute_result"
    }
   ],
   "source": [
    "np.mean(metric_scores[-2][1]) * 0.3"
   ]
  },
  {
   "cell_type": "code",
   "execution_count": 35,
   "metadata": {},
   "outputs": [
    {
     "data": {
      "text/plain": [
       "[(array([0.        , 0.03333333, 0.06666667, 0.1       , 0.13333333,\n",
       "         0.16666667, 0.2       , 0.23333333, 0.26666667, 0.3       ]),\n",
       "  [0.9208,\n",
       "   0.9291330436581833,\n",
       "   0.9351762562948677,\n",
       "   0.9411111111111111,\n",
       "   0.946111239326102,\n",
       "   0.9505580223208928,\n",
       "   0.954,\n",
       "   0.9591703626402296,\n",
       "   0.9607254875221601,\n",
       "   0.9634285714285714]),\n",
       " (array([0.        , 0.03333333, 0.06666667, 0.1       , 0.13333333,\n",
       "         0.16666667, 0.2       , 0.23333333, 0.26666667, 0.3       ]),\n",
       "  [0.9208,\n",
       "   0.9269604800331057,\n",
       "   0.9321761491481839,\n",
       "   0.9364444444444444,\n",
       "   0.9411493191783984,\n",
       "   0.9447977919116765,\n",
       "   0.948375,\n",
       "   0.9510827028437255,\n",
       "   0.9530887767625801,\n",
       "   0.956]),\n",
       " (array([0.        , 0.03333333, 0.06666667, 0.1       , 0.13333333,\n",
       "         0.16666667, 0.2       , 0.23333333, 0.26666667, 0.3       ]),\n",
       "  [0.9208,\n",
       "   0.9297537761224912,\n",
       "   0.9360334297653488,\n",
       "   0.9418888888888889,\n",
       "   0.9458804523424879,\n",
       "   0.9493579743189727,\n",
       "   0.95225,\n",
       "   0.9556483172449778,\n",
       "   0.9588163098322651,\n",
       "   0.9611428571428572])]"
      ]
     },
     "execution_count": 35,
     "metadata": {},
     "output_type": "execute_result"
    }
   ],
   "source": [
    "metric_scores"
   ]
  },
  {
   "cell_type": "markdown",
   "metadata": {},
   "source": [
    "### Augmentation papameters search"
   ]
  },
  {
   "cell_type": "code",
   "execution_count": 34,
   "metadata": {},
   "outputs": [
    {
     "name": "stderr",
     "output_type": "stream",
     "text": [
      "/home/l.erlygin/miniconda/lib/python3.9/site-packages/torchvision/transforms/v2/_deprecated.py:42: UserWarning: The transform `ToTensor()` is deprecated and will be removed in a future release. Instead, please use `v2.Compose([v2.ToImage(), v2.ToDtype(torch.float32, scale=True)])`.Output is equivalent up to float precision.\n",
      "  warnings.warn(\n"
     ]
    },
    {
     "data": {
      "text/plain": [
       "57249"
      ]
     },
     "execution_count": 34,
     "metadata": {},
     "output_type": "execute_result"
    }
   ],
   "source": []
  },
  {
   "cell_type": "code",
   "execution_count": 35,
   "metadata": {},
   "outputs": [
    {
     "name": "stderr",
     "output_type": "stream",
     "text": [
      "Verification: 100%|██████████| 5000/5000 [00:11<00:00, 453.87it/s]\n"
     ]
    }
   ],
   "source": [
    "# predicted_test_features, test_labels = predict_features(arcface_model, test_dl)\n",
    "pairs = pd.read_csv(\"outputs/pairs.csv\")\n",
    "\n",
    "\n",
    "def distance_function(X_1, X_2):\n",
    "    return np.sum(X_1 * X_2, axis=1)\n",
    "\n",
    "\n",
    "p1 = pairs[\"first_template\"].values\n",
    "p2 = pairs[\"second_template\"].values\n",
    "\n",
    "batch_size = 10000\n",
    "steps = int(np.ceil(len(p1) / batch_size))\n",
    "scores = []\n",
    "unc_full = []\n",
    "unc_filtered = []\n",
    "unc_aug = []\n",
    "for id in tqdm(range(steps), \"Verification\"):\n",
    "    feat1 = full_features[p1[id * batch_size : (id + 1) * batch_size]]\n",
    "    feat2 = full_features[p2[id * batch_size : (id + 1) * batch_size]]\n",
    "    unc1 = full_kappa[p1[id * batch_size : (id + 1) * batch_size]]\n",
    "    unc2 = full_kappa[p2[id * batch_size : (id + 1) * batch_size]]\n",
    "    unc3 = filtered_kappa[p1[id * batch_size : (id + 1) * batch_size]]\n",
    "    unc4 = filtered_kappa[p2[id * batch_size : (id + 1) * batch_size]]\n",
    "    unc5 = aug_kappa[p1[id * batch_size : (id + 1) * batch_size]]\n",
    "    unc6 = aug_kappa[p2[id * batch_size : (id + 1) * batch_size]]\n",
    "    unc_full.extend(-np.minimum(unc1, unc2))\n",
    "    unc_filtered.extend(-np.minimum(unc3, unc4))\n",
    "    unc_aug.extend(-np.minimum(unc5, unc6))\n",
    "    scores.extend(distance_function(feat1, feat2))\n",
    "scores = np.array(scores)\n",
    "unc_full = np.array(unc_full)\n",
    "unc_filtered = np.array(unc_filtered)\n",
    "unc_aug = np.array(unc_aug)"
   ]
  },
  {
   "cell_type": "code",
   "execution_count": 36,
   "metadata": {},
   "outputs": [],
   "source": [
    "# from utils_notebooks import tar_far_curve\n",
    "# tar_far_curve(scores, pairs)"
   ]
  },
  {
   "cell_type": "code",
   "execution_count": 37,
   "metadata": {},
   "outputs": [
    {
     "ename": "KeyboardInterrupt",
     "evalue": "",
     "output_type": "error",
     "traceback": [
      "\u001b[0;31m---------------------------------------------------------------------------\u001b[0m",
      "\u001b[0;31mKeyboardInterrupt\u001b[0m                         Traceback (most recent call last)",
      "Cell \u001b[0;32mIn[37], line 9\u001b[0m\n\u001b[1;32m      5\u001b[0m metric_to_monitor \u001b[38;5;241m=\u001b[39m TarFar(far_range\u001b[38;5;241m=\u001b[39m[\u001b[38;5;241m-\u001b[39m\u001b[38;5;241m6\u001b[39m, \u001b[38;5;241m0\u001b[39m, \u001b[38;5;241m0.1\u001b[39m], display_fars\u001b[38;5;241m=\u001b[39m[\u001b[38;5;241m1e-3\u001b[39m, \u001b[38;5;241m1e-2\u001b[39m])\n\u001b[1;32m      6\u001b[0m unc_metric \u001b[38;5;241m=\u001b[39m DisposeBasedOnUncVerif(\n\u001b[1;32m      7\u001b[0m     fractions\u001b[38;5;241m=\u001b[39mfractions, metric_to_monitor\u001b[38;5;241m=\u001b[39mmetric_to_monitor\n\u001b[1;32m      8\u001b[0m )\n\u001b[0;32m----> 9\u001b[0m full_unc_metrics \u001b[38;5;241m=\u001b[39m \u001b[43munc_metric\u001b[49m\u001b[43m(\u001b[49m\n\u001b[1;32m     10\u001b[0m \u001b[43m    \u001b[49m\u001b[43mscores\u001b[49m\u001b[38;5;241;43m=\u001b[39;49m\u001b[43mscores\u001b[49m\u001b[43m,\u001b[49m\u001b[43m \u001b[49m\u001b[43mlabels\u001b[49m\u001b[38;5;241;43m=\u001b[39;49m\u001b[43mpairs\u001b[49m\u001b[43m[\u001b[49m\u001b[38;5;124;43m\"\u001b[39;49m\u001b[38;5;124;43mis_positive\u001b[39;49m\u001b[38;5;124;43m\"\u001b[39;49m\u001b[43m]\u001b[49m\u001b[38;5;241;43m.\u001b[39;49m\u001b[43mvalues\u001b[49m\u001b[43m,\u001b[49m\u001b[43m \u001b[49m\u001b[43mpredicted_unc\u001b[49m\u001b[38;5;241;43m=\u001b[39;49m\u001b[43munc_full\u001b[49m\n\u001b[1;32m     11\u001b[0m \u001b[43m)\u001b[49m\n\u001b[1;32m     12\u001b[0m filtered_unc_metrics \u001b[38;5;241m=\u001b[39m unc_metric(\n\u001b[1;32m     13\u001b[0m     scores\u001b[38;5;241m=\u001b[39mscores, labels\u001b[38;5;241m=\u001b[39mpairs[\u001b[38;5;124m\"\u001b[39m\u001b[38;5;124mis_positive\u001b[39m\u001b[38;5;124m\"\u001b[39m]\u001b[38;5;241m.\u001b[39mvalues, predicted_unc\u001b[38;5;241m=\u001b[39munc_filtered\n\u001b[1;32m     14\u001b[0m )\n\u001b[1;32m     15\u001b[0m aug_unc_metrics \u001b[38;5;241m=\u001b[39m unc_metric(\n\u001b[1;32m     16\u001b[0m     scores\u001b[38;5;241m=\u001b[39mscores, labels\u001b[38;5;241m=\u001b[39mpairs[\u001b[38;5;124m\"\u001b[39m\u001b[38;5;124mis_positive\u001b[39m\u001b[38;5;124m\"\u001b[39m]\u001b[38;5;241m.\u001b[39mvalues, predicted_unc\u001b[38;5;241m=\u001b[39munc_aug\n\u001b[1;32m     17\u001b[0m )\n",
      "File \u001b[0;32m/app/evaluation/uncertainty_metrics.py:21\u001b[0m, in \u001b[0;36mDisposeBasedOnUncVerif.__call__\u001b[0;34m(self, scores, labels, predicted_unc)\u001b[0m\n\u001b[1;32m     17\u001b[0m \u001b[38;5;28;01mdef\u001b[39;00m \u001b[38;5;21m__call__\u001b[39m(\n\u001b[1;32m     18\u001b[0m     \u001b[38;5;28mself\u001b[39m, scores: np\u001b[38;5;241m.\u001b[39mndarray, labels: np\u001b[38;5;241m.\u001b[39mndarray, predicted_unc: np\u001b[38;5;241m.\u001b[39mndarray\n\u001b[1;32m     19\u001b[0m ) \u001b[38;5;241m-\u001b[39m\u001b[38;5;241m>\u001b[39m Any:\n\u001b[1;32m     20\u001b[0m     predicted_unc \u001b[38;5;241m=\u001b[39m predicted_unc\n\u001b[0;32m---> 21\u001b[0m     unc_indexes \u001b[38;5;241m=\u001b[39m \u001b[43mnp\u001b[49m\u001b[38;5;241;43m.\u001b[39;49m\u001b[43margsort\u001b[49m\u001b[43m(\u001b[49m\u001b[43mpredicted_unc\u001b[49m\u001b[43m)\u001b[49m\n\u001b[1;32m     22\u001b[0m     unc_metrics \u001b[38;5;241m=\u001b[39m {\u001b[38;5;124m\"\u001b[39m\u001b[38;5;124mfractions\u001b[39m\u001b[38;5;124m\"\u001b[39m: \u001b[38;5;28mself\u001b[39m\u001b[38;5;241m.\u001b[39mfractions}\n\u001b[1;32m     23\u001b[0m     \u001b[38;5;28;01massert\u001b[39;00m \u001b[38;5;28mlen\u001b[39m(scores) \u001b[38;5;241m==\u001b[39m \u001b[38;5;28mlen\u001b[39m(predicted_unc)\n",
      "File \u001b[0;32m<__array_function__ internals>:180\u001b[0m, in \u001b[0;36margsort\u001b[0;34m(*args, **kwargs)\u001b[0m\n",
      "File \u001b[0;32m~/miniconda/lib/python3.9/site-packages/numpy/core/fromnumeric.py:1120\u001b[0m, in \u001b[0;36margsort\u001b[0;34m(a, axis, kind, order)\u001b[0m\n\u001b[1;32m   1012\u001b[0m \u001b[38;5;129m@array_function_dispatch\u001b[39m(_argsort_dispatcher)\n\u001b[1;32m   1013\u001b[0m \u001b[38;5;28;01mdef\u001b[39;00m \u001b[38;5;21margsort\u001b[39m(a, axis\u001b[38;5;241m=\u001b[39m\u001b[38;5;241m-\u001b[39m\u001b[38;5;241m1\u001b[39m, kind\u001b[38;5;241m=\u001b[39m\u001b[38;5;28;01mNone\u001b[39;00m, order\u001b[38;5;241m=\u001b[39m\u001b[38;5;28;01mNone\u001b[39;00m):\n\u001b[1;32m   1014\u001b[0m \u001b[38;5;250m    \u001b[39m\u001b[38;5;124;03m\"\"\"\u001b[39;00m\n\u001b[1;32m   1015\u001b[0m \u001b[38;5;124;03m    Returns the indices that would sort an array.\u001b[39;00m\n\u001b[1;32m   1016\u001b[0m \n\u001b[0;32m   (...)\u001b[0m\n\u001b[1;32m   1118\u001b[0m \n\u001b[1;32m   1119\u001b[0m \u001b[38;5;124;03m    \"\"\"\u001b[39;00m\n\u001b[0;32m-> 1120\u001b[0m     \u001b[38;5;28;01mreturn\u001b[39;00m \u001b[43m_wrapfunc\u001b[49m\u001b[43m(\u001b[49m\u001b[43ma\u001b[49m\u001b[43m,\u001b[49m\u001b[43m \u001b[49m\u001b[38;5;124;43m'\u001b[39;49m\u001b[38;5;124;43margsort\u001b[39;49m\u001b[38;5;124;43m'\u001b[39;49m\u001b[43m,\u001b[49m\u001b[43m \u001b[49m\u001b[43maxis\u001b[49m\u001b[38;5;241;43m=\u001b[39;49m\u001b[43maxis\u001b[49m\u001b[43m,\u001b[49m\u001b[43m \u001b[49m\u001b[43mkind\u001b[49m\u001b[38;5;241;43m=\u001b[39;49m\u001b[43mkind\u001b[49m\u001b[43m,\u001b[49m\u001b[43m \u001b[49m\u001b[43morder\u001b[49m\u001b[38;5;241;43m=\u001b[39;49m\u001b[43morder\u001b[49m\u001b[43m)\u001b[49m\n",
      "File \u001b[0;32m~/miniconda/lib/python3.9/site-packages/numpy/core/fromnumeric.py:57\u001b[0m, in \u001b[0;36m_wrapfunc\u001b[0;34m(obj, method, *args, **kwds)\u001b[0m\n\u001b[1;32m     54\u001b[0m     \u001b[38;5;28;01mreturn\u001b[39;00m _wrapit(obj, method, \u001b[38;5;241m*\u001b[39margs, \u001b[38;5;241m*\u001b[39m\u001b[38;5;241m*\u001b[39mkwds)\n\u001b[1;32m     56\u001b[0m \u001b[38;5;28;01mtry\u001b[39;00m:\n\u001b[0;32m---> 57\u001b[0m     \u001b[38;5;28;01mreturn\u001b[39;00m \u001b[43mbound\u001b[49m\u001b[43m(\u001b[49m\u001b[38;5;241;43m*\u001b[39;49m\u001b[43margs\u001b[49m\u001b[43m,\u001b[49m\u001b[43m \u001b[49m\u001b[38;5;241;43m*\u001b[39;49m\u001b[38;5;241;43m*\u001b[39;49m\u001b[43mkwds\u001b[49m\u001b[43m)\u001b[49m\n\u001b[1;32m     58\u001b[0m \u001b[38;5;28;01mexcept\u001b[39;00m \u001b[38;5;167;01mTypeError\u001b[39;00m:\n\u001b[1;32m     59\u001b[0m     \u001b[38;5;66;03m# A TypeError occurs if the object does have such a method in its\u001b[39;00m\n\u001b[1;32m     60\u001b[0m     \u001b[38;5;66;03m# class, but its signature is not identical to that of NumPy's. This\u001b[39;00m\n\u001b[0;32m   (...)\u001b[0m\n\u001b[1;32m     64\u001b[0m     \u001b[38;5;66;03m# Call _wrapit from within the except clause to ensure a potential\u001b[39;00m\n\u001b[1;32m     65\u001b[0m     \u001b[38;5;66;03m# exception has a traceback chain.\u001b[39;00m\n\u001b[1;32m     66\u001b[0m     \u001b[38;5;28;01mreturn\u001b[39;00m _wrapit(obj, method, \u001b[38;5;241m*\u001b[39margs, \u001b[38;5;241m*\u001b[39m\u001b[38;5;241m*\u001b[39mkwds)\n",
      "\u001b[0;31mKeyboardInterrupt\u001b[0m: "
     ]
    }
   ],
   "source": [
    "from evaluation.uncertainty_metrics import DisposeBasedOnUncVerif\n",
    "from evaluation.metrics import TarFar\n",
    "\n",
    "fractions = [0, 0.3, 5]\n",
    "metric_to_monitor = TarFar(far_range=[-6, 0, 0.1], display_fars=[1e-3, 1e-2])\n",
    "unc_metric = DisposeBasedOnUncVerif(\n",
    "    fractions=fractions, metric_to_monitor=metric_to_monitor\n",
    ")\n",
    "full_unc_metrics = unc_metric(\n",
    "    scores=scores, labels=pairs[\"is_positive\"].values, predicted_unc=unc_full\n",
    ")\n",
    "filtered_unc_metrics = unc_metric(\n",
    "    scores=scores, labels=pairs[\"is_positive\"].values, predicted_unc=unc_filtered\n",
    ")\n",
    "aug_unc_metrics = unc_metric(\n",
    "    scores=scores, labels=pairs[\"is_positive\"].values, predicted_unc=unc_aug\n",
    ")\n",
    "\n",
    "for metric_name in full_unc_metrics:\n",
    "    if metric_name == \"fractions\":\n",
    "        continue\n",
    "\n",
    "    metric_scores = []\n",
    "    model_names = []\n",
    "    model_names.append(\"scf_full\")\n",
    "    model_names.append(\"scf_filtered\")\n",
    "    model_names.append(\"filtered_aug\")\n",
    "    metric_pretty_name = metric_name.split(\":\")[-1]\n",
    "    metric_scores.append((full_unc_metrics[\"fractions\"], full_unc_metrics[metric_name]))\n",
    "    metric_scores.append(\n",
    "        (full_unc_metrics[\"fractions\"], filtered_unc_metrics[metric_name])\n",
    "    )\n",
    "    metric_scores.append((full_unc_metrics[\"fractions\"], aug_unc_metrics[metric_name]))\n",
    "    fig, rejection_metric_values = plot_rejection_scores(\n",
    "        scores=metric_scores,\n",
    "        names=model_names,\n",
    "        y_label=f\"{metric_pretty_name}\",\n",
    "    )\n",
    "    fig.show()\n",
    "    # plt.close(fig)"
   ]
  },
  {
   "cell_type": "markdown",
   "metadata": {},
   "source": [
    "### Augmentation papameters search"
   ]
  },
  {
   "cell_type": "code",
   "execution_count": null,
   "metadata": {},
   "outputs": [],
   "source": [
    "# mnist_ds_train_vis = datasets.MNIST(\n",
    "#     root=\"/app/datasets/mnist\", train=True, download=True\n",
    "# )\n",
    "# num_row = 5\n",
    "# num_col = 5\n",
    "\n",
    "# # plot images\n",
    "# fig, axes = plt.subplots(num_row, num_col, figsize=(1.5 * num_col, 2 * num_row))\n",
    "# for i in range(num_row * num_col):\n",
    "#     id = conf_sort[i]\n",
    "#     ax = axes[i // num_col, i % num_col]\n",
    "#     ax.imshow(mnist_ds_train_vis[id][0], cmap=\"gray\")\n",
    "#     ax.set_title(f\"Conf: {str(np.round(train_kappa[id], 4))}\")\n",
    "# plt.tight_layout()\n",
    "# plt.show()"
   ]
  },
  {
   "cell_type": "code",
   "execution_count": null,
   "metadata": {},
   "outputs": [],
   "source": [
    "# import matplotlib.pyplot as plt\n",
    "\n",
    "# # mnist_ds_train_vis = datasets.MNIST(\n",
    "# #     root=\"/app/datasets/mnist\", train=True, download=True)\n",
    "# num_row = 10\n",
    "# num_col = 5\n",
    "\n",
    "# # plot images\n",
    "# fig, axes = plt.subplots(num_row, num_col, figsize=(1.5 * num_col, 2 * num_row))\n",
    "# for i in range(num_row * num_col):\n",
    "#     id = conf_sort[-i - 1]\n",
    "#     ax = axes[i // num_col, i % num_col]\n",
    "#     ax.imshow(mnist_ds_train_vis[id][0], cmap=\"gray\")\n",
    "#     ax.set_title(f\"Conf: {str(np.round(train_kappa[id], 4))}\")\n",
    "# plt.tight_layout()\n",
    "# plt.show()"
   ]
  },
  {
   "cell_type": "markdown",
   "metadata": {},
   "source": [
    "#### Verification protocol"
   ]
  },
  {
   "cell_type": "code",
   "execution_count": null,
   "metadata": {},
   "outputs": [],
   "source": [
    "# test_dl = DataLoader(\n",
    "#     mnist_ds_test,\n",
    "#     batch_size=128,\n",
    "#     shuffle=False,\n",
    "#     drop_last=False,\n",
    "#     num_workers=32,\n",
    "# )\n",
    "# predicted_test_features, test_labels = predict_features(arcface_model, test_dl)\n",
    "# first_template = []\n",
    "# second_template = []\n",
    "# is_positive = []\n",
    "# for i in tqdm(range(len(mnist_ds_test))):\n",
    "#     for j in range(len(mnist_ds_test)):\n",
    "#         if i <= j: continue\n",
    "#         first_template.append(i)\n",
    "#         second_template.append(j)\n",
    "#         is_positive.append(test_labels[i] == test_labels[j])\n",
    "# first_template = np.array(first_template)\n",
    "# second_template = np.array(second_template)\n",
    "# is_positive = np.array(is_positive)\n",
    "# pairs = pd.DataFrame(\n",
    "#     {\n",
    "#         \"first_template\": first_template,\n",
    "#         \"second_template\": second_template,\n",
    "#         \"is_positive\": is_positive,\n",
    "#     }\n",
    "# )\n",
    "# pairs.to_csv(\"pairs.csv\", index=False)\n",
    "\n",
    "# predicted_test_features, test_labels = predict_features(arcface_model, test_dl)\n",
    "# pairs = pd.read_csv(\"outputs/pairs.csv\")\n",
    "# def distance_function(X_1, X_2):\n",
    "#     return np.sum(X_1 * X_2, axis=1)\n",
    "\n",
    "\n",
    "# p1 = pairs[\"first_template\"].values\n",
    "# p2 = pairs[\"second_template\"].values\n",
    "\n",
    "# batch_size = 10000\n",
    "# steps = int(np.ceil(len(p1) / batch_size))\n",
    "# scores = []\n",
    "# for id in tqdm(range(steps), \"Verification\"):\n",
    "#     feat1 = predicted_test_features[p1[id * batch_size : (id + 1) * batch_size]]\n",
    "#     feat2 = predicted_test_features[p2[id * batch_size : (id + 1) * batch_size]]\n",
    "#     scores.extend(distance_function(feat1, feat2))\n",
    "# scores = np.array(scores)\n",
    "\n",
    "# from evaluation.visualize import draw_score_distr_plot\n",
    "\n",
    "# is_positive = pairs[\"is_positive\"].values\n",
    "\n",
    "# true_match_scores = scores[is_positive]\n",
    "# wrong_match_scores = scores[is_positive == 0]\n",
    "# scores_distr = {\n",
    "#     \"Истинная пара\": true_match_scores,\n",
    "#     \"Ложная пара\": wrong_match_scores,\n",
    "# }\n",
    "# draw_score_distr_plot(\n",
    "#     scores_distr=scores_distr,\n",
    "#     positive_pair_name=\"Истинная пара\",\n",
    "#     negative_pair_name=\"Ложная пара\",\n",
    "# )"
   ]
  }
 ],
 "metadata": {
  "kernelspec": {
   "display_name": "base",
   "language": "python",
   "name": "python3"
  },
  "language_info": {
   "codemirror_mode": {
    "name": "ipython",
    "version": 3
   },
   "file_extension": ".py",
   "mimetype": "text/x-python",
   "name": "python",
   "nbconvert_exporter": "python",
   "pygments_lexer": "ipython3",
   "version": "3.9.7"
  }
 },
 "nbformat": 4,
 "nbformat_minor": 2
}
